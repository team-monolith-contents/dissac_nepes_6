{
 "cells": [
  {
   "cell_type": "markdown",
   "id": "5f869d1a-bca0-422f-99a7-45d3870d3677",
   "metadata": {
    "tags": []
   },
   "source": [
    "<div style=\"padding: 15px; border: 5px solid transparent; border-color: transparent; margin-bottom: 20px; border-radius: 4px; color: #3c763d; background-color: #dff0d8; border-color: #d6e9c6; font-weight: bold;\">\n",
    "    <br><br>\n",
    "    <div style=\"font-weight: bold; font-size: 40px\">파이썬으로 끝내는 데이터 과학</div>\n",
    "    <div style=\"font-weight: bold; font-size: 20px\">[11] Pandas를 이용한 데이터 분석-3</div>\n",
    "    <hr style=\"width:80%;text-align:left;margin-left:0;border:0.5px solid green\">\n",
    "    <br>\n",
    "    &#x2022; 이름을 이용해 데이터프레임(DataFrame)에 부분적으로 접근해봅시다.<br>\n",
    "    &#x2022; 위치를 이용해 데이터프레임(DataFrame)에 부분적으로 접근해봅시다.<br>\n",
    "    &#x2022; Pandas를 사용해 시리즈와 시리즈의 산술연산, 데이터프레임과 데이터프레임의 산술연산을 할 수 있습니다.<br>\n",
    "    &#x2022; Pandas를 사용해 시리즈와 시리즈의 비교연산, 데이터프레임과 데이터프레임의 비교연산을 할 수 있습니다.<br>\n",
    "    &#x2022; Pandas를 사용해 시리즈와 시리즈의 논리연산, 데이터프레임과 데이터프레임의 논리연산을 할 수 있습니다.<br>\n",
    "\n",
    "</div>"
   ]
  },
  {
   "cell_type": "markdown",
   "id": "81e598d1-b36e-453f-a386-4bdcf312d13c",
   "metadata": {
    "jp-MarkdownHeadingCollapsed": true,
    "tags": []
   },
   "source": [
    "<div style=\"padding: 15px; border: 5px solid transparent; border-color: transparent; margin-bottom: 20px; border-radius: 4px; color: #3c763d; border-color: #d6e9c6; font-weight: bold;\">\n",
    "<h2 style='font-weight: bold'>1. 데이터프레임(DataFrame) 이름 기반 인덱싱</h2>\n",
    "</div> "
   ]
  },
  {
   "cell_type": "markdown",
   "id": "1f8b24ed-3071-4afa-98ab-b5d366187a5f",
   "metadata": {
    "jp-MarkdownHeadingCollapsed": true,
    "tags": []
   },
   "source": [
    "데이터프레임도 시리즈와 마찬가지로 특정 부분만 가져와 사용할 경우가 있습니다.  \n",
    "데이터프레임에서는 특정 열, 특정 행, 특정 행과 열을 가지는 데이터를 가져올 수 있습니다.  \n",
    "\n",
    "데이터프레임을 인덱실 할 때에는 열과 행을 잘 구분해야 합니다."
   ]
  },
  {
   "cell_type": "markdown",
   "id": "637f1aa4-bdb1-43d9-ab15-4e0697d84542",
   "metadata": {
    "tags": []
   },
   "source": [
    "### 열이름 정보를 이용해 데이터프레임의 열 인덱싱하기\n",
    "\n",
    "열이름 정보를 이용해 데이터프레임의 원하는 열을 가져올 수 있습니다.\n",
    "\n",
    "1. 하나의 열 인덱싱하기  \n",
    "`DataFrame[\"열이름\"]` : 데이터프레임에서 \"열이름\"에 해당하는 열을 가져옵니다.  \n",
    "\n",
    "<table>\n",
    "<tr>\n",
    "    <th><img src=\"https://tmn-bucket-materials-all.s3.ap-northeast-2.amazonaws.com/image/pandas/material_03_08.gif\" width=\"750\"></th>\n",
    "</tr>\n",
    "<tr>\n",
    "    <th>데이터프레임에서 열이름정보 이용해 하나의 열에 인덱싱</th>\n",
    "</tr>\n",
    "</table>\n",
    "\n",
    "2. 여러개의 열 인덱싱하기  \n",
    "`DataFrame[[\"열이름1\", \"열이름2\"]]` : 데이터프레임에서 \"열이름1\", \"열이름2\"에 해당하는 열을 가져옵니다.  \n",
    "\n",
    "<table>\n",
    "<tr>\n",
    "    <th><img src=\"https://tmn-bucket-materials-all.s3.ap-northeast-2.amazonaws.com/image/pandas/material_03_09.gif\" width=\"750\"></th>\n",
    "</tr>\n",
    "<tr>\n",
    "    <th>데이터프레임에서 열이름정보 이용해 여러개의 열에 인덱싱</th>\n",
    "</tr>\n",
    "</table>\n",
    "\n",
    "> **⛔️ 오류(ERROR):**\n",
    ">\n",
    "> `DataFrame[\"열이름1\":\"열이름2\"]`으로 연속된 열에 접근할 수 없습니다.  \n",
    "> 해당 방법을 사용하면 오류가 발생합니다."
   ]
  },
  {
   "cell_type": "code",
   "execution_count": null,
   "id": "6187c510-fc84-4936-9cf5-551348765d42",
   "metadata": {
    "tags": []
   },
   "outputs": [],
   "source": [
    "# 예제_1_데이터프레임에서_하나의_열에_인덱싱\n",
    "\n",
    "import pandas as pd\n",
    "\n",
    "score = pd.read_csv('https://tmn-bucket-materials-all.s3.ap-northeast-2.amazonaws.com/data/midterm_exam_result.csv')\n",
    "score.index = score['이름']\n",
    "score = score.iloc[:,1:]\n",
    "\n",
    "print('#'*30, f\"{'score':^15s}\" , '#' * 30, '\\n') # 출력되는 결과들을 분리해서 보여주기 위한 코드입니다.\n",
    "print(score)\n",
    "print('\\n','#'*30, \"{:^15s}\".format('score[\"국어\"]') , '#' * 30, '\\n') # 출력되는 결과들을 분리해서 보여주기 위한 코드입니다.\n",
    "print(score[\"국어\"])\n",
    "print('\\n','#'*30, \"{:^15s}\".format('score[\"프로그래밍\"]') , '#' * 30, '\\n') # 출력되는 결과들을 분리해서 보여주기 위한 코드입니다.\n",
    "print(score[\"프로그래밍\"])"
   ]
  },
  {
   "cell_type": "code",
   "execution_count": null,
   "id": "427d0b46-5607-4100-9736-d3a1da2ac3d6",
   "metadata": {
    "tags": []
   },
   "outputs": [],
   "source": [
    "# 예제_2_데이터프레임에서_여러개의_열에_인덱싱\n",
    "\n",
    "import pandas as pd\n",
    "\n",
    "score = pd.read_csv('https://tmn-bucket-materials-all.s3.ap-northeast-2.amazonaws.com/data/midterm_exam_result.csv')\n",
    "score.index = score['이름']\n",
    "score = score.iloc[:,1:]\n",
    "\n",
    "print('#'*30, f\"{'score':^15s}\" , '#' * 30, '\\n') # 출력되는 결과들을 분리해서 보여주기 위한 코드입니다.\n",
    "print(score)\n",
    "print('\\n','#'*30, \"{:^15s}\".format('score[[\"국어\",\"영어\"]]') , '#' * 30, '\\n') # 출력되는 결과들을 분리해서 보여주기 위한 코드입니다.\n",
    "print(score[[\"국어\",\"영어\"]])\n",
    "print('\\n','#'*30, \"{:^15s}\".format('score[[\"국어\",\"영어\",\"프로그래밍\",\"한국사\"]]') , '#' * 30, '\\n') # 출력되는 결과들을 분리해서 보여주기 위한 코드입니다.\n",
    "print(score[[\"국어\",\"영어\",\"프로그래밍\",\"한국사\"]])"
   ]
  },
  {
   "cell_type": "markdown",
   "id": "caf93098-e910-437e-a1d0-c9b6e6e36ffe",
   "metadata": {
    "tags": []
   },
   "source": [
    "### 인덱스 정보를 이용해 데이터프레임의 행 인덱싱하기\n",
    "\n",
    "`loc`을 사용하면 데이터프레임의 인덱스 정보를 이용해 원하는 행을 가져올 수 있습니다.\n",
    "\n",
    "1. 하나의 행 인덱싱하기  \n",
    "`DataFrame.loc['인덱스']`: 데이터프레임의 '인덱스'에 해당하는 행을 가져옵니다.  \n",
    "\n",
    "<table>\n",
    "<tr>\n",
    "    <th><img src=\"https://tmn-bucket-materials-all.s3.ap-northeast-2.amazonaws.com/image/pandas/material_03_10.gif\" width=\"750\"></th>\n",
    "</tr>\n",
    "<tr>\n",
    "    <th>데이터프레임에서 인덱스 정보를 이용해 하나의 행에 인덱싱</th>\n",
    "</tr>\n",
    "</table>\n",
    "\n",
    "2. 연속된 여러개의 행 인덱싱하기  \n",
    "`DataFrame.loc['인덱스1':'인덱스2']`: 데이터프레임의 '인덱스1'부터 '인덱스2'까지 행을 데이터프레임의 형태로 가져옵니다.  \n",
    "\n",
    "<table>\n",
    "<tr>\n",
    "    <th><img src=\"https://tmn-bucket-materials-all.s3.ap-northeast-2.amazonaws.com/image/pandas/material_03_11.gif\" width=\"750\"></th>\n",
    "</tr>\n",
    "<tr>\n",
    "    <th>데이터프레임에서 인덱스 정보를 이용해 연속된 여러개의 행에 인덱싱</th>\n",
    "</tr>\n",
    "</table>\n",
    "\n",
    "3. 연속되지 않은 여러개의 행 인덱싱하기  \n",
    "`DataFrame.loc[['인덱스1', '인덱스2']]`: 데이터프레임의  '인덱스1', '인덱스2'에 해당하는 행을 데이터프레임의 형태로 가져옵니다.  \n",
    "\n",
    "<table>\n",
    "<tr>\n",
    "    <th><img src=\"https://tmn-bucket-materials-all.s3.ap-northeast-2.amazonaws.com/image/pandas/material_03_12.gif\" width=\"750\"></th>\n",
    "</tr>\n",
    "<tr>\n",
    "    <th>데이터프레임에서 인덱스 정보를 이용해 연속되지 않은 여러개의 행에 인덱싱</th>\n",
    "</tr>\n",
    "</table>"
   ]
  },
  {
   "cell_type": "code",
   "execution_count": null,
   "id": "51663e15-e1e9-4eb8-88d4-907692850d9b",
   "metadata": {
    "tags": []
   },
   "outputs": [],
   "source": [
    "# 예제_3_데이터프레임에서_하나의_행에_인덱싱\n",
    "\n",
    "import pandas as pd\n",
    "\n",
    "score = pd.read_csv('https://tmn-bucket-materials-all.s3.ap-northeast-2.amazonaws.com/data/midterm_exam_result.csv')\n",
    "score.index = score['이름']\n",
    "score = score.iloc[:,1:]\n",
    "\n",
    "print('#'*30, f\"{'score':^15s}\" , '#' * 30, '\\n') # 출력되는 결과들을 분리해서 보여주기 위한 코드입니다.\n",
    "print(score)\n",
    "print('\\n','#'*30, \"{:^15s}\".format('score.loc[\"배지우\"]') , '#' * 30, '\\n') # 출력되는 결과들을 분리해서 보여주기 위한 코드입니다.\n",
    "print(score.loc[\"배지우\"])\n",
    "print('\\n','#'*30, \"{:^15s}\".format('score.loc[\"김다은\"]') , '#' * 30, '\\n') # 출력되는 결과들을 분리해서 보여주기 위한 코드입니다.\n",
    "print(score.loc[\"김다은\"])"
   ]
  },
  {
   "cell_type": "code",
   "execution_count": null,
   "id": "eea394f1-b3a6-4ec6-b1f9-d856f74422e2",
   "metadata": {
    "tags": []
   },
   "outputs": [],
   "source": [
    "# 예제_4_데이터프레임에서_연속된_여러개의_행에_인덱싱\n",
    "\n",
    "import pandas as pd\n",
    "\n",
    "score = pd.read_csv('https://tmn-bucket-materials-all.s3.ap-northeast-2.amazonaws.com/data/midterm_exam_result.csv')\n",
    "score.index = score['이름']\n",
    "score = score.iloc[:,1:]\n",
    "\n",
    "print('#'*30, f\"{'score':^15s}\" , '#' * 30, '\\n') # 출력되는 결과들을 분리해서 보여주기 위한 코드입니다.\n",
    "print(score)\n",
    "print('\\n','#'*30, \"{:^15s}\".format('score.loc[\"배지우\":\"한지훈\"]') , '#' * 30, '\\n') # 출력되는 결과들을 분리해서 보여주기 위한 코드입니다.\n",
    "print(score.loc[\"배지우\":\"한지훈\"])\n",
    "print('\\n','#'*30, \"{:^15s}\".format('score.loc[\"김다은\":\"최하은\"]') , '#' * 30, '\\n') # 출력되는 결과들을 분리해서 보여주기 위한 코드입니다.\n",
    "print(score.loc[\"이민준\":\"최하은\"])"
   ]
  },
  {
   "cell_type": "code",
   "execution_count": null,
   "id": "ff3b2491-faa6-447f-99e0-d0e0881873bf",
   "metadata": {
    "tags": []
   },
   "outputs": [],
   "source": [
    "# 예제_5_데이터프레임에서_연속되지_않은_여러개의_행에_인덱싱\n",
    "\n",
    "import pandas as pd\n",
    "\n",
    "score = pd.read_csv('https://tmn-bucket-materials-all.s3.ap-northeast-2.amazonaws.com/data/midterm_exam_result.csv')\n",
    "score.index = score['이름']\n",
    "score = score.iloc[:,1:]\n",
    "\n",
    "print('#'*30, f\"{'score':^15s}\" , '#' * 30, '\\n') # 출력되는 결과들을 분리해서 보여주기 위한 코드입니다.\n",
    "print(score)\n",
    "print('\\n','#'*30, \"{:^15s}\".format('score.loc[[\"배지우\",\"한지훈\",\"김지후\",\"이현우\"]]') , '#' * 30, '\\n') # 출력되는 결과들을 분리해서 보여주기 위한 코드입니다.\n",
    "print(score.loc[[\"배지우\",\"한지훈\",\"김지후\",\"이현우\"]])\n",
    "print('\\n','#'*30, \"{:^15s}\".format('score.loc[[\"이민준\",\"최하은\"]]') , '#' * 30, '\\n') # 출력되는 결과들을 분리해서 보여주기 위한 코드입니다.\n",
    "print(score.loc[[\"이민준\",\"최하은\"]])"
   ]
  },
  {
   "cell_type": "markdown",
   "id": "94acb73c-db63-42b2-a6e7-12e31904fa7e",
   "metadata": {
    "tags": []
   },
   "source": [
    "### 인덱스 정보를 이용해 데이터프레임의 열과 행 동시에 인덱싱하기\n",
    "\n",
    "데이터프레임의 열과 행을 동시에 인덱싱하는 방법은 여러가지가 있습니다.  \n",
    "이번에는 `loc`을 사용해 행과 열을 동시에 인덱싱하는 방법을 배워보겠습니다.\n",
    "\n",
    "1. 행과 열 동시에 인덱싱 하기  \n",
    "`DataFrame.loc[행 인덱싱, 열 인덱싱]` : `loc`을 사용해 행과 열을 동시에 인덱싱 할 수 있습니다.  \n",
    "`행 인덱싱`, `열 인덱싱`의 순서로 지정해 주면 됩니다.  \n",
    "행, 열을 인덱싱 할 때에는 위에서 배운 3가지의 인덱싱 방법을 모두 사용할 수 있습니다.  \n",
    "\n",
    "<table>\n",
    "<tr>\n",
    "    <th><img src=\"https://tmn-bucket-materials-all.s3.ap-northeast-2.amazonaws.com/image/pandas/material_03_13.gif\" width=\"750\"></th>\n",
    "</tr>\n",
    "<tr>\n",
    "    <th>데이터프레임에서 인덱스 정보, 열이름 정보를 이용해 행과 열 동시에 인덱싱</th>\n",
    "</tr>\n",
    "</table>\n",
    "\n",
    "2. 행, 열 전체를 선택하기  \n",
    "`DataFrame.loc[행 인덱싱,:]` : 선택된 행의 모든 열을 가져옵니다.  \n",
    "`DataFrame.loc[:,열 인덱싱]` : 선택된 열의 모든 행을 가져옵니다.  \n",
    "\n",
    "<table>\n",
    "<tr>\n",
    "    <th><img src=\"https://tmn-bucket-materials-all.s3.ap-northeast-2.amazonaws.com/image/pandas/material_03_14.gif\" width=\"750\"></th>\n",
    "</tr>\n",
    "<tr>\n",
    "    <th>데이터프레임에서 loc을 사용할 때에 행, 열 전체 선택하기</th>\n",
    "</tr>\n",
    "</table>\n",
    "\n"
   ]
  },
  {
   "cell_type": "code",
   "execution_count": null,
   "id": "23d9e9cb-1c39-49e4-914d-58cf32fe22db",
   "metadata": {
    "tags": []
   },
   "outputs": [],
   "source": [
    "# 예제_6_데이터프레임에서_loc을_사용한_다양한_인덱싱\n",
    "\n",
    "import pandas as pd\n",
    "\n",
    "score = pd.read_csv('https://tmn-bucket-materials-all.s3.ap-northeast-2.amazonaws.com/data/midterm_exam_result.csv')\n",
    "score.index = score['이름']\n",
    "score = score.iloc[:,1:]\n",
    "\n",
    "print('#'*30, f\"{'score':^15s}\" , '#' * 30, '\\n') # 출력되는 결과들을 분리해서 보여주기 위한 코드입니다.\n",
    "print(score)\n",
    "print('\\n','#'*30, \"{:^15s}\".format('score.loc[\"배지우\",[\"국어\",\"영어\",\"프로그래밍\"]]') , '#' * 30, '\\n') # 출력되는 결과들을 분리해서 보여주기 위한 코드입니다.\n",
    "print(score.loc[\"배지우\",[\"국어\",\"영어\",\"프로그래밍\"]])\n",
    "print('\\n','#'*30, \"{:^15s}\".format('score.loc[[\"배지우\",\"이민준\",\"최하은\"],\"프로그래밍\"]') , '#' * 30, '\\n') # 출력되는 결과들을 분리해서 보여주기 위한 코드입니다.\n",
    "print(score.loc[[\"배지우\",\"이민준\",\"최하은\"],\"프로그래밍\"])\n",
    "print('\\n','#'*30, \"{:^15s}\".format('score.loc[[\"배지우\",\"이민준\",\"최하은\"],[\"프로그래밍\",\"국어\",\"수학\"]]') , '#' * 30, '\\n') # 출력되는 결과들을 분리해서 보여주기 위한 코드입니다.\n",
    "print(score.loc[[\"배지우\",\"이민준\",\"최하은\"],[\"프로그래밍\",\"국어\",\"수학\"]])\n",
    "print('\\n','#'*30, \"{:^15s}\".format('score.loc[[\"배지우\",\"이민준\",\"최하은\"],:]') , '#' * 30, '\\n') # 출력되는 결과들을 분리해서 보여주기 위한 코드입니다.\n",
    "print(score.loc[[\"배지우\",\"이민준\",\"최하은\"],:])\n",
    "print('\\n','#'*30, \"{:^15s}\".format('score.loc[:,[\"프로그래밍\",\"국어\",\"수학\"]]') , '#' * 30, '\\n') # 출력되는 결과들을 분리해서 보여주기 위한 코드입니다.\n",
    "print(score.loc[:,[\"프로그래밍\",\"국어\",\"수학\"]])\n",
    "print('\\n','#'*30, \"{:^15s}\".format('score.loc[:,:]') , '#' * 30, '\\n') # 출력되는 결과들을 분리해서 보여주기 위한 코드입니다.\n",
    "print(score.loc[:,:])"
   ]
  },
  {
   "cell_type": "markdown",
   "id": "6541263e-b0bd-448e-9173-79cea002c54d",
   "metadata": {},
   "source": [
    "> **❓ 생각해보기(QUESTION):**\n",
    ">\n",
    "> 어떠한 경우에 인덱싱을 통해 특정 데이터에 접근해야 할까요?"
   ]
  },
  {
   "cell_type": "raw",
   "id": "e0a1cf77-a170-4d81-b7c7-ff0d5ec9cff5",
   "metadata": {},
   "source": [
    "질문에 대한 대답을 여기에 적어봅시다."
   ]
  },
  {
   "cell_type": "markdown",
   "id": "756d2963-0414-4734-a059-f5c31968287c",
   "metadata": {},
   "source": [
    "### **💯 연습문제를 풀어봅시다**\n",
    "\n"
   ]
  },
  {
   "cell_type": "markdown",
   "id": "1721f1b2-8439-4c1f-9de9-71b3b89ef4c2",
   "metadata": {
    "tags": []
   },
   "source": [
    "1. <a class=\"jcecodle-mk jcecodle-mk__problem-chip\" data-problem-id=\"ryIJK2tzdpY\" href='#jce-judge/open/ryIJK2tzdpY' target='_self'><span>판다스 기초 5 - 데이터프레임 열 이름으로 불러오기</span></a>\n",
    "\n",
    "2. <a class=\"jcecodle-mk jcecodle-mk__problem-chip\" data-problem-id=\"hyZz6FjltlQ\" href='#jce-judge/open/hyZz6FjltlQ' target='_self'><span>탑승객 수 불러오기</span></a>\n",
    "\n",
    "3. <a class=\"jcecodle-mk jcecodle-mk__problem-chip\" data-problem-id=\"P8-2zq1pydI\" href='#jce-judge/open/P8-2zq1pydI' target='_self'><span>지출 확인하기 (1)</span></a>\n",
    "\n",
    "4. <a class=\"jcecodle-mk jcecodle-mk__problem-chip\" data-problem-id=\"R3AMh0eTzDA\" href='#jce-judge/open/R3AMh0eTzDA' target='_self'><span>판다스 기초 - 데이터프레임 열 인덱싱 (여러개)</span></a>\n",
    "\n",
    "5. <a class=\"jcecodle-mk jcecodle-mk__problem-chip\" data-problem-id=\"qSuptxQhUQ8\" href='#jce-judge/open/qSuptxQhUQ8' target='_self'><span>홀수열 불러오기</span></a>\n",
    "\n",
    "6. <a class=\"jcecodle-mk jcecodle-mk__problem-chip\" data-problem-id=\"XS2g21h31uU\" href='#jce-judge/open/XS2g21h31uU' target='_self'><span>지출 확인하기 (2)</span></a>\n",
    "\n",
    "7. <a class=\"jcecodle-mk jcecodle-mk__problem-chip\" data-problem-id=\"NPfqVcJiU2s\" href='#jce-judge/open/NPfqVcJiU2s' target='_self'><span>판다스 기초 - 데이터 프레임 행 이름으로 불러오기</span></a>\n",
    "\n",
    "8. <a class=\"jcecodle-mk jcecodle-mk__problem-chip\" data-problem-id=\"XhmHxvwG71Y\" href='#jce-judge/open/XhmHxvwG71Y' target='_self'><span>데이터 프레임 행 이름으로 불러오기 (2)</span></a>\n",
    "\n",
    "9. <a class=\"jcecodle-mk jcecodle-mk__problem-chip\" data-problem-id=\"cesVayS2x70\" href='#jce-judge/open/cesVayS2x70' target='_self'><span>둘째부터 넷째까지</span></a>\n",
    "\n",
    "10. <a class=\"jcecodle-mk jcecodle-mk__problem-chip\" data-problem-id=\"dJEltjvjDO0\" href='#jce-judge/open/dJEltjvjDO0' target='_self'><span>가족 정보 인덱싱 (1)</span></a>\n",
    "\n",
    "11. <a class=\"jcecodle-mk jcecodle-mk__problem-chip\" data-problem-id=\"V51LDQ08Vqk\" href='#jce-judge/open/V51LDQ08Vqk' target='_self'><span>판다스 기초 - 데이터프레임 2차원 인덱싱 (3)</span></a>\n",
    "\n",
    "12. <a class=\"jcecodle-mk jcecodle-mk__problem-chip\" data-problem-id=\"c-SZQmiXNi0\" href='#jce-judge/open/c-SZQmiXNi0' target='_self'><span>가족 정보 인덱싱 (2) </span></a>\n",
    "\n",
    "13. <a class=\"jcecodle-mk jcecodle-mk__problem-chip\" data-problem-id=\"Sd1hbOkQ9BA\" href='#jce-judge/open/Sd1hbOkQ9BA' target='_self'><span>데이터 통계 정보 인덱싱</span></a>\n"
   ]
  },
  {
   "cell_type": "markdown",
   "id": "06672c85-f2a1-4f4f-b6e2-b0a40aa894dd",
   "metadata": {
    "jp-MarkdownHeadingCollapsed": true,
    "tags": []
   },
   "source": [
    "<div style=\"padding: 15px; border: 5px solid transparent; border-color: transparent; margin-bottom: 20px; border-radius: 4px; color: #3c763d; border-color: #d6e9c6; font-weight: bold;\">\n",
    "<h2 style='font-weight: bold'>2. 데이터프레임(DataFrame) 위치 기반 인덱싱</h2>\n",
    "</div> "
   ]
  },
  {
   "cell_type": "markdown",
   "id": "4246f343-57f5-4018-a597-7872af567bd2",
   "metadata": {
    "jp-MarkdownHeadingCollapsed": true,
    "tags": []
   },
   "source": [
    "데이터프레임에서 특정 열과 행을 가져오기 위해 위치 기반의 인덱싱도 사용할 수 있습니다."
   ]
  },
  {
   "cell_type": "markdown",
   "id": "900228d6-72c6-4588-805d-88a8392ffefb",
   "metadata": {
    "tags": []
   },
   "source": [
    "### 위치 정보를 이용해 데이터프레임의 행 인덱싱하기\n",
    "\n",
    "데이터프레임의 행을 순서를 이용해 불러오기 위해서는 `iloc`을 이용해야 합니다.  \n",
    "`iloc`은 interger(정수로 된)-location(위치)를 의미합니다.  \n",
    "\n",
    "> **⚠️ 주의(WARNING):**\n",
    ">\n",
    "> 0부터 시작된다는 것을 기억합니다!\n",
    "\n",
    "1. 하나의 행 인덱싱하기  \n",
    "`DataFrame.iloc[n]` : n+1 번째 행을 Series로 반환  \n",
    "\n",
    "<table>\n",
    "<tr>\n",
    "    <th><img src=\"https://tmn-bucket-materials-all.s3.ap-northeast-2.amazonaws.com/image/pandas/material_03_18.gif\" width=\"750\"></th>\n",
    "</tr>\n",
    "<tr>\n",
    "    <th>데이터프레임에서 위치정보를 이용해 하나의 행에 인덱싱</th>\n",
    "</tr>\n",
    "</table>\n",
    "\n",
    "2. 연속된 여러개의 행 인덱싱하기  \n",
    "`DataFrame.iloc[a:b]` : a+1 번째 ~ b 번째 행을 DataFrame으로 반환  \n",
    "\n",
    "<table>\n",
    "<tr>\n",
    "    <th><img src=\"https://tmn-bucket-materials-all.s3.ap-northeast-2.amazonaws.com/image/pandas/material_03_19.gif\" width=\"750\"></th>\n",
    "</tr>\n",
    "<tr>\n",
    "    <th>데이터프레임에서 위치정보를 이용해 연속된 여러개의 행에 인덱싱</th>\n",
    "</tr>\n",
    "</table>\n",
    "\n",
    "3. 연속되지 않은 여러개의 행 인덱싱하기  \n",
    "`DataFrame.iloc[[a, b]]` : a+1 번째, b+1 번째 행을 DataFrame으로 반환  \n",
    "\n",
    "<table>\n",
    "<tr>\n",
    "    <th><img src=\"https://tmn-bucket-materials-all.s3.ap-northeast-2.amazonaws.com/image/pandas/material_03_20.gif\" width=\"750\"></th>\n",
    "</tr>\n",
    "<tr>\n",
    "    <th>데이터프레임에서 위치정보를 이용해 연속되지 않은 여러개의 행에 인덱싱</th>\n",
    "</tr>\n",
    "</table>"
   ]
  },
  {
   "cell_type": "code",
   "execution_count": null,
   "id": "62f464b7-e6c3-460a-ad2a-c61f9157a98c",
   "metadata": {
    "tags": []
   },
   "outputs": [],
   "source": [
    "# 예제_1_데이터프레임에서_하나의_행에_인덱싱\n",
    "\n",
    "import pandas as pd\n",
    "\n",
    "score = pd.read_csv('https://tmn-bucket-materials-all.s3.ap-northeast-2.amazonaws.com/data/midterm_exam_result.csv')\n",
    "score.index = score['이름']\n",
    "score = score.iloc[:,1:]\n",
    "\n",
    "print('#'*30, f\"{'score':^15s}\" , '#' * 30, '\\n') # 출력되는 결과들을 분리해서 보여주기 위한 코드입니다.\n",
    "print(score)\n",
    "print('\\n','#'*30, \"{:^15s}\".format('score.iloc[5]') , '#' * 30, '\\n') # 출력되는 결과들을 분리해서 보여주기 위한 코드입니다.\n",
    "print(score.iloc[5])\n",
    "print('\\n','#'*30, \"{:^15s}\".format('score.iloc[10]') , '#' * 30, '\\n') # 출력되는 결과들을 분리해서 보여주기 위한 코드입니다.\n",
    "print(score.iloc[10])"
   ]
  },
  {
   "cell_type": "code",
   "execution_count": null,
   "id": "61cecf77-17ce-4b8e-9332-63b6db6113be",
   "metadata": {
    "tags": []
   },
   "outputs": [],
   "source": [
    "# 예제_2_데이터프레임에서_연속된_여러개의_행에_인덱싱\n",
    "\n",
    "import pandas as pd\n",
    "\n",
    "score = pd.read_csv('https://tmn-bucket-materials-all.s3.ap-northeast-2.amazonaws.com/data/midterm_exam_result.csv')\n",
    "score.index = score['이름']\n",
    "score = score.iloc[:,1:]\n",
    "\n",
    "print('#'*30, f\"{'score':^15s}\" , '#' * 30, '\\n') # 출력되는 결과들을 분리해서 보여주기 위한 코드입니다.\n",
    "print(score)\n",
    "print('\\n','#'*30, \"{:^15s}\".format('score.iloc[5:10]') , '#' * 30, '\\n') # 출력되는 결과들을 분리해서 보여주기 위한 코드입니다.\n",
    "print(score.iloc[5:10])\n",
    "print('\\n','#'*30, \"{:^15s}\".format('score.iloc[13:20]') , '#' * 30, '\\n') # 출력되는 결과들을 분리해서 보여주기 위한 코드입니다.\n",
    "print(score.iloc[13:20])"
   ]
  },
  {
   "cell_type": "code",
   "execution_count": null,
   "id": "887c8041-95bd-4688-904c-36efdece23f0",
   "metadata": {
    "tags": []
   },
   "outputs": [],
   "source": [
    "# 예제_3_데이터프레임에서_연속되지_않은_여러개의_행에_인덱싱\n",
    "\n",
    "import pandas as pd\n",
    "\n",
    "score = pd.read_csv('https://tmn-bucket-materials-all.s3.ap-northeast-2.amazonaws.com/data/midterm_exam_result.csv')\n",
    "score.index = score['이름']\n",
    "score = score.iloc[:,1:]\n",
    "\n",
    "print('#'*30, f\"{'score':^15s}\" , '#' * 30, '\\n') # 출력되는 결과들을 분리해서 보여주기 위한 코드입니다.\n",
    "print(score)\n",
    "print('\\n','#'*30, \"{:^15s}\".format('score.iloc[[5,6,10,12]]') , '#' * 30, '\\n') # 출력되는 결과들을 분리해서 보여주기 위한 코드입니다.\n",
    "print(score.iloc[[5,6,10,12]])\n",
    "print('\\n','#'*30, \"{:^15s}\".format('score.iloc[[1,2,4,20,27]]') , '#' * 30, '\\n') # 출력되는 결과들을 분리해서 보여주기 위한 코드입니다.\n",
    "print(score.iloc[[1,2,4,20,27]])"
   ]
  },
  {
   "cell_type": "markdown",
   "id": "4ddd31d4-99a7-4c5d-97b8-5c44d1f3838f",
   "metadata": {
    "tags": []
   },
   "source": [
    "### 위치 정보를 이용해 데이터프레임의 행과 열 동시에 인덱싱하기\n",
    "\n",
    "데이터프레임에서 위치 정보를 사용해 열만 인덱싱할 수는 없습니다.  \n",
    "따라서 행과 열을 동시에 인덱싱하는 방법을 사용해야 합니다.\n",
    "\n",
    "1. 행과 열 동시에 인덱싱 하기  \n",
    "`DataFrame.iloc[행 인덱싱, 열 인덱싱]` : `iloc`을 사용해 행과 열을 동시에 인덱싱 할 수 있습니다.  \n",
    "`행 인덱싱`, `열 인덱싱`의 순서로 지정해 주면 됩니다.  \n",
    "행, 열을 인덱싱 할 때에는 위에서 배운 3가지의 인덱싱 방법을 모두 사용할 수 있습니다.  \n",
    "\n",
    "<table>\n",
    "<tr>\n",
    "    <th><img src=\"https://tmn-bucket-materials-all.s3.ap-northeast-2.amazonaws.com/image/pandas/material_03_21.gif\" width=\"750\"></th>\n",
    "</tr>\n",
    "<tr>\n",
    "    <th>데이터프레임에서 위치정보를 이용해 행과 열 동시에 인덱싱</th>\n",
    "</tr>\n",
    "</table>\n",
    "\n",
    "2. 행, 열 전체를 선택하기  \n",
    "`DataFrame.iloc[행 인덱싱,:]` : 선택된 행의 모든 열을 가져옵니다.  \n",
    "`DataFrame.iloc[:,열 인덱싱]` : 선택된 열의 모든 행을 가져옵니다.  \n",
    "\n",
    "<table>\n",
    "<tr>\n",
    "    <th><img src=\"https://tmn-bucket-materials-all.s3.ap-northeast-2.amazonaws.com/image/pandas/material_03_22.gif\" width=\"750\"></th>\n",
    "</tr>\n",
    "<tr>\n",
    "    <th>데이터프레임에서 loc을 사용할 때에 행, 열 전체 선택하기</th>\n",
    "</tr>\n",
    "</table>\n",
    "\n",
    "\n"
   ]
  },
  {
   "cell_type": "code",
   "execution_count": null,
   "id": "b753dcb4-bb6d-42a9-905e-d8980136ce21",
   "metadata": {
    "tags": []
   },
   "outputs": [],
   "source": [
    "# 예제_6_데이터프레임에서_iloc을_사용한_다양한_인덱싱\n",
    "\n",
    "import pandas as pd\n",
    "\n",
    "score = pd.read_csv('https://tmn-bucket-materials-all.s3.ap-northeast-2.amazonaws.com/data/midterm_exam_result.csv')\n",
    "score.index = score['이름']\n",
    "score = score.iloc[:,1:]\n",
    "\n",
    "print('#'*30, f\"{'score':^15s}\" , '#' * 30, '\\n') # 출력되는 결과들을 분리해서 보여주기 위한 코드입니다.\n",
    "print(score)\n",
    "print('\\n','#'*30, \"{:^15s}\".format('score.iloc[3,[1,3,4]]') , '#' * 30, '\\n') # 출력되는 결과들을 분리해서 보여주기 위한 코드입니다.\n",
    "print(score.iloc[3,[1,3,4]])\n",
    "print('\\n','#'*30, \"{:^15s}\".format('score.iloc[[3,5,8],3]') , '#' * 30, '\\n') # 출력되는 결과들을 분리해서 보여주기 위한 코드입니다.\n",
    "print(score.iloc[[3,5,8],3])\n",
    "print('\\n','#'*30, \"{:^15s}\".format('score.iloc[[3,5,8],[1,3,4]]') , '#' * 30, '\\n') # 출력되는 결과들을 분리해서 보여주기 위한 코드입니다.\n",
    "print(score.iloc[[3,5,8],[1,3,4]])\n",
    "print('\\n','#'*30, \"{:^15s}\".format('score.iloc[[3,5,8],:]') , '#' * 30, '\\n') # 출력되는 결과들을 분리해서 보여주기 위한 코드입니다.\n",
    "print(score.iloc[[3,5,8],:])\n",
    "print('\\n','#'*30, \"{:^15s}\".format('score.iloc[:,[1,3,4]]') , '#' * 30, '\\n') # 출력되는 결과들을 분리해서 보여주기 위한 코드입니다.\n",
    "print(score.iloc[:,[1,3,4]])\n",
    "print('\\n','#'*30, \"{:^15s}\".format('score.iloc[:,:]') , '#' * 30, '\\n') # 출력되는 결과들을 분리해서 보여주기 위한 코드입니다.\n",
    "print(score.iloc[:,:])"
   ]
  },
  {
   "cell_type": "markdown",
   "id": "4fc5c684-17cb-4c93-bc87-5380645c4a49",
   "metadata": {},
   "source": [
    "> **❓ 생각해보기(QUESTION):**\n",
    ">\n",
    "> 데이터프레임을 2차원 인덱싱하는 방법은 다양합니다.  \n",
    "> 지금까지 배운 방법 이외에도 행 인덱싱과 열 인덱싱을 조합하면 더 많을 수 있습니다.  \n",
    "> 또 어떤 방법이 있을까요?"
   ]
  },
  {
   "cell_type": "raw",
   "id": "0eb5a361-e66c-4347-a34f-d1fea5af5d0f",
   "metadata": {},
   "source": [
    "질문에 대한 대답을 여기에 적어봅시다."
   ]
  },
  {
   "cell_type": "markdown",
   "id": "d7c133cf-43e9-41d9-845e-19405c0f487a",
   "metadata": {},
   "source": [
    "### **💯 연습문제를 풀어봅시다**\n",
    "\n"
   ]
  },
  {
   "cell_type": "markdown",
   "id": "7149a031-7154-4e14-b5e2-4e1b36ec6c31",
   "metadata": {
    "tags": []
   },
   "source": [
    "1. <a class=\"jcecodle-mk jcecodle-mk__problem-chip\" data-problem-id=\"xV7nHKLx08A\" href='#jce-judge/open/xV7nHKLx08A' target='_self'><span>판다스 기초 6 - 인덱스로 행 불러오기</span></a>\n",
    "\n",
    "2. <a class=\"jcecodle-mk jcecodle-mk__problem-chip\" data-problem-id=\"Q0bXumIP900\" href='#jce-judge/open/Q0bXumIP900' target='_self'><span>인덱스로 행 불러오기 (2)</span></a>\n",
    "\n",
    "\n",
    "3. <a class=\"jcecodle-mk jcecodle-mk__problem-chip\" data-problem-id=\"lHkUlBzXMac\" href='#jce-judge/open/lHkUlBzXMac' target='_self'><span>n개 행 불러오기</span></a>\n",
    "\n",
    "\n",
    "5. <a class=\"jcecodle-mk jcecodle-mk__problem-chip\" data-problem-id=\"jwp3nh6t6W4\" href='#jce-judge/open/jwp3nh6t6W4' target='_self'><span>거꾸로 불러오기</span></a>\n",
    "\n",
    "\n",
    "7. <a class=\"jcecodle-mk jcecodle-mk__problem-chip\" data-problem-id=\"NB1fXpsBSPM\" href='#jce-judge/open/NB1fXpsBSPM' target='_self'><span>300행 3열</span></a>\n",
    "\n",
    "\n",
    "8. <a class=\"jcecodle-mk jcecodle-mk__problem-chip\" data-problem-id=\"nITxi677FYQ\" href='#jce-judge/open/nITxi677FYQ' target='_self'><span>마지막과 첫번째 행</span></a>\n",
    "\n",
    "\n",
    "6. <a class=\"jcecodle-mk jcecodle-mk__problem-chip\" data-problem-id=\"2wUqFhadkik\" href='#jce-judge/open/2wUqFhadkik' target='_self'><span>판다스 기초 - 데이터프레임 2차원 인덱싱 (2)</span></a>\n",
    "\n"
   ]
  },
  {
   "cell_type": "markdown",
   "id": "cecfd4a7-7772-4997-8dc0-ab39ca917675",
   "metadata": {
    "jp-MarkdownHeadingCollapsed": true,
    "tags": []
   },
   "source": [
    "<div style=\"padding: 15px; border: 5px solid transparent; border-color: transparent; margin-bottom: 20px; border-radius: 4px; color: #3c763d; border-color: #d6e9c6; font-weight: bold;\">\n",
    "<h2 style='font-weight: bold'>3. 데이터간의 산술연산</h2>\n",
    "</div> "
   ]
  },
  {
   "cell_type": "markdown",
   "id": "cc595174-d320-4485-81cb-3efd1a706ca5",
   "metadata": {
    "jp-MarkdownHeadingCollapsed": true,
    "tags": []
   },
   "source": [
    "여러 데이터를 가지고 있을때, 이들을 조합하여 새로운 결과를 이끌어낼 수 있습니다.  \n",
    "이러한 과정을 연산이라고 합니다.  \n",
    "Pandas의 데이터로 연산을 할 때에는 대상이 되는 데이터들의 shape 혹은 index에 따라 결과가 달라질 수 있습니다.  \n",
    "주의해야 할 점을 잘 확인하며 연산 방법을 배워봅시다.\n",
    "이번 시간에는 산술연산을 통해 데이터들의 합, 차, 곱, 몫을 계산하는 방법을 배웁니다.  "
   ]
  },
  {
   "cell_type": "markdown",
   "id": "902353f1-cb5f-4d84-9186-516bdccaad10",
   "metadata": {
    "tags": []
   },
   "source": [
    "### 열, 인덱스가 같은 경우의 산술연산\n",
    "\n",
    "데이터 간의 산술연산은 특별한 함수가 필요하지 않습니다.  \n",
    "시리즈, 데이터프레임 모두 같은 방식으로 연산이 가능합니다.  \n",
    "두 시리즈, 데이터프레임의 인덱스, 열이 같은 경우에는 같은 위치에 있는 데이터끼리 연산됩니다.\n",
    "\n",
    "> **시리즈의 산술연산**\n",
    ">\n",
    "> - **더하기** : Series1 + Series2 \n",
    "> - **빼기** : Series1 - Series2\n",
    "> - **곱하기** : Series1 * Series2\n",
    "> - **나누기** : Series1 / Series2  \n",
    "> - **거듭제곱** : Series1 ** Series2\n",
    "> - **몫** : Series1 // Series2\n",
    "> - **나머지** : Series1 % Series2  \n",
    ">\n",
    " \n",
    "> **데이터프레임의 산술연산**\n",
    ">\n",
    "> - **더하기** : DataFrame1 + DataFrame2 \n",
    "> - **빼기** : DataFrame1 - DataFrame2\n",
    "> - **곱하기** : DataFrame1 * DataFrame2\n",
    "> - **나누기** : DataFrame1 / DataFrame2   \n",
    "> - **거듭제곱** :DataFrame1 ** DataFrame2\n",
    "> - **몫** : DataFrame1 // DataFrame2\n",
    "> - **나머지** : DataFrame1 % DataFrame2\n",
    ">\n",
    "\n",
    "<table>\n",
    "<tr>\n",
    "    <th><img src=\"https://tmn-bucket-materials-all.s3.ap-northeast-2.amazonaws.com/image/pandas/material_05-02.png\" width=\"300\"></th>\n",
    "    <th><img src=\"https://tmn-bucket-materials-all.s3.ap-northeast-2.amazonaws.com/image/pandas/material_05-03.png\" width=\"450\"></th>\n",
    "</tr>\n",
    "<tr>\n",
    "    <th>시리즈간의 산술연산</th>\n",
    "    <th>데이터프레임간의 산술연산</th>\n",
    "</tr>\n",
    "</table>"
   ]
  },
  {
   "cell_type": "code",
   "execution_count": null,
   "id": "d72bf2ec-756d-42d4-849f-1225a9415a1d",
   "metadata": {},
   "outputs": [],
   "source": [
    "# 예제_1_크기와_인덱스가_같은_시리즈_사이의_산술연산\n",
    "\n",
    "import pandas as pd\n",
    "\n",
    "A = pd.Series([1,2,3])\n",
    "B = pd.Series([4,5,6])\n",
    "\n",
    "print('#'*30, f\"{'A':^15s}\" , '#' * 30, '\\n') # 출력되는 결과들을 분리해서 보여주기 위한 코드입니다.\n",
    "print(A)\n",
    "print('\\n','#'*30, f\"{'B':^15s}\" , '#' * 30, '\\n') # 출력되는 결과들을 분리해서 보여주기 위한 코드입니다.\n",
    "print(B)\n",
    "print('\\n','#'*30, f\"{'A + B':^15s}\" , '#' * 30, '\\n') # 출력되는 결과들을 분리해서 보여주기 위한 코드입니다.\n",
    "print(A+B)\n",
    "print('\\n','#'*30, f\"{'A - B':^15s}\" , '#' * 30, '\\n') # 출력되는 결과들을 분리해서 보여주기 위한 코드입니다.\n",
    "print(A-B)\n",
    "print('\\n','#'*30, f\"{'A * B':^15s}\" , '#' * 30, '\\n') # 출력되는 결과들을 분리해서 보여주기 위한 코드입니다.\n",
    "print(A*B)\n",
    "print('\\n','#'*30, f\"{'A / B':^15s}\" , '#' * 30, '\\n') # 출력되는 결과들을 분리해서 보여주기 위한 코드입니다.\n",
    "print(A/B)\n",
    "print('\\n','#'*30, f\"{'A ** B':^15s}\" , '#' * 30, '\\n') # 출력되는 결과들을 분리해서 보여주기 위한 코드입니다.\n",
    "print(A**B)\n",
    "print('\\n','#'*30, f\"{'A // B':^15s}\" , '#' * 30, '\\n') # 출력되는 결과들을 분리해서 보여주기 위한 코드입니다.\n",
    "print(A//B)\n",
    "print('\\n','#'*30, f\"{'A % B':^15s}\" , '#' * 30, '\\n') # 출력되는 결과들을 분리해서 보여주기 위한 코드입니다.\n",
    "print(A%B)"
   ]
  },
  {
   "cell_type": "code",
   "execution_count": null,
   "id": "9a15b0d7-b8d0-4fec-83c3-1b202a7660f2",
   "metadata": {},
   "outputs": [],
   "source": [
    "# 예제_2_형태와_인덱스_열이_같은_데이터프레임_사이의_산술연산\n",
    "\n",
    "import pandas as pd\n",
    "\n",
    "A = pd.DataFrame([[1,2,3],[4,5,6]])\n",
    "B = pd.DataFrame([[6,5,4],[3,2,1]])\n",
    "\n",
    "print('#'*30, f\"{'A':^15s}\" , '#' * 30, '\\n') # 출력되는 결과들을 분리해서 보여주기 위한 코드입니다.\n",
    "print(A)\n",
    "print('\\n','#'*30, f\"{'B':^15s}\" , '#' * 30, '\\n') # 출력되는 결과들을 분리해서 보여주기 위한 코드입니다.\n",
    "print(B)\n",
    "print('\\n','#'*30, f\"{'A + B':^15s}\" , '#' * 30, '\\n') # 출력되는 결과들을 분리해서 보여주기 위한 코드입니다.\n",
    "print(A+B)\n",
    "print('\\n','#'*30, f\"{'A - B':^15s}\" , '#' * 30, '\\n') # 출력되는 결과들을 분리해서 보여주기 위한 코드입니다.\n",
    "print(A-B)\n",
    "print('\\n','#'*30, f\"{'A * B':^15s}\" , '#' * 30, '\\n') # 출력되는 결과들을 분리해서 보여주기 위한 코드입니다.\n",
    "print(A*B)\n",
    "print('\\n','#'*30, f\"{'A / B':^15s}\" , '#' * 30, '\\n') # 출력되는 결과들을 분리해서 보여주기 위한 코드입니다.\n",
    "print(A/B)\n",
    "print('\\n','#'*30, f\"{'A ** B':^15s}\" , '#' * 30, '\\n') # 출력되는 결과들을 분리해서 보여주기 위한 코드입니다.\n",
    "print(A**B)\n",
    "print('\\n','#'*30, f\"{'A // B':^15s}\" , '#' * 30, '\\n') # 출력되는 결과들을 분리해서 보여주기 위한 코드입니다.\n",
    "print(A//B)\n",
    "print('\\n','#'*30, f\"{'A % B':^15s}\" , '#' * 30, '\\n') # 출력되는 결과들을 분리해서 보여주기 위한 코드입니다.\n",
    "print(A%B)"
   ]
  },
  {
   "cell_type": "markdown",
   "id": "0b89e1c4-3c70-42ed-ad04-3374e3a0d87f",
   "metadata": {},
   "source": [
    "### 열, 인덱스가 다른 경우의 산술연산\n",
    "\n",
    "열, 인덱스가 다른 경우에도 마찬가지의 방법으로 산술연산을 할 수 있습니다.  \n",
    "시리즈, 데이터프레임 모두 같은 방식으로 연산이 가능합니다.  \n",
    "Pandas의 데이터 간 산술연산은 시리즈, 데이터프레임의 모양이 같다고 해서 같은 위치의 데이터끼리 연산되지는 않습니다.  \n",
    "이 때에는 같은 인덱스와 같은 열이름을 가진 데이터끼리 연산됩니다.\n",
    "\n",
    "> **✏️ 알아봅시다(NOTE): NaN은 어떻게 계산되나요?(산술연산)**\n",
    ">\n",
    "> NaN은 비어 있는 값이기 때문에 산술연산 결과를 알 수 없습니다.\n",
    "> 따라서 NaN과의 산술연산은 무조건 NaN이 결과가 됩니다.\n",
    "\n",
    "> **⚠️ 주의(WARNING):**\n",
    ">\n",
    "> 열, 인덱스가 다를 때 산술연산을 할 때 인덱스와 같은 열이름을 가진 데이터가 한쪽에만 존재할 경우, 해당 공간에는 빈 데이터(NaN)가 들어가게 됩니다.  \n",
    "> 이는 해당 인덱스와 열이 없는 시리즈, 데이터프레임에서 데이터가 NaN으로 취급되기 때문입니다.\n",
    "\n",
    "<table>\n",
    "<tr>\n",
    "    <th><img src=\"https://tmn-bucket-materials-all.s3.ap-northeast-2.amazonaws.com/image/pandas/material_05-04.png\" width=\"300\"></th>\n",
    "    <th><img src=\"https://tmn-bucket-materials-all.s3.ap-northeast-2.amazonaws.com/image/pandas/material_05-05.png\" width=\"300\"></th>\n",
    "</tr>\n",
    "<tr>\n",
    "    <th>인덱스가 다른 시리즈 간의 연산</th>\n",
    "    <th>인덱스, 열이 다른 데이터프레임 간의 연산</th>\n",
    "</tr>\n",
    "</table>\n",
    "\n",
    "두 시리즈, 데이터프레임의 형태가 다른 경우에도 마찬가지로 인덱스와 열을 기반으로 연산됩니다. \n",
    "\n",
    "<table>\n",
    "<tr>\n",
    "    <th><img src=\"https://tmn-bucket-materials-all.s3.ap-northeast-2.amazonaws.com/image/pandas/material_05-06.png\" width=\"300\"></th>\n",
    "</tr>\n",
    "<tr>\n",
    "    <th>형태가 다른 데이터프레임 연산</th>\n",
    "</tr>\n",
    "</table>"
   ]
  },
  {
   "cell_type": "code",
   "execution_count": null,
   "id": "f16eafb2-40af-447c-b64b-2716b713fecd",
   "metadata": {},
   "outputs": [],
   "source": [
    "# 예제_3_크기는_같지만_인덱스가_다른_시리즈_사이의_산술연산\n",
    "\n",
    "import pandas as pd\n",
    "\n",
    "A = pd.Series([1,2,3], index = [0,1,2])\n",
    "B = pd.Series([4,5,6], index = [3,2,1])\n",
    "\n",
    "print('#'*30, f\"{'A':^15s}\" , '#' * 30, '\\n') # 출력되는 결과들을 분리해서 보여주기 위한 코드입니다.\n",
    "print(A)\n",
    "print('\\n','#'*30, f\"{'B':^15s}\" , '#' * 30, '\\n') # 출력되는 결과들을 분리해서 보여주기 위한 코드입니다.\n",
    "print(B)\n",
    "print('\\n','#'*30, f\"{'A + B':^15s}\" , '#' * 30, '\\n') # 출력되는 결과들을 분리해서 보여주기 위한 코드입니다.\n",
    "print(A+B)\n",
    "print('\\n','#'*30, f\"{'A - B':^15s}\" , '#' * 30, '\\n') # 출력되는 결과들을 분리해서 보여주기 위한 코드입니다.\n",
    "print(A-B)\n",
    "print('\\n','#'*30, f\"{'A * B':^15s}\" , '#' * 30, '\\n') # 출력되는 결과들을 분리해서 보여주기 위한 코드입니다.\n",
    "print(A*B)\n",
    "print('\\n','#'*30, f\"{'A / B':^15s}\" , '#' * 30, '\\n') # 출력되는 결과들을 분리해서 보여주기 위한 코드입니다.\n",
    "print(A/B)\n",
    "print('\\n','#'*30, f\"{'A ** B':^15s}\" , '#' * 30, '\\n') # 출력되는 결과들을 분리해서 보여주기 위한 코드입니다.\n",
    "print(A**B)\n",
    "print('\\n','#'*30, f\"{'A // B':^15s}\" , '#' * 30, '\\n') # 출력되는 결과들을 분리해서 보여주기 위한 코드입니다.\n",
    "print(A//B)\n",
    "print('\\n','#'*30, f\"{'A % B':^15s}\" , '#' * 30, '\\n') # 출력되는 결과들을 분리해서 보여주기 위한 코드입니다.\n",
    "print(A%B)"
   ]
  },
  {
   "cell_type": "code",
   "execution_count": null,
   "id": "bf40bad8-33ee-4175-a207-d95f82fe4e88",
   "metadata": {},
   "outputs": [],
   "source": [
    "# 예제_4_형태는_같지만_인덱스_열이_다른_데이터프레임_사이의_산술연산\n",
    "\n",
    "import pandas as pd\n",
    "\n",
    "A = pd.DataFrame([[1,2,3],[4,5,6]], index = [0,1], columns = ['A', 'B', 'C'])\n",
    "B = pd.DataFrame([[6,5,4],[3,2,1]], index = [0,2], columns = ['B', 'C', 'D'])\n",
    "\n",
    "print('#'*30, f\"{'A':^15s}\" , '#' * 30, '\\n') # 출력되는 결과들을 분리해서 보여주기 위한 코드입니다.\n",
    "print(A)\n",
    "print('\\n','#'*30, f\"{'B':^15s}\" , '#' * 30, '\\n') # 출력되는 결과들을 분리해서 보여주기 위한 코드입니다.\n",
    "print(B)\n",
    "print('\\n','#'*30, f\"{'A + B':^15s}\" , '#' * 30, '\\n') # 출력되는 결과들을 분리해서 보여주기 위한 코드입니다.\n",
    "print(A+B)\n",
    "print('\\n','#'*30, f\"{'A - B':^15s}\" , '#' * 30, '\\n') # 출력되는 결과들을 분리해서 보여주기 위한 코드입니다.\n",
    "print(A-B)\n",
    "print('\\n','#'*30, f\"{'A * B':^15s}\" , '#' * 30, '\\n') # 출력되는 결과들을 분리해서 보여주기 위한 코드입니다.\n",
    "print(A*B)\n",
    "print('\\n','#'*30, f\"{'A / B':^15s}\" , '#' * 30, '\\n') # 출력되는 결과들을 분리해서 보여주기 위한 코드입니다.\n",
    "print(A/B)\n",
    "print('\\n','#'*30, f\"{'A ** B':^15s}\" , '#' * 30, '\\n') # 출력되는 결과들을 분리해서 보여주기 위한 코드입니다.\n",
    "print(A**B)\n",
    "print('\\n','#'*30, f\"{'A // B':^15s}\" , '#' * 30, '\\n') # 출력되는 결과들을 분리해서 보여주기 위한 코드입니다.\n",
    "print(A//B)\n",
    "print('\\n','#'*30, f\"{'A % B':^15s}\" , '#' * 30, '\\n') # 출력되는 결과들을 분리해서 보여주기 위한 코드입니다.\n",
    "print(A%B)"
   ]
  },
  {
   "cell_type": "code",
   "execution_count": null,
   "id": "bdbdab99-702f-4535-a529-ceb425d2a4d3",
   "metadata": {},
   "outputs": [],
   "source": [
    "# 예제_5_형태가_다른_데이터프레임_사이의_산술연산\n",
    "\n",
    "import pandas as pd\n",
    "\n",
    "A = pd.DataFrame([[1,2],[3,4],[5,6]], index = [0,1,2], columns = ['A', 'B'])\n",
    "B = pd.DataFrame([[1,2,3],[4,5,6]], index = [0,1], columns = ['A','B','C'])\n",
    "\n",
    "print('#'*30, f\"{'A':^15s}\" , '#' * 30, '\\n') # 출력되는 결과들을 분리해서 보여주기 위한 코드입니다.\n",
    "print(A)\n",
    "print('\\n','#'*30, f\"{'B':^15s}\" , '#' * 30, '\\n') # 출력되는 결과들을 분리해서 보여주기 위한 코드입니다.\n",
    "print(B)\n",
    "print('\\n','#'*30, f\"{'A + B':^15s}\" , '#' * 30, '\\n') # 출력되는 결과들을 분리해서 보여주기 위한 코드입니다.\n",
    "print(A+B)\n",
    "print('\\n','#'*30, f\"{'A - B':^15s}\" , '#' * 30, '\\n') # 출력되는 결과들을 분리해서 보여주기 위한 코드입니다.\n",
    "print(A-B)\n",
    "print('\\n','#'*30, f\"{'A * B':^15s}\" , '#' * 30, '\\n') # 출력되는 결과들을 분리해서 보여주기 위한 코드입니다.\n",
    "print(A*B)\n",
    "print('\\n','#'*30, f\"{'A / B':^15s}\" , '#' * 30, '\\n') # 출력되는 결과들을 분리해서 보여주기 위한 코드입니다.\n",
    "print(A/B)\n",
    "print('\\n','#'*30, f\"{'A ** B':^15s}\" , '#' * 30, '\\n') # 출력되는 결과들을 분리해서 보여주기 위한 코드입니다.\n",
    "print(A**B)\n",
    "print('\\n','#'*30, f\"{'A // B':^15s}\" , '#' * 30, '\\n') # 출력되는 결과들을 분리해서 보여주기 위한 코드입니다.\n",
    "print(A//B)\n",
    "print('\\n','#'*30, f\"{'A % B':^15s}\" , '#' * 30, '\\n') # 출력되는 결과들을 분리해서 보여주기 위한 코드입니다.\n",
    "print(A%B)"
   ]
  },
  {
   "cell_type": "markdown",
   "id": "7fa5432a-2298-4b18-a4fb-7b47aae6895d",
   "metadata": {},
   "source": [
    "### **💯 연습문제를 풀어봅시다**\n",
    "\n"
   ]
  },
  {
   "cell_type": "markdown",
   "id": "eabbacaa-7c70-42ac-adf4-d6d906ffcd43",
   "metadata": {
    "tags": []
   },
   "source": [
    "1. <a class=\"jcecodle-mk jcecodle-mk__problem-chip\" data-problem-id=\"Xtrlc_bCbtE\" href='#jce-judge/open/Xtrlc_bCbtE' target='_self'><span>판다스 - 데이터 간 사칙연산 (1)</span></a>\n",
    "\n",
    "2. <a class=\"jcecodle-mk jcecodle-mk__problem-chip\" data-problem-id=\"Q7oNmKNgX78\" href='#jce-judge/open/Q7oNmKNgX78' target='_self'><span>빼고 곱하기</span></a>\n",
    "\n",
    "\n",
    "3. <a class=\"jcecodle-mk jcecodle-mk__problem-chip\" data-problem-id=\"PZDPU0vB73I\" href='#jce-judge/open/PZDPU0vB73I' target='_self'><span>빼고 더하기</span></a>\n",
    "\n",
    "\n",
    "2. <a class=\"jcecodle-mk jcecodle-mk__problem-chip\" data-problem-id=\"-Vj7ud9-Ozo\" href='#jce-judge/open/-Vj7ud9-Ozo' target='_self'><span>판다스 - 데이터 간 사칙연산 (2)</span></a>\n",
    "\n",
    "4. <a class=\"jcecodle-mk jcecodle-mk__problem-chip\" data-problem-id=\"wvkHK-RzhiU\" href='#jce-judge/open/wvkHK-RzhiU' target='_self'><span>출생연도와 학번</span></a>\n",
    "\n",
    "\n",
    "5. <a class=\"jcecodle-mk jcecodle-mk__problem-chip\" data-problem-id=\"ptPDSw-zES8\" href='#jce-judge/open/ptPDSw-zES8' target='_self'><span>인덱스 다른 데이터 3개</span></a>\n",
    "\n",
    "\n",
    "3. <a class=\"jcecodle-mk jcecodle-mk__problem-chip\" data-problem-id=\"h7X7CbcCYRw\" href='#jce-judge/open/h7X7CbcCYRw' target='_self'><span>판다스 - 데이터 간 사칙연산 (3)</span></a>\n",
    "\n",
    "6. <a class=\"jcecodle-mk jcecodle-mk__problem-chip\" data-problem-id=\"uMaAZRsho9E\" href='#jce-judge/open/uMaAZRsho9E' target='_self'><span>크기가 다른 데이터</span></a>\n",
    "\n",
    "\n",
    "7. <a class=\"jcecodle-mk jcecodle-mk__problem-chip\" data-problem-id=\"UfvzpSUUK1o\" href='#jce-judge/open/UfvzpSUUK1o' target='_self'><span>크기, 인덱스 다른 데이터</span></a>\n"
   ]
  },
  {
   "cell_type": "markdown",
   "id": "f4d39d77-284c-42ce-bb10-3dd6249fcaa0",
   "metadata": {
    "jp-MarkdownHeadingCollapsed": true,
    "tags": []
   },
   "source": [
    "<div style=\"padding: 15px; border: 5px solid transparent; border-color: transparent; margin-bottom: 20px; border-radius: 4px; color: #3c763d; border-color: #d6e9c6; font-weight: bold;\">\n",
    "<h2 style='font-weight: bold'>4. 데이터간의 비교연산</h2>\n",
    "</div> "
   ]
  },
  {
   "cell_type": "markdown",
   "id": "ce48c5cf-0c9b-4d32-9a5c-d36255afa068",
   "metadata": {
    "jp-MarkdownHeadingCollapsed": true,
    "tags": []
   },
   "source": [
    "이번 시간에는 시리즈, 데이터프레임 간의 비교 연산을 배워봅시다."
   ]
  },
  {
   "cell_type": "markdown",
   "id": "f05ddbeb-82cb-47be-a767-60d69f2662a2",
   "metadata": {
    "tags": []
   },
   "source": [
    "### 열, 인덱스가 같은 경우의 비교연산\n",
    "\n",
    "시리즈, 데이터프레임 간의 비교 연산의 경우 파이썬에서 사용하는 비교 연산을 그대로 사용할 수 있습니다.  \n",
    "비교하는 2개의 시리즈, 데이터프레임의 열, 인덱스가 동일하면 각각 열과 인덱스가 같은 데이터끼리 비교 연산을 수행하고 그 결과를 True와 False로 반환합니다.\n",
    "\n",
    "> **⛔️ 오류(ERROR):**\n",
    ">\n",
    "> Pandas의 시리즈, 데이터프레임 간 비교연산은 인덱스와 열이 완전히 일치하는 경우에만 사용 가능합니다.  \n",
    "> 비교연산을 할 때에 두 시리즈, 데이터프레임의 인덱스나 열이 다른 경우 오류가 발생합니다.\n",
    "> 사칙연산과는 다르니 주의해야 합니다.\n",
    "\n",
    "> **시리즈의 비교연산**\n",
    ">\n",
    "> - **같다** : Series1 == Series2 \n",
    "> - **다르다** : Series1 != Series2\n",
    "> - **왼쪽이 크다** : Series1 > Series2\n",
    "> - **오른쪽이 크다** : Series1 < Series2  \n",
    "> - **왼쪽이 크거나 같다** : Series1 >= Series2\n",
    "> - **오른쪽이 크거나 같다** : Series1 <= Series2\n",
    " \n",
    "> **데이터프레임의 비교연산**\n",
    ">\n",
    "> - **같다** : DataFrame1 == DataFrame2 \n",
    "> - **다르다** : DataFrame1 != DataFrame2\n",
    "> - **왼쪽이 크다** : DataFrames1 > DataFrame2\n",
    "> - **오른쪽이 크다** : DataFrame1 < DataFrame2  \n",
    "> - **왼쪽이 크거나 같다** : DataFrame1 >= DataFrame2\n",
    "> - **오른쪽이 크거나 같다** : DataFrame1 <= DataFrame2\n",
    "\n",
    "<table>\n",
    "<tr>\n",
    "    <th><img src=\"https://tmn-bucket-materials-all.s3.ap-northeast-2.amazonaws.com/image/pandas/material_05-07.png\" width=\"700\"></th>\n",
    "</tr>\n",
    "<tr>\n",
    "    <th>시리즈간의 비교연산</th>\n",
    "</tr>\n",
    "</table>\n",
    "\n",
    "<table>\n",
    "<tr>\n",
    "    <th><img src=\"https://tmn-bucket-materials-all.s3.ap-northeast-2.amazonaws.com/image/pandas/material_05-08.png\" width=\"700\"></th>\n",
    "    </tr>\n",
    "<tr>\n",
    "    <th>데이터프레임간의 비교연산</th>\n",
    "</tr>\n",
    "</table>\n",
    "\n",
    "> **✏️ 알아봅시다(NOTE): NaN은 어떻게 계산되나요?(비교연산)**\n",
    ">\n",
    "> NaN과의 비교 연산은 어떠한 경우에도 False를 결과로 내보냅니다.  \n",
    "> NaN은 다른 문자열, 실수, 정수등과 비교할 수 없기 때문입니다.\n",
    "\n",
    "비교연산은 정수, 실수 뿐만 아니라 문자열에 대해서도 적용 가능합니다.\n",
    "\n",
    "> **✏️ 알아봅시다(NOTE): 문자열의 크기 비교는 어떻게 이루어지나요?**\n",
    ">\n",
    "> 문자열에서 크기 비교는 사전에서 뒤에 나오는 문자열일수록 큰 문자열로 취급됩니다.  \n",
    "> 예시 : `'abc' < 'abe'` , `'a'<'z'`, `'가방'<'나비'`\n",
    "\n",
    "<table>\n",
    "<tr>\n",
    "    <th><img src=\"https://tmn-bucket-materials-all.s3.ap-northeast-2.amazonaws.com/image/pandas/material_05-09.png\" width=\"700\"></th>\n",
    "    </tr>\n",
    "<tr>\n",
    "    <th>데이터프레임간의 문자열 비교연산</th>\n",
    "</tr>\n",
    "</table>\n",
    "\n",
    "\n"
   ]
  },
  {
   "cell_type": "code",
   "execution_count": null,
   "id": "d9a0f8ea-d66f-4f8b-bf50-375d1635b146",
   "metadata": {},
   "outputs": [],
   "source": [
    "# 예제_1_크기와_인덱스가_같은_시리즈_사이의_비교연산\n",
    "\n",
    "import pandas as pd\n",
    "\n",
    "A = pd.Series([1,1,1])\n",
    "B = pd.Series([0,1,2])\n",
    "\n",
    "print('#'*30, f\"{'A':^15s}\" , '#' * 30, '\\n') # 출력되는 결과들을 분리해서 보여주기 위한 코드입니다.\n",
    "print(A)\n",
    "print('\\n','#'*30, f\"{'B':^15s}\" , '#' * 30, '\\n') # 출력되는 결과들을 분리해서 보여주기 위한 코드입니다.\n",
    "print(B)\n",
    "print('\\n','#'*30, f\"{'A == B':^15s}\" , '#' * 30, '\\n') # 출력되는 결과들을 분리해서 보여주기 위한 코드입니다.\n",
    "print(A==B)\n",
    "print('\\n','#'*30, f\"{'A != B':^15s}\" , '#' * 30, '\\n') # 출력되는 결과들을 분리해서 보여주기 위한 코드입니다.\n",
    "print(A!=B)\n",
    "print('\\n','#'*30, f\"{'A > B':^15s}\" , '#' * 30, '\\n') # 출력되는 결과들을 분리해서 보여주기 위한 코드입니다.\n",
    "print(A>B)\n",
    "print('\\n','#'*30, f\"{'A < B':^15s}\" , '#' * 30, '\\n') # 출력되는 결과들을 분리해서 보여주기 위한 코드입니다.\n",
    "print(A<B)\n",
    "print('\\n','#'*30, f\"{'A >= B':^15s}\" , '#' * 30, '\\n') # 출력되는 결과들을 분리해서 보여주기 위한 코드입니다.\n",
    "print(A>=B)\n",
    "print('\\n','#'*30, f\"{'A <= B':^15s}\" , '#' * 30, '\\n') # 출력되는 결과들을 분리해서 보여주기 위한 코드입니다.\n",
    "print(A<=B)"
   ]
  },
  {
   "cell_type": "code",
   "execution_count": null,
   "id": "2a1ec8b4-4041-495a-8662-b4e270bbcb86",
   "metadata": {},
   "outputs": [],
   "source": [
    "# 예제_2_형태와_인덱스_열이_같은_데이터프레임_사이의_비교연산\n",
    "\n",
    "import pandas as pd\n",
    "\n",
    "A = pd.DataFrame([[1,2,3],[4,5,6]])\n",
    "B = pd.DataFrame([[6,5,4],[3,2,1]])\n",
    "\n",
    "print('#'*30, f\"{'A':^15s}\" , '#' * 30, '\\n') # 출력되는 결과들을 분리해서 보여주기 위한 코드입니다.\n",
    "print(A)\n",
    "print('\\n','#'*30, f\"{'B':^15s}\" , '#' * 30, '\\n') # 출력되는 결과들을 분리해서 보여주기 위한 코드입니다.\n",
    "print(B)\n",
    "print('\\n','#'*30, f\"{'A == B':^15s}\" , '#' * 30, '\\n') # 출력되는 결과들을 분리해서 보여주기 위한 코드입니다.\n",
    "print(A==B)\n",
    "print('\\n','#'*30, f\"{'A != B':^15s}\" , '#' * 30, '\\n') # 출력되는 결과들을 분리해서 보여주기 위한 코드입니다.\n",
    "print(A!=B)\n",
    "print('\\n','#'*30, f\"{'A > B':^15s}\" , '#' * 30, '\\n') # 출력되는 결과들을 분리해서 보여주기 위한 코드입니다.\n",
    "print(A>B)\n",
    "print('\\n','#'*30, f\"{'A < B':^15s}\" , '#' * 30, '\\n') # 출력되는 결과들을 분리해서 보여주기 위한 코드입니다.\n",
    "print(A<B)\n",
    "print('\\n','#'*30, f\"{'A >= B':^15s}\" , '#' * 30, '\\n') # 출력되는 결과들을 분리해서 보여주기 위한 코드입니다.\n",
    "print(A>=B)\n",
    "print('\\n','#'*30, f\"{'A <= B':^15s}\" , '#' * 30, '\\n') # 출력되는 결과들을 분리해서 보여주기 위한 코드입니다.\n",
    "print(A<=B)"
   ]
  },
  {
   "cell_type": "code",
   "execution_count": null,
   "id": "8052de8e-99df-4220-991c-bcd1448a5bff",
   "metadata": {},
   "outputs": [],
   "source": [
    "# 예제_2_형태와_인덱스_열이_같은_데이터프레임_사이의_문자열_비교연산\n",
    "\n",
    "import pandas as pd\n",
    "\n",
    "A = pd.DataFrame([['사과','바나나','복숭아'],['수박','딸기','귤']])\n",
    "B = pd.DataFrame([['사과','복숭아','딸기'],['귤','수박','바나나']])\n",
    "\n",
    "print('#'*30, f\"{'A':^15s}\" , '#' * 30, '\\n') # 출력되는 결과들을 분리해서 보여주기 위한 코드입니다.\n",
    "print(A)\n",
    "print('\\n','#'*30, f\"{'B':^15s}\" , '#' * 30, '\\n') # 출력되는 결과들을 분리해서 보여주기 위한 코드입니다.\n",
    "print(B)\n",
    "print('\\n','#'*30, f\"{'A == B':^15s}\" , '#' * 30, '\\n') # 출력되는 결과들을 분리해서 보여주기 위한 코드입니다.\n",
    "print(A==B)\n",
    "print('\\n','#'*30, f\"{'A != B':^15s}\" , '#' * 30, '\\n') # 출력되는 결과들을 분리해서 보여주기 위한 코드입니다.\n",
    "print(A!=B)\n",
    "print('\\n','#'*30, f\"{'A > B':^15s}\" , '#' * 30, '\\n') # 출력되는 결과들을 분리해서 보여주기 위한 코드입니다.\n",
    "print(A>B)\n",
    "print('\\n','#'*30, f\"{'A < B':^15s}\" , '#' * 30, '\\n') # 출력되는 결과들을 분리해서 보여주기 위한 코드입니다.\n",
    "print(A<B)\n",
    "print('\\n','#'*30, f\"{'A >= B':^15s}\" , '#' * 30, '\\n') # 출력되는 결과들을 분리해서 보여주기 위한 코드입니다.\n",
    "print(A>=B)\n",
    "print('\\n','#'*30, f\"{'A <= B':^15s}\" , '#' * 30, '\\n') # 출력되는 결과들을 분리해서 보여주기 위한 코드입니다.\n",
    "print(A<=B)"
   ]
  },
  {
   "cell_type": "code",
   "execution_count": null,
   "id": "bb9c4676-c4a7-4b49-af5c-28effa0d96ee",
   "metadata": {},
   "outputs": [],
   "source": [
    "# 예제_4_형태는_같지만_인덱스_열이_다른_데이터프레임_사이의_비교연산\n",
    "\n",
    "import pandas as pd\n",
    "\n",
    "A = pd.DataFrame([[1,2,3],[4,5,6]])\n",
    "B = pd.DataFrame([[6,5],[3,2]])\n",
    "\n",
    "print('#'*30, f\"{'A':^15s}\" , '#' * 30, '\\n') # 출력되는 결과들을 분리해서 보여주기 위한 코드입니다.\n",
    "print(A)\n",
    "print('\\n','#'*30, f\"{'B':^15s}\" , '#' * 30, '\\n') # 출력되는 결과들을 분리해서 보여주기 위한 코드입니다.\n",
    "print(B)\n",
    "print('\\n','#'*30, f\"{'A == B':^15s}\" , '#' * 30, '\\n') # 출력되는 결과들을 분리해서 보여주기 위한 코드입니다.\n",
    "print(A==B)\n",
    "print('\\n','#'*30, f\"{'A != B':^15s}\" , '#' * 30, '\\n') # 출력되는 결과들을 분리해서 보여주기 위한 코드입니다.\n",
    "print(A!=B)\n",
    "print('\\n','#'*30, f\"{'A > B':^15s}\" , '#' * 30, '\\n') # 출력되는 결과들을 분리해서 보여주기 위한 코드입니다.\n",
    "print(A>B)\n",
    "print('\\n','#'*30, f\"{'A < B':^15s}\" , '#' * 30, '\\n') # 출력되는 결과들을 분리해서 보여주기 위한 코드입니다.\n",
    "print(A<B)\n",
    "print('\\n','#'*30, f\"{'A >= B':^15s}\" , '#' * 30, '\\n') # 출력되는 결과들을 분리해서 보여주기 위한 코드입니다.\n",
    "print(A>=B)\n",
    "print('\\n','#'*30, f\"{'A <= B':^15s}\" , '#' * 30, '\\n') # 출력되는 결과들을 분리해서 보여주기 위한 코드입니다.\n",
    "print(A<=B)"
   ]
  },
  {
   "cell_type": "markdown",
   "id": "5e9e8a41-851c-4e2d-9f14-22ceaa996ba1",
   "metadata": {},
   "source": [
    "### **💯 연습문제를 풀어봅시다**\n",
    "\n"
   ]
  },
  {
   "cell_type": "markdown",
   "id": "c59afa07-ddb6-4ee0-aab1-1fb111035885",
   "metadata": {
    "tags": []
   },
   "source": [
    "1. <a class=\"jcecodle-mk jcecodle-mk__problem-chip\" data-problem-id=\"FUaGcGR4Uj0\" href='#jce-judge/open/FUaGcGR4Uj0' target='_self'><span>판다스 - 데이터 간 비교연산 (숫자)(1)</span></a>\n",
    "\n",
    "2. <a class=\"jcecodle-mk jcecodle-mk__problem-chip\" data-problem-id=\"P9vVm3ZQdNY\" href='#jce-judge/open/P9vVm3ZQdNY' target='_self'><span>다른 숫자</span></a>\n",
    "\n",
    "3. <a class=\"jcecodle-mk jcecodle-mk__problem-chip\" data-problem-id=\"c_ZV7Png7h4\" href='#jce-judge/open/c_ZV7Png7h4' target='_self'><span>같은 숫자</span></a>\n",
    "\n",
    "4. <a class=\"jcecodle-mk jcecodle-mk__problem-chip\" data-problem-id=\"_dhAAA7XWkM\" href='#jce-judge/open/_dhAAA7XWkM' target='_self'><span>판다스 - 데이터 간 비교연산 (숫자) (2)</span></a>\n",
    "\n",
    "5. <a class=\"jcecodle-mk jcecodle-mk__problem-chip\" data-problem-id=\"0a0cgdPrpIE\" href='#jce-judge/open/0a0cgdPrpIE' target='_self'><span>더 큰 데이터</span></a>\n",
    "\n",
    "6. <a class=\"jcecodle-mk jcecodle-mk__problem-chip\" data-problem-id=\"zgWKHWDCxkk\" href='#jce-judge/open/zgWKHWDCxkk' target='_self'><span>크거나 같은 데이터</span></a>\n",
    "\n",
    "7. <a class=\"jcecodle-mk jcecodle-mk__problem-chip\" data-problem-id=\"UH1YOIZHn4c\" href='#jce-judge/open/UH1YOIZHn4c' target='_self'><span>판다스 - 데이터 간 비교연산 (문자)</span></a>\n",
    "\n",
    "8. <a class=\"jcecodle-mk jcecodle-mk__problem-chip\" data-problem-id=\"cCyTQJsBzNE\" href='#jce-judge/open/cCyTQJsBzNE' target='_self'><span>다른 문자</span></a>\n",
    "\n",
    "9. <a class=\"jcecodle-mk jcecodle-mk__problem-chip\" data-problem-id=\"fr9NIKOJ1Sk\" href='#jce-judge/open/fr9NIKOJ1Sk' target='_self'><span>같은 문자</span></a>\n"
   ]
  },
  {
   "cell_type": "markdown",
   "id": "7bcbeeaa-5eb2-4c04-b05e-616c3c0433d8",
   "metadata": {
    "jp-MarkdownHeadingCollapsed": true,
    "tags": []
   },
   "source": [
    "<div style=\"padding: 15px; border: 5px solid transparent; border-color: transparent; margin-bottom: 20px; border-radius: 4px; color: #3c763d; border-color: #d6e9c6; font-weight: bold;\">\n",
    "<h2 style='font-weight: bold'>5. 데이터간의 논리연산</h2>\n",
    "</div> "
   ]
  },
  {
   "cell_type": "markdown",
   "id": "d479ef2e-7bce-4d67-8ac5-14ca5cbaa1bb",
   "metadata": {
    "jp-MarkdownHeadingCollapsed": true,
    "tags": []
   },
   "source": [
    "이번 시간에는 시리즈, 데이터프레임 간의 논리 연산을 사용하는 방법을 배웁니다."
   ]
  },
  {
   "cell_type": "markdown",
   "id": "e2e5a7eb-87ae-44e0-ae0c-0214a03b8526",
   "metadata": {
    "tags": []
   },
   "source": [
    "### 열, 인덱스가 같은 경우의 논리연산\n",
    "\n",
    "논리연산은 참, 거짓 두가지 값을 가지고 할 수 있는 연산들을 말합니다.  \n",
    "`and`, `or`, `not` 등이 포함됩니다.\n",
    "\n",
    "> **시리즈의 논리연산**\n",
    ">\n",
    "> - **and** : Series1 & Series2 \n",
    "> - **or** : Series1 | Series2\n",
    "> - **not** : ~Series1\n",
    "> - **xor** : Series1 ^ Series2  \n",
    " \n",
    "> **데이터프레임의 논리연산**\n",
    ">\n",
    "> - **and** : DataFrame1 & DataFrame2 \n",
    "> - **or** : DataFrame1 | DataFrame2\n",
    "> - **not** : ~DataFrame1\n",
    "> - **xor** : DataFrame1 ^ DataFrame2  \n",
    "\n",
    "<table>\n",
    "<tr>\n",
    "    <th><img src=\"https://tmn-bucket-materials-all.s3.ap-northeast-2.amazonaws.com/image/pandas/material_05-10.png\" width=\"700\"></th>\n",
    "</tr>\n",
    "<tr>\n",
    "    <th>시리즈간의 논리연산</th>\n",
    "</tr>\n",
    "</table>\n",
    "\n",
    "<table>\n",
    "<tr>\n",
    "    <th><img src=\"https://tmn-bucket-materials-all.s3.ap-northeast-2.amazonaws.com/image/pandas/material_05-11.png\" width=\"700\"></th>\n",
    "    </tr>\n",
    "<tr>\n",
    "    <th>데이터프레임간의 논리연산</th>\n",
    "</tr>\n",
    "</table>\n"
   ]
  },
  {
   "cell_type": "code",
   "execution_count": null,
   "id": "cbad8299-14d3-472b-943a-e09a5aae7191",
   "metadata": {},
   "outputs": [],
   "source": [
    "# 예제_1_크기와_인덱스가_같은_시리즈_사이의_논리연산\n",
    "\n",
    "import pandas as pd\n",
    "\n",
    "A = pd.Series([True,False,True,False])\n",
    "B = pd.Series([True,True,False,False])\n",
    "\n",
    "print('#'*30, f\"{'A':^15s}\" , '#' * 30, '\\n') # 출력되는 결과들을 분리해서 보여주기 위한 코드입니다.\n",
    "print(A)\n",
    "print('\\n','#'*30, f\"{'B':^15s}\" , '#' * 30, '\\n') # 출력되는 결과들을 분리해서 보여주기 위한 코드입니다.\n",
    "print(B)\n",
    "print('\\n','#'*30, f\"{'A & B':^15s}\" , '#' * 30, '\\n') # 출력되는 결과들을 분리해서 보여주기 위한 코드입니다.\n",
    "print(A&B)\n",
    "print('\\n','#'*30, f\"{'A | B':^15s}\" , '#' * 30, '\\n') # 출력되는 결과들을 분리해서 보여주기 위한 코드입니다.\n",
    "print(A|B)\n",
    "print('\\n','#'*30, f\"{'~A':^15s}\" , '#' * 30, '\\n') # 출력되는 결과들을 분리해서 보여주기 위한 코드입니다.\n",
    "print(~A)\n",
    "print('\\n','#'*30, f\"{'A ^ B':^15s}\" , '#' * 30, '\\n') # 출력되는 결과들을 분리해서 보여주기 위한 코드입니다.\n",
    "print(A^B)"
   ]
  },
  {
   "cell_type": "code",
   "execution_count": null,
   "id": "43807a1e-240c-421b-932b-328bb0309264",
   "metadata": {},
   "outputs": [],
   "source": [
    "# 예제_2_형태와_인덱스_열이_같은_데이터프레임_사이의_논리연산\n",
    "\n",
    "import pandas as pd\n",
    "\n",
    "A = pd.DataFrame([[True,False],[True,False]])\n",
    "B = pd.DataFrame([[True,True],[False,False]])\n",
    "\n",
    "print('#'*30, f\"{'A':^15s}\" , '#' * 30, '\\n') # 출력되는 결과들을 분리해서 보여주기 위한 코드입니다.\n",
    "print(A)\n",
    "print('\\n','#'*30, f\"{'B':^15s}\" , '#' * 30, '\\n') # 출력되는 결과들을 분리해서 보여주기 위한 코드입니다.\n",
    "print(B)\n",
    "print('\\n','#'*30, f\"{'A & B':^15s}\" , '#' * 30, '\\n') # 출력되는 결과들을 분리해서 보여주기 위한 코드입니다.\n",
    "print(A&B)\n",
    "print('\\n','#'*30, f\"{'A | B':^15s}\" , '#' * 30, '\\n') # 출력되는 결과들을 분리해서 보여주기 위한 코드입니다.\n",
    "print(A|B)\n",
    "print('\\n','#'*30, f\"{'~A':^15s}\" , '#' * 30, '\\n') # 출력되는 결과들을 분리해서 보여주기 위한 코드입니다.\n",
    "print(~A)\n",
    "print('\\n','#'*30, f\"{'A ^ B':^15s}\" , '#' * 30, '\\n') # 출력되는 결과들을 분리해서 보여주기 위한 코드입니다.\n",
    "print(A^B)"
   ]
  },
  {
   "cell_type": "markdown",
   "id": "a056b175-19b5-4ef4-b600-028bf9e1ce4e",
   "metadata": {
    "tags": []
   },
   "source": [
    "### 열, 인덱스가 다른 경우의 논리연산\n",
    "\n",
    "열, 인덱스가 다른 경우에도 마찬가지의 방법으로 논리연산을 할 수 있습니다.  \n",
    "시리즈, 데이터프레임 모두 같은 방식으로 연산이 가능합니다.  \n",
    "Pandas의 데이터 간 논리연산은 시리즈, 데이터프레임의 모양이 같다고 해서 같은 위치의 데이터끼리 연산되지는 않습니다.  \n",
    "이 때에는 같은 인덱스와 같은 열이름을 가진 데이터끼리 연산됩니다.\n",
    "\n",
    "> **✏️ 알아봅시다(NOTE): NaN은 어떻게 계산되나요?(논리연산)**\n",
    ">\n",
    "> NaN과의 논리 연산은 한가지 경우를 제외하고 모두 False를 결과로 내보냅니다.  \n",
    "> a | b 에서 a의 값이 True인 경우 유일하게 `True`를 결과로 내보냅니다.  \n",
    "> 이는 `or` 연산에서 or 앞에 나오는 변수가 True이면 뒤에 나오는 변수를 보지 않고 True를 반환하는 파이썬의 규칙 때문입니다.\n",
    "\n",
    "> **⚠️ 주의(WARNING):**\n",
    ">\n",
    "> 열, 인덱스가 다를 때 논리연산을 하게되면 두 데이터프레임을 같은 행과 열을 가지도록 NaN 값을 채워넣고 연산을 하게됩니다.  \n",
    "> 이에 따라  앞에서 언급한 NaN과의 논리연산 결과 값에 해당하는 값이 결과로 나오게됩니다.\n",
    "\n",
    "두 시리즈, 데이터프레임의 크기가 다른 경우에도 마찬가지로 인덱스와 열을 기반으로 연산됩니다. "
   ]
  },
  {
   "cell_type": "code",
   "execution_count": null,
   "id": "f47088d2-db4c-4ee3-a47e-0bd1accef4b5",
   "metadata": {},
   "outputs": [],
   "source": [
    "# 예제_3_크기는_같지만_인덱스가_다른_시리즈_사이의_논리연산\n",
    "\n",
    "import pandas as pd\n",
    "\n",
    "A = pd.Series([True,False,True,False], index = [0,1,2,3])\n",
    "B = pd.Series([True,True,False,False], index = [4,3,2,1])\n",
    "\n",
    "print('#'*30, f\"{'A':^15s}\" , '#' * 30, '\\n') # 출력되는 결과들을 분리해서 보여주기 위한 코드입니다.\n",
    "print(A)\n",
    "print('\\n','#'*30, f\"{'B':^15s}\" , '#' * 30, '\\n') # 출력되는 결과들을 분리해서 보여주기 위한 코드입니다.\n",
    "print(B)\n",
    "print('\\n','#'*30, f\"{'A & B':^15s}\" , '#' * 30, '\\n') # 출력되는 결과들을 분리해서 보여주기 위한 코드입니다.\n",
    "print(A&B)\n",
    "print('\\n','#'*30, f\"{'A | B':^15s}\" , '#' * 30, '\\n') # 출력되는 결과들을 분리해서 보여주기 위한 코드입니다.\n",
    "print(A|B)\n",
    "print('\\n','#'*30, f\"{'~A':^15s}\" , '#' * 30, '\\n') # 출력되는 결과들을 분리해서 보여주기 위한 코드입니다.\n",
    "print(~A)\n",
    "print('\\n','#'*30, f\"{'A ^ B':^15s}\" , '#' * 30, '\\n') # 출력되는 결과들을 분리해서 보여주기 위한 코드입니다.\n",
    "print(A^B)"
   ]
  },
  {
   "cell_type": "code",
   "execution_count": null,
   "id": "ff50c7d4-0067-4e58-8214-7d05a20f0952",
   "metadata": {},
   "outputs": [],
   "source": [
    "# 예제_4_형태는_같지만_인덱스_열이_다른_데이터프레임_사이의_논리연산\n",
    "\n",
    "import pandas as pd\n",
    "\n",
    "A = pd.DataFrame([[True,False],[True,False]], index = [0,1], columns = ['A','B'])\n",
    "B = pd.DataFrame([[True,True],[False,False]], index = [0,2], columns = ['A','C'])\n",
    "\n",
    "print('#'*30, f\"{'A':^15s}\" , '#' * 30, '\\n') # 출력되는 결과들을 분리해서 보여주기 위한 코드입니다.\n",
    "print(A)\n",
    "print('\\n','#'*30, f\"{'B':^15s}\" , '#' * 30, '\\n') # 출력되는 결과들을 분리해서 보여주기 위한 코드입니다.\n",
    "print(B)\n",
    "print('\\n','#'*30, f\"{'A & B':^15s}\" , '#' * 30, '\\n') # 출력되는 결과들을 분리해서 보여주기 위한 코드입니다.\n",
    "print(A&B)\n",
    "print('\\n','#'*30, f\"{'A | B':^15s}\" , '#' * 30, '\\n') # 출력되는 결과들을 분리해서 보여주기 위한 코드입니다.\n",
    "print(A|B)\n",
    "print('\\n','#'*30, f\"{'~A':^15s}\" , '#' * 30, '\\n') # 출력되는 결과들을 분리해서 보여주기 위한 코드입니다.\n",
    "print(~A)\n",
    "print('\\n','#'*30, f\"{'A ^ B':^15s}\" , '#' * 30, '\\n') # 출력되는 결과들을 분리해서 보여주기 위한 코드입니다.\n",
    "print(A^B)"
   ]
  },
  {
   "cell_type": "code",
   "execution_count": null,
   "id": "53c3bb9d-4464-42ef-81a4-a7bc914a724b",
   "metadata": {},
   "outputs": [],
   "source": [
    "# 예제_5_형태가_다른_데이터프레임_사이의_논리연산\n",
    "\n",
    "import pandas as pd\n",
    "\n",
    "A = pd.DataFrame([[True,False],[True,False],[True,False]])\n",
    "B = pd.DataFrame([[True,True,True],[False,False,False]])\n",
    "\n",
    "print('#'*30, f\"{'A':^15s}\" , '#' * 30, '\\n') # 출력되는 결과들을 분리해서 보여주기 위한 코드입니다.\n",
    "print(A)\n",
    "print('\\n','#'*30, f\"{'B':^15s}\" , '#' * 30, '\\n') # 출력되는 결과들을 분리해서 보여주기 위한 코드입니다.\n",
    "print(B)\n",
    "print('\\n','#'*30, f\"{'A & B':^15s}\" , '#' * 30, '\\n') # 출력되는 결과들을 분리해서 보여주기 위한 코드입니다.\n",
    "print(A&B)\n",
    "print('\\n','#'*30, f\"{'A | B':^15s}\" , '#' * 30, '\\n') # 출력되는 결과들을 분리해서 보여주기 위한 코드입니다.\n",
    "print(A|B)\n",
    "print('\\n','#'*30, f\"{'~A':^15s}\" , '#' * 30, '\\n') # 출력되는 결과들을 분리해서 보여주기 위한 코드입니다.\n",
    "print(~A)\n",
    "print('\\n','#'*30, f\"{'A ^ B':^15s}\" , '#' * 30, '\\n') # 출력되는 결과들을 분리해서 보여주기 위한 코드입니다.\n",
    "print(A^B)"
   ]
  },
  {
   "cell_type": "markdown",
   "id": "54e0a57c-0e3d-44c0-b885-48eaf9c251c3",
   "metadata": {},
   "source": [
    "### **💯 연습문제를 풀어봅시다**\n",
    "\n"
   ]
  },
  {
   "cell_type": "markdown",
   "id": "07e8e9f0-7b68-4b04-b6da-4bcf98be092d",
   "metadata": {
    "tags": []
   },
   "source": [
    "1. <a class=\"jcecodle-mk jcecodle-mk__problem-chip\" data-problem-id=\"FGg5iMJx6Yg\" href='#jce-judge/open/FGg5iMJx6Yg' target='_self'><span>판다스 기초 - 시리즈의 논리연산</span></a>\n",
    "\n",
    "2. <a class=\"jcecodle-mk jcecodle-mk__problem-chip\" data-problem-id=\"zfwI4RCE4C0\" href='#jce-judge/open/zfwI4RCE4C0' target='_self'><span>판다스 기초 - 시리즈의 비교연산과 논리연산</span></a>\n",
    "\n",
    "3. <a class=\"jcecodle-mk jcecodle-mk__problem-chip\" data-problem-id=\"Szt8scMA26c\" href='#jce-judge/open/Szt8scMA26c' target='_self'><span>판다스 기초 - 데이터 프레임의 논리연산</span></a>\n",
    "\n",
    "4. <a class=\"jcecodle-mk jcecodle-mk__problem-chip\" data-problem-id=\"pRVRIoK0ka4\" href='#jce-judge/open/pRVRIoK0ka4' target='_self'><span>판다스 기초 - 데이터 프레임의 비교연산과 논리연산</span></a>\n",
    "\n",
    "5. <a class=\"jcecodle-mk jcecodle-mk__problem-chip\" data-problem-id=\"sE5fWvumZ3M\" href='#jce-judge/open/sE5fWvumZ3M' target='_self'><span>판다스 기초 - 인덱스가 다른 경우의 논리연산(시리즈)</span></a>\n",
    "\n",
    "6. <a class=\"jcecodle-mk jcecodle-mk__problem-chip\" data-problem-id=\"VUZjN0dOmIA\" href='#jce-judge/open/VUZjN0dOmIA' target='_self'><span>판다스 기초 - 인덱스가 다른 경우의 논리연산(데이터 프레임)</span></a>\n"
   ]
  }
 ],
 "metadata": {
  "kernelspec": {
   "display_name": "Python 3 (ipykernel)",
   "language": "python",
   "name": "python3"
  },
  "language_info": {
   "codemirror_mode": {
    "name": "ipython",
    "version": 3
   },
   "file_extension": ".py",
   "mimetype": "text/x-python",
   "name": "python",
   "nbconvert_exporter": "python",
   "pygments_lexer": "ipython3",
   "version": "3.11.3"
  }
 },
 "nbformat": 4,
 "nbformat_minor": 5
}
