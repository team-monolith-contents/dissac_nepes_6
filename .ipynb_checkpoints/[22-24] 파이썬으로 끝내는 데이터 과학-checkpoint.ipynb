{
 "cells": [
  {
   "cell_type": "markdown",
   "id": "7a89a294-df29-431f-8b5a-22e72c1e81e2",
   "metadata": {
    "tags": []
   },
   "source": [
    "<div style=\"padding: 15px; border: 5px solid transparent; border-color: transparent; margin-bottom: 20px; border-radius: 4px; color: #3c763d; background-color: #dff0d8; border-color: #d6e9c6; font-weight: bold;\">\n",
    "    <br><br>\n",
    "    <div style=\"font-weight: bold; font-size: 40px\">파이썬으로 끝내는 데이터 과학</div>\n",
    "    <div style=\"font-weight: bold; font-size: 20px\">[22-24] 나만의 프로젝트</div>\n",
    "    <hr style=\"width:80%;text-align:left;margin-left:0;border:0.5px solid green\">\n",
    "    &#x2022; 데이터를 탐색하고 필요한 데이터를 찾을 수 있다.  <br>\n",
    "    &#x2022; 데이터를 분석할 수 있다. <br>\n",
    "    &#x2022; 데이터를 시각화할 수 있다.<br>\n",
    "    \n",
    "</div>"
   ]
  },
  {
   "cell_type": "markdown",
   "id": "c7cb8624-ff04-465f-bd8a-ea2eb258eb14",
   "metadata": {
    "deletable": false,
    "editable": false
   },
   "source": [
    "<div style=\"padding: 15px; border: 5px solid transparent; border-color: transparent; margin-bottom: 20px; border-radius: 4px; color: #3c763d; border-color: #d6e9c6; font-weight: bold;\">\n",
    "<h2 style='font-weight: bold'>1. 데이터 탐색하기</h2>\n",
    "</div> "
   ]
  },
  {
   "cell_type": "markdown",
   "id": "3f9a3927-43e9-485f-ab99-e1ff9987ae33",
   "metadata": {
    "deletable": false,
    "editable": false
   },
   "source": [
    "데이터를 분석하는 데에 가장 중요한 것 중 하나는 적절한 데이터를 선정하는 것입니다.  \n",
    "최근에는 여러 기업이나 정부기관에서 데이터를 공개하고 있기 때문에 데이터를 선정할 수 있는 폭이 넓습니다.  \n",
    "특히 [공공데이터포털](https://www.data.go.kr/index.do)에서는 정부기관에서 제공하는 다양한 데이터를 사용할 수 있습니다.   \n",
    "또는 [kaggle(캐글)](https://www.kaggle.com/datasets)이라는 온라인 커뮤니티에서 다양한 데이터를 활용할 수도 있습니다. \n",
    "\n",
    "> `read_csv()` 함수를 사용해 데이터를 읽어오고 `head()`, `trail()`, `info()` 함수등을 이용해 데이터를 관찰할 수 있습니다.\n",
    ">\n",
    "> 여러분이 쓸만한 데이터가 있나요??"
   ]
  },
  {
   "cell_type": "code",
   "execution_count": null,
   "id": "736c1401-a023-4455-bf95-b049336a5ff2",
   "metadata": {},
   "outputs": [],
   "source": [
    "#데이터를 관찰해봅시다."
   ]
  },
  {
   "cell_type": "markdown",
   "id": "d7279e57-024e-4655-a46d-91f9458408a5",
   "metadata": {
    "deletable": false,
    "editable": false
   },
   "source": [
    "<div style=\"padding: 15px; border: 5px solid transparent; border-color: transparent; margin-bottom: 20px; border-radius: 4px; color: #8a6d3b;  border-color: #faebcc; font-weight: bold;\">\n",
    "    <div style=\"font-weight: bold; font-size: 20px\">✏️ 생각해보기</div>\n",
    "    <br>\n",
    "어떤 데이터를 분석하면 좋을까요?  <br>\n",
    "여러분의 생각을 아래의 셀에 적어주세요.\n",
    "</div>"
   ]
  },
  {
   "cell_type": "raw",
   "id": "745d9ae1-fa90-44f9-b085-20a2eb91153a",
   "metadata": {},
   "source": [
    " 👉 \n",
    " 👉 "
   ]
  },
  {
   "cell_type": "markdown",
   "id": "83c28f48-adfd-4e99-98e6-c949c0c77149",
   "metadata": {
    "deletable": false,
    "editable": false
   },
   "source": [
    "분석하고자 하는 데이터를 찾았다면 파일을 불러와주세요."
   ]
  },
  {
   "cell_type": "code",
   "execution_count": 1,
   "id": "e6d64542-eb93-479f-a2d1-8346f254c644",
   "metadata": {
    "tags": []
   },
   "outputs": [],
   "source": [
    "# 데이터 불러오기"
   ]
  },
  {
   "cell_type": "markdown",
   "id": "98fb2a58-797e-4bbd-80ab-d6821930ffe7",
   "metadata": {
    "deletable": false,
    "editable": false
   },
   "source": [
    "<div style=\"padding: 15px; border: 5px solid transparent; border-color: transparent; margin-bottom: 20px; border-radius: 4px; color: #3c763d; border-color: #d6e9c6; font-weight: bold;\">\n",
    "<h2 style='font-weight: bold'>2. 데이터 분석하기</h2>\n",
    "</div> "
   ]
  },
  {
   "cell_type": "markdown",
   "id": "0359c35c-8d04-40e3-86e1-f2950f7c609c",
   "metadata": {
    "deletable": false,
    "editable": false
   },
   "source": [
    "데이터를 선정한 뒤에는 아이디어에 맞게 데이터를 분석해야 합니다.   \n",
    "데이터를 분석하기 위해서는 앞선 시간에서 배웠던 pandas의 여러가지 함수를 사용할 수 있습니다."
   ]
  },
  {
   "cell_type": "code",
   "execution_count": null,
   "id": "44c3db5d-ba8d-46c4-b69b-d0b61e01c29d",
   "metadata": {},
   "outputs": [],
   "source": [
    "# 데이터를 분석해봅시다. "
   ]
  },
  {
   "cell_type": "markdown",
   "id": "cbc8a280-730b-484e-aa8d-946c3cd88ddd",
   "metadata": {
    "deletable": false,
    "editable": false
   },
   "source": [
    "<div style=\"padding: 15px; border: 5px solid transparent; border-color: transparent; margin-bottom: 20px; border-radius: 4px; color: #8a6d3b;  border-color: #faebcc; font-weight: bold;\">\n",
    "    <div style=\"font-weight: bold; font-size: 20px\">✏️ 생각해보기</div>\n",
    "    <br>\n",
    "데이터에 어떠한 규칙이 보이나요?<br>\n",
    "데이터를 보고 어떤 사실을 알 수 있나요?\n",
    "</div>"
   ]
  },
  {
   "cell_type": "raw",
   "id": "60d30354-bd85-4160-bcc7-920115604cce",
   "metadata": {},
   "source": [
    " 👉 \n",
    " 👉 "
   ]
  },
  {
   "cell_type": "markdown",
   "id": "c5630da4-420b-41d2-8da4-a065b74a55f4",
   "metadata": {
    "deletable": false,
    "editable": false
   },
   "source": [
    "<div style=\"padding: 15px; border: 5px solid transparent; border-color: transparent; margin-bottom: 20px; border-radius: 4px; color: #3c763d; border-color: #d6e9c6; font-weight: bold;\">\n",
    "<h2 style='font-weight: bold'>3. 데이터 시각화</h2>\n",
    "</div> "
   ]
  },
  {
   "cell_type": "markdown",
   "id": "6b88dc97-99d1-43d2-b5b0-85c4b8118e98",
   "metadata": {
    "deletable": false,
    "editable": false
   },
   "source": [
    "데이터를 시각화하는 것도 데이터를 분석하는데 많이 사용하는 방법입니다.  \n",
    "데이터를 시각화함으로써 기존에 보이지 않던 규칙이나 패턴이 보이기도 합니다.  \n",
    "또한 데이터를 시각화하면 내가 보여주고 싶은 정보를 다른 사람들에게 더욱 효과적으로 보여줄 수 있습니다."
   ]
  },
  {
   "cell_type": "markdown",
   "id": "ff5b188e-8105-4d56-83a6-0c0cac7a6483",
   "metadata": {
    "deletable": false,
    "editable": false
   },
   "source": [
    "> 데이터를 적절한 그래프로 시각화해봅시다.  \n",
    "> 데이터를 시각화하기 위해서는 앞선 시간에 배웠던 matplotlib의 여러가지 함수들을 사용할 수 있습니다."
   ]
  },
  {
   "cell_type": "code",
   "execution_count": null,
   "id": "ac01113a-e650-43ad-a39f-fb0ab8401598",
   "metadata": {},
   "outputs": [],
   "source": [
    "# 데이터를 시각화해봅시다. "
   ]
  },
  {
   "cell_type": "markdown",
   "id": "bfd96acd-e775-4b06-b7d8-8f135ea9c519",
   "metadata": {
    "deletable": false,
    "editable": false
   },
   "source": [
    "<div style=\"padding: 15px; border: 5px solid transparent; border-color: transparent; margin-bottom: 20px; border-radius: 4px; color: #8a6d3b;  border-color: #faebcc; font-weight: bold;\">\n",
    "    <div style=\"font-weight: bold; font-size: 20px\">✏️ 생각해보기</div>\n",
    "    <br>\n",
    "시각화를 통해 새로운 패턴을 발견했나요?<br>\n",
    "어떠한 정보를 다른 사람들에게 보여주고 싶나요?\n",
    "</div>"
   ]
  },
  {
   "cell_type": "raw",
   "id": "bf50287d-c8f1-484d-9da1-4241d9365372",
   "metadata": {},
   "source": [
    " 👉 \n",
    " 👉 "
   ]
  },
  {
   "cell_type": "markdown",
   "id": "a06efbee-ed0d-40c4-930b-1260331f842c",
   "metadata": {
    "deletable": false,
    "editable": false
   },
   "source": [
    "<div style=\"padding: 15px; border: 5px solid transparent; border-color: transparent; margin-bottom: 20px; border-radius: 4px; color: #3c763d; border-color: #d6e9c6; font-weight: bold;\">\n",
    "<h2 style='font-weight: bold'>4. 마무리</h2>\n",
    "</div> "
   ]
  },
  {
   "cell_type": "markdown",
   "id": "deb42319-a26a-4fd6-989c-20455a1c42c1",
   "metadata": {
    "deletable": false,
    "editable": false
   },
   "source": [
    "<div style=\"padding: 15px; border: 5px solid transparent; border-color: transparent; margin-bottom: 20px; border-radius: 4px; color: #8a6d3b;  border-color: #faebcc; font-weight: bold;\">\n",
    "    <div style=\"font-weight: bold; font-size: 20px\">✏️ 생각해보기</div>\n",
    "    <br>\n",
    "이번 프로젝트를 통해 무엇을 알게되었나요??  <br>\n",
    "이번 프로젝트를 진행하면서 아쉬웠던 점은 무엇인가요??  <br>\n",
    "이번 프로젝트 이후에 더 탐구해보고 싶은 것이 있나요??  <br>\n",
    "</div>"
   ]
  },
  {
   "cell_type": "raw",
   "id": "f1927643-0478-4ae6-b49f-e85f2b4dba15",
   "metadata": {},
   "source": [
    " 👉 \n",
    " 👉 "
   ]
  }
 ],
 "metadata": {
  "kernelspec": {
   "display_name": "Python 3 (ipykernel)",
   "language": "python",
   "name": "python3"
  },
  "language_info": {
   "codemirror_mode": {
    "name": "ipython",
    "version": 3
   },
   "file_extension": ".py",
   "mimetype": "text/x-python",
   "name": "python",
   "nbconvert_exporter": "python",
   "pygments_lexer": "ipython3",
   "version": "3.11.3"
  },
  "read_only": true
 },
 "nbformat": 4,
 "nbformat_minor": 5
}
