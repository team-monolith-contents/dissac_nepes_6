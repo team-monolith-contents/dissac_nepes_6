{
 "cells": [
  {
   "cell_type": "markdown",
   "id": "12103214-1b03-43fd-82bf-7ec3db0021f0",
   "metadata": {
    "tags": []
   },
   "source": [
    "<div style=\"padding: 15px; border: 5px solid transparent; border-color: transparent; margin-bottom: 20px; border-radius: 4px; color: #3c763d; background-color: #dff0d8; border-color: #d6e9c6; font-weight: bold;\">\n",
    "    <br><br>\n",
    "    <div style=\"font-weight: bold; font-size: 40px\">파이썬으로 끝내는 데이터 과학</div>\n",
    "    <div style=\"font-weight: bold; font-size: 20px\">[12] Pandas를 이용한 데이터 분석-4</div>\n",
    "    <hr style=\"width:80%;text-align:left;margin-left:0;border:0.5px solid green\">\n",
    "    <br>\n",
    "    &#x2022; Pandas를 사용해 차원이 다른 데이터 사이의 연산을 가능하게 하는 브로드캐스팅의 원리를 알아봅시다.<br>\n",
    "    &#x2022; 시리즈와 값, 데이터프레임과 값, 데이터프레임과 시리즈의 산술연산, 비교연산, 산술연산을 할 수 있습니다.<br>\n",
    "    &#x2022; Pandas를 사용해 시리즈, 데이터프레임의 각 데이터를 반올림 해봅시다.<br>\n",
    "    &#x2022; Pandas를 사용해 시리즈, 데이터프레임의 각 데이터의 절댓값을 구해봅시다.<br>\n",
    "    &#x2022; Pandas를 사용해 시리즈, 데이터프레임의 데이터들이 주어진 목록에 포함되어 있는지 알아봅시다.<br>\n",
    "    &#x2022; Pandas를 사용해 시리즈, 데이터프레임 안의 각 데이터들의 크기 순서를 매겨봅시다.<br>\n",
    "    \n",
    "</div>"
   ]
  },
  {
   "cell_type": "markdown",
   "id": "3db59225-37cb-4476-a0a5-d1680e7b2c15",
   "metadata": {
    "jp-MarkdownHeadingCollapsed": true,
    "tags": []
   },
   "source": [
    "<div style=\"padding: 15px; border: 5px solid transparent; border-color: transparent; margin-bottom: 20px; border-radius: 4px; color: #3c763d; border-color: #d6e9c6; font-weight: bold;\">\n",
    "<h2 style='font-weight: bold'>1. 브로드캐스팅</h2>\n",
    "</div> "
   ]
  },
  {
   "cell_type": "markdown",
   "id": "16f8b340-b21a-465b-bc2b-80df6e45f50c",
   "metadata": {
    "jp-MarkdownHeadingCollapsed": true,
    "tags": []
   },
   "source": [
    "차원이 다른 두 데이터를 연산할 때에는 **브로드캐스팅**이 적용됩니다.  \n",
    "브로드캐스팅은 작은 차원의 데이터를 큰 차원의 데이터와 연산할 수 있도록 적절한 형태로 바꾼 뒤 연산이 되는 것을 말합니다."
   ]
  },
  {
   "cell_type": "markdown",
   "id": "15f54ce5-40c5-4bb0-bf6b-72d7ac406b49",
   "metadata": {
    "tags": []
   },
   "source": [
    "### 시리즈, 데이터프레임과 값 사이의 연산\n",
    "\n",
    "특정 값과 시리즈를 연산(사칙연산, 비교연산, 논리연산)하게 되면 특정 값을 시리즈와 같은 형태이고 모든 데이터가 특정 값으로 채워진 시리즈로 바꿔서 연산하게 됩니다.\n",
    "\n",
    "<table>\n",
    "<tr>\n",
    "    <th><img src=\"https://tmn-bucket-materials-all.s3.ap-northeast-2.amazonaws.com/image/pandas/material_05-13.png\" width=\"700\"></th>\n",
    "    </tr>\n",
    "<tr>\n",
    "    <th>시리즈와 값 사이의 연산</th>\n",
    "</tr>\n",
    "</table>\n",
    "\n",
    "특정 값과 데이터프레임을 연산(사칙연산, 비교연산, 논리연산)하게 되면 특정 값을 데이터프레임과 같은 형태이고 모든 데이터가 특정 값으로 채워진 데이터프레임으로 바꿔서 연산하게 됩니다.\n",
    "\n",
    "<table>\n",
    "<tr>\n",
    "    <th><img src=\"https://tmn-bucket-materials-all.s3.ap-northeast-2.amazonaws.com/image/pandas/material_05-14.png\" width=\"700\"></th>\n",
    "    </tr>\n",
    "<tr>\n",
    "    <th>데이터프레임과 값 사이의 연산</th>\n",
    "</tr>\n",
    "</table>"
   ]
  },
  {
   "cell_type": "code",
   "execution_count": null,
   "id": "afa543ec-c182-4b61-b598-db551c78b62b",
   "metadata": {},
   "outputs": [],
   "source": [
    "# 예제_1_시리즈와_값_사이의_연산\n",
    "\n",
    "import pandas as pd\n",
    "\n",
    "A = pd.Series([1,2,3])\n",
    "B = pd.Series(['사과','바나나','딸기'])\n",
    "C = pd.Series([True,False])\n",
    "\n",
    "print('#'*30, f\"{'A':^15s}\" , '#' * 30, '\\n') # 출력되는 결과들을 분리해서 보여주기 위한 코드입니다.\n",
    "print(A)\n",
    "print('\\n','#'*30, f\"{'B':^15s}\" , '#' * 30, '\\n') # 출력되는 결과들을 분리해서 보여주기 위한 코드입니다.\n",
    "print(B)\n",
    "print('\\n','#'*30, f\"{'C':^15s}\" , '#' * 30, '\\n') # 출력되는 결과들을 분리해서 보여주기 위한 코드입니다.\n",
    "print(C)\n",
    "print('\\n','#'*30, f\"{'A + 1':^15s}\" , '#' * 30, '\\n') # 출력되는 결과들을 분리해서 보여주기 위한 코드입니다.\n",
    "print(A+1)\n",
    "print('\\n','#'*30, \"{:^15s}\".format('B == \"사과\"') , '#' * 30, '\\n') # 출력되는 결과들을 분리해서 보여주기 위한 코드입니다.\n",
    "print(B== \"사과\")\n",
    "print('\\n','#'*30, f\"{'~C':^15s}\" , '#' * 30, '\\n') # 출력되는 결과들을 분리해서 보여주기 위한 코드입니다.\n",
    "print(~C)"
   ]
  },
  {
   "cell_type": "code",
   "execution_count": null,
   "id": "fa105ba1-455c-4231-8e98-08eff7ff0ae7",
   "metadata": {},
   "outputs": [],
   "source": [
    "# 예제_2_데이터프레임과_값_사이의_연산\n",
    "\n",
    "import pandas as pd\n",
    "\n",
    "A = pd.DataFrame([[1,2,3],[4,5,6]])\n",
    "B = pd.DataFrame([['사과','바나나'],['딸기','귤']])\n",
    "C = pd.DataFrame([[True,False],[False,True]])\n",
    "\n",
    "print('#'*30, f\"{'A':^15s}\" , '#' * 30, '\\n') # 출력되는 결과들을 분리해서 보여주기 위한 코드입니다.\n",
    "print(A)\n",
    "print('\\n','#'*30, f\"{'B':^15s}\" , '#' * 30, '\\n') # 출력되는 결과들을 분리해서 보여주기 위한 코드입니다.\n",
    "print(B)\n",
    "print('\\n','#'*30, f\"{'C':^15s}\" , '#' * 30, '\\n') # 출력되는 결과들을 분리해서 보여주기 위한 코드입니다.\n",
    "print(C)\n",
    "print('\\n','#'*30, f\"{'A + 1':^15s}\" , '#' * 30, '\\n') # 출력되는 결과들을 분리해서 보여주기 위한 코드입니다.\n",
    "print(A+1)\n",
    "print('\\n','#'*30, \"{:^15s}\".format('B == \"사과\"') , '#' * 30, '\\n') # 출력되는 결과들을 분리해서 보여주기 위한 코드입니다.\n",
    "print(B== \"사과\")\n",
    "print('\\n','#'*30, f\"{'~C':^15s}\" , '#' * 30, '\\n') # 출력되는 결과들을 분리해서 보여주기 위한 코드입니다.\n",
    "print(~C)"
   ]
  },
  {
   "cell_type": "markdown",
   "id": "c0a79b7d-6fa4-419c-87de-fa6d3d23c9dd",
   "metadata": {
    "tags": []
   },
   "source": [
    "### 시리즈와 데이터프레임 사이의 연산\n",
    "\n",
    "시리즈와 데이터프레임의 연산도 시리즈와 값, 데이터프레임과 값의 연산과 마찬가지로 이루어집니다.  \n",
    "두 데이터가 연산될 때 시리즈를 하나의 행으로 하여 데이터프레임의 행의 수와 동일한 행의 수를 가지는 시리즈를 만든 뒤 연산합니다.\n",
    "\n",
    "<table>\n",
    "<tr>\n",
    "    <th><img src=\"https://tmn-bucket-materials-all.s3.ap-northeast-2.amazonaws.com/image/pandas/material_05-15.png\" width=\"700\"></th>\n",
    "    </tr>\n",
    "<tr>\n",
    "    <th>데이터프레임과 시리즈 사이의 연산</th>\n",
    "</tr>\n",
    "</table>\n",
    "\n",
    "> **⚠️ 주의(WARNING):**\n",
    ">\n",
    "> 시리즈를 데이터프레임과 같은 행의 수를 가지는 데이터프레임으로 바꾼 뒤 연산을 진행하기 때문에 이 때의 연산은 데이터프레임의 연산 규칙을 따르게 됩니다.\n",
    "\n",
    "> **⚠️ 주의(WARNING):**\n",
    ">\n",
    "> 브로드캐스팅을 적용하게 되면 데이터프레임간의 비교연산과는 다르게 시리즈에서 만들어진 데이터프레임과 연산하는 데이터프레임의 열이 다르더라도 오류가 발생하지 않습니다."
   ]
  },
  {
   "cell_type": "code",
   "execution_count": null,
   "id": "3b2dc784-beca-4a72-a2e9-dbe36a338fa2",
   "metadata": {},
   "outputs": [],
   "source": [
    "# 예제_3_인덱스가_같은_데이터프레임과_시리즈_사이의_연산\n",
    "\n",
    "import pandas as pd\n",
    "\n",
    "Series_A = pd.Series([1,2,3])\n",
    "Series_B = pd.Series(['사과','바나나'])\n",
    "Series_C = pd.Series([True,False])\n",
    "\n",
    "DataFrame_A = pd.DataFrame([[1,2,3],[4,5,6]])\n",
    "DataFrame_B = pd.DataFrame([['사과','바나나'],['딸기','귤']])\n",
    "DataFrame_C = pd.DataFrame([[True,False],[False,True]])\n",
    "\n",
    "print('#'*30, f\"{'Series_A':^15s}\" , '#' * 30, '\\n') # 출력되는 결과들을 분리해서 보여주기 위한 코드입니다.\n",
    "print(Series_A)\n",
    "print('\\n','#'*30, f\"{'Series_B':^15s}\" , '#' * 30, '\\n') # 출력되는 결과들을 분리해서 보여주기 위한 코드입니다.\n",
    "print(Series_B)\n",
    "print('\\n','#'*30, f\"{'Series_C':^15s}\" , '#' * 30, '\\n') # 출력되는 결과들을 분리해서 보여주기 위한 코드입니다.\n",
    "print(Series_C)\n",
    "print('#'*30, f\"{'DataFrame_A':^15s}\" , '#' * 30, '\\n') # 출력되는 결과들을 분리해서 보여주기 위한 코드입니다.\n",
    "print(DataFrame_A)\n",
    "print('\\n','#'*30, f\"{'DataFrame_B':^15s}\" , '#' * 30, '\\n') # 출력되는 결과들을 분리해서 보여주기 위한 코드입니다.\n",
    "print(DataFrame_B)\n",
    "print('\\n','#'*30, f\"{'DataFrame_C':^15s}\" , '#' * 30, '\\n') # 출력되는 결과들을 분리해서 보여주기 위한 코드입니다.\n",
    "print(DataFrame_C)\n",
    "print('\\n','#'*30, f\"{'DataFrame_A + Series_A':^15s}\" , '#' * 30, '\\n') # 출력되는 결과들을 분리해서 보여주기 위한 코드입니다.\n",
    "print(DataFrame_A + Series_A)\n",
    "print('\\n','#'*30, \"{:^15s}\".format('DataFrame_B == Series_B') , '#' * 30, '\\n') # 출력되는 결과들을 분리해서 보여주기 위한 코드입니다.\n",
    "print(DataFrame_B == Series_B)\n",
    "print('\\n','#'*30, f\"{'DataFrame_C & Series_C':^15s}\" , '#' * 30, '\\n') # 출력되는 결과들을 분리해서 보여주기 위한 코드입니다.\n",
    "print(DataFrame_C & Series_C)"
   ]
  },
  {
   "cell_type": "code",
   "execution_count": null,
   "id": "6328d34c-1099-4e0d-a078-be13574d3bfc",
   "metadata": {},
   "outputs": [],
   "source": [
    "# 예제_4_인덱스가_다른_데이터프레임과_시리즈_사이의_연산\n",
    "\n",
    "import pandas as pd\n",
    "\n",
    "Series_A = pd.Series([1,2,3])\n",
    "DataFrame_A = pd.DataFrame([[1,2],[4,5]])\n",
    "\n",
    "\n",
    "print('#'*30, f\"{'Series_A':^15s}\" , '#' * 30, '\\n') # 출력되는 결과들을 분리해서 보여주기 위한 코드입니다.\n",
    "print(Series_A)\n",
    "print('#'*30, f\"{'DataFrame_A':^15s}\" , '#' * 30, '\\n') # 출력되는 결과들을 분리해서 보여주기 위한 코드입니다.\n",
    "print(DataFrame_A)\n",
    "print('\\n','#'*30, f\"{'DataFrame_A + Series_A':^15s}\" , '#' * 30, '\\n') # 출력되는 결과들을 분리해서 보여주기 위한 코드입니다.\n",
    "print(DataFrame_A + Series_A)"
   ]
  },
  {
   "cell_type": "markdown",
   "id": "b5e2dd9e-7266-417e-8c0f-1d8b2f5aa04b",
   "metadata": {},
   "source": [
    "### **💯 연습문제를 풀어봅시다**\n",
    "\n"
   ]
  },
  {
   "cell_type": "markdown",
   "id": "60ae2b52-3d19-470e-8d63-e7fc2fd00dbe",
   "metadata": {
    "tags": []
   },
   "source": [
    "1. <a class=\"jcecodle-mk jcecodle-mk__problem-chip\" data-problem-id=\"fN-_o4Wr-XQ\" href='#jce-judge/open/fN-_o4Wr-XQ' target='_self'><span>판다스 - 브로드캐스팅 - 시리즈와 값(산술연산)</span></a>\n",
    "\n",
    "2. <a class=\"jcecodle-mk jcecodle-mk__problem-chip\" data-problem-id=\"Lr_sJqEW50w\" href='#jce-judge/open/Lr_sJqEW50w' target='_self'><span>판다스 - 브로드캐스팅 - 시리즈와 값(비교연산)</span></a>\n",
    "\n",
    "3. <a class=\"jcecodle-mk jcecodle-mk__problem-chip\" data-problem-id=\"KU0wjRqH9MM\" href='#jce-judge/open/KU0wjRqH9MM' target='_self'><span>판다스 - 브로드캐스팅 - 시리즈와 값(논리연산)</span></a>\n",
    "\n",
    "4. <a class=\"jcecodle-mk jcecodle-mk__problem-chip\" data-problem-id=\"EJ0tvCSP3-A\" href='#jce-judge/open/EJ0tvCSP3-A' target='_self'><span>판다스 - 브로드캐스팅 - 데이터 프레임과 값(산술연산)</span></a>\n",
    "\n",
    "5. <a class=\"jcecodle-mk jcecodle-mk__problem-chip\" data-problem-id=\"jdVgRsgMBRQ\" href='#jce-judge/open/jdVgRsgMBRQ' target='_self'><span>판다스 - 브로드캐스팅 - 데이터 프레임과 값(비교연산)</span></a>\n",
    "\n",
    "6. <a class=\"jcecodle-mk jcecodle-mk__problem-chip\" data-problem-id=\"VEisoCfy4hg\" href='#jce-judge/open/VEisoCfy4hg' target='_self'><span>판다스 - 브로드캐스팅 - 데이터 프레임과 값(논리연산)</span></a>\n",
    "\n",
    "7. <a class=\"jcecodle-mk jcecodle-mk__problem-chip\" data-problem-id=\"cv3xMiMn6eg\" href='#jce-judge/open/cv3xMiMn6eg' target='_self'><span>판다스 - 브로드캐스팅 - 시리즈와 데이터 프레임 (1)</span></a>\n",
    "\n",
    "8. <a class=\"jcecodle-mk jcecodle-mk__problem-chip\" data-problem-id=\"r7tsm7Z4dPo\" href='#jce-judge/open/r7tsm7Z4dPo' target='_self'><span>판다스 - 브로드캐스팅 - 시리즈와 데이터 프레임 (2)</span></a>\n",
    "\n"
   ]
  },
  {
   "cell_type": "markdown",
   "id": "fdc8b176-1c5d-4114-9660-7702913eb400",
   "metadata": {
    "jp-MarkdownHeadingCollapsed": true,
    "tags": []
   },
   "source": [
    "<div style=\"padding: 15px; border: 5px solid transparent; border-color: transparent; margin-bottom: 20px; border-radius: 4px; color: #3c763d; border-color: #d6e9c6; font-weight: bold;\">\n",
    "<h2 style='font-weight: bold'>2. 데이터의 어림값 구하기</h2>\n",
    "</div> "
   ]
  },
  {
   "cell_type": "markdown",
   "id": "1dd71e04-d6b9-4910-91f9-1056613d77ca",
   "metadata": {
    "tags": []
   },
   "source": [
    "데이터가 정수 또는 실수로 이루어져 있을 때 `round()` 함수를 이용해 간단하게 반올림 할 수 있습니다.\n",
    "\n",
    "> **🔨 함수(FUNCTIONS):**\n",
    ">\n",
    "> **`Series.round(decimals = 정수)`**  \n",
    "> 시리즈의 각각의 데이터들을 반올림하여 소숫점 아래 매개변수로 받은 `정수` 번째 자리까지 나타냅니다.\n",
    ">> **매개변수(parameter)**\n",
    ">>\n",
    ">> **`decimals`** : 정수 형태로 전달됩니다.   \n",
    "> 매개변수가 0보다 작을 경우(-n)에는 반올림하여 n+1 번째 자리 까지 나타냅니다.  \n",
    "> 예를들어 decimals = -2인 경우 4393.1234 -> 4400.0이 됩니다.  \n",
    "> 기본값은 0입니다.\n",
    "> ---\n",
    "> **`DataFrame.round(decimals = 정수)`**  \n",
    "> 데이터프레임의 각각의 데이터들을 반올림하여 소숫점 아래 매개변수로 받은 `정수` 번째 자리까지 나타냅니다.\n",
    ">> **매개변수(parameter)**\n",
    ">>\n",
    ">> **`decimals`** : 정수 형태로 전달됩니다.   \n",
    "> 매개변수가 0보다 작을 경우(-n)에는 반올림하여 n+1 번째 자리 까지 나타냅니다.  \n",
    "> 예를들어 decimals = -2인 경우 4393.1234 -> 4400.0이 됩니다.  \n",
    "> 기본값은 0입니다.\n",
    "\n"
   ]
  },
  {
   "cell_type": "markdown",
   "id": "f3e7186d-b217-4945-af0f-0501322e1d12",
   "metadata": {},
   "source": [
    "### round() 함수로 데이터 반올림하기\n",
    "\n",
    "`round()` 함수를 사용하면 데이터를 반올림 할 수 있습니다.  \n",
    "매개변수를 주어 어디에서 반올림 할 지 정할 수 있습니다.  \n",
    "\n",
    "<table>\n",
    "<tr>\n",
    "    <th><img src=\"https://tmn-bucket-materials-all.s3.ap-northeast-2.amazonaws.com/image/pandas/material_05-17.png\" width=\"700\"></th>\n",
    "    </tr>\n",
    "<tr>\n",
    "    <th>round() 함수를 이용한 반올림</th>\n",
    "</tr>\n",
    "</table>"
   ]
  },
  {
   "cell_type": "code",
   "execution_count": null,
   "id": "7973c71d-78de-46ad-bf92-f9f880b60590",
   "metadata": {
    "tags": []
   },
   "outputs": [],
   "source": [
    "# 예제_1_시리즈의_데이터_반올림\n",
    "\n",
    "import pandas as pd\n",
    "\n",
    "A = pd.Series([12.34,56.78, 123, 1234.5678, 1.2, 400])\n",
    "\n",
    "print('#'*30, f\"{'A':^15s}\" , '#' * 30, '\\n') # 출력되는 결과들을 분리해서 보여주기 위한 코드입니다.\n",
    "print(A)\n",
    "print('#'*30, f\"{'A.round(-1)':^15s}\" , '#' * 30, '\\n') # 출력되는 결과들을 분리해서 보여주기 위한 코드입니다.\n",
    "print(A.round(-1))\n",
    "print('\\n','#'*30, f\"{'A.round(2)':^15s}\" , '#' * 30, '\\n') # 출력되는 결과들을 분리해서 보여주기 위한 코드입니다.\n",
    "print(A.round(2))"
   ]
  },
  {
   "cell_type": "code",
   "execution_count": null,
   "id": "765aa6fa-3dfc-45e2-a1ce-3f9f4b84cebe",
   "metadata": {
    "tags": []
   },
   "outputs": [],
   "source": [
    "# 예제_2_데이터프레임의_데이터_반올림\n",
    "\n",
    "import pandas as pd\n",
    "\n",
    "A = pd.DataFrame([[12.34,1234.5678],[56.78,1.2], [123,400]])\n",
    "\n",
    "print('#'*30, f\"{'A':^15s}\" , '#' * 30, '\\n') # 출력되는 결과들을 분리해서 보여주기 위한 코드입니다.\n",
    "print(A)\n",
    "print('#'*30, f\"{'A.round(-1)':^15s}\" , '#' * 30, '\\n') # 출력되는 결과들을 분리해서 보여주기 위한 코드입니다.\n",
    "print(A.round(-1))\n",
    "print('\\n','#'*30, f\"{'A.round(2)':^15s}\" , '#' * 30, '\\n') # 출력되는 결과들을 분리해서 보여주기 위한 코드입니다.\n",
    "print(A.round(2))"
   ]
  },
  {
   "cell_type": "markdown",
   "id": "1f59cdb0-243d-4086-9660-5ba58dd9f88a",
   "metadata": {},
   "source": [
    "### **💯 연습문제를 풀어봅시다**\n",
    "\n"
   ]
  },
  {
   "cell_type": "markdown",
   "id": "812987ad-cd6c-4461-a4c9-5884ba85c952",
   "metadata": {
    "tags": []
   },
   "source": [
    "1. <a class=\"jcecodle-mk jcecodle-mk__problem-chip\" data-problem-id=\"6UgfuWGCLOc\" href='#jce-judge/open/6UgfuWGCLOc' target='_self'><span>판다스 - 데이터 연산하기 - round</span></a>\n",
    "\n",
    "3. <a class=\"jcecodle-mk jcecodle-mk__problem-chip\" data-problem-id=\"F9252q3fdLs\" href='#jce-judge/open/F9252q3fdLs' target='_self'><span>판다스 - 데이터 연산하기 - round (2)</span></a>\n",
    "\n",
    "4. <a class=\"jcecodle-mk jcecodle-mk__problem-chip\" data-problem-id=\"QaAWWcHevyw\" href='#jce-judge/open/QaAWWcHevyw' target='_self'><span>판다스 - 데이터 연산하기 - round (3)</span></a>\n",
    "\n",
    "\n",
    "4. <a class=\"jcecodle-mk jcecodle-mk__problem-chip\" data-problem-id=\"kCB3klhNQuU\" href='#jce-judge/open/kCB3klhNQuU' target='_self'><span>성적 평균 반올림</span></a>\n"
   ]
  },
  {
   "cell_type": "markdown",
   "id": "2be25963-50fe-4540-a3f7-c4aa6c7ced1b",
   "metadata": {
    "jp-MarkdownHeadingCollapsed": true,
    "tags": []
   },
   "source": [
    "<div style=\"padding: 15px; border: 5px solid transparent; border-color: transparent; margin-bottom: 20px; border-radius: 4px; color: #3c763d; border-color: #d6e9c6; font-weight: bold;\">\n",
    "<h2 style='font-weight: bold'>3. 데이터의 절댓값 구하기</h2>\n",
    "</div> "
   ]
  },
  {
   "cell_type": "markdown",
   "id": "caf21fd8-0237-4538-8d60-7acf3131c572",
   "metadata": {
    "tags": []
   },
   "source": [
    "데이터의 절댓값을 구하고 싶을 때에는 `abs()` 함수를 사용할 수 있습니다.\n",
    "\n",
    "> **🔨 함수(FUNCTIONS):**\n",
    ">\n",
    "> **`Series.abs()`**  \n",
    "> 시리즈의 데이터들의 절댓값을 시리즈로 반환합니다.  \n",
    "> 반환하는 시리즈의 크기는 함수를 적용하는 시리즈와 같습니다.\n",
    "> ---\n",
    "> **`DataFrame.abs()`**  \n",
    "> 데이터프레임의 데이터들의 절댓값을 데이터프레임으로 반환합니다.  \n",
    "> 반환하는 데이터프레임의 형태는 함수를 적용하는 데이터프레임과 같습니다.\n",
    "> ---\n",
    "\n"
   ]
  },
  {
   "cell_type": "markdown",
   "id": "6f0c40e6-4627-458c-8e20-1d4e900e42c6",
   "metadata": {},
   "source": [
    "### abs()로 데이터의 절댓값을 계산합니다.\n",
    "\n",
    "`abs()` 함수를 사용하면 데이터의 절댓값을 구할 수 있습니다.  \n",
    "\n",
    "<table>\n",
    "<tr>\n",
    "    <th><img src=\"https://tmn-bucket-materials-all.s3.ap-northeast-2.amazonaws.com/image/pandas/material_05-20.png\" width=\"700\"></th>\n",
    "    </tr>\n",
    "<tr>\n",
    "    <th>abs() 함수를 이용한 절대값 구하기</th>\n",
    "</tr>\n",
    "</table>"
   ]
  },
  {
   "cell_type": "code",
   "execution_count": null,
   "id": "0f5c4bf8-d7bf-4218-87fd-6f31740edf79",
   "metadata": {
    "tags": []
   },
   "outputs": [],
   "source": [
    "# 예제_1_시리즈의_데이터_절댓값\n",
    "\n",
    "import pandas as pd\n",
    "\n",
    "A = pd.Series([-1,0,1,-3,2,-2])\n",
    "\n",
    "print('#'*30, f\"{'A':^15s}\" , '#' * 30, '\\n') # 출력되는 결과들을 분리해서 보여주기 위한 코드입니다.\n",
    "print(A)\n",
    "print('#'*30, f\"{'A.abs()':^15s}\" , '#' * 30, '\\n') # 출력되는 결과들을 분리해서 보여주기 위한 코드입니다.\n",
    "print(A.abs())"
   ]
  },
  {
   "cell_type": "code",
   "execution_count": null,
   "id": "0a3d22be-d4a8-412d-87ff-3d7351ca2500",
   "metadata": {
    "tags": []
   },
   "outputs": [],
   "source": [
    "# 예제_2_데이터프레임의_데이터_절댓값\n",
    "\n",
    "import pandas as pd\n",
    "\n",
    "A = pd.DataFrame([[-1,-3],[0,2], [1,-2]])\n",
    "\n",
    "print('#'*30, f\"{'A':^15s}\" , '#' * 30, '\\n') # 출력되는 결과들을 분리해서 보여주기 위한 코드입니다.\n",
    "print(A)\n",
    "print('#'*30, f\"{'A.abs()':^15s}\" , '#' * 30, '\\n') # 출력되는 결과들을 분리해서 보여주기 위한 코드입니다.\n",
    "print(A.abs())"
   ]
  },
  {
   "cell_type": "markdown",
   "id": "ca51f7ac-6b60-4e35-9498-2ae874ad8905",
   "metadata": {},
   "source": [
    "### **💯 연습문제를 풀어봅시다**\n",
    "\n"
   ]
  },
  {
   "cell_type": "markdown",
   "id": "d6744f0d-144e-48c1-96ca-6d7e5f3a7de3",
   "metadata": {
    "tags": []
   },
   "source": [
    "1. <a class=\"jcecodle-mk jcecodle-mk__problem-chip\" data-problem-id=\"igEUbY7Tfwc\" href='#jce-judge/open/igEUbY7Tfwc' target='_self'><span>판다스 - 데이터 연산하기 - abs</span></a>\n",
    "\n",
    "2. <a class=\"jcecodle-mk jcecodle-mk__problem-chip\" data-problem-id=\"OtAL67kKFJc\" href='#jce-judge/open/OtAL67kKFJc' target='_self'><span>사업실적 절댓값 (1)</span></a>\n",
    "\n",
    "3. <a class=\"jcecodle-mk jcecodle-mk__problem-chip\" data-problem-id=\"PYcUHf3BssQ\" href='#jce-judge/open/PYcUHf3BssQ' target='_self'><span>사업실적 절댓값 (2)</span></a>"
   ]
  },
  {
   "cell_type": "markdown",
   "id": "7448b0d4-73c4-4117-b28a-27f966bc7342",
   "metadata": {
    "jp-MarkdownHeadingCollapsed": true,
    "tags": []
   },
   "source": [
    "<div style=\"padding: 15px; border: 5px solid transparent; border-color: transparent; margin-bottom: 20px; border-radius: 4px; color: #3c763d; border-color: #d6e9c6; font-weight: bold;\">\n",
    "<h2 style='font-weight: bold'>4. 데이터의 포함관계 알아보기</h2>\n",
    "</div> "
   ]
  },
  {
   "cell_type": "markdown",
   "id": "788d83a9-6d74-4ff2-b93e-666b7652a28d",
   "metadata": {
    "tags": []
   },
   "source": [
    "데이터가 특정 목록에 포함되는 지를 `isin()` 함수를 이용해 간단하게 알아볼 수 있습니다.\n",
    "\n",
    "> **🔨 함수(FUNCTIONS):**\n",
    ">\n",
    "> **`Series.isin(values = 리스트)`**  \n",
    "> 시리즈의 각각의 데이터들이 매개변수로 받은 `리스트`에 포함되어 있는 지 여부를 True/False로 반환합니다.\n",
    ">> **매개변수(parameter)**\n",
    ">>\n",
    ">> **`values`** : 리스트 형태로 전달됩니다.   \n",
    "> 각 데이터가 매개변수로 받은 리스트에 포함되어 있을 경우 `True`, 포함되지 않을 경우 `False`로 데이터를 채워 반환합니다.\n",
    "> 반환되는 시리즈의 모양은 함수를 사용하는 시리즈와 동일합니다.  \n",
    "> ---\n",
    "> **`DataFrame.isin(values = 리스트)`**  \n",
    "> 데이터프레임의 각각의 데이터들이 매개변수로 받은 `리스트`에 포함되어 있는 지 여부를 True/False로 반환합니다.\n",
    ">> **매개변수(parameter)**\n",
    ">>\n",
    ">> **`values`** : 리스트 형태로 전달됩니다.   \n",
    "> 각 데이터가 매개변수로 받은 리스트에 포함되어 있을 경우 `True`, 포함되지 않을 경우 `False`로 데이터를 채워 반환합니다.  \n",
    "> 반환되는 데이터프레임의 모양은 함수를 사용하는 데이터프레임와 동일합니다.  \n",
    "\n"
   ]
  },
  {
   "cell_type": "markdown",
   "id": "fdceb228-b66c-4839-a08b-75e09817ce5e",
   "metadata": {
    "tags": []
   },
   "source": [
    "### isin() 함수로 데이터의 포함 여부 확인하기\n",
    "\n",
    "`isin()` 함수를 사용하면 데이터의 포함 여부를 확인할 수 있습니다.  \n",
    "매개변수로 포함여부를 판단할 목록을 주어야 합니다.\n",
    "\n",
    "<table>\n",
    "<tr>\n",
    "    <th><img src=\"https://tmn-bucket-materials-all.s3.ap-northeast-2.amazonaws.com/image/pandas/material_05-18.png\" width=\"700\"></th>\n",
    "    </tr>\n",
    "<tr>\n",
    "    <th>isin() 함수를 이용한 데이터의 포함 여부 확인</th>\n",
    "</tr>\n",
    "</table>"
   ]
  },
  {
   "cell_type": "code",
   "execution_count": null,
   "id": "16c8aa9e-b81f-4028-9786-353934d6abb1",
   "metadata": {
    "tags": []
   },
   "outputs": [],
   "source": [
    "# 예제_1_시리즈의_데이터_포함여부\n",
    "\n",
    "import pandas as pd\n",
    "\n",
    "A = pd.Series(['사과','바나나', '고양이', 'apple', 'banana', 'cat'])\n",
    "B = ['사과','banana']\n",
    "\n",
    "print('#'*30, f\"{'A':^15s}\" , '#' * 30, '\\n') # 출력되는 결과들을 분리해서 보여주기 위한 코드입니다.\n",
    "print(A)\n",
    "print('#'*30, f\"{'A.isin(B)':^15s}\" , '#' * 30, '\\n') # 출력되는 결과들을 분리해서 보여주기 위한 코드입니다.\n",
    "print(A.isin(B))"
   ]
  },
  {
   "cell_type": "code",
   "execution_count": null,
   "id": "9e2e0785-32fb-4806-9103-309b5ffcdedb",
   "metadata": {
    "tags": []
   },
   "outputs": [],
   "source": [
    "# 예제_2_데이터프레임의_데이터_포함여부\n",
    "\n",
    "import pandas as pd\n",
    "\n",
    "A = pd.DataFrame([['사과', 'apple'], ['바나나', 'banana'],['고양이', 'cat']])\n",
    "B = ['사과','banana']\n",
    "\n",
    "print('#'*30, f\"{'A':^15s}\" , '#' * 30, '\\n') # 출력되는 결과들을 분리해서 보여주기 위한 코드입니다.\n",
    "print(A)\n",
    "print('#'*30, f\"{'A.isin(B)':^15s}\" , '#' * 30, '\\n') # 출력되는 결과들을 분리해서 보여주기 위한 코드입니다.\n",
    "print(A.isin(B))"
   ]
  },
  {
   "cell_type": "markdown",
   "id": "f32f9965-5c2b-4ba3-a683-9149859a4910",
   "metadata": {},
   "source": [
    "### **💯 연습문제를 풀어봅시다**\n",
    "\n"
   ]
  },
  {
   "cell_type": "markdown",
   "id": "53dd6a5b-8ec3-4195-8aea-0c1297242b1f",
   "metadata": {
    "tags": []
   },
   "source": [
    "1. <a class=\"jcecodle-mk jcecodle-mk__problem-chip\" data-problem-id=\"rmsBS7UPIBE\" href='#jce-judge/open/rmsBS7UPIBE' target='_self'><span>판다스 - 시리즈 포함관계</span></a>\n",
    "\n",
    "2. <a class=\"jcecodle-mk jcecodle-mk__problem-chip\" data-problem-id=\"PAgT9s6XUZs\" href='#jce-judge/open/PAgT9s6XUZs' target='_self'><span>동물원에 포함된 동물</span></a>\n",
    "\n",
    "3. <a class=\"jcecodle-mk jcecodle-mk__problem-chip\" data-problem-id=\"P-vtszkk64s\" href='#jce-judge/open/P-vtszkk64s' target='_self'><span>판다스 - 데이터 프레임의 포함관계</span></a>\n",
    "\n",
    "4. <a class=\"jcecodle-mk jcecodle-mk__problem-chip\" data-problem-id=\"kW8wfufyjJo\" href='#jce-judge/open/kW8wfufyjJo' target='_self'><span>대회 출전자 확인</span></a>\n",
    "\n",
    "5. <a class=\"jcecodle-mk jcecodle-mk__problem-chip\" data-problem-id=\"iYIyrE6XeXg\" href='#jce-judge/open/iYIyrE6XeXg' target='_self'><span>대회 출전자 중 1반</span></a>\n",
    "\n"
   ]
  },
  {
   "cell_type": "markdown",
   "id": "27c55e91-5190-4f49-9b47-510283363b87",
   "metadata": {
    "jp-MarkdownHeadingCollapsed": true,
    "tags": []
   },
   "source": [
    "<div style=\"padding: 15px; border: 5px solid transparent; border-color: transparent; margin-bottom: 20px; border-radius: 4px; color: #3c763d; border-color: #d6e9c6; font-weight: bold;\">\n",
    "<h2 style='font-weight: bold'>5. 데이터에 순위 매기기</h2>\n",
    "</div> "
   ]
  },
  {
   "cell_type": "markdown",
   "id": "c0cba977-a8e1-4375-897f-bf0de5e6e697",
   "metadata": {
    "tags": []
   },
   "source": [
    "데이터의 순위를 매기고 싶을 때에는 `rank()` 함수를 사용할 수 있습니다.\n",
    "\n",
    "> **🔨 함수(FUNCTIONS):**\n",
    ">\n",
    "> **`Series.rank(ascending=True_또는_False)`**  \n",
    "> 시리즈의 데이터를 크기 순으로 정렬하여 순위를 매겨서 그 결과를 시리즈로 반환합니다.\n",
    ">> **매개변수(parameter)**\n",
    ">>\n",
    ">> **`ascending`** : True 또는 False가 전달됩니다.   \n",
    ">> True일 경우 오름차순으로 정렬하여 순위를 매기고 False일 경우 내림차순으로 정렬하여 순위를 매깁니다.  \n",
    ">> 기본값은 True로 오름차순으로 정렬합니다.\n",
    "> ---\n",
    "> **`DataFrame.rank(axis = 0_또는_1, ascending=True_또는_False)`**  \n",
    "> 데이터프레임의 데이터를 크기 순으로 정렬하여 순위를  매겨서 그 결과를 데이터프레임으로 반환합니다.\n",
    ">> **매개변수(parameter)**\n",
    ">>\n",
    ">> **`axis`** : 0 또는 1이 전달됩니다.   \n",
    ">> 0일 경우 열에서의 순위를 반환하고 1일 경우 행에서의 순위를 반환합니다.  \n",
    ">> 기본값은 0으로 열에서 순위가 기본값입니다.  \n",
    ">> **`ascending`** : True 또는 False가 전달됩니다.   \n",
    ">> True일 경우 오름차순으로 정렬하여 순위를 매기고 False일 경우 내림차순으로 정렬하여 순위를 매깁니다.  \n",
    ">> 기본값은 True로 오름차순으로 정렬합니다.\n",
    "> ---\n",
    "\n"
   ]
  },
  {
   "cell_type": "markdown",
   "id": "d19f8d18-2de0-4664-90c3-e09449696bf0",
   "metadata": {},
   "source": [
    "### rank()로 데이터의 순위를 매깁니다.\n",
    "\n",
    "`rank()` 함수를 사용하면 데이터의 순위를 매길 수 있습니다.  \n",
    "매개변수를 주어 순위를 매길 방향, 오름차순, 내림차순 여부 등을 설정할 수 있습니다.  \n",
    "\n",
    "<table>\n",
    "<tr>\n",
    "    <th><img src=\"https://tmn-bucket-materials-all.s3.ap-northeast-2.amazonaws.com/image/pandas/material_05-19.png\" width=\"700\"></th>\n",
    "    </tr>\n",
    "<tr>\n",
    "    <th>rank() 함수를 이용한 순위 매기기</th>\n",
    "</tr>\n",
    "</table>"
   ]
  },
  {
   "cell_type": "code",
   "execution_count": null,
   "id": "7fdf7477-690c-4208-962c-ef84f433479c",
   "metadata": {
    "tags": []
   },
   "outputs": [],
   "source": [
    "# 예제_1_시리즈의_데이터_순위매기기\n",
    "\n",
    "import pandas as pd\n",
    "\n",
    "A = pd.Series([2,5,3,6,1,4])\n",
    "\n",
    "print('#'*30, f\"{'A':^15s}\" , '#' * 30, '\\n') # 출력되는 결과들을 분리해서 보여주기 위한 코드입니다.\n",
    "print(A)\n",
    "print('#'*30, f\"{'A.rank()':^15s}\" , '#' * 30, '\\n') # 출력되는 결과들을 분리해서 보여주기 위한 코드입니다.\n",
    "print(A.rank(ascending = False))\n",
    "print('#'*30, f\"{'A.rank(ascending = False)':^15s}\" , '#' * 30, '\\n') # 출력되는 결과들을 분리해서 보여주기 위한 코드입니다.\n",
    "print(A.rank(ascending = False))"
   ]
  },
  {
   "cell_type": "code",
   "execution_count": null,
   "id": "aa1aef99-78c8-4829-9598-0e6cf9de8112",
   "metadata": {
    "tags": []
   },
   "outputs": [],
   "source": [
    "# 예제_2_데이터프레임의_데이터_순위매기기\n",
    "\n",
    "import pandas as pd\n",
    "\n",
    "A = pd.DataFrame([[2,6], [5,1], [3,4]])\n",
    "\n",
    "print('#'*30, f\"{'A':^15s}\" , '#' * 30, '\\n') # 출력되는 결과들을 분리해서 보여주기 위한 코드입니다.\n",
    "print(A)\n",
    "print('#'*30, f\"{'A.rank()':^15s}\" , '#' * 30, '\\n') # 출력되는 결과들을 분리해서 보여주기 위한 코드입니다.\n",
    "print(A.rank(ascending = False))\n",
    "print('#'*30, f\"{'A.rank(axis = 1)':^15s}\" , '#' * 30, '\\n') # 출력되는 결과들을 분리해서 보여주기 위한 코드입니다.\n",
    "print(A.rank(axis = 1))\n",
    "print('#'*30, f\"{'A.rank(ascending = False)':^15s}\" , '#' * 30, '\\n') # 출력되는 결과들을 분리해서 보여주기 위한 코드입니다.\n",
    "print(A.rank(ascending = False))"
   ]
  },
  {
   "cell_type": "markdown",
   "id": "672f3171-712d-47d9-ae5b-f5149375ac03",
   "metadata": {},
   "source": [
    "### **💯 연습문제를 풀어봅시다**\n",
    "\n"
   ]
  },
  {
   "cell_type": "markdown",
   "id": "71143cff-3dde-44d4-b29c-476ac2d05fcd",
   "metadata": {
    "tags": []
   },
   "source": [
    "1. <a class=\"jcecodle-mk jcecodle-mk__problem-chip\" data-problem-id=\"QCIVQ-01EuM\" href='#jce-judge/open/QCIVQ-01EuM' target='_self'><span>판다스 - 데이터 연산하기 - rank</span></a>\n",
    "\n",
    "2. <a class=\"jcecodle-mk jcecodle-mk__problem-chip\" data-problem-id=\"BPIf2PrHeuw\" href='#jce-judge/open/BPIf2PrHeuw' target='_self'><span>판다스 - 데이터 연산하기 - rank (2)</span></a>\n",
    "\n",
    "3. <a class=\"jcecodle-mk jcecodle-mk__problem-chip\" data-problem-id=\"8AzXCaaHMPI\" href='#jce-judge/open/8AzXCaaHMPI' target='_self'><span>키 큰 순으로 (1)</span></a>\n",
    "\n",
    "4. <a class=\"jcecodle-mk jcecodle-mk__problem-chip\" data-problem-id=\"pt-y48i1cig\" href='#jce-judge/open/pt-y48i1cig' target='_self'><span>키 큰 순으로 (2)</span></a>\n",
    "\n",
    "5. <a class=\"jcecodle-mk jcecodle-mk__problem-chip\" data-problem-id=\"ktj0xXAZX54\" href='#jce-judge/open/ktj0xXAZX54' target='_self'><span>학급 성적평균 순위</span></a>\n"
   ]
  }
 ],
 "metadata": {
  "kernelspec": {
   "display_name": "Python 3 (ipykernel)",
   "language": "python",
   "name": "python3"
  },
  "language_info": {
   "codemirror_mode": {
    "name": "ipython",
    "version": 3
   },
   "file_extension": ".py",
   "mimetype": "text/x-python",
   "name": "python",
   "nbconvert_exporter": "python",
   "pygments_lexer": "ipython3",
   "version": "3.11.3"
  }
 },
 "nbformat": 4,
 "nbformat_minor": 5
}
