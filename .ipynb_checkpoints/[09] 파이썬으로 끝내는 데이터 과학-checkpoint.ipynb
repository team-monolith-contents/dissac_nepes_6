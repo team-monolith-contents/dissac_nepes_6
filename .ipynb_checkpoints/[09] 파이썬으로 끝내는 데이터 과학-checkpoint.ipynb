{
 "cells": [
  {
   "cell_type": "markdown",
   "id": "02026700-c56a-4f44-bc00-4b014058f0da",
   "metadata": {
    "tags": []
   },
   "source": [
    "<div style=\"padding: 15px; border: 5px solid transparent; border-color: transparent; margin-bottom: 20px; border-radius: 4px; color: #3c763d; background-color: #dff0d8; border-color: #d6e9c6; font-weight: bold;\">\n",
    "    <br><br>\n",
    "    <div style=\"font-weight: bold; font-size: 40px\">파이썬으로 끝내는 데이터 과학</div>\n",
    "    <div style=\"font-weight: bold; font-size: 20px\">[09] Pandas를 이용한 데이터 분석-1</div>\n",
    "    <hr style=\"width:80%;text-align:left;margin-left:0;border:0.5px solid green\">\n",
    "    <br>\n",
    "    &#x2022; 시리즈(Series)와 데이터프레임(DataFrame)이 무엇인지 알아봅니다.<br>\n",
    "    &#x2022; 시리즈(Series)의 구조에 대해 이해합니다.<br>\n",
    "    &#x2022; 데이터프레임(DataFrame)의 구조에 대해 이해합니다.<br>\n",
    "    &#x2022; 시리즈(Series)와 데이터프레임(DataFrame)의 크기를 확인할 수 있습니다.<br>\n",
    "    &#x2022; 리스트(list), 딕셔너리(Dictionary)로부터 시리즈(Series)를 만들어봅시다.<br>\n",
    "    &#x2022; 리스트(list), 딕셔너리(Dictionary)로부터 데이터프레임(DataFrame)을 만들어봅시다.<br>\n",
    "</div>"
   ]
  },
  {
   "cell_type": "markdown",
   "id": "abbd5647-04c7-4b0a-8811-bcdf70d7f346",
   "metadata": {
    "jp-MarkdownHeadingCollapsed": true,
    "tags": []
   },
   "source": [
    "<div style=\"padding: 15px; border: 5px solid transparent; border-color: transparent; margin-bottom: 20px; border-radius: 4px; color: #3c763d; border-color: #d6e9c6; font-weight: bold;\">\n",
    "<h2 style='font-weight: bold'>1. 시리즈(Series)와 데이터프레임(DataFrame)</h2>\n",
    "</div> "
   ]
  },
  {
   "cell_type": "markdown",
   "id": "cefa182a-3671-4265-9e38-e05da0367af9",
   "metadata": {
    "tags": []
   },
   "source": [
    "Pandas에서는 데이터를 표현하기 위해 2가지 자료구조를 사용합니다.  \n",
    "하나는 1차원 데이터를 표현하기 위한 `Series`이고 나머지 하나는 2차원 데이터를 표현하기 위한 `DataFrame`입니다. \n",
    "\n",
    "> - Series: 1개 열의 데이터 (1차원) </br>\n",
    "> > 활용 방법 : `pd.Series(데이터 변수)`\n",
    "> - DataFrame: 여러 Series가 합쳐진 n개 열의 데이터 (2차원)</br>\n",
    "> > 활용 방법 : `pd.DataFrame(데이터 변수)`\n",
    "\n",
    "<table>\n",
    "<tr>\n",
    "    <th><img src=\"https://tmn-bucket-materials-all.s3.ap-northeast-2.amazonaws.com/image/pandas/material_01-01.png\" width=\"750\"></th>\n",
    "</tr>\n",
    "<tr>\n",
    "    <th>판다스 시리즈의 구조</th>\n",
    "</tr>\n",
    "</table>"
   ]
  },
  {
   "cell_type": "markdown",
   "id": "c394efe4-b434-4c7c-a839-dfa9550cfcaa",
   "metadata": {},
   "source": [
    "### 시리즈(Series)와 데이터프레임(DataFrame)의 관계"
   ]
  },
  {
   "cell_type": "markdown",
   "id": "ead296da-36f9-4ea9-b396-4fa51de4e743",
   "metadata": {
    "jp-MarkdownHeadingCollapsed": true,
    "tags": []
   },
   "source": [
    "Pandas의 시리즈(Series)와 데이터프레임(DataFrame)은 포함관계에 있습니다.  \n",
    "시리즈가 모여서 데이터프레임이되고 데이터프레임이 나뉘면 시리즈가 됩니다.\n",
    "\n",
    "이후에 배울 `concat()` 함수를 통해 시리즈를 합쳐 데이터프레임을 만들 수 있습니다.  \n",
    "마찬가지로 이후에 배울 인덱싱을 사용하여 데이터프레임의 하나의 열을 가져오면 시리즈가 됩니다.  \n",
    "\n",
    "아래의 그림을 보면 데이터프레임과 시리즈의 관계를 알 수 있습니다.\n",
    "\n",
    "<table>\n",
    "<tr>\n",
    "    <th><img src=\"https://tmn-bucket-materials-all.s3.ap-northeast-2.amazonaws.com/image/pandas/material_01-06.png\" width=\"750\"></th>\n",
    "</tr>\n",
    "<tr>\n",
    "    <th>시리즈와 데이터프레임의 관계</th>\n",
    "</tr>\n",
    "</table>"
   ]
  },
  {
   "cell_type": "markdown",
   "id": "5893df26-62e4-4f44-9c9b-7845b25f32a6",
   "metadata": {},
   "source": [
    "### Pandas에서의 결측치"
   ]
  },
  {
   "cell_type": "markdown",
   "id": "85d09a51-9b89-4d95-a321-65e1696a142f",
   "metadata": {},
   "source": [
    "Pandas에서 비어있는 값을 **결측치**라고 부릅니다.  \n",
    "데이터에서는 `NaN`으로 표시합니다.  \n",
    "\n",
    "<table>\n",
    "<tr>\n",
    "    <th><img src=\"https://tmn-bucket-materials-all.s3.ap-northeast-2.amazonaws.com/image/pandas/material_01_07.gif\" width=\"750\"></th>\n",
    "</tr>\n",
    "<tr>\n",
    "    <th>시리즈와 데이터프레임의 관계</th>\n",
    "</tr>\n",
    "</table>"
   ]
  },
  {
   "cell_type": "markdown",
   "id": "33df3be9-9a67-44cb-b753-ad290aba80db",
   "metadata": {},
   "source": [
    "> **❓ QUESTIONS:**\n",
    ">\n",
    "> 데이터프레임과 시리즈의 관계를 설명해봅시다.\n"
   ]
  },
  {
   "cell_type": "raw",
   "id": "06cdb56a-bf41-47c9-9972-3839ac1898ca",
   "metadata": {},
   "source": [
    "질문에 대한 대답을 여기에 적어봅시다."
   ]
  },
  {
   "cell_type": "markdown",
   "id": "18d53e65-2bdd-405a-90c9-fed316e683fa",
   "metadata": {
    "jp-MarkdownHeadingCollapsed": true,
    "tags": []
   },
   "source": [
    "<div style=\"padding: 15px; border: 5px solid transparent; border-color: transparent; margin-bottom: 20px; border-radius: 4px; color: #3c763d; border-color: #d6e9c6; font-weight: bold;\">\n",
    "<h2 style='font-weight: bold'>2. 시리즈(Series)의 구조</h2>\n",
    "</div> "
   ]
  },
  {
   "cell_type": "markdown",
   "id": "9d129a96-8a42-4b28-a4cd-9b2b9c41a14b",
   "metadata": {
    "jp-MarkdownHeadingCollapsed": true,
    "tags": []
   },
   "source": [
    "Pandas에서 시리즈(Series)는 `name`, `data`, `index`으로 구성되어 있습니다.\n",
    "\n",
    "`name`은 Series의 이름입니다.  \n",
    "`data`는 Series가 가지고 있는 데이터들입니다.  \n",
    "`index`는 Series에 포함된 데이터들의 인덱스들입니다.\n",
    "\n",
    "> **✏️ NOTE:** index가 무엇인가요?  \n",
    ">\n",
    "> 인덱스(index, 색인)은 위치 값을 뜻합니다.  \n",
    ">책을 볼 때에 목차를 통해 원하는 내용이 있는 페이지로 바로 이동할 수 있는 것 처럼 인덱스를 통해 원하는 데이터에 접근할 수 있습니다.\n",
    "\n",
    "<table>\n",
    "<tr>\n",
    "    <th><img src=\"https://tmn-bucket-materials-all.s3.ap-northeast-2.amazonaws.com/image/pandas/material_01-02.png\" width=\"750\"></th>\n",
    "</tr>\n",
    "<tr>\n",
    "    <th>판다스 시리즈의 구조</th>\n",
    "</tr>\n",
    "</table>\n",
    "\n",
    "각각 `Series.name`, `Series.data`, `Series.index` 속성들을 통해 확인할 수 있습니다.\n",
    "\n",
    "> **🎨 속성(ATTRIBUTES):**\n",
    ">\n",
    "> `Series.index` : 인덱스들을 저장하고 있는 Index 타입의 속성  \n",
    "> `Series.values` : 데이터를 저장하고 있는 Numpy.array 타입의 속성  \n",
    "> `Series.name` : 이름을 저장하고 있는 문자열 타입의 속성    \n",
    "\n",
    "> **🔨 함수(FUNCTIONS):**\n",
    ">\n",
    "> `list(인자)` : 인자가 list로 바뀔 수 있다면 리스트로 바뀐 값을 반환합니다.  \n",
    "> list로 바뀔 수 없다면 오류를 발생시킵니다.\n",
    "\n",
    "\n"
   ]
  },
  {
   "cell_type": "code",
   "execution_count": null,
   "id": "6deaabe7-55e5-40d3-b8b5-6b9a162acb76",
   "metadata": {
    "tags": [
     "jce.problems.173.예제_01-Pandas_시리즈의_구성_확인하기"
    ]
   },
   "outputs": [],
   "source": [
    "# 예제_01_Pandas_시리즈의_구성_확인하기\n",
    "\n",
    "import pandas as pd\n",
    "\n",
    "my_series = pd.Series(['apple','banana','cat','dog','egg'],\n",
    "                      index = ['a','b','c','d','e'],\n",
    "                      name = '알파벳')\n",
    "\n",
    "print(my_series)\n",
    "print('#'*100)\n",
    "print(\"Index: \", my_series.index)\n",
    "print(\"Data: \", my_series.values)\n",
    "print(\"Name: \", my_series.name)"
   ]
  },
  {
   "cell_type": "code",
   "execution_count": null,
   "id": "7871e5b4-2c83-4eae-a90d-d49edac1253c",
   "metadata": {
    "tags": [
     "jce.problems.173.예제_02-인덱스와_데이터의_타입_변경하기"
    ]
   },
   "outputs": [],
   "source": [
    "# 예제_02_인덱스와_데이터의_타입_변경하기\n",
    "\n",
    "import pandas as pd\n",
    "\n",
    "my_series = pd.Series(['apple','banana','cat','dog','egg'],\n",
    "                      index = ['a','b','c','d','e'],\n",
    "                      name = '알파벳')\n",
    "\n",
    "print(my_series)\n",
    "print('#'*100)\n",
    "print(\"리스트로 변환 전\")\n",
    "print(\"Index: \", list(my_series.index))\n",
    "print(\"Index type: \", type(my_series.index))\n",
    "print(\"Data: \", list(my_series.values))\n",
    "print(\"Data type: \", type(my_series.values))\n",
    "print('#'*100)\n",
    "print(\"리스트로 변환 후\")\n",
    "print(\"Index: \", list(my_series.index))\n",
    "print(\"Index type: \", type(list(my_series.index)))\n",
    "print(\"Data: \", list(my_series.values))\n",
    "print(\"Index type: \", type(list(my_series.values)))"
   ]
  },
  {
   "cell_type": "markdown",
   "id": "c54e319f-23d1-45c8-82b3-cd17f723a596",
   "metadata": {},
   "source": [
    "> **❓ QUESTIONS:**\n",
    ">\n",
    "> 리스트(list)와 Pandas의 시리즈(Series)는 어떤 점이 비슷하고 어떤 점이 다른가요??  \n",
    ">또, 딕셔너리(dictionary)와 시리즈(Series)는 어떤 점이 비슷하고 어떤 점이 다른가요??  \n"
   ]
  },
  {
   "cell_type": "raw",
   "id": "c7294271-f05b-443a-baf5-9c96c38bf0a9",
   "metadata": {},
   "source": [
    "질문에 대한 대답을 여기에 적어봅시다."
   ]
  },
  {
   "cell_type": "markdown",
   "id": "3ebc5a8d-8f4e-43fe-be18-90823f09ef23",
   "metadata": {
    "jp-MarkdownHeadingCollapsed": true,
    "tags": []
   },
   "source": [
    "### **💯 연습문제를 풀어봅시다**\n",
    "\n",
    "1. <a class=\"jcecodle-mk jcecodle-mk__problem-chip\" data-problem-id=\"B67IHw_tw50\" href='#jce-judge/open/B67IHw_tw50' target='_self'><span>판다스 기초 - 시리즈 인덱스</span></a>\n",
    "\n",
    "\n",
    "2. <a class=\"jcecodle-mk jcecodle-mk__problem-chip\" data-problem-id=\"F_e2WtqdvEY\" href='#jce-judge/open/F_e2WtqdvEY' target='_self'><span>판다스 기초 - 제철과일</span></a>\n",
    "\n",
    "3. <a class=\"jcecodle-mk jcecodle-mk__problem-chip\" data-problem-id=\"X2KlLVDDz00\" href='#jce-judge/open/X2KlLVDDz00' target='_self'><span>판다스 기초 - 시리즈 이름</span></a>\n",
    "\n",
    "4. <a class=\"jcecodle-mk jcecodle-mk__problem-chip\" data-problem-id=\"4MjEBLXXxEM\" href='#jce-judge/open/4MjEBLXXxEM' target='_self'><span>판다스 기초 - 시리즈 요소 확인하기</span></a>"
   ]
  },
  {
   "cell_type": "markdown",
   "id": "c0b8dc19-08f9-4021-b33d-630f0f2ec345",
   "metadata": {
    "jp-MarkdownHeadingCollapsed": true,
    "tags": []
   },
   "source": [
    "<div style=\"padding: 15px; border: 5px solid transparent; border-color: transparent; margin-bottom: 20px; border-radius: 4px; color: #3c763d; border-color: #d6e9c6; font-weight: bold;\">\n",
    "<h2 style='font-weight: bold'>3. 데이터프레임(DataFrame)의 구조</h2>\n",
    "</div> "
   ]
  },
  {
   "cell_type": "markdown",
   "id": "3360ca69-82a4-40a9-98ee-d86075db45ea",
   "metadata": {
    "jp-MarkdownHeadingCollapsed": true,
    "tags": []
   },
   "source": [
    "Pandas에서 데이터프레임(DataFrame)은 `column`, `index`, `data`으로 구성되어 있습니다.\n",
    "\n",
    "`column`은 DataFrame에 포함된 열(column)들입니다.  \n",
    "`index`는 DataFrame에 포함된 행(row)들입니다.  \n",
    "`data`는 DataFrame이 가지고 있는 데이터들입니다. \n",
    "\n",
    "<table>\n",
    "<tr>\n",
    "    <th><img src=\"https://tmn-bucket-materials-all.s3.ap-northeast-2.amazonaws.com/image/pandas/material_01-03.png\" width=\"750\"></th>\n",
    "</tr>\n",
    "<tr>\n",
    "    <th>판다스 시리즈의 구조</th>\n",
    "</tr>\n",
    "</table>\n",
    "\n",
    "각각 `DataFrame.columns`, `DataFrame.index`, `DataFrame.values` 속성들을 통해 확인할 수 있습니다.\n",
    "\n",
    "> **🎨 속성(ATTRIBUTES):**\n",
    ">\n",
    "> `DataFrame.columns` : 열 인덱스들을 저장하고 있는 Index 타입의 속성  \n",
    "> `DataFrame.index` : 행 인덱스들을 저장하고 있는 Index 타입의 속성  \n",
    "> `DataFrame.values` : 데이터를 저장하고 있는 Numpy.array 타입의 속성\n",
    "\n",
    "시리즈(Series)와 마찬가지로 `list()` 함수로 `column`, `index`, `data`를 리스트(list) 타입으로 바꿀 수 있습니다.\n",
    "\n",
    "\n"
   ]
  },
  {
   "cell_type": "code",
   "execution_count": null,
   "id": "057f7a1c-f025-41b1-9af9-a9ad8ae95206",
   "metadata": {
    "tags": [
     "jce.problems.173.예제_01-Pandas_Series의_구성_확인하기"
    ]
   },
   "outputs": [],
   "source": [
    "# 예제_01_Pandas_DataFrame의_구성_확인하기\n",
    "\n",
    "import pandas as pd\n",
    "\n",
    "my_dataframe = pd.DataFrame([['a',5,'e'],['b',6,'a'],['c',3,'t'],['d',3,'g'],['e',3,'g']],\n",
    "                         index = ['apple','banana','cat','dog','egg'],\n",
    "                         columns = [['첫글자', '길이', '마지막글자']])\n",
    "\n",
    "print(my_dataframe)\n",
    "print('#'*100)\n",
    "print(\"Index: \", my_dataframe.index)\n",
    "print(\"Column: \", my_dataframe.columns)\n",
    "print(\"Data: \", my_dataframe.values)"
   ]
  },
  {
   "cell_type": "code",
   "execution_count": null,
   "id": "f2756424-24b9-4455-bf83-c756138e6623",
   "metadata": {
    "tags": [
     "jce.problems.173.예제_02-Index와_Data의_타입_변경하기"
    ]
   },
   "outputs": [],
   "source": [
    "# 예제_02_DataFrame의 속성값들의_타입_변경하기\n",
    "\n",
    "import pandas as pd\n",
    "\n",
    "my_dataframe = pd.DataFrame([['a',5,'e'],['b',6,'a'],['c',3,'t'],['d',3,'g'],['e',3,'g']],\n",
    "                         index = ['apple','banana','cat','dog','egg'],\n",
    "                         columns = ['첫글자', '길이', '마지막글자'])\n",
    "\n",
    "print(my_dataframe)\n",
    "print('#'*100)\n",
    "print(\"리스트로 변환 전\")\n",
    "print(\"Column: \", my_dataframe.columns)\n",
    "print(\"Column Type: \", type(my_dataframe.columns))\n",
    "print(\"Index: \", my_dataframe.index)\n",
    "print(\"Index Type: \", type(my_dataframe.index))\n",
    "print(\"Data: \", my_dataframe.values)\n",
    "print(\"Data Type: \", type(my_dataframe.values))\n",
    "print('#'*100)\n",
    "print(\"리스트로 변환 후\")\n",
    "print(\"Column: \", list(my_dataframe.columns))\n",
    "print(\"Column Type: \", type(list(my_dataframe.columns)))\n",
    "print(\"Index: \", list(my_dataframe.index))\n",
    "print(\"Index Type: \", type(list(my_dataframe.index)))\n",
    "print(\"Data: \", list(my_dataframe.values))\n",
    "print(\"Data Type: \", type(list(my_dataframe.values)))"
   ]
  },
  {
   "cell_type": "markdown",
   "id": "bac94264-9fbc-4a01-a181-338333aa90e3",
   "metadata": {},
   "source": [
    "> **❓ QUESTIONS:**\n",
    ">\n",
    "> 열이 하나만 존재하는 데이터프레임(DataFrame)과 시리즈(Series)는 어떤 점이 비슷하고 어떤 점이 다른가요?\n"
   ]
  },
  {
   "cell_type": "raw",
   "id": "51c93e77-d5c2-447b-b46f-10310e07391f",
   "metadata": {},
   "source": [
    "질문에 대한 대답을 여기에 적어봅시다."
   ]
  },
  {
   "cell_type": "markdown",
   "id": "ee6c2786-bfad-4bcd-ad46-bf4d26e94827",
   "metadata": {},
   "source": [
    "### **💯 연습문제를 풀어봅시다**\n",
    "\n",
    "1. <a class=\"jcecodle-mk jcecodle-mk__problem-chip\" data-problem-id=\"Jj4KxNJ4NZE\" href='#jce-judge/open/Jj4KxNJ4NZE' target='_self'><span>판다스 기초 - column 확인하기</span></a>\n",
    "\n",
    "2. <a class=\"jcecodle-mk jcecodle-mk__problem-chip\" data-problem-id=\"nyza019DULk\" href='#jce-judge/open/nyza019DULk' target='_self'><span>판다스 기초 - data 확인하기</span></a>\n",
    "\n",
    "\n",
    "3. <a class=\"jcecodle-mk jcecodle-mk__problem-chip\" data-problem-id=\"JUghSoAbOM0\" href='#jce-judge/open/JUghSoAbOM0' target='_self'><span>판다스 기초 - index 확인하기</span></a>\n",
    "\n",
    "\n",
    "4. <a class=\"jcecodle-mk jcecodle-mk__problem-chip\" data-problem-id=\"kFRTYiv15_0\" href='#jce-judge/open/kFRTYiv15_0' target='_self'><span>판다스 기초 - 인덱스, 열, 데이터 리스트</span></a>\n",
    "\n",
    "\n",
    "5. <a class=\"jcecodle-mk jcecodle-mk__problem-chip\" data-problem-id=\"MiKGzQxQIZ4\" href='#jce-judge/open/MiKGzQxQIZ4' target='_self'><span>판다스 기초 - 데이터프레임 요소 확인</span></a>\n",
    "\n",
    "6. <a class=\"jcecodle-mk jcecodle-mk__problem-chip\" data-problem-id=\"EkzhU4G6u90\" href='#jce-judge/open/EkzhU4G6u90' target='_self'><span>판다스 기초 - 옷 색깔</span></a>\n",
    "\n"
   ]
  },
  {
   "cell_type": "markdown",
   "id": "554b814b-25fe-4476-9d98-d2480ea4a31f",
   "metadata": {
    "jp-MarkdownHeadingCollapsed": true,
    "tags": []
   },
   "source": [
    "<div style=\"padding: 15px; border: 5px solid transparent; border-color: transparent; margin-bottom: 20px; border-radius: 4px; color: #3c763d; border-color: #d6e9c6; font-weight: bold;\">\n",
    "<h2 style='font-weight: bold'>4. 시리즈(Series)와 데이터프레임(DataFrame)의 크기</h2>\n",
    "</div> "
   ]
  },
  {
   "cell_type": "markdown",
   "id": "dffa483e-5180-4751-addb-6e343310d771",
   "metadata": {
    "jp-MarkdownHeadingCollapsed": true,
    "tags": []
   },
   "source": [
    "데이터를 크기를 파악하는 것도 데이터 분석에서 중요합니다.  \n",
    "시리즈(Series)와 데이터프레임(DataFrame)에 데이터프레임(DataFrame)의 `shape` 속성을 통해 확인할 수 있습니다.\n",
    "\n",
    "> **🎨 속성(ATTRIBUTES):**\n",
    ">\n",
    "> `Series.shape` : 시리즈(Series)의 크기를 (데이터 수,) 형태의 튜플(tuple) 타입 변수를 저장하고 있습니다.  \n",
    "> `DataFrame.shape` : 데이터프레임(DataFrame)의 크기를 (데이터 수,열 수) 형태의 튜플(tuple) 타입의 변수를 저장하고 있습니다.\n",
    "\n",
    "<table>\n",
    "<tr>\n",
    "    <th><img src=\"https://tmn-bucket-materials-all.s3.ap-northeast-2.amazonaws.com/image/pandas/material_01-04.png\" width=\"500\"></th>\n",
    "    <th><img src=\"https://tmn-bucket-materials-all.s3.ap-northeast-2.amazonaws.com/image/pandas/material_01-05.png\" width=\"500\"></th>\n",
    "</tr>\n",
    "<tr>\n",
    "    <th>시리즈의 크기</th>\n",
    "    <th>데이터프레임의 크기</th>\n",
    "</tr>\n",
    "</table>\n",
    "\n",
    "> **✏️ NOTE:** 튜플(tuple)이 무엇인가요?  \n",
    ">\n",
    "> 튜플(tuple)은 리스트와 비슷한 자료형이다.  \n",
    "> 포함 된 요소들을 바꿀 수 없다는 차이점이 있습니다.  \n",
    "> i 인덱스의 요소에 접근하기 위해 리스트와 마찬가지로 tuple[i]의 방법을 사용합니다.\n",
    ">\n",
    "> `Series.shape[0]` : 시리즈(Series)에 포함된 데이터의 수  \n",
    "> `DataFrame.shape[0]` : 데이터프레임(DataFrame)에 포함된 데이터의 수  \n",
    "> `DataFrame.shape[1]` : 데이터프레임(DataFrame)의 열의 수\n",
    ">\n",
    "> 위에서 보이는 방법으로 각 요소를 사용할 수 있습니다.\n"
   ]
  },
  {
   "cell_type": "code",
   "execution_count": null,
   "id": "69a30efc-b4b8-4f46-b0c7-51c955876e2b",
   "metadata": {},
   "outputs": [],
   "source": [
    "# 예제_01_Pandas_Series의_크기_확인하기\n",
    "\n",
    "import pandas as pd\n",
    "\n",
    "my_series = pd.Series(['apple','banana','cat','dog','egg'],\n",
    "                      index = ['a','b','c','d','e'],\n",
    "                      name = '알파벳')\n",
    "\n",
    "print(my_series)\n",
    "print('#'*100)\n",
    "print(\"크기: \", my_series.shape)\n",
    "print(\"데이터 수: \", my_series.shape[0])"
   ]
  },
  {
   "cell_type": "code",
   "execution_count": null,
   "id": "7ce37c92-b01a-4eb2-b1eb-75ffbfa90f95",
   "metadata": {},
   "outputs": [],
   "source": [
    "# 예제_02_Pandas_DataFrame의_크기_확인하기\n",
    "\n",
    "import pandas as pd\n",
    "\n",
    "my_dataframe = pd.DataFrame([['a',5,'e'],['b',6,'a'],['c',3,'t'],['d',3,'g'],['e',3,'g']],\n",
    "                         index = ['apple','banana','cat','dog','egg'],\n",
    "                         columns = [['첫글자', '길이', '마지막글자']])\n",
    "\n",
    "print(my_dataframe)\n",
    "print('#'*100)\n",
    "print(\"크기: \", my_dataframe.shape)\n",
    "print(\"데이터 수: \", my_dataframe.shape[0])\n",
    "print(\"열의 수: \", my_dataframe.shape[1])"
   ]
  },
  {
   "cell_type": "markdown",
   "id": "ff94c30a-450c-443e-b6b6-efffdc569707",
   "metadata": {},
   "source": [
    "### **💯 연습문제를 풀어봅시다**\n",
    "\n",
    "1. <a class=\"jcecodle-mk jcecodle-mk__problem-chip\" data-problem-id=\"ylLF1ww29MM\" href='#jce-judge/open/ylLF1ww29MM' target='_self'><span>판다스 기초 - 시리즈 길이 확인하기</span></a>\n",
    "2. <a class=\"jcecodle-mk jcecodle-mk__problem-chip\" data-problem-id=\"clgT71wmE0Q\" href='#jce-judge/open/clgT71wmE0Q' target='_self'><span>판다스 기초 - 데이터프레임 크기 확인</span></a>\n",
    "\n",
    "3. <a class=\"jcecodle-mk jcecodle-mk__problem-chip\" data-problem-id=\"1rDA3PTfNPM\" href='#jce-judge/open/1rDA3PTfNPM' target='_self'><span>판다스 기초 - 데이터 프레임 크기 확인(2)</span></a>\n",
    "\n",
    "4. <a class=\"jcecodle-mk jcecodle-mk__problem-chip\" data-problem-id=\"xkdpBYcXK5A\" href='#jce-judge/open/xkdpBYcXK5A' target='_self'><span>판다스 기초 - 데이터의 개수</span></a>\n",
    "\n",
    "5. <a class=\"jcecodle-mk jcecodle-mk__problem-chip\" data-problem-id=\"bwEFGVtzsfw\" href='#jce-judge/open/bwEFGVtzsfw' target='_self'><span>판다스 기초 - 열의 개수</span></a>\n",
    "\n"
   ]
  },
  {
   "cell_type": "markdown",
   "id": "1526d33b-7b79-44ab-81f6-031fe926ca50",
   "metadata": {
    "jp-MarkdownHeadingCollapsed": true,
    "tags": []
   },
   "source": [
    "<div style=\"padding: 15px; border: 5px solid transparent; border-color: transparent; margin-bottom: 20px; border-radius: 4px; color: #3c763d; border-color: #d6e9c6; font-weight: bold;\">\n",
    "<h2 style='font-weight: bold'>5. 시리즈(Series) 만들기</h2>\n",
    "</div> "
   ]
  },
  {
   "cell_type": "markdown",
   "id": "38520a3f-ef71-48c7-a118-8469941a05a9",
   "metadata": {
    "jp-MarkdownHeadingCollapsed": true,
    "tags": []
   },
   "source": [
    "데이터프레임(DataFrame)는 2차원 리스트(2D list)와 중첩 딕셔너리(Nested Dictionary)를 이용해 만들 수 있습니다.\n",
    "\n",
    "> **🔨 함수(FUNCTIONS):**\n",
    ">\n",
    "> **`pd.Series(data=리스트_또는_딕셔너리, index=리스트, name=문자열)`**  \n",
    "> 시리즈(Series)를 만듭니다.  \n",
    ">> **매개변수(parameter)**\n",
    ">>\n",
    ">> **`data`** : 시리즈에 채워지는 데이터입니다.  \n",
    ">> 리스트, 딕셔너리 등이 사용될 수 있습니다.  \n",
    ">> **`index`** : 데이터의 인덱스를 지정하는 리스트입니다.  \n",
    ">> 지정하지 않으면 데이터로 부터 자동으로 만들어집니다.(딕셔너리)  \n",
    ">> 데이터로부터 만들 수 없으면 자동으로 0부터 시작하는 인덱스를 만듭니다.  \n",
    ">> **`name`** : 시리즈의 이름을 지정합니다.  \n",
    ">> 지정하지 않으면 이름이 없는 시리즈가 만들어집니다.  \n",
    ">> 데이터로부터 만들 수 없으면 자동으로 0부터 시작하는 인덱스를 만듭니다.  \n",
    "> ---\n",
    "\n"
   ]
  },
  {
   "cell_type": "markdown",
   "id": "fcc2cdc0-d223-42f9-a097-e3a00e4b9b47",
   "metadata": {},
   "source": [
    "### 리스트로 시리즈를 만들어봅시다.\n",
    "\n",
    "1차원 리스트로 시리즈를 만들 수 있습니다.  \n",
    "\n",
    "<table>\n",
    "<tr>\n",
    "    <th><img src=\"https://tmn-bucket-materials-all.s3.ap-northeast-2.amazonaws.com/image/pandas/material_02_01.gif\" width=\"750\"></th>\n",
    "</tr>\n",
    "<tr>\n",
    "    <th>리스트로 시리즈 만들기</th>\n",
    "</tr>\n",
    "</table>\n",
    "\n",
    "\n",
    "리스트는 딕셔너리와는 다르게 키 값을 가지고 있지 않기 때문에 `index` 매개변수를 설정해주지 않으면 0부터 시작하는 인덱스와 열이름을 자동으로 만들게됩니다.  \n",
    "\n",
    "<table>\n",
    "<tr>\n",
    "    <th><img src=\"https://tmn-bucket-materials-all.s3.ap-northeast-2.amazonaws.com/image/pandas/material_02_02.gif\" width=\"750\"></th>\n",
    "</tr>\n",
    "<tr>\n",
    "    <th>리스트로 인덱스 설정하여 시리즈 만들기</th>\n",
    "</tr>\n",
    "</table>\n",
    "\n",
    "> **⛔️ 오류(ERROR):**\n",
    ">\n",
    "> 리스트로 시리즈를 만들 때 인덱스의 길이와 데이터의 길이가 맞지 않으면 오류를 발생시킵니다.\n",
    "\n",
    "시리즈를 만들때에 `name` 매개변수를 주면 이름이 있는 시리즈를 만들 수 있습니다.\n"
   ]
  },
  {
   "cell_type": "code",
   "execution_count": null,
   "id": "73b5c8b5-ceef-4225-938f-f42b36d523f9",
   "metadata": {},
   "outputs": [],
   "source": [
    "# 예제_1_리스트로부터_시리즈_만들기\n",
    "\n",
    "import pandas as pd\n",
    "\n",
    "A = ['사과', '오렌지', '포도', '딸기', '수박']\n",
    "\n",
    "print('#'*30, f\"{'A':^15s}\" , '#' * 30, '\\n') # 출력되는 결과들을 분리해서 보여주기 위한 코드입니다.\n",
    "print(A)\n",
    "print('\\n','#'*30, f\"{'pd.Series(A)':^15s}\" , '#' * 30, '\\n') # 출력되는 결과들을 분리해서 보여주기 위한 코드입니다.\n",
    "print(pd.Series(A))"
   ]
  },
  {
   "cell_type": "code",
   "execution_count": null,
   "id": "8ebf514a-5c7e-4836-b396-59e6454ae1a3",
   "metadata": {},
   "outputs": [],
   "source": [
    "# 예제_2_리스트에_인덱스_정해서_시리즈_만들기\n",
    "\n",
    "import pandas as pd\n",
    "\n",
    "A = ['사과', '오렌지', '포도', '딸기', '수박']\n",
    "index = ['A', 'B', 'C', 'D', 'E']\n",
    "\n",
    "print('#'*30, f\"{'A':^15s}\" , '#' * 30, '\\n') # 출력되는 결과들을 분리해서 보여주기 위한 코드입니다.\n",
    "print(A)\n",
    "print('#'*30, f\"{'index':^15s}\" , '#' * 30, '\\n') # 출력되는 결과들을 분리해서 보여주기 위한 코드입니다.\n",
    "print(index)\n",
    "print('\\n','#'*30, f\"{'pd.Series(A, index = index)':^15s}\" , '#' * 30, '\\n') # 출력되는 결과들을 분리해서 보여주기 위한 코드입니다.\n",
    "print(pd.Series(A, index = index))"
   ]
  },
  {
   "cell_type": "code",
   "execution_count": null,
   "id": "bae41261-517f-4fda-8dea-1ab0239331ac",
   "metadata": {},
   "outputs": [],
   "source": [
    "# 예제_3_리스트와_인덱스의_길이가_달라_발생하는_오류\n",
    "\n",
    "import pandas as pd\n",
    "\n",
    "A = ['사과', '오렌지', '포도', '딸기', '수박']\n",
    "index = ['A', 'B', 'C', 'D']\n",
    "\n",
    "print('#'*30, f\"{'A':^15s}\" , '#' * 30, '\\n') # 출력되는 결과들을 분리해서 보여주기 위한 코드입니다.\n",
    "print(A)\n",
    "print('#'*30, f\"{'index':^15s}\" , '#' * 30, '\\n') # 출력되는 결과들을 분리해서 보여주기 위한 코드입니다.\n",
    "print(index)\n",
    "print('\\n','#'*30, f\"{'pd.Series(A, index = index)':^15s}\" , '#' * 30, '\\n') # 출력되는 결과들을 분리해서 보여주기 위한 코드입니다.\n",
    "print(pd.Series(A, index = index))"
   ]
  },
  {
   "cell_type": "code",
   "execution_count": null,
   "id": "cd75bc07-cb48-42e4-96d1-2873d86a105e",
   "metadata": {},
   "outputs": [],
   "source": [
    "# 예제_4_시리즈에_이름붙여서_만들기\n",
    "\n",
    "import pandas as pd\n",
    "\n",
    "A = ['사과', '오렌지', '포도', '딸기', '수박']\n",
    "\n",
    "print('#'*30, f\"{'A':^15s}\" , '#' * 30, '\\n') # 출력되는 결과들을 분리해서 보여주기 위한 코드입니다.\n",
    "print(A)\n",
    "print('\\n','#'*30, \"{:^15s}\".format(\"pd.Series(A, name='과일')\") , '#' * 30, '\\n') # 출력되는 결과들을 분리해서 보여주기 위한 코드입니다.\n",
    "print(pd.Series(A, name='과일'))"
   ]
  },
  {
   "cell_type": "markdown",
   "id": "70a1a00e-e53f-4dc7-82e6-e4caaf5c8aea",
   "metadata": {
    "tags": []
   },
   "source": [
    "### 딕셔너리로 시리즈를 만들어봅시다.\n",
    "\n",
    "딕셔너리로도 시리즈를 만들 수 있습니다.   \n",
    "\n",
    "<table>\n",
    "<tr>\n",
    "    <th><img src=\"https://tmn-bucket-materials-all.s3.ap-northeast-2.amazonaws.com/image/pandas/material_02_03.gif\" width=\"750\"></th>\n",
    "</tr>\n",
    "<tr>\n",
    "    <th>딕셔너리로 시리즈 만들기</th>\n",
    "</tr>\n",
    "</table>\n",
    "\n",
    "딕셔너리와는 키 값을 가지고 있기 때문에 `index` 매개변수를 설정해주지 않아도 자동으로 인덱스와 열이름이 자동으로 설정됩니다.  \n",
    "\n",
    "> **⚠️ 주의(WARNING):**\n",
    ">\n",
    "> 딕셔너리로 시리즈를 만들 때 인덱스를 지정하면 매개변수로 전달한 인덱스를 기준으로 시리즈가 만들어집니다.  \n",
    "> 따라서 딕셔너리에 키(Key)가 존재하지 않는 인덱스, 열에는 데이터가 지정되지 않습니다.\n",
    ">\n",
    "> <table>\n",
    "> <tr>\n",
    ">     <th><img src=\"https://tmn-bucket-materials-all.s3.ap-northeast-2.amazonaws.com/image/pandas/material_02_04.gif\" width=\"750\"></th>\n",
    "> </tr>\n",
    "> <tr>\n",
    ">     <th>딕셔너리에 인덱스 설정하여 시리즈 만들기</th>\n",
    "> </tr>\n",
    "> </table>\n",
    "\n",
    "\n",
    "시리즈를 만들때에 `name` 매개변수를 주면 이름이 있는 시리즈를 만들 수 있습니다."
   ]
  },
  {
   "cell_type": "code",
   "execution_count": null,
   "id": "55e567df-00e9-4af3-ae1e-a67be77d8274",
   "metadata": {},
   "outputs": [],
   "source": [
    "# 예제_5_딕셔너리로부터_시리즈_만들기\n",
    "\n",
    "import pandas as pd\n",
    "\n",
    "A = {'A':'사과', 'B':'오렌지', 'C':'포도', 'D':'딸기', 'E':'수박'}\n",
    "\n",
    "print('#'*30, f\"{'A':^15s}\" , '#' * 30, '\\n') # 출력되는 결과들을 분리해서 보여주기 위한 코드입니다.\n",
    "print(A)\n",
    "print('\\n','#'*30, f\"{'pd.Series(A)':^15s}\" , '#' * 30, '\\n') # 출력되는 결과들을 분리해서 보여주기 위한 코드입니다.\n",
    "print(pd.Series(A))"
   ]
  },
  {
   "cell_type": "code",
   "execution_count": null,
   "id": "d38ec8d5-fc80-4284-933a-b9a9c53047eb",
   "metadata": {},
   "outputs": [],
   "source": [
    "# 예제_6_딕셔너리로부터_인덱스정해서_시리즈_만들기\n",
    "\n",
    "import pandas as pd\n",
    "\n",
    "A = {'A':'사과', 'B':'오렌지', 'C':'포도', 'D':'딸기', 'E':'수박'}\n",
    "index = ['A', 'C', 'E', 'G']\n",
    "\n",
    "print('#'*30, f\"{'A':^15s}\" , '#' * 30, '\\n') # 출력되는 결과들을 분리해서 보여주기 위한 코드입니다.\n",
    "print(A)\n",
    "print('#'*30, f\"{'index':^15s}\" , '#' * 30, '\\n') # 출력되는 결과들을 분리해서 보여주기 위한 코드입니다.\n",
    "print(index)\n",
    "print('\\n','#'*30, f\"{'pd.Series(A, index = index)':^15s}\" , '#' * 30, '\\n') # 출력되는 결과들을 분리해서 보여주기 위한 코드입니다.\n",
    "print(pd.Series(A, index = index))"
   ]
  },
  {
   "cell_type": "markdown",
   "id": "ead53e7e-9785-4618-8cc8-385ed7a20975",
   "metadata": {},
   "source": [
    "> **❓ 생각해보기(QUESTION):**\n",
    ">\n",
    "> 시리즈를 만들 때에 리스트, 딕셔너리를 사용하는 방법 각각의 장점과 단점이 무엇인지 이야기해 봅시다. "
   ]
  },
  {
   "cell_type": "raw",
   "id": "fd1a55cf-d65f-44f3-b6f6-117b2eb369da",
   "metadata": {},
   "source": [
    "질문에 대한 대답을 여기에 적어봅시다."
   ]
  },
  {
   "cell_type": "markdown",
   "id": "a2289c0f-bd0f-4b3a-b353-59e2b89c26ca",
   "metadata": {
    "tags": []
   },
   "source": [
    "### **💯 연습문제를 풀어봅시다**\n",
    "\n",
    "1. <a class=\"jcecodle-mk jcecodle-mk__problem-chip\" data-problem-id=\"CrwnIWE7d1E\" href='#jce-judge/open/CrwnIWE7d1E' target='_self'><span>판다스 기초 - 시리즈 만들기 (1)</span></a>\n",
    "\n",
    "2. <a class=\"jcecodle-mk jcecodle-mk__problem-chip\" data-problem-id=\"84ASSq3j5vw\" href='#jce-judge/open/84ASSq3j5vw' target='_self'><span>판다스 기초 - 시리즈 만들기 (2)</span></a>\n",
    "\n",
    "3. <a class=\"jcecodle-mk jcecodle-mk__problem-chip\" data-problem-id=\"85s1anMGz4o\" href='#jce-judge/open/85s1anMGz4o' target='_self'><span>판다스 기초 - 시리즈 만들기 (3)</span></a>\n",
    "\n",
    "4. <a class=\"jcecodle-mk jcecodle-mk__problem-chip\" data-problem-id=\"q6IFlnD9qnI\" href='#jce-judge/open/q6IFlnD9qnI' target='_self'><span>판다스 기초 - 시리즈 만들기 (4)</span></a>\n",
    "\n",
    "5. <a class=\"jcecodle-mk jcecodle-mk__problem-chip\" data-problem-id=\"TDAycODI5Ms\" href='#jce-judge/open/TDAycODI5Ms' target='_self'><span>판다스 기초 - 시리즈 이름 설정</span></a>\n",
    "\n",
    "6. <a class=\"jcecodle-mk jcecodle-mk__problem-chip\" data-problem-id=\"CIjtA1UO4P0\" href='#jce-judge/open/CIjtA1UO4P0' target='_self'><span>판다스 기초 - 아이돌과 노래</span></a>\n",
    "\n",
    "7. <a class=\"jcecodle-mk jcecodle-mk__problem-chip\" data-problem-id=\"XafKcm_cCbg\" href='#jce-judge/open/XafKcm_cCbg' target='_self'><span>판다스 기초 - MBTI시리즈</span></a>\n",
    "\n",
    "8. <a class=\"jcecodle-mk jcecodle-mk__problem-chip\" data-problem-id=\"l704ja9Qjcw\" href='#jce-judge/open/l704ja9Qjcw' target='_self'><span>판다스 기초 - 과일 시리즈</span></a>\n",
    "\n",
    "\n"
   ]
  },
  {
   "cell_type": "markdown",
   "id": "e8d048b7-3ebd-4bd1-903b-f5c18600a7ef",
   "metadata": {
    "jp-MarkdownHeadingCollapsed": true,
    "tags": []
   },
   "source": [
    "<div style=\"padding: 15px; border: 5px solid transparent; border-color: transparent; margin-bottom: 20px; border-radius: 4px; color: #3c763d; border-color: #d6e9c6; font-weight: bold;\">\n",
    "<h2 style='font-weight: bold'>6. 데이터프레임(DataFrame) 만들기</h2>\n",
    "</div> "
   ]
  },
  {
   "cell_type": "markdown",
   "id": "08618054-d037-4751-aca9-032d76e67d21",
   "metadata": {
    "jp-MarkdownHeadingCollapsed": true,
    "tags": []
   },
   "source": [
    "데이터프레임(DataFrame)는 2차원 리스트(2D list)와 중첩 딕셔너리(Nested Dictionary)를 이용해 만들 수 있습니다.\n",
    "\n",
    "> **🔨 함수(FUNCTIONS):**\n",
    ">\n",
    "> **`pd.DataFrame(data=리스트_또는_딕셔너리_또는_시리즈, columns=리스트, index=리스트)`**  \n",
    "> 데이터프레임(DataFrame)을 만듭니다.  \n",
    ">> **매개변수(parameter)**\n",
    ">>\n",
    ">> **`data`** : 데이터프레임에 채워지는 데이터입니다.  \n",
    ">> 리스트, 딕셔너리, 시리즈, 2차원 리스트, 중첩 딕셔너리 등이 사용될 수 있습니다.  \n",
    ">> **`columns`** : 열들의 이름이 담긴 리스트입니다.  \n",
    ">> 지정하지 않으면 데이터로 부터 자동으로 만들어집니다.(딕셔너리, 이름이 있는 시리즈)  \n",
    ">> 데이터로부터 만들 수 없으면 자동으로 0부터 시작하는 열이름을 만듭니다.  \n",
    ">> **`index`** : 데이터의 행방향 인덱스 지정하는 리스트입니다.  \n",
    ">> 지정하지 않으면 데이터로 부터 자동으로 만들어집니다.(딕셔너리, 이름이 있는 시리즈)  \n",
    ">> 데이터로부터 만들 수 없으면 자동으로 0부터 시작하는 인덱스를 만듭니다.  \n",
    "> ---\n",
    "\n"
   ]
  },
  {
   "cell_type": "markdown",
   "id": "ce9a0a53-10c5-497d-ab3f-83b7b4b8f3da",
   "metadata": {},
   "source": [
    "### 리스트로 데이터프레임을 만들어봅시다.\n",
    "\n",
    "1차원 리스트로 데이터프레임을 만들면 하나의 열을 가진 데이터프레임이 만들어집니다.  \n",
    "\n",
    "<table>\n",
    "<tr>\n",
    "    <th><img src=\"https://tmn-bucket-materials-all.s3.ap-northeast-2.amazonaws.com/image/pandas/material_02_05.gif\" width=\"750\"></th>\n",
    "</tr>\n",
    "<tr>\n",
    "    <th>1차원 리스트로 데이터프레임 만들기</th>\n",
    "</tr>\n",
    "</table>\n",
    "\n",
    "2차원 리스트를 사용하면 여러개의 열을 가진 데이터프레임을 만들 수 있습니다.  \n",
    "내부의 리스트가 하나의 행이 됩니다.  \n",
    "\n",
    "<table>\n",
    "<tr>\n",
    "    <th><img src=\"https://tmn-bucket-materials-all.s3.ap-northeast-2.amazonaws.com/image/pandas/material_02_06.gif\" width=\"750\"></th>\n",
    "</tr>\n",
    "<tr>\n",
    "    <th>2차원 리스트로 데이터프레임 만들기</th>\n",
    "</tr>\n",
    "</table>\n",
    "\n",
    "리스트는 딕셔너리와는 다르게 키 값을 가지고 있지 않기 때문에 `columns`나 `index` 매개변수를 설정해주지 않으면 0부터 시작하는 인덱스와 열이름을 자동으로 만들게됩니다.  \n",
    "\n",
    "<table>\n",
    "<tr>\n",
    "    <th><img src=\"https://tmn-bucket-materials-all.s3.ap-northeast-2.amazonaws.com/image/pandas/material_02_07.gif\" width=\"750\"></th>\n",
    "</tr>\n",
    "<tr>\n",
    "    <th>2차원 리스트로 인덱스, 열 설정하여 데이터프레임 만들기</th>\n",
    "</tr>\n",
    "</table>\n",
    "\n",
    "> **⛔️ 오류(ERROR):**\n",
    ">\n",
    "> 2중 리스트로 데이터프레임을 만들 때 인덱스의 길이, 열이름 리스트의 길이와 데이터의 길이가 맞지 않으면 오류를 발생시킵니다.\n"
   ]
  },
  {
   "cell_type": "code",
   "execution_count": null,
   "id": "225be84a-7579-4ace-9a7a-96f2a1c0d5d2",
   "metadata": {
    "tags": []
   },
   "outputs": [],
   "source": [
    "# 예제_1_리스트로부터_데이터프레임_만들기\n",
    "\n",
    "import pandas as pd\n",
    "\n",
    "A = ['사과', '오렌지', '포도', '딸기', '수박']\n",
    "\n",
    "print('#'*30, f\"{'A':^15s}\" , '#' * 30, '\\n') # 출력되는 결과들을 분리해서 보여주기 위한 코드입니다.\n",
    "print(A)\n",
    "print('\\n','#'*30, f\"{'pd.DataFrame(A)':^15s}\" , '#' * 30, '\\n') # 출력되는 결과들을 분리해서 보여주기 위한 코드입니다.\n",
    "print(pd.DataFrame(A))"
   ]
  },
  {
   "cell_type": "code",
   "execution_count": null,
   "id": "a35cff4b-3d83-4b33-b571-b2b748a50a04",
   "metadata": {},
   "outputs": [],
   "source": [
    "# 예제_2_2차원_리스트로부터_데이터프레임_만들기\n",
    "\n",
    "import pandas as pd\n",
    "\n",
    "A = [['사과',1000], ['오렌지',2300], ['포도',5300], ['딸기',12000], ['수박',20000]]\n",
    "\n",
    "print('#'*30, f\"{'A':^15s}\" , '#' * 30, '\\n') # 출력되는 결과들을 분리해서 보여주기 위한 코드입니다.\n",
    "print(A)\n",
    "print('\\n','#'*30, f\"{'pd.DataFrame(A)':^15s}\" , '#' * 30, '\\n') # 출력되는 결과들을 분리해서 보여주기 위한 코드입니다.\n",
    "print(pd.DataFrame(A))"
   ]
  },
  {
   "cell_type": "code",
   "execution_count": null,
   "id": "45f17d6c-78bc-49a8-85c4-87790938b2e4",
   "metadata": {},
   "outputs": [],
   "source": [
    "# 예제_3_2차원_리스트에_인덱스_열_설정해_데이터프레임_만들기\n",
    "\n",
    "import pandas as pd\n",
    "\n",
    "A = [['사과',1000], ['오렌지',2300], ['포도',5300], ['딸기',12000], ['수박',20000]]\n",
    "index = ['A', 'B', 'C', 'D', 'E']\n",
    "columns = ['과일','가격']\n",
    "\n",
    "print('#'*30, f\"{'A':^15s}\" , '#' * 30, '\\n') # 출력되는 결과들을 분리해서 보여주기 위한 코드입니다.\n",
    "print(A)\n",
    "print('#'*30, f\"{'index':^15s}\" , '#' * 30, '\\n') # 출력되는 결과들을 분리해서 보여주기 위한 코드입니다.\n",
    "print(index)\n",
    "print('#'*30, f\"{'columns':^15s}\" , '#' * 30, '\\n') # 출력되는 결과들을 분리해서 보여주기 위한 코드입니다.\n",
    "print(columns)\n",
    "print('\\n','#'*30, f\"{'pd.DataFrame(A)':^15s}\" , '#' * 30, '\\n') # 출력되는 결과들을 분리해서 보여주기 위한 코드입니다.\n",
    "print(pd.DataFrame(A, index=index, columns=columns))"
   ]
  },
  {
   "cell_type": "code",
   "execution_count": null,
   "id": "736a7f3f-7114-4d93-a739-7ebf41272c23",
   "metadata": {},
   "outputs": [],
   "source": [
    "# 예제_4_2차원_리스트에_인덱스_열_설정해_데이터프레임_만들떄에_오류발생\n",
    "\n",
    "import pandas as pd\n",
    "\n",
    "A = [['사과',1000], ['오렌지',2300], ['포도',5300], ['딸기',12000], ['수박',20000]]\n",
    "index = ['A', 'B', 'C', 'D', 'E']\n",
    "columns = ['과일']\n",
    "\n",
    "print('#'*30, f\"{'A':^15s}\" , '#' * 30, '\\n') # 출력되는 결과들을 분리해서 보여주기 위한 코드입니다.\n",
    "print(A)\n",
    "print('#'*30, f\"{'index':^15s}\" , '#' * 30, '\\n') # 출력되는 결과들을 분리해서 보여주기 위한 코드입니다.\n",
    "print(index)\n",
    "print('#'*30, f\"{'columns':^15s}\" , '#' * 30, '\\n') # 출력되는 결과들을 분리해서 보여주기 위한 코드입니다.\n",
    "print(columns)\n",
    "print('\\n','#'*30, f\"{'pd.DataFrame(A)':^15s}\" , '#' * 30, '\\n') # 출력되는 결과들을 분리해서 보여주기 위한 코드입니다.\n",
    "print(pd.DataFrame(A, index=index, columns=columns))"
   ]
  },
  {
   "cell_type": "markdown",
   "id": "9c297e09-4360-4044-80f7-b7420985deeb",
   "metadata": {
    "tags": []
   },
   "source": [
    "### 딕셔너리로 데이터프레임을 만들어봅시다.\n",
    "\n",
    "딕셔너리로 데이터프레임을 만들면 하나의 행을 가진 데이터프레임이 만들어집니다.  \n",
    "이때에는 반드시 인덱스를 설정해주어야 합니다.\n",
    "\n",
    "<table>\n",
    "<tr>\n",
    "    <th><img src=\"https://tmn-bucket-materials-all.s3.ap-northeast-2.amazonaws.com/image/pandas/material_02_08.gif\" width=\"750\"></th>\n",
    "</tr>\n",
    "<tr>\n",
    "    <th>딕셔너리로 데이터프레임 만들기</th>\n",
    "</tr>\n",
    "</table>\n",
    "\n",
    "중첩 딕셔너리를 사용하면 여러개의 열을 가진 데이터프레임을 만들 수 있습니다.  \n",
    "내부의 딕셔너리가 하나의 행이 됩니다.  \n",
    "\n",
    "<table>\n",
    "<tr>\n",
    "    <th><img src=\"https://tmn-bucket-materials-all.s3.ap-northeast-2.amazonaws.com/image/pandas/material_02_09.gif\" width=\"750\"></th>\n",
    "</tr>\n",
    "<tr>\n",
    "    <th>중첩 딕셔너리로 데이터프레임 만들기</th>\n",
    "</tr>\n",
    "</table>\n",
    "\n",
    "딕셔너리와는 키 값을 가지고 있기 때문에 `columns`나 `index` 매개변수를 설정해주지 않아도 자동으로 인덱스와 열이름이 자동으로 설정됩니다.  \n",
    "\n",
    "> **⚠️ 주의(WARNING):**\n",
    ">\n",
    "> 중첩 딕셔너리로 데이터프레임을 만들 때 인덱스나 열이름을 지정하면 매개변수로 전달한 인덱스와 열이름을 기준으로 데이터프레임이 만들어집니다.  \n",
    "> 따라서 딕셔너리에 키(Key)가 존재하지 않는 인덱스, 열에는 데이터가 지정되지 않습니다.\n",
    ">\n",
    "> <table>\n",
    "> <tr>\n",
    ">     <th><img src=\"https://tmn-bucket-materials-all.s3.ap-northeast-2.amazonaws.com/image/pandas/material_02_10.gif\" width=\"750\"></th>\n",
    "> </tr>\n",
    "> <tr>\n",
    ">     <th>중첩 딕셔너리로 인덱스, 열 설정하여 데이터프레임 만들기</th>\n",
    "> </tr>\n",
    "> </table>\n",
    "\n",
    "> **⚠️ 주의(WARNING):**\n",
    ">\n",
    "> 중첩 딕셔너리로 데이터프레임을 만들 때 내부 딕셔너리의 모든 키가 인덱스가 됩니다.  \n",
    "> 따라서 내부 딕셔너리들의 키 값이 동일하지 않으면 특정 열에 존재하지 않는 키에는 값이 들어가지 않습니다.\n",
    ">\n",
    "> <table>\n",
    "> <tr>\n",
    ">     <th><img src=\"https://tmn-bucket-materials-all.s3.ap-northeast-2.amazonaws.com/image/pandas/material_02_11.gif\" width=\"750\"></th>\n",
    "> </tr>\n",
    "> <tr>\n",
    ">     <th>키가 다른중첩 딕셔너리로 데이터프레임 만들기</th>\n",
    "> </tr>\n",
    "> </table>\n",
    "\n"
   ]
  },
  {
   "cell_type": "code",
   "execution_count": null,
   "id": "452377b1-977c-46a4-929e-b4bb4170c2d2",
   "metadata": {
    "tags": []
   },
   "outputs": [],
   "source": [
    "# 예제_5_딕셔너리로부터_시리즈_만들기\n",
    "\n",
    "import pandas as pd\n",
    "\n",
    "A = {'A':'사과', 'B':'오렌지', 'C':'포도', 'D':'딸기', 'E':'수박'}\n",
    "index = ['과일']\n",
    "\n",
    "print('#'*30, f\"{'A':^15s}\" , '#' * 30, '\\n') # 출력되는 결과들을 분리해서 보여주기 위한 코드입니다.\n",
    "print(A)\n",
    "print('\\n','#'*30, f\"{'pd.DataFrame(A, index = index)':^15s}\" , '#' * 30, '\\n') # 출력되는 결과들을 분리해서 보여주기 위한 코드입니다.\n",
    "print(pd.DataFrame(A, index = index))"
   ]
  },
  {
   "cell_type": "code",
   "execution_count": null,
   "id": "22879628-2232-4b8b-8a11-61001e5f36b5",
   "metadata": {
    "tags": []
   },
   "outputs": [],
   "source": [
    "# 예제_6_중첩_딕셔너리로부터_데이터프레임_만들기\n",
    "\n",
    "import pandas as pd\n",
    "\n",
    "A = {'과일' : {'A':'사과', 'B':'오렌지', 'C':'포도', 'D':'딸기', 'E':'수박'},\n",
    "     '가격' : {'A':1000, 'B':2300, 'C':5300, 'D':12000, 'E':20000}}\n",
    "\n",
    "print('#'*30, f\"{'A':^15s}\" , '#' * 30, '\\n') # 출력되는 결과들을 분리해서 보여주기 위한 코드입니다.\n",
    "print(A)\n",
    "print('\\n','#'*30, f\"{'pd.DataFrame(A)':^15s}\" , '#' * 30, '\\n') # 출력되는 결과들을 분리해서 보여주기 위한 코드입니다.\n",
    "print(pd.DataFrame(A))"
   ]
  },
  {
   "cell_type": "code",
   "execution_count": null,
   "id": "e1ae9d1b-3ebd-4e4e-b188-06668a3dcadc",
   "metadata": {},
   "outputs": [],
   "source": [
    "# 예제_7_중첩_딕셔너리로부터_인덱스와_열_설정하여_데이터프레임_만들기\n",
    "\n",
    "import pandas as pd\n",
    "\n",
    "A = {'과일' : {'A':'사과', 'B':'오렌지', 'C':'포도', 'D':'딸기', 'E':'수박'},\n",
    "     '가격' : {'A':1000, 'B':2300, 'C':5300, 'D':12000, 'E':20000}}\n",
    "\n",
    "index = ['A','C','E','G']\n",
    "\n",
    "columns = ['과일', '판매량']\n",
    "\n",
    "print('#'*30, f\"{'A':^15s}\" , '#' * 30, '\\n') # 출력되는 결과들을 분리해서 보여주기 위한 코드입니다.\n",
    "print(A)\n",
    "print('#'*30, f\"{'index':^15s}\" , '#' * 30, '\\n') # 출력되는 결과들을 분리해서 보여주기 위한 코드입니다.\n",
    "print(index)\n",
    "print('#'*30, f\"{'columns':^15s}\" , '#' * 30, '\\n') # 출력되는 결과들을 분리해서 보여주기 위한 코드입니다.\n",
    "print(columns)\n",
    "print('\\n','#'*30, f\"{'pd.DataFrame(A, index = index, columns = columns)':^15s}\" , '#' * 30, '\\n') # 출력되는 결과들을 분리해서 보여주기 위한 코드입니다.\n",
    "print(pd.DataFrame(A, index = index, columns = columns))"
   ]
  },
  {
   "cell_type": "code",
   "execution_count": null,
   "id": "26086f4e-c3f0-4a75-90db-84a9c64043ae",
   "metadata": {
    "tags": []
   },
   "outputs": [],
   "source": [
    "# 예제_8_키가_서로_다른_내부_딕셔너리들로_데이터프레임_만들기\n",
    "\n",
    "import pandas as pd\n",
    "\n",
    "A = {'과일' : {'A':'사과', 'B':'오렌지', 'C':'포도', 'D':'딸기', 'E':'수박'},\n",
    "     '가격' : {'A':1000, 'B':2300, 'D':5300, 'E':12000, 'F':20000}}\n",
    "\n",
    "print('#'*30, f\"{'A':^15s}\" , '#' * 30, '\\n') # 출력되는 결과들을 분리해서 보여주기 위한 코드입니다.\n",
    "print(A)\n",
    "print('\\n','#'*30, f\"{'pd.DataFrame(A)':^15s}\" , '#' * 30, '\\n') # 출력되는 결과들을 분리해서 보여주기 위한 코드입니다.\n",
    "print(pd.DataFrame(A))"
   ]
  },
  {
   "cell_type": "markdown",
   "id": "0a924d2c-1c2b-4b72-849e-6a28d97d1276",
   "metadata": {},
   "source": [
    "> **❓ 생각해보기(QUESTION):**\n",
    ">\n",
    "> 중첩딕셔너리, 이차원 리스트 를 사용하지 않고 여러 열이 존재하는 데이터프레임을 만들 수 있는 방법에는 어떤 것들이 있을까요??"
   ]
  },
  {
   "cell_type": "raw",
   "id": "4471fce5-734c-40c0-b36c-d866768b8ec3",
   "metadata": {},
   "source": [
    "질문에 대한 대답을 여기에 적어봅시다."
   ]
  },
  {
   "cell_type": "markdown",
   "id": "f6790dc1-146c-4152-bc0a-e8eb5ca04296",
   "metadata": {},
   "source": [
    "### **💯 연습문제를 풀어봅시다**\n",
    "\n",
    "1. <a class=\"jcecodle-mk jcecodle-mk__problem-chip\" data-problem-id=\"Xh1DevGAlLw\" href='#jce-judge/open/Xh1DevGAlLw' target='_self'><span>판다스 기초 - 데이터프레임 만들기 (1)</span></a>\n",
    "2. <a class=\"jcecodle-mk jcecodle-mk__problem-chip\" data-problem-id=\"ADYF5AHX8GM\" href='#jce-judge/open/ADYF5AHX8GM' target='_self'><span>판다스 기초 - 데이터프레임 만들기 (2)</span></a>\n",
    "3. <a class=\"jcecodle-mk jcecodle-mk__problem-chip\" data-problem-id=\"Izw6Imoo8sw\" href='#jce-judge/open/Izw6Imoo8sw' target='_self'><span>판다스 기초 - 데이터 프레임 만들기 (3)</span></a>\n",
    "4. <a class=\"jcecodle-mk jcecodle-mk__problem-chip\" data-problem-id=\"aq6ucbLA_y4\" href='#jce-judge/open/aq6ucbLA_y4' target='_self'><span>판다스 기초 - 데이터프레임 만들기 (4) </span></a>\n",
    "\n",
    "5. <a class=\"jcecodle-mk jcecodle-mk__problem-chip\" data-problem-id=\"vpBef1UIrLw\" href='#jce-judge/open/vpBef1UIrLw' target='_self'><span>판다스 기초 - column 설정</span></a>\n",
    "\n",
    "\n",
    "6. <a class=\"jcecodle-mk jcecodle-mk__problem-chip\" data-problem-id=\"6Xpf_-O94p8\" href='#jce-judge/open/6Xpf_-O94p8' target='_self'><span>학교급 정리</span></a>\n",
    "\n",
    "7. <a class=\"jcecodle-mk jcecodle-mk__problem-chip\" data-problem-id=\"dvSyyHJ5xVg\" href='#jce-judge/open/dvSyyHJ5xVg' target='_self'><span>1차원 리스트와 데이터 프레임</span></a>\n",
    "\n",
    "8. <a class=\"jcecodle-mk jcecodle-mk__problem-chip\" data-problem-id=\"dOs6vElAXPI\" href='#jce-judge/open/dOs6vElAXPI' target='_self'><span>2차원 리스트와 데이터 프레임</span></a>\n",
    "\n",
    "9. <a class=\"jcecodle-mk jcecodle-mk__problem-chip\" data-problem-id=\"5QU23_sl_qE\" href='#jce-judge/open/5QU23_sl_qE' target='_self'><span>중첩 딕셔너리와 데이터 프레임</span></a>\n"
   ]
  }
 ],
 "metadata": {
  "kernelspec": {
   "display_name": "Python 3 (ipykernel)",
   "language": "python",
   "name": "python3"
  },
  "language_info": {
   "codemirror_mode": {
    "name": "ipython",
    "version": 3
   },
   "file_extension": ".py",
   "mimetype": "text/x-python",
   "name": "python",
   "nbconvert_exporter": "python",
   "pygments_lexer": "ipython3",
   "version": "3.11.3"
  }
 },
 "nbformat": 4,
 "nbformat_minor": 5
}
