{
 "cells": [
  {
   "cell_type": "markdown",
   "id": "a8aece73-250f-4910-a493-8ecfb0db9264",
   "metadata": {
    "tags": []
   },
   "source": [
    "<div style=\"padding: 15px; border: 5px solid transparent; border-color: transparent; margin-bottom: 20px; border-radius: 4px; color: #3c763d; background-color: #dff0d8; border-color: #d6e9c6; font-weight: bold;\">\n",
    "    <br><br>\n",
    "    <div style=\"font-weight: bold; font-size: 40px\">파이썬으로 끝내는 데이터 과학</div>\n",
    "    <div style=\"font-weight: bold; font-size: 20px\">[14] Pandas를 이용한 데이터 분석-6</div>\n",
    "    <hr style=\"width:80%;text-align:left;margin-left:0;border:0.5px solid green\">\n",
    "    <br>\n",
    "    &#x2022; 데이터프레임(DataFrame)에 행과 열을 추가해봅시다.<br>\n",
    "    &#x2022; 데이터프레임(DataFrame)에 행과 열을 삭제해봅시다.<br>\n",
    "    &#x2022; 여러 데이터를 합쳐봅시다.<br>\n",
    "    &#x2022; Pandas를 사용해 시리즈, 데이터프레임에 존재하는 결측값들을 확인할 수 있습니다.<br>\n",
    "    &#x2022; Pandas를 사용해 시리즈, 데이터프레임에 존재하는 결측값들을 제거할 수 있습니다.<br>\n",
    "    &#x2022; Pandas를 사용해 시리즈, 데이터프레임에 존재하는 결측값들을 원하는 값으로 변경할 수 있습니다.<br>\n",
    "    \n",
    "</div>"
   ]
  },
  {
   "cell_type": "markdown",
   "id": "74e0c113-0bcc-4db6-bc8e-0a2c8c6c6367",
   "metadata": {
    "jp-MarkdownHeadingCollapsed": true,
    "tags": []
   },
   "source": [
    "<div style=\"padding: 15px; border: 5px solid transparent; border-color: transparent; margin-bottom: 20px; border-radius: 4px; color: #3c763d; border-color: #d6e9c6; font-weight: bold;\">\n",
    "<h2 style='font-weight: bold'>1. 데이터프레임(DataFrame)에 행과 열 추가하기</h2>\n",
    "</div> "
   ]
  },
  {
   "cell_type": "markdown",
   "id": "cdbb972c-e200-44d0-abb3-f75449f47567",
   "metadata": {
    "jp-MarkdownHeadingCollapsed": true,
    "tags": []
   },
   "source": [
    "데이터를 다루다 보면 새로운 데이터가 필요해 추가해야 하는 경우가 생깁니다.   \n",
    "행이나 열을 기준으로 데이터를 추가하는 방법을 배워봅시다. "
   ]
  },
  {
   "cell_type": "markdown",
   "id": "d5a2041b-568c-4bd1-93b4-659c2c0e0829",
   "metadata": {
    "tags": []
   },
   "source": [
    "### 데이터프레임에 열 추가하기\n",
    "\n",
    "데이터프레임에 열을 추가하기 위해서는 추가하고 싶은 이름의 열을 인덱싱하고 그 열에 같은 사이즈의 데이터를 넣어주면 됩니다.  \n",
    "이렇게 하면 가장 마지막 순서에 지정한 열이 추가됩니다.\n",
    "\n",
    "`DataFrame['추가하고싶은_열이름'] = 리스트_또는_시리즈`\n",
    "\n",
    "> **⚠️ 주의(WARNING):**\n",
    ">\n",
    "> 추가하고싶은 열이름이 이미 존재하면 기존에 존재하는 열에 덮어쓰기 됩니다.\n",
    "\n",
    "> **⚠️ 주의(WARNING):**\n",
    ">\n",
    "> 데이터프레임에 열을 추가하면 원본 데이터가 수정됩니다.\n",
    "\n",
    "> **⛔️ 오류(ERROR):**\n",
    ">\n",
    "> 추가하고 싶은 리스트, 시리즈의 길이와 데이터프레임의 행의 수가 다르면 오류가 발생합니다.\n",
    "\n",
    "<table>\n",
    "<tr>\n",
    "    <th><img src=\"https://tmn-bucket-materials-all.s3.ap-northeast-2.amazonaws.com/image/pandas/material_07_10.gif\" width=\"750\"></th>\n",
    "</tr>\n",
    "<tr>\n",
    "    <th>데이터프레임에 새로운 열 추가하기</th>\n",
    "</tr>\n",
    "</table>\n",
    "  \n",
    "마찬가지로 브로드캐스팅을 적용할 수 있습니다.\n",
    "\n",
    "<table>\n",
    "<tr>\n",
    "    <th><img src=\"https://tmn-bucket-materials-all.s3.ap-northeast-2.amazonaws.com/image/pandas/material_07_11.gif\" width=\"750\"></th>\n",
    "</tr>\n",
    "<tr>\n",
    "    <th>브로드캐스팅 이용해 데이터프레임에 새로운 열 추가하기</th>\n",
    "</tr>\n",
    "</table>\n",
    "\n",
    "시리즈를 사용해 데이터프레임에 열을 추가하면 행 인덱스와 동일한 인덱스를 가진 데이터만 데이터프레임에 추가된다.\n",
    "\n",
    "<table>\n",
    "<tr>\n",
    "    <th><img src=\"https://tmn-bucket-materials-all.s3.ap-northeast-2.amazonaws.com/image/pandas/material_07_12.gif\" width=\"750\"></th>\n",
    "</tr>\n",
    "<tr>\n",
    "    <th>인덱스가 다른 시리즈를 이용해 데이터프레임에 새로운 열 추가하기</th>\n",
    "</tr>\n",
    "</table>"
   ]
  },
  {
   "cell_type": "code",
   "execution_count": null,
   "id": "f9873ea7-53f3-49f8-90a2-5198ed8fc7f5",
   "metadata": {
    "tags": []
   },
   "outputs": [],
   "source": [
    "# 예제_1_데이터프레임의_새로운_열_추가하기\n",
    "\n",
    "import pandas as pd\n",
    "import random\n",
    "\n",
    "score = pd.read_csv('https://tmn-bucket-materials-all.s3.ap-northeast-2.amazonaws.com/data/midterm_exam_result.csv')\n",
    "score.index = score['이름']\n",
    "score = score.iloc[:,1:]\n",
    "new_score = [random.randint(0,100) for i in range(30)]\n",
    "\n",
    "print('#'*30, f\"{'score':^15s}\" , '#' * 30, '\\n') # 출력되는 결과들을 분리해서 보여주기 위한 코드입니다.\n",
    "print(score)\n",
    "print('#'*30, f\"{'new_score':^15s}\" , '#' * 30, '\\n') # 출력되는 결과들을 분리해서 보여주기 위한 코드입니다.\n",
    "print(new_score)\n",
    "print('\\n','#'*30, \"{:^15s}\".format('score[\"사회\"] = new_score') , '#' * 30, '\\n') # 출력되는 결과들을 분리해서 보여주기 위한 코드입니다.\n",
    "score[\"사회\"] = new_score\n",
    "print(score)"
   ]
  },
  {
   "cell_type": "code",
   "execution_count": null,
   "id": "b0ce4287-e6d9-489d-9ceb-5b772be1d7a7",
   "metadata": {},
   "outputs": [],
   "source": [
    "# 예제_2_새로운_열을_브로드캐스팅을_이용해_추가하기\n",
    "\n",
    "import pandas as pd\n",
    "import random\n",
    "\n",
    "score = pd.read_csv('https://tmn-bucket-materials-all.s3.ap-northeast-2.amazonaws.com/data/midterm_exam_result.csv')\n",
    "score.index = score['이름']\n",
    "score = score.iloc[:,1:]\n",
    "new_score = pd.Series([10,20,30,40,50])\n",
    "\n",
    "print('#'*30, f\"{'score':^15s}\" , '#' * 30, '\\n') # 출력되는 결과들을 분리해서 보여주기 위한 코드입니다.\n",
    "print(score)\n",
    "print('#'*30, f\"{'new_score':^15s}\" , '#' * 30, '\\n') # 출력되는 결과들을 분리해서 보여주기 위한 코드입니다.\n",
    "print(new_score)\n",
    "print('\\n','#'*30, \"{:^15s}\".format('score[\"사회\"] = 75') , '#' * 30, '\\n') # 출력되는 결과들을 분리해서 보여주기 위한 코드입니다.\n",
    "score[\"사회\"] = 75\n",
    "print(score)"
   ]
  },
  {
   "cell_type": "code",
   "execution_count": null,
   "id": "e266a701-08ab-44cc-b37e-389a728b4aa7",
   "metadata": {
    "tags": []
   },
   "outputs": [],
   "source": [
    "# 예제_3_새로운_열을_인덱스가_다른_시리즈를_이용해_추가하기\n",
    "\n",
    "import pandas as pd\n",
    "import random\n",
    "\n",
    "score = pd.read_csv('https://tmn-bucket-materials-all.s3.ap-northeast-2.amazonaws.com/data/midterm_exam_result.csv')\n",
    "score.index = score['이름']\n",
    "score = score.iloc[:,1:]\n",
    "new_score = pd.Series([random.randint(0,100) for i in range(15)], list(score.index)[:15])\n",
    "\n",
    "print('#'*30, f\"{'score':^15s}\" , '#' * 30, '\\n') # 출력되는 결과들을 분리해서 보여주기 위한 코드입니다.\n",
    "print(score)\n",
    "print('#'*30, f\"{'new_score':^15s}\" , '#' * 30, '\\n') # 출력되는 결과들을 분리해서 보여주기 위한 코드입니다.\n",
    "print(new_score)\n",
    "print('\\n','#'*30, \"{:^15s}\".format('score[\"사회\"] = new_score') , '#' * 30, '\\n') # 출력되는 결과들을 분리해서 보여주기 위한 코드입니다.\n",
    "score[\"사회\"] = new_score\n",
    "print(score)"
   ]
  },
  {
   "cell_type": "markdown",
   "id": "5486853c-1a78-4f69-bce5-e93698601c5c",
   "metadata": {
    "tags": []
   },
   "source": [
    "### 데이터프레임에 행 추가하기\n",
    "\n",
    "데이터프레임에 행을 추가하기 위해서는 추가하고 싶은 행을 인덱싱하고 그 행에 같은 사이즈의 데이터를 넣어주면 됩니다.  \n",
    "이렇게 하면 가장 마지막 순서에 지정한 행이 추가됩니다.\n",
    "\n",
    "`DataFrame.loc['추가하고싶은_행_인덱스'] = 리스트_또는_시리즈`\n",
    "\n",
    "> **⚠️ 주의(WARNING):**\n",
    ">\n",
    "> 추가하고싶은 행의 인덱스가 이미 존재하면 기존에 존재하는 행에 덮어쓰기 됩니다.\n",
    "\n",
    "> **⚠️ 주의(WARNING):**\n",
    ">\n",
    "> 데이터프레임에 행을 추가하면 원본 데이터가 수정됩니다.\n",
    "\n",
    "> **⛔️ 오류(ERROR):**\n",
    ">\n",
    "> 추가하고 싶은 리스트, 시리즈의 길이와 데이터프레임의 열의 수가 다르면 오류가 발생합니다.\n",
    "\n",
    "<table>\n",
    "<tr>\n",
    "    <th><img src=\"https://tmn-bucket-materials-all.s3.ap-northeast-2.amazonaws.com/image/pandas/material_07_13.gif\" width=\"750\"></th>\n",
    "</tr>\n",
    "<tr>\n",
    "    <th>데이터프레임에 새로운 행 추가하기</th>\n",
    "</tr>\n",
    "</table>\n",
    "  \n",
    "마찬가지로 브로드캐스팅을 적용할 수 있습니다.\n",
    "\n",
    "<table>\n",
    "<tr>\n",
    "    <th><img src=\"https://tmn-bucket-materials-all.s3.ap-northeast-2.amazonaws.com/image/pandas/material_07_14.gif\" width=\"750\"></th>\n",
    "</tr>\n",
    "<tr>\n",
    "    <th>브로드캐스팅 이용해 데이터프레임에 새로운 행 추가하기</th>\n",
    "</tr>\n",
    "</table>\n",
    "  \n",
    "\n",
    "시리즈를 사용해 데이터프레임에 행을 추가하면 열이름과 동일한 인덱스를 가진 데이터만 데이터프레임에 추가된다.\n",
    "\n",
    "<table>\n",
    "<tr>\n",
    "    <th><img src=\"https://tmn-bucket-materials-all.s3.ap-northeast-2.amazonaws.com/image/pandas/material_07_15.gif\" width=\"750\"></th>\n",
    "</tr>\n",
    "<tr>\n",
    "    <th>인덱스가 다른 시리즈를 이용해 데이터프레임에 새로운 행 추가하기</th>\n",
    "</tr>\n",
    "</table>\n",
    "  "
   ]
  },
  {
   "cell_type": "code",
   "execution_count": null,
   "id": "ec133bc3-a920-450d-b27a-9ac6d43cad64",
   "metadata": {
    "tags": []
   },
   "outputs": [],
   "source": [
    "# 예제_4_데이터프레임에_새로운_행_추가하기\n",
    "\n",
    "import pandas as pd\n",
    "import random\n",
    "\n",
    "score = pd.read_csv('https://tmn-bucket-materials-all.s3.ap-northeast-2.amazonaws.com/data/midterm_exam_result.csv')\n",
    "score.index = score['이름']\n",
    "score = score.iloc[:,1:]\n",
    "new_score = [100,100,100,100,100]\n",
    "\n",
    "print('#'*30, f\"{'score':^15s}\" , '#' * 30, '\\n') # 출력되는 결과들을 분리해서 보여주기 위한 코드입니다.\n",
    "print(score)\n",
    "print('#'*30, f\"{'new_score':^15s}\" , '#' * 30, '\\n') # 출력되는 결과들을 분리해서 보여주기 위한 코드입니다.\n",
    "print(new_score)\n",
    "print('\\n','#'*30, \"{:^15s}\".format('score.loc[\"최창호\"] = new_score') , '#' * 30, '\\n') # 출력되는 결과들을 분리해서 보여주기 위한 코드입니다.\n",
    "score.loc[\"최창호\"] = new_score\n",
    "print(score)"
   ]
  },
  {
   "cell_type": "code",
   "execution_count": null,
   "id": "093a22ae-e9a3-45be-a271-c920ad27aab2",
   "metadata": {
    "tags": []
   },
   "outputs": [],
   "source": [
    "# 예제_5_데이터프레임에_새로운_행을_브로드캐스팅을_이용해_추가하기\n",
    "\n",
    "import pandas as pd\n",
    "import random\n",
    "\n",
    "score = pd.read_csv('https://tmn-bucket-materials-all.s3.ap-northeast-2.amazonaws.com/data/midterm_exam_result.csv')\n",
    "score.index = score['이름']\n",
    "score = score.iloc[:,1:]\n",
    "\n",
    "print('#'*30, f\"{'score':^15s}\" , '#' * 30, '\\n') # 출력되는 결과들을 분리해서 보여주기 위한 코드입니다.\n",
    "print(score)\n",
    "print('#'*30, f\"{'new_score':^15s}\" , '#' * 30, '\\n') # 출력되는 결과들을 분리해서 보여주기 위한 코드입니다.\n",
    "print(new_score)\n",
    "print('\\n','#'*30, \"{:^15s}\".format('score.loc[\"최창호\"] = 75') , '#' * 30, '\\n') # 출력되는 결과들을 분리해서 보여주기 위한 코드입니다.\n",
    "score.loc[\"최창호\"] = 75\n",
    "print(score)"
   ]
  },
  {
   "cell_type": "code",
   "execution_count": null,
   "id": "83c37e07-e422-49d1-bab7-d2daf7853d98",
   "metadata": {},
   "outputs": [],
   "source": [
    "# 예제_6_데이터프레임에_새로운_행을_열과_인덱스가_다른_시리즈를_이용해_추가하기\n",
    "\n",
    "import pandas as pd\n",
    "import random\n",
    "\n",
    "score = pd.read_csv('https://tmn-bucket-materials-all.s3.ap-northeast-2.amazonaws.com/data/midterm_exam_result.csv')\n",
    "score.index = score['이름']\n",
    "score = score.iloc[:,1:]\n",
    "new_score = pd.Series({'사회':100, '과학':100, '영어':100, '국어':100})\n",
    "\n",
    "print('#'*30, f\"{'score':^15s}\" , '#' * 30, '\\n') # 출력되는 결과들을 분리해서 보여주기 위한 코드입니다.\n",
    "print(score)\n",
    "print('#'*30, f\"{'new_score':^15s}\" , '#' * 30, '\\n') # 출력되는 결과들을 분리해서 보여주기 위한 코드입니다.\n",
    "print(new_score)\n",
    "print('\\n','#'*30, \"{:^15s}\".format('score.loc[\"최창호\"] = new_score') , '#' * 30, '\\n') # 출력되는 결과들을 분리해서 보여주기 위한 코드입니다.\n",
    "score.loc[\"최창호\"] = new_score\n",
    "print(score)"
   ]
  },
  {
   "cell_type": "markdown",
   "id": "649afa8b-3d66-4bf9-83cf-52f142b43024",
   "metadata": {},
   "source": [
    "### **💯 연습문제를 풀어봅시다**\n",
    "\n"
   ]
  },
  {
   "cell_type": "markdown",
   "id": "60d6c105-ce8e-48a6-be07-2b3f9c96bbe2",
   "metadata": {
    "tags": []
   },
   "source": [
    "1. <a class=\"jcecodle-mk jcecodle-mk__problem-chip\" data-problem-id=\"LIBoGXNmeUo\" href='#jce-judge/open/LIBoGXNmeUo' target='_self'><span>판다스 - 데이터 추가 - 열 추가 (2)</span></a>\n",
    "\n",
    "2. <a class=\"jcecodle-mk jcecodle-mk__problem-chip\" data-problem-id=\"vjh20azyC30\" href='#jce-judge/open/vjh20azyC30' target='_self'><span>그룹 추가 (2)</span></a>\n",
    "\n",
    "\n",
    "2. <a class=\"jcecodle-mk jcecodle-mk__problem-chip\" data-problem-id=\"zyaZmyhT5Nk\" href='#jce-judge/open/zyaZmyhT5Nk' target='_self'><span>판다스 - 데이터 추가 - 행 추가</span></a>\n",
    "\n",
    "1. <a class=\"jcecodle-mk jcecodle-mk__problem-chip\" data-problem-id=\"GISIRUm0KbQ\" href='#jce-judge/open/GISIRUm0KbQ' target='_self'><span>친구들 반 정보 추가</span></a>\n",
    "\n",
    "2. <a class=\"jcecodle-mk jcecodle-mk__problem-chip\" data-problem-id=\"qVixOeC6aio\" href='#jce-judge/open/qVixOeC6aio' target='_self'><span>직무스트레스 조사 추가</span></a>\n",
    "\n"
   ]
  },
  {
   "cell_type": "markdown",
   "id": "3405e27c-33d4-4365-8b56-6f882458f7bc",
   "metadata": {
    "jp-MarkdownHeadingCollapsed": true,
    "tags": []
   },
   "source": [
    "<div style=\"padding: 15px; border: 5px solid transparent; border-color: transparent; margin-bottom: 20px; border-radius: 4px; color: #3c763d; border-color: #d6e9c6; font-weight: bold;\">\n",
    "<h2 style='font-weight: bold'>2. 데이터프레임(DataFrame)에 행과 열 삭제하기</h2>\n",
    "</div> "
   ]
  },
  {
   "cell_type": "markdown",
   "id": "19063f5a-41f6-4620-aa14-0f67024f0511",
   "metadata": {},
   "source": [
    "`drop()` 함수를 이용하면 특정 열과 행을 지정해서 삭제할 수 있습니다.\n",
    "\n",
    "> **🔨 함수(FUNCTIONS):**\n",
    ">\n",
    "> **`DataFrame.drop(index = 인덱스_또는_리스트, columns = 열이름_또는_리스트)`**  \n",
    "> index 매개변수로 받은 인덱스의 행과 columns 매개변수로 받은 열이름의 열을 삭제합니다.\n",
    ">> **매개변수(parameter)**\n",
    ">>\n",
    ">> **`index`** : 특정 인덱스를 지정하거나 리스트로 여러 인덱스를 지정할 수 있습니다.  \n",
    ">> 지정된 인덱스를 가진 행들을 삭제합니다.  \n",
    ">> **`columns`** : 특정 열을 지정하거나 리스트로 여러 열을 지정할 수 있습니다.  \n",
    ">> 지정된 열들을 삭제합니다.  \n",
    "> ---\n",
    "\n",
    "\n"
   ]
  },
  {
   "cell_type": "markdown",
   "id": "77cd2d28-b50b-4d2d-89e0-b750a68aaf35",
   "metadata": {
    "tags": []
   },
   "source": [
    "### 데이터프레임의 특정 행과 열 삭제하기\n",
    "\n",
    "`drop()` 함수를 이용하면 데이터프레임의 특정 행, 열을 삭제할 수 있습니다.\n",
    "\n",
    "> **⚠️ 주의(WARNING):**\n",
    ">\n",
    "> 행이나 열을 추가할 때와는 다르게 `drop()` 함수로로 행이나 열을 삭제할 때에는 데이터프레임 원본이 바뀌지 않습니다.  \n",
    "> 따라서 새로운 변수에 수정된 데이터프레임을 할당해주어야 합니다.\n",
    "\n",
    "`drop(index = 인덱스_리스트)` 로 인덱스_리스트에 포함된 인덱스를 가진 행들을 삭제할 수 있습니다.  \n",
    "\n",
    "<table>\n",
    "<tr>\n",
    "    <th><img src=\"https://tmn-bucket-materials-all.s3.ap-northeast-2.amazonaws.com/image/pandas/material_07_16.gif\" width=\"750\"></th>\n",
    "</tr>\n",
    "<tr>\n",
    "    <th>drop() 함수를 이용해 행 삭제하기</th>\n",
    "</tr>\n",
    "</table>\n",
    "  \n",
    "`drop(columns = 열_리스트)` 로 열_리스트에 포함된 열들을 삭제할 수 있습니다.  \n",
    "\n",
    "<table>\n",
    "<tr>\n",
    "    <th><img src=\"https://tmn-bucket-materials-all.s3.ap-northeast-2.amazonaws.com/image/pandas/material_07_17.gif\" width=\"750\"></th>\n",
    "</tr>\n",
    "<tr>\n",
    "    <th>drop() 함수를 이용해 열 삭제하기</th>\n",
    "</tr>\n",
    "</table>\n",
    "\n",
    "`drop(index = 인덱스_리스트, columns = 열_리스트)` 로 인덱스_리스트에 포함된 인덱스를 가진 행과 열_리스트에 포함된 열들을 삭제할 수 있습니다.  \n",
    "\n",
    "<table>\n",
    "<tr>\n",
    "    <th><img src=\"https://tmn-bucket-materials-all.s3.ap-northeast-2.amazonaws.com/image/pandas/material_07_18.gif\" width=\"750\"></th>\n",
    "</tr>\n",
    "<tr>\n",
    "    <th>drop() 함수를 이용해 행과 열 삭제하기</th>\n",
    "</tr>\n",
    "</table>"
   ]
  },
  {
   "cell_type": "code",
   "execution_count": null,
   "id": "53f889e9-0a0c-4e93-a38f-b18ffd1bd1d8",
   "metadata": {
    "tags": []
   },
   "outputs": [],
   "source": [
    "# 예제_1_데이터프레임의_특정_행_삭제하기\n",
    "\n",
    "import pandas as pd\n",
    "import random\n",
    "\n",
    "score = pd.read_csv('https://tmn-bucket-materials-all.s3.ap-northeast-2.amazonaws.com/data/midterm_exam_result.csv')\n",
    "score.index = score['이름']\n",
    "score = score.iloc[:,1:]\n",
    "\n",
    "print('#'*30, f\"{'score':^15s}\" , '#' * 30, '\\n') # 출력되는 결과들을 분리해서 보여주기 위한 코드입니다.\n",
    "print(score)\n",
    "print('\\n','#'*30, \"{:^15s}\".format('score.drop([\"이민준\",\"양서윤\"])') , '#' * 30, '\\n') # 출력되는 결과들을 분리해서 보여주기 위한 코드입니다.\n",
    "print(score.drop([\"이민준\",\"양서윤\"]))"
   ]
  },
  {
   "cell_type": "code",
   "execution_count": null,
   "id": "186132cd-9379-42e3-a8d9-6b604d302619",
   "metadata": {
    "tags": []
   },
   "outputs": [],
   "source": [
    "# 예제_2_데이터프레임의_특정_열_삭제하기\n",
    "\n",
    "import pandas as pd\n",
    "import random\n",
    "\n",
    "score = pd.read_csv('https://tmn-bucket-materials-all.s3.ap-northeast-2.amazonaws.com/data/midterm_exam_result.csv')\n",
    "score.index = score['이름']\n",
    "score = score.iloc[:,1:]\n",
    "\n",
    "print('#'*30, f\"{'score':^15s}\" , '#' * 30, '\\n') # 출력되는 결과들을 분리해서 보여주기 위한 코드입니다.\n",
    "print(score)\n",
    "print('\\n','#'*30, \"{:^15s}\".format('score.drop(columns = [\"국어\",\"영어\"])') , '#' * 30, '\\n') # 출력되는 결과들을 분리해서 보여주기 위한 코드입니다.\n",
    "print(score.drop(columns = [\"국어\",\"영어\"]))"
   ]
  },
  {
   "cell_type": "code",
   "execution_count": null,
   "id": "38a4863b-ab8e-4932-b0c7-50ea07fa1400",
   "metadata": {
    "tags": []
   },
   "outputs": [],
   "source": [
    "# 예제_3_데이터프레임의_특정_행과_열_삭제하기\n",
    "\n",
    "import pandas as pd\n",
    "import random\n",
    "\n",
    "score = pd.read_csv('https://tmn-bucket-materials-all.s3.ap-northeast-2.amazonaws.com/data/midterm_exam_result.csv')\n",
    "score.index = score['이름']\n",
    "score = score.iloc[:,1:]\n",
    "\n",
    "print('#'*30, f\"{'score':^15s}\" , '#' * 30, '\\n') # 출력되는 결과들을 분리해서 보여주기 위한 코드입니다.\n",
    "print(score)\n",
    "print('\\n','#'*30, \"{:^15s}\".format('score.drop([\"이민준\",\"양서윤\"], columns = [\"국어\",\"영어\"])') , '#' * 30, '\\n') # 출력되는 결과들을 분리해서 보여주기 위한 코드입니다.\n",
    "print(score.drop(index = [\"이민준\",\"양서윤\"], columns = [\"국어\",\"영어\"]))"
   ]
  },
  {
   "cell_type": "markdown",
   "id": "71293683-ff7a-40cc-9652-972b9fb7ed7a",
   "metadata": {},
   "source": [
    "### **💯 연습문제를 풀어봅시다**\n",
    "\n"
   ]
  },
  {
   "cell_type": "markdown",
   "id": "080a7efd-59f9-4169-a7fe-dee40a8ddb92",
   "metadata": {
    "tags": []
   },
   "source": [
    "1. <a class=\"jcecodle-mk jcecodle-mk__problem-chip\" data-problem-id=\"N-j0ivbRsm0\" href='#jce-judge/open/N-j0ivbRsm0' target='_self'><span>판다스 - 데이터 삭제 - 열 삭제</span></a>\n",
    "\n",
    "1. \n",
    "<a class=\"jcecodle-mk jcecodle-mk__problem-chip\" data-problem-id=\"kWbt-qyizF4\" href='#jce-judge/open/kWbt-qyizF4' target='_self'><span>판다스 - 데이터 삭제 - 열 삭제(2)</span></a>\n",
    "\n",
    "2. <a class=\"jcecodle-mk jcecodle-mk__problem-chip\" data-problem-id=\"HsbXmwoJ7z0\" href='#jce-judge/open/HsbXmwoJ7z0' target='_self'><span>국영수만 남기기</span></a>\n",
    "\n",
    "2. <a class=\"jcecodle-mk jcecodle-mk__problem-chip\" data-problem-id=\"tte1M-sG8tk\" href='#jce-judge/open/tte1M-sG8tk' target='_self'><span>판다스 - 데이터 삭제 - 행 삭제</span></a>\n",
    "\n",
    "1. <a class=\"jcecodle-mk jcecodle-mk__problem-chip\" data-problem-id=\"QlScCXbbxCk\" href='#jce-judge/open/QlScCXbbxCk' target='_self'><span>기권 학생 삭제</span></a>\n",
    "\n",
    "\n"
   ]
  },
  {
   "cell_type": "markdown",
   "id": "a00cea54-d797-4416-a9fc-450698b4dbc3",
   "metadata": {
    "jp-MarkdownHeadingCollapsed": true,
    "tags": []
   },
   "source": [
    "<div style=\"padding: 15px; border: 5px solid transparent; border-color: transparent; margin-bottom: 20px; border-radius: 4px; color: #3c763d; border-color: #d6e9c6; font-weight: bold;\">\n",
    "<h2 style='font-weight: bold'>3. 여러 데이터 합치기</h2>\n",
    "</div> "
   ]
  },
  {
   "cell_type": "markdown",
   "id": "cc9032cc-9ecc-40df-86bb-a9aedf8d76ca",
   "metadata": {},
   "source": [
    "여러 데이터를 합치거나 기존의 데이터에 연산 결과 등의 새로운 정보를 추가하고 싶을 때가 있습니다.  \n",
    "`concat()` 함수는 Pandas 데이터들을 연결하여 하나의 데이터로 만드는데 사용됩니다.   \n",
    "\n",
    "> **🔨 함수(FUNCTIONS):**\n",
    ">\n",
    "> **`pd.concat(objs = 데이터_리스트, axis = 0_또는_1, ignore_index = True_또는_False)`**  \n",
    "> 매개변수로 받은 리스트에 포함된 데이터프레임, 시리즈들을 합쳐줍니다.\n",
    ">> **매개변수(parameter)**\n",
    ">>\n",
    ">> **`objs`** : 합치고 싶은 시리즈, 데이터프레임들의 리스트입니다.  \n",
    ">> **`axis`** : 0 또는 1이 전달됩니다.   \n",
    ">> 0일 경우 행 방향으로 시리즈, 데이터프레임을 합치고 1일 경우 열 방향으로 시리즈, 데이터프레임을 합칩니다.   \n",
    ">> 기본 값은 0으로 행 방향으로 합칩니다.  \n",
    ">> **`ignore_index`** : True 또는 False값이 전달됩니다.  \n",
    ">> True일때는 열방향으로 합하면 열이름을, 행방향으로 합하면 행 인덱스를 초기화합니다.  \n",
    ">> 기본 값 은 False로 행 인덱스나 열이름을 초기화 하지 않습니다.  \n",
    "> ---\n",
    "\n",
    "\n"
   ]
  },
  {
   "cell_type": "markdown",
   "id": "c0892e92-c8bf-4fd5-be77-0c803250b934",
   "metadata": {
    "tags": []
   },
   "source": [
    "### 행 방향으로 시리즈, 데이터프레임 합치기\n",
    "\n",
    "`concat(axis = 0)` 함수를 이용하면 시리즈, 데이터프레임을 행 방향으로 합칠 수 있습니다.\n",
    "\n",
    "> **⚠️ 주의(WARNING):**\n",
    ">\n",
    "> 시리즈, 데이터프레임을 행 방향으로 합칠 때는 모든 데이터들의 열들을 포함하도록 각 데이터들을 NaN으로 채우고 데이터를 합칩니다.\n",
    "\n",
    "> **⚠️ 주의(WARNING):**\n",
    ">\n",
    "> 중복된 행 인덱스가 있더라도 하나로 합쳐지지 않습니다.\n",
    "\n",
    "`pd.concat([시리즈, 시리즈], axis = 0)` 으로 시리즈들을 행 방향으로 합칠 수 있습니다.  \n",
    "\n",
    "<table>\n",
    "<tr>\n",
    "    <th><img src=\"https://tmn-bucket-materials-all.s3.ap-northeast-2.amazonaws.com/image/pandas/material_07_19.gif\" width=\"750\"></th>\n",
    "</tr>\n",
    "<tr>\n",
    "    <th>concat() 함수로 행방향으로 시리즈 합치기</th>\n",
    "</tr>\n",
    "</table> \n",
    "\n",
    "`pd.concat([데이터프레임, 데이터프레임], axis = 0)` 으로 데이터프레임들을 행 방향으로 합칠 수 있습니다.  \n",
    "\n",
    "<table>\n",
    "<tr>\n",
    "    <th><img src=\"https://tmn-bucket-materials-all.s3.ap-northeast-2.amazonaws.com/image/pandas/material_07_20.gif\" width=\"750\"></th>\n",
    "</tr>\n",
    "<tr>\n",
    "    <th>concat() 함수로 행방향으로 데이터프레임 합치기</th>\n",
    "</tr>\n",
    "</table>\n",
    "\n",
    "`pd.concat([데이터프레임, 데이터프레임], axis = 0, ignore_index = True)` 으로 행 인덱스들을 초기화 할 수 있습니다.  \n",
    "\n",
    "<table>\n",
    "<tr>\n",
    "    <th><img src=\"https://tmn-bucket-materials-all.s3.ap-northeast-2.amazonaws.com/image/pandas/material_07_21.gif\" width=\"750\"></th>\n",
    "</tr>\n",
    "<tr>\n",
    "    <th>concat() 함수로 행방향으로 데이터프레임 합치고 인덱스 초기화 하기</th>\n",
    "</tr>\n",
    "</table>\n",
    " "
   ]
  },
  {
   "cell_type": "code",
   "execution_count": null,
   "id": "aa58063c-f0d4-4326-88de-e990eeb317de",
   "metadata": {
    "tags": []
   },
   "outputs": [],
   "source": [
    "# 예제_1_시리즈와_시리즈_행_방향으로_합치기\n",
    "\n",
    "import pandas as pd\n",
    "import random\n",
    "\n",
    "A = pd.Series([1,2,3])\n",
    "B = pd.Series([4,5,6])\n",
    "\n",
    "print('#'*30, f\"{'A':^15s}\" , '#' * 30, '\\n') # 출력되는 결과들을 분리해서 보여주기 위한 코드입니다.\n",
    "print(A)\n",
    "print('#'*30, f\"{'B':^15s}\" , '#' * 30, '\\n') # 출력되는 결과들을 분리해서 보여주기 위한 코드입니다.\n",
    "print(B)\n",
    "print('\\n','#'*30, \"{:^15s}\".format('pd.concat([A,B])') , '#' * 30, '\\n') # 출력되는 결과들을 분리해서 보여주기 위한 코드입니다.\n",
    "print(pd.concat([A,B]))"
   ]
  },
  {
   "cell_type": "code",
   "execution_count": null,
   "id": "4410664c-4098-493e-8d73-ef61723a84a0",
   "metadata": {
    "tags": []
   },
   "outputs": [],
   "source": [
    "# 예제_2_시리즈와_데이터프레임_행_방향으로_합치기\n",
    "\n",
    "import pandas as pd\n",
    "import random\n",
    "\n",
    "A = pd.Series([1,2,3])\n",
    "B = pd.DataFrame([[4,5],[6,7],[8,9]])\n",
    "\n",
    "print('#'*30, f\"{'A':^15s}\" , '#' * 30, '\\n') # 출력되는 결과들을 분리해서 보여주기 위한 코드입니다.\n",
    "print(A)\n",
    "print('#'*30, f\"{'B':^15s}\" , '#' * 30, '\\n') # 출력되는 결과들을 분리해서 보여주기 위한 코드입니다.\n",
    "print(B)\n",
    "print('\\n','#'*30, \"{:^15s}\".format('pd.concat([A,B])') , '#' * 30, '\\n') # 출력되는 결과들을 분리해서 보여주기 위한 코드입니다.\n",
    "print(pd.concat([A,B]))"
   ]
  },
  {
   "cell_type": "code",
   "execution_count": null,
   "id": "252c07ae-4f29-43ad-8b81-ac978cde98f1",
   "metadata": {
    "tags": []
   },
   "outputs": [],
   "source": [
    "# 예제_3_데이터프레임과_데이터프레임_행_방향으로_합치기\n",
    "\n",
    "import pandas as pd\n",
    "import random\n",
    "\n",
    "A = pd.DataFrame([[1,2],[3,4],[5,6]])\n",
    "B = pd.DataFrame([[7,8,9],[10,11,12]])\n",
    "\n",
    "print('#'*30, f\"{'A':^15s}\" , '#' * 30, '\\n') # 출력되는 결과들을 분리해서 보여주기 위한 코드입니다.\n",
    "print(A)\n",
    "print('#'*30, f\"{'B':^15s}\" , '#' * 30, '\\n') # 출력되는 결과들을 분리해서 보여주기 위한 코드입니다.\n",
    "print(B)\n",
    "print('\\n','#'*30, \"{:^15s}\".format('pd.concat([A,B])') , '#' * 30, '\\n') # 출력되는 결과들을 분리해서 보여주기 위한 코드입니다.\n",
    "print(pd.concat([A,B]))"
   ]
  },
  {
   "cell_type": "code",
   "execution_count": null,
   "id": "900a0d69-881d-4049-8318-a43601c2dd90",
   "metadata": {
    "tags": []
   },
   "outputs": [],
   "source": [
    "# 예제_4_데이터프레임과_데이터프레임_행_방향으로_합치고_인덱스_초기화\n",
    "\n",
    "import pandas as pd\n",
    "import random\n",
    "\n",
    "A = pd.DataFrame([[1,2],[3,4],[5,6]])\n",
    "B = pd.DataFrame([[7,8,9],[10,11,12]])\n",
    "\n",
    "print('#'*30, f\"{'A':^15s}\" , '#' * 30, '\\n') # 출력되는 결과들을 분리해서 보여주기 위한 코드입니다.\n",
    "print(A)\n",
    "print('#'*30, f\"{'B':^15s}\" , '#' * 30, '\\n') # 출력되는 결과들을 분리해서 보여주기 위한 코드입니다.\n",
    "print(B)\n",
    "print('\\n','#'*30, \"{:^15s}\".format('pd.concat([A,B], ignore_index = True)') , '#' * 30, '\\n') # 출력되는 결과들을 분리해서 보여주기 위한 코드입니다.\n",
    "print(pd.concat([A,B], ignore_index = True))"
   ]
  },
  {
   "cell_type": "markdown",
   "id": "c3b6db60-233b-4aad-8e2e-2ab4e63462e9",
   "metadata": {
    "tags": []
   },
   "source": [
    "### 열 방향으로 시리즈, 데이터프레임 합치기\n",
    "\n",
    "`concat(axis = 1)` 함수를 이용하면 시리즈, 데이터프레임을 열 방향으로 합칠 수 있습니다.\n",
    "\n",
    "> **⚠️ 주의(WARNING):**\n",
    ">\n",
    "> 시리즈, 데이터프레임을 열 방향으로 합칠 때는 모든 데이터들의 행들을 포함하도록 각 데이터들을 NaN으로 채우고 데이터를 합칩니다. \n",
    "\n",
    "> **⚠️ 주의(WARNING):**\n",
    ">\n",
    "> 중복된 열이 있더라도 하나로 합쳐지지 않습니다.\n",
    "\n",
    "`pd.concat([시리즈, 시리즈], axis = 1)` 으로 시리즈들을 열 방향으로 합칠 수 있습니다.  \n",
    "\n",
    "<table>\n",
    "<tr>\n",
    "    <th><img src=\"https://tmn-bucket-materials-all.s3.ap-northeast-2.amazonaws.com/image/pandas/material_07_22.gif\" width=\"750\"></th>\n",
    "</tr>\n",
    "<tr>\n",
    "    <th>concat() 함수로 열방향으로 시리즈 합치기</th>\n",
    "</tr>\n",
    "</table>\n",
    "\n",
    "`pd.concat([데이터프레임, 데이터프레임], axis = 1)` 으로 데이터프레임들을 열 방향으로 합칠 수 있습니다.  \n",
    "\n",
    "<table>\n",
    "<tr>\n",
    "    <th><img src=\"https://tmn-bucket-materials-all.s3.ap-northeast-2.amazonaws.com/image/pandas/material_07_23.gif\" width=\"750\"></th>\n",
    "</tr>\n",
    "<tr>\n",
    "    <th>concat() 함수로 열방향으로 데이터프레임 합치기</th>\n",
    "</tr>\n",
    "</table>\n",
    "\n",
    "`pd.concat([데이터프레임, 데이터프레임], axis = 1, ignore_index = True)` 으로 데이터프레임들을 열이름을 초기화 할 수 있습니다..  \n",
    "\n",
    "<table>\n",
    "<tr>\n",
    "    <th><img src=\"https://tmn-bucket-materials-all.s3.ap-northeast-2.amazonaws.com/image/pandas/material_07_24.gif\" width=\"750\"></th>\n",
    "</tr>\n",
    "<tr>\n",
    "    <th>concat() 함수로 열방향으로 데이터프레임 합치고 열이름 초기화 하기</th>\n",
    "</tr>\n",
    "</table>"
   ]
  },
  {
   "cell_type": "code",
   "execution_count": null,
   "id": "71bcb931-215f-4e28-8e7f-8055fcfdb8db",
   "metadata": {
    "tags": []
   },
   "outputs": [],
   "source": [
    "# 예제_5_시리즈와_시리즈_열_방향으로_합치기\n",
    "\n",
    "import pandas as pd\n",
    "import random\n",
    "\n",
    "A = pd.Series([1,2,3])\n",
    "B = pd.Series([4,5,6])\n",
    "\n",
    "print('#'*30, f\"{'A':^15s}\" , '#' * 30, '\\n') # 출력되는 결과들을 분리해서 보여주기 위한 코드입니다.\n",
    "print(A)\n",
    "print('#'*30, f\"{'B':^15s}\" , '#' * 30, '\\n') # 출력되는 결과들을 분리해서 보여주기 위한 코드입니다.\n",
    "print(B)\n",
    "print('\\n','#'*30, \"{:^15s}\".format('pd.concat([A,B], axis = 1)') , '#' * 30, '\\n') # 출력되는 결과들을 분리해서 보여주기 위한 코드입니다.\n",
    "print(pd.concat([A,B], axis = 1))"
   ]
  },
  {
   "cell_type": "code",
   "execution_count": null,
   "id": "0a3b7d78-908a-4d6d-89a0-9c553fbe5282",
   "metadata": {
    "tags": []
   },
   "outputs": [],
   "source": [
    "# 예제_6_시리즈와_데이터프레임_열_방향으로_합치기\n",
    "\n",
    "import pandas as pd\n",
    "import random\n",
    "\n",
    "A = pd.Series([1,2,3])\n",
    "B = pd.DataFrame([[4,5],[6,7],[8,9]])\n",
    "\n",
    "print('#'*30, f\"{'A':^15s}\" , '#' * 30, '\\n') # 출력되는 결과들을 분리해서 보여주기 위한 코드입니다.\n",
    "print(A)\n",
    "print('#'*30, f\"{'B':^15s}\" , '#' * 30, '\\n') # 출력되는 결과들을 분리해서 보여주기 위한 코드입니다.\n",
    "print(B)\n",
    "print('\\n','#'*30, \"{:^15s}\".format('pd.concat([A,B], axis = 1)') , '#' * 30, '\\n') # 출력되는 결과들을 분리해서 보여주기 위한 코드입니다.\n",
    "print(pd.concat([A,B], axis = 1))"
   ]
  },
  {
   "cell_type": "code",
   "execution_count": null,
   "id": "ccd35ec5-b363-436d-a788-83438bf60c5c",
   "metadata": {
    "tags": []
   },
   "outputs": [],
   "source": [
    "# 예제_7_데이터프레임과_데이터프레임_열_방향으로_합치기\n",
    "\n",
    "import pandas as pd\n",
    "import random\n",
    "\n",
    "A = pd.DataFrame([[1,2],[3,4],[5,6]])\n",
    "B = pd.DataFrame([[7,8,9],[10,11,12]])\n",
    "\n",
    "print('#'*30, f\"{'A':^15s}\" , '#' * 30, '\\n') # 출력되는 결과들을 분리해서 보여주기 위한 코드입니다.\n",
    "print(A)\n",
    "print('#'*30, f\"{'B':^15s}\" , '#' * 30, '\\n') # 출력되는 결과들을 분리해서 보여주기 위한 코드입니다.\n",
    "print(B)\n",
    "print('\\n','#'*30, \"{:^15s}\".format('pd.concat([A,B], axis = 1)') , '#' * 30, '\\n') # 출력되는 결과들을 분리해서 보여주기 위한 코드입니다.\n",
    "print(pd.concat([A,B], axis = 1))"
   ]
  },
  {
   "cell_type": "code",
   "execution_count": null,
   "id": "78c5fabd-a249-4e37-8887-3416d5d19d8c",
   "metadata": {
    "tags": []
   },
   "outputs": [],
   "source": [
    "# 예제_8_데이터프레임과_데이터프레임_열_방향으로_합치고_인덱스_초기화\n",
    "\n",
    "import pandas as pd\n",
    "import random\n",
    "\n",
    "A = pd.DataFrame([[1,2],[3,4],[5,6]])\n",
    "B = pd.DataFrame([[7,8,9],[10,11,12]])\n",
    "\n",
    "print('#'*30, f\"{'A':^15s}\" , '#' * 30, '\\n') # 출력되는 결과들을 분리해서 보여주기 위한 코드입니다.\n",
    "print(A)\n",
    "print('#'*30, f\"{'B':^15s}\" , '#' * 30, '\\n') # 출력되는 결과들을 분리해서 보여주기 위한 코드입니다.\n",
    "print(B)\n",
    "print('\\n','#'*30, \"{:^15s}\".format('pd.concat([A,B], axis = 1, ignore_index = True)') , '#' * 30, '\\n') # 출력되는 결과들을 분리해서 보여주기 위한 코드입니다.\n",
    "print(pd.concat([A,B], axis = 1, ignore_index = True))"
   ]
  },
  {
   "cell_type": "markdown",
   "id": "7d0c74b3-5354-418b-ba16-1a9470db3889",
   "metadata": {},
   "source": [
    "### **💯 연습문제를 풀어봅시다**\n",
    "\n"
   ]
  },
  {
   "cell_type": "markdown",
   "id": "89e89619-91be-4356-b9fc-2871c02252c4",
   "metadata": {
    "tags": []
   },
   "source": [
    "1. <a class=\"jcecodle-mk jcecodle-mk__problem-chip\" data-problem-id=\"iJ3G7ROpeQg\" href='#jce-judge/open/iJ3G7ROpeQg' target='_self'><span>판다스 - 데이터 합치기 - 열 방향 (1)</span></a>\n",
    "\n",
    "1. <a class=\"jcecodle-mk jcecodle-mk__problem-chip\" data-problem-id=\"xgSM9U6IvM0\" href='#jce-judge/open/xgSM9U6IvM0' target='_self'><span>판다스 - 데이터 합치기 - 열 방향 (3)</span></a>\n",
    "\n",
    "2. <a class=\"jcecodle-mk jcecodle-mk__problem-chip\" data-problem-id=\"z_sxdOdbBF4\" href='#jce-judge/open/z_sxdOdbBF4' target='_self'><span>친구들 정보 합치기</span></a>\n",
    "\n",
    "3. <a class=\"jcecodle-mk jcecodle-mk__problem-chip\" data-problem-id=\"d0ns4EaJcwY\" href='#jce-judge/open/d0ns4EaJcwY' target='_self'><span>날씨 정보 합치기</span></a>\n",
    "\n",
    "\n",
    "\n",
    "2. <a class=\"jcecodle-mk jcecodle-mk__problem-chip\" data-problem-id=\"B8nXG7yv_7g\" href='#jce-judge/open/B8nXG7yv_7g' target='_self'><span>판다스 - 데이터 합치기 - 열 방향 (2)</span></a>\n",
    "\n",
    "1. <a class=\"jcecodle-mk jcecodle-mk__problem-chip\" data-problem-id=\"5GM48rolCBA\" href='#jce-judge/open/5GM48rolCBA' target='_self'><span>설문조사 결과 합치기</span></a>\n",
    "\n",
    "2. <a class=\"jcecodle-mk jcecodle-mk__problem-chip\" data-problem-id=\"IZ1qk4DGlL4\" href='#jce-judge/open/IZ1qk4DGlL4' target='_self'><span>국영수, 한국사 합치기</span></a>\n",
    "\n",
    "3. <a class=\"jcecodle-mk jcecodle-mk__problem-chip\" data-problem-id=\"VvK4p--Xuow\" href='#jce-judge/open/VvK4p--Xuow' target='_self'><span>판다스 - 데이터 합치기 - 열 방향 (4)</span></a>\n",
    "\n",
    "\n",
    "\n",
    "3. <a class=\"jcecodle-mk jcecodle-mk__problem-chip\" data-problem-id=\"jscCW3ar_No\" href='#jce-judge/open/jscCW3ar_No' target='_self'><span>판다스 - 데이터 합치기 - 행 방향 (1)</span></a>\n",
    "\n",
    "1. <a class=\"jcecodle-mk jcecodle-mk__problem-chip\" data-problem-id=\"Nv1KNnuFb0E\" href='#jce-judge/open/Nv1KNnuFb0E' target='_self'><span>판다스 - 데이터 합치기 - 행 방향 (3)</span></a>\n",
    "\n",
    "2. <a class=\"jcecodle-mk jcecodle-mk__problem-chip\" data-problem-id=\"7qcV3dTA_k8\" href='#jce-judge/open/7qcV3dTA_k8' target='_self'><span>강수 예측</span></a>\n",
    "\n",
    "3. <a class=\"jcecodle-mk jcecodle-mk__problem-chip\" data-problem-id=\"eayeQepVMBc\" href='#jce-judge/open/eayeQepVMBc' target='_self'><span>행열 바꾸기</span></a>\n",
    "\n",
    "\n",
    "\n",
    "4. <a class=\"jcecodle-mk jcecodle-mk__problem-chip\" data-problem-id=\"s9hpAThbHks\" href='#jce-judge/open/s9hpAThbHks' target='_self'><span>판다스 - 데이터 합치기 - 행 방향 (2)</span></a>\n",
    "\n",
    "\n",
    "1. <a class=\"jcecodle-mk jcecodle-mk__problem-chip\" data-problem-id=\"xJM81yYpu5Y\" href='#jce-judge/open/xJM81yYpu5Y' target='_self'><span>판다스 - 데이터 합치기 - 행 방향 (4)</span></a>\n",
    "\n",
    "2. <a class=\"jcecodle-mk jcecodle-mk__problem-chip\" data-problem-id=\"FH9W86cuDrQ\" href='#jce-judge/open/FH9W86cuDrQ' target='_self'><span>인덱스 순서대로</span></a>\n",
    "\n",
    "3. <a class=\"jcecodle-mk jcecodle-mk__problem-chip\" data-problem-id=\"2WF9lV43UKs\" href='#jce-judge/open/2WF9lV43UKs' target='_self'><span>득표수 데이터 합치기</span></a>\n",
    "\n",
    "\n",
    "\n"
   ]
  },
  {
   "cell_type": "markdown",
   "id": "98b907b0-2e7a-4f77-96e6-eb3962483abc",
   "metadata": {
    "jp-MarkdownHeadingCollapsed": true,
    "tags": []
   },
   "source": [
    "<div style=\"padding: 15px; border: 5px solid transparent; border-color: transparent; margin-bottom: 20px; border-radius: 4px; color: #3c763d; border-color: #d6e9c6; font-weight: bold;\">\n",
    "<h2 style='font-weight: bold'>4. 결측값 확인하기</h2>\n",
    "</div> "
   ]
  },
  {
   "cell_type": "markdown",
   "id": "fd8e2a89-fd7e-4fe3-943b-0e7d857c0abd",
   "metadata": {},
   "source": [
    "데이터를 활용하기 전에는 반드시 결측값이 있는지 확인해야 합니다.  \n",
    "\n",
    "> **✏️ 알아봅시다(NOTE): 결측값이 무엇인가요?**\n",
    ">\n",
    "> 결측값이란 데이터가 누락되어 존재하지 않는 것으로 NaN, None, NA, null, N/A 등으로 표현됩니다.   \n",
    "> 결측값이 있는 데이터는 통계량 확인이나 인공지능 학습에 바로 사용할 수 없습니다.  \n",
    "> 결측값이 확인되면 제거하거나 값을 지정해주어야합니다.  \n",
    "\n",
    "`isna()` 함수를 이용하면 값이 존재하지 않는 경우 True, 값이 있는 경우 False로 표현된 데이터가 반환됩니다.  \n",
    "`any()` 함수와 함께 사용하면 결측값이 존재하는 행, 열을 확인할 수 있습니다.\n",
    "\n",
    "> **🔨 함수(FUNCTIONS):**\n",
    ">\n",
    "> **`Series.isna()`**  \n",
    "> 시리즈의 각 데이터가 결측값인지 확인합니다. \n",
    "> 결측값이면 True, 결측값이 아니면 False를 반환합니다.  \n",
    "> 반환되는 시리즈의 모양은 함수를 사용하는 시리즈와 동일합니다.  \n",
    "> ---\n",
    "> **`DataFrame.isna()`**  \n",
    "> 데이터프레임의 각 데이터가 결측값인지 확인합니다. \n",
    "> 결측값이면 True, 결측값이 아니면 False를 반환합니다.  \n",
    "> 반환되는 데이터프레임의 모양은 함수를 사용하는 데이터프레임와 동일합니다.   \n",
    "> ---\n",
    "> **`DataFrame.any(axis = 0_또는_1)`**  \n",
    "> axis로 방향을 지정하면 해당 방향에 True가 있는지 여부를 판단해서 반환합니다.   \n",
    ">> **매개변수(parameter)**\n",
    ">>\n",
    ">> **`axis`** : 0 또는 1이 전달됩니다.   \n",
    ">> 0이 전달되면 행 방향으로 각 열에 True가 있는지 여부를 판단합니다.  \n",
    ">> 각 열에 True가 하나라도 있으면 True를 반환합니다.  \n",
    ">> 1이 전달되면 열 방향으로 각 행에 True가 있는지 여부를 판단합니다.  \n",
    ">> 각 행에 True가 하나라도 있으면 True를 반환합니다.  \n",
    ">> 기본값은 0입니다.\n",
    "> ---\n",
    "\n",
    "\n"
   ]
  },
  {
   "cell_type": "markdown",
   "id": "172ded83-a816-4a30-9e9a-fdebf513a71f",
   "metadata": {
    "tags": []
   },
   "source": [
    "### 결측값 확인하기\n",
    "\n",
    "`isna()` 함수를 이용하면 데이터의 결측값을 확인할 수 있습니다.\n",
    "\n",
    "`Series.isna()`, `DataFrame.isna()`로 시리즈와 데이터프레임의 데이터들의 결측값 여부를 확인할 수 있습니다.  \n",
    "\n",
    "<table>\n",
    "<tr>\n",
    "    <th><img src=\"https://tmn-bucket-materials-all.s3.ap-northeast-2.amazonaws.com/image/pandas/material_08_01.gif\" width=\"450\"></th>\n",
    "    <th><img src=\"https://tmn-bucket-materials-all.s3.ap-northeast-2.amazonaws.com/image/pandas/material_08_02.gif\" width=\"450\"></th>\n",
    "</tr>\n",
    "<tr>\n",
    "    <th>시리즈의 결측값 확인하기</th>\n",
    "    <th>데이터프레임의 결측값 확인하기</th>\n",
    "</tr>\n",
    "</table>\n",
    "\n",
    "`DataFrame.isna().any(axis = 0)` 으로 결측값이 존재하는 열을 확인할 수 있습니다.  \n",
    "\n",
    "<table>\n",
    "<tr>\n",
    "    <th><img src=\"https://tmn-bucket-materials-all.s3.ap-northeast-2.amazonaws.com/image/pandas/material_08_03.gif\" width=\"750\"></th>\n",
    "</tr>\n",
    "<tr>\n",
    "    <th>데이터프레임에서 결측값이 존재하는 열 확인하기</th>\n",
    "</tr>\n",
    "</table>\n",
    "\n",
    "`DataFrame.isna().any(axis = 1)` 으로 결측값이 존재하는 행을 확인할 수 있습니다.  \n",
    "\n",
    "<table>\n",
    "<tr>\n",
    "    <th><img src=\"https://tmn-bucket-materials-all.s3.ap-northeast-2.amazonaws.com/image/pandas/material_08_04.gif\" width=\"750\"></th>\n",
    "</tr>\n",
    "<tr>\n",
    "    <th>데이터프레임에서 결측값이 존재하는 행 확인하기</th>\n",
    "</tr>\n",
    "</table>\n"
   ]
  },
  {
   "cell_type": "code",
   "execution_count": null,
   "id": "278470c0-5fb0-4dae-bcf6-50505324ca04",
   "metadata": {
    "tags": []
   },
   "outputs": [],
   "source": [
    "# 예제_1_isna_함수를_이용한_시리즈의_결측값확인\n",
    "\n",
    "import pandas as pd\n",
    "\n",
    "A = pd.Series([1,2,None,4,5,None])\n",
    "\n",
    "print('#'*30, f\"{'A':^15s}\" , '#' * 30, '\\n') # 출력되는 결과들을 분리해서 보여주기 위한 코드입니다.\n",
    "print(A)\n",
    "print('\\n','#'*30, f\"{'A.isna()':^15s}\" , '#' * 30, '\\n') # 출력되는 결과들을 분리해서 보여주기 위한 코드입니다.\n",
    "print(A.isna())"
   ]
  },
  {
   "cell_type": "code",
   "execution_count": null,
   "id": "4d9ea710-6a6e-48a6-b819-f9bcda429827",
   "metadata": {
    "tags": []
   },
   "outputs": [],
   "source": [
    "# 예제_2_isna_함수를_이용한_데이터프레임의_결측값확인\n",
    "\n",
    "import pandas as pd\n",
    "\n",
    "A = pd.DataFrame([[1,2,None,4,5,None],[None,2,3,None,5,6],[1,None,None,None,5,None]])\n",
    "\n",
    "print('#'*30, f\"{'A':^15s}\" , '#' * 30, '\\n') # 출력되는 결과들을 분리해서 보여주기 위한 코드입니다.\n",
    "print(A)\n",
    "print('\\n','#'*30, f\"{'A.isna()':^15s}\" , '#' * 30, '\\n') # 출력되는 결과들을 분리해서 보여주기 위한 코드입니다.\n",
    "print(A.isna())"
   ]
  },
  {
   "cell_type": "code",
   "execution_count": null,
   "id": "0f570bab-3159-4587-a4bd-cd8f683e3c1d",
   "metadata": {
    "tags": []
   },
   "outputs": [],
   "source": [
    "# 예제_3_isna_함수와_any_함수를_이용한_결측값이_포함된_열확인\n",
    "\n",
    "import pandas as pd\n",
    "\n",
    "A = pd.DataFrame([[1,2,None,4,5,None],[None,2,3,None,5,6],[1,None,None,None,5,None]])\n",
    "\n",
    "print('#'*30, f\"{'A':^15s}\" , '#' * 30, '\\n') # 출력되는 결과들을 분리해서 보여주기 위한 코드입니다.\n",
    "print(A)\n",
    "print('\\n','#'*30, f\"{'A.isna().any(axis = 0)':^15s}\" , '#' * 30, '\\n') # 출력되는 결과들을 분리해서 보여주기 위한 코드입니다.\n",
    "print(A.isna().any(axis = 0))"
   ]
  },
  {
   "cell_type": "code",
   "execution_count": null,
   "id": "c1b30170-9422-4222-a041-08922af4228e",
   "metadata": {
    "tags": []
   },
   "outputs": [],
   "source": [
    "# 예제_4_isna_함수와_any_함수를_이용한_결측값이_포함된_행확인\n",
    "\n",
    "import pandas as pd\n",
    "\n",
    "A = pd.DataFrame([[1,2,None,4,5,None],[None,2,3,None,5,6],[1,None,None,None,5,None]])\n",
    "\n",
    "print('#'*30, f\"{'A':^15s}\" , '#' * 30, '\\n') # 출력되는 결과들을 분리해서 보여주기 위한 코드입니다.\n",
    "print(A)\n",
    "print('\\n','#'*30, f\"{'A.isna().any(axis = 1)':^15s}\" , '#' * 30, '\\n') # 출력되는 결과들을 분리해서 보여주기 위한 코드입니다.\n",
    "print(A.isna().any(axis = 1))"
   ]
  },
  {
   "cell_type": "markdown",
   "id": "9d9088c5-6969-4c39-a1a7-095f676ff669",
   "metadata": {},
   "source": [
    "### **💯 연습문제를 풀어봅시다**\n",
    "\n"
   ]
  },
  {
   "cell_type": "markdown",
   "id": "a73dd730-e99e-4161-a0ea-76287e1d08f8",
   "metadata": {
    "tags": []
   },
   "source": [
    "1. <a class=\"jcecodle-mk jcecodle-mk__problem-chip\" data-problem-id=\"Vk5TA4lAoNw\" href='#jce-judge/open/Vk5TA4lAoNw' target='_self'><span>판다스 - 결측값 처리 - 위치 확인하기</span></a>\n",
    "2. <a class=\"jcecodle-mk jcecodle-mk__problem-chip\" data-problem-id=\"vhrZOf4smVM\" href='#jce-judge/open/vhrZOf4smVM' target='_self'><span>판다스 - 결측값 처리 - 결측값 있는 열 확인</span></a>\n",
    "\n",
    "3. <a class=\"jcecodle-mk jcecodle-mk__problem-chip\" data-problem-id=\"TYOgo47wp-8\" href='#jce-judge/open/TYOgo47wp-8' target='_self'><span>판다스 - 결측값 처리 - 결측값 있는 행 확인</span></a>\n",
    "\n",
    "\n"
   ]
  },
  {
   "cell_type": "markdown",
   "id": "062174e1-e0ae-4f37-a4ee-c4b21b008ef1",
   "metadata": {
    "jp-MarkdownHeadingCollapsed": true,
    "tags": []
   },
   "source": [
    "<div style=\"padding: 15px; border: 5px solid transparent; border-color: transparent; margin-bottom: 20px; border-radius: 4px; color: #3c763d; border-color: #d6e9c6; font-weight: bold;\">\n",
    "<h2 style='font-weight: bold'>5. 결측값 제거하기</h2>\n",
    "</div> "
   ]
  },
  {
   "cell_type": "markdown",
   "id": "e039011d-468c-4d4b-9dd0-5f1ce49aabc5",
   "metadata": {},
   "source": [
    "데이터를 사용하기 전에 결측값을 제거해주어야 합니다.  \n",
    "`dropna()` 함수로 결측값을 제거할 수 있습니다.\n",
    "\n",
    "> **🔨 함수(FUNCTIONS):**\n",
    ">\n",
    "> **`Series.dropna()`**  \n",
    "> 결측값이 있는 행을 모두 제거합니다.\n",
    "> ---\n",
    "> **`DataFrame.dropna(subset = 열_리스트)`**  \n",
    "> 결측값이 있는 행들을 모두 제거합니다.   \n",
    ">> **매개변수(parameter)**\n",
    ">>\n",
    ">> **`subset`** : 열이름들이 포함된 리스트가 전달됩니다.   \n",
    ">> 리스트에 포함된 열에 결측값이 있는 행들을 모두 제거합니다.  \n",
    ">> subset에 아무런 값도 지정하지 않으면 결측값이 있는 행을 모두 제거합니다.\n",
    "> ---\n",
    "> **`DataFrame.dropna(thresh = 정수)`**  \n",
    "> 매개변수로 받은 정수개 보다 적게 값이 존재하는 행을 모두 제거합니다.   \n",
    ">> **매개변수(parameter)**\n",
    ">>\n",
    ">> **`thresh`** : 정수로 값을 전달받습니다.  \n",
    ">> thresh 값보다 적게 값이 존재하는 행을 모두 제거합니다.\n",
    "> ---\n",
    "\n"
   ]
  },
  {
   "cell_type": "markdown",
   "id": "a2b0350b-fc26-4323-8806-09e674d2b774",
   "metadata": {
    "tags": []
   },
   "source": [
    "### 결측값 확인하기\n",
    "\n",
    "`dropna()` 함수를 이용하면 데이터를 제거할 수 있습니다.\n",
    "\n",
    "`Series.dropna()`, `DataFrame.dropna()` 로 시리즈와 데이터프레임에서 결측값이 있는 행을 모두 제거할 수 있습니다.  \n",
    "\n",
    "<table>\n",
    "<tr>\n",
    "    <th><img src=\"https://tmn-bucket-materials-all.s3.ap-northeast-2.amazonaws.com/image/pandas/material_08_05.gif\" width=\"450\"></th>\n",
    "    <th><img src=\"https://tmn-bucket-materials-all.s3.ap-northeast-2.amazonaws.com/image/pandas/material_08_06.gif\" width=\"450\"></th>\n",
    "</tr>\n",
    "<tr>\n",
    "    <th>시리즈의 결측값 제거하기</th>\n",
    "    <th>데이터프레임의 결측값이 있는 행 제거하기</th>\n",
    "</tr>\n",
    "</table>\n",
    "\n",
    "`DataFrame.dropna(subset = [열_리스트])` 로 데이터프레임에서 열_리스트에 포함되는 열에 결측값이 존재하는 행을 모두 제거할 수 있습니다.  \n",
    "\n",
    "<table>\n",
    "<tr>\n",
    "    <th><img src=\"https://tmn-bucket-materials-all.s3.ap-northeast-2.amazonaws.com/image/pandas/material_08_07.gif\" width=\"750\"></th>\n",
    "</tr>\n",
    "<tr>\n",
    "    <th>데이터프레임에서 열_리스트에 포함되는 열에 결측값이 있는 행 제거하기</th>\n",
    "</tr>\n",
    "</table>\n",
    "\n",
    "`DataFrame.dropna(thresh = 정수)` 으로 데이터프레임에서 행에 값이 thresh 값보다 적게 존재하는 행을 모두 제거할 수 있습니다.   \n",
    "\n",
    "<table>\n",
    "<tr>\n",
    "    <th><img src=\"https://tmn-bucket-materials-all.s3.ap-northeast-2.amazonaws.com/image/pandas/material_08_08.gif\" width=\"750\"></th>\n",
    "</tr>\n",
    "<tr>\n",
    "    <th>데이터프레임에서 결측값의 개수가 thresh보다 큰 행 제거하기</th>\n",
    "</tr>\n",
    "</table>"
   ]
  },
  {
   "cell_type": "code",
   "execution_count": null,
   "id": "d7585d28-d482-4699-ad2d-5ce584029baf",
   "metadata": {
    "tags": []
   },
   "outputs": [],
   "source": [
    "# 예제_1_dropna_함수를_이용한_시리즈의_결측값_제거\n",
    "\n",
    "import pandas as pd\n",
    "\n",
    "A = pd.Series([1,2,None,4,5,None])\n",
    "\n",
    "print('#'*30, f\"{'A':^15s}\" , '#' * 30, '\\n') # 출력되는 결과들을 분리해서 보여주기 위한 코드입니다.\n",
    "print(A)\n",
    "print('\\n','#'*30, f\"{'A.dropna()':^15s}\" , '#' * 30, '\\n') # 출력되는 결과들을 분리해서 보여주기 위한 코드입니다.\n",
    "print(A.dropna())"
   ]
  },
  {
   "cell_type": "code",
   "execution_count": null,
   "id": "9134c5ee-be79-4c7f-b134-c0f18e4cf214",
   "metadata": {
    "tags": []
   },
   "outputs": [],
   "source": [
    "# 예제_2_dropna_함수를_이용한_데이터프레임의_결측값_제거\n",
    "\n",
    "import pandas as pd\n",
    "\n",
    "A = pd.DataFrame([[1,2,3,4,5,6],[None,2,3,4,5,6],[1,None,None,4,5,6]])\n",
    "\n",
    "print('#'*30, f\"{'A':^15s}\" , '#' * 30, '\\n') # 출력되는 결과들을 분리해서 보여주기 위한 코드입니다.\n",
    "print(A)\n",
    "print('\\n','#'*30, f\"{'A.dropna()':^15s}\" , '#' * 30, '\\n') # 출력되는 결과들을 분리해서 보여주기 위한 코드입니다.\n",
    "print(A.dropna())"
   ]
  },
  {
   "cell_type": "code",
   "execution_count": null,
   "id": "dd9a3d6c-e600-4562-bd13-dc75b1b37fd4",
   "metadata": {
    "tags": []
   },
   "outputs": [],
   "source": [
    "# 예제_3_dropna_함수의_subset_속성을_이용한_결측값_선택적_제거\n",
    "\n",
    "import pandas as pd\n",
    "\n",
    "A = pd.DataFrame([[1,2,3,4,5,6],[None,2,3,4,5,6],[1,None,None,4,5,6]])\n",
    "\n",
    "print('#'*30, f\"{'A':^15s}\" , '#' * 30, '\\n') # 출력되는 결과들을 분리해서 보여주기 위한 코드입니다.\n",
    "print(A)\n",
    "print('\\n','#'*30, f\"{'A.dropna(subset = [1,2,3])':^15s}\" , '#' * 30, '\\n') # 출력되는 결과들을 분리해서 보여주기 위한 코드입니다.\n",
    "print(A.dropna(subset = [1,2,3]))"
   ]
  },
  {
   "cell_type": "code",
   "execution_count": null,
   "id": "2d2e189b-2109-4ec8-bf0c-efdd0baf81aa",
   "metadata": {
    "tags": []
   },
   "outputs": [],
   "source": [
    "# 예제_4_dropna_함수의_thresh_속성을_이용한_결측값_선택적_제거\n",
    "\n",
    "import pandas as pd\n",
    "\n",
    "A = pd.DataFrame([[1,None,None,None,5,6],[None,2,3,4,5,6],[1,None,None,4,5,6]])\n",
    "\n",
    "print('#'*30, f\"{'A':^15s}\" , '#' * 30, '\\n') # 출력되는 결과들을 분리해서 보여주기 위한 코드입니다.\n",
    "print(A)\n",
    "print('\\n','#'*30, f\"{'A.dropna(thresh=2)':^15s}\" , '#' * 30, '\\n') # 출력되는 결과들을 분리해서 보여주기 위한 코드입니다.\n",
    "print(A.dropna(thresh=2))"
   ]
  },
  {
   "cell_type": "markdown",
   "id": "6435bcf1-67ed-4e97-8166-92be2b32e048",
   "metadata": {},
   "source": [
    "### **💯 연습문제를 풀어봅시다**\n",
    "\n"
   ]
  },
  {
   "cell_type": "markdown",
   "id": "ba8ed869-54d5-4178-a4e2-fc9e183d8428",
   "metadata": {
    "tags": []
   },
   "source": [
    "1. <a class=\"jcecodle-mk jcecodle-mk__problem-chip\" data-problem-id=\"3byVGYRn9Iw\" href='#jce-judge/open/3byVGYRn9Iw' target='_self'><span>판다스 - 결측값 처리 - 열 기준 제거</span></a>\n",
    "2. <a class=\"jcecodle-mk jcecodle-mk__problem-chip\" data-problem-id=\"afipiWToT9s\" href='#jce-judge/open/afipiWToT9s' target='_self'><span>판다스 - 결측값 처리 - 개수 기준 제거</span></a>\n",
    "\n",
    "3. <a class=\"jcecodle-mk jcecodle-mk__problem-chip\" data-problem-id=\"YeBPoVzxddU\" href='#jce-judge/open/YeBPoVzxddU' target='_self'><span>판다스 - 결측값 처리 - 시리즈</span></a>\n",
    "\n",
    "4. <a class=\"jcecodle-mk jcecodle-mk__problem-chip\" data-problem-id=\"vXPtJTZLuJ8\" href='#jce-judge/open/vXPtJTZLuJ8' target='_self'><span>판다스 - 결측값 처리 - 데이터 프레임 (1)</span></a>\n",
    "\n",
    "\n",
    "5. <a class=\"jcecodle-mk jcecodle-mk__problem-chip\" data-problem-id=\"DvZNqrnu4Ic\" href='#jce-judge/open/DvZNqrnu4Ic' target='_self'><span>판다스 - 결측값 처리 - 데이터프레임 (2)</span></a>\n",
    "\n",
    "\n",
    "6. <a class=\"jcecodle-mk jcecodle-mk__problem-chip\" data-problem-id=\"debOT0206AE\" href='#jce-judge/open/debOT0206AE' target='_self'><span>판다스 - 결측값 처리 - 데이터 프레임(subset)</span></a>\n",
    "\n",
    "\n",
    "7. <a class=\"jcecodle-mk jcecodle-mk__problem-chip\" data-problem-id=\"hRBnpX8BDwc\" href='#jce-judge/open/hRBnpX8BDwc' target='_self'><span>판다스 - 결측값 처리 - 데이터 프레임(thresh 1)</span></a>\n",
    "\n",
    "\n",
    "8. <a class=\"jcecodle-mk jcecodle-mk__problem-chip\" data-problem-id=\"c6tjvUjD6zI\" href='#jce-judge/open/c6tjvUjD6zI' target='_self'><span>판다스 - 결측값 처리 - 데이터 프레임(thresh 2)</span></a>\n",
    "\n",
    "\n"
   ]
  },
  {
   "cell_type": "markdown",
   "id": "fa82c9aa-1ced-42fa-b286-25b29c5883dd",
   "metadata": {
    "jp-MarkdownHeadingCollapsed": true,
    "tags": []
   },
   "source": [
    "<div style=\"padding: 15px; border: 5px solid transparent; border-color: transparent; margin-bottom: 20px; border-radius: 4px; color: #3c763d; border-color: #d6e9c6; font-weight: bold;\">\n",
    "<h2 style='font-weight: bold'>6. 결측값 변경하기</h2>\n",
    "</div> "
   ]
  },
  {
   "cell_type": "markdown",
   "id": "15f6c081-4d1e-406d-8116-76be6c42b33e",
   "metadata": {},
   "source": [
    "결측값이 있는 데이터는 정보가 누락되어 통계량을 구하거나 인공지능 학습에 사용될 수 없습니다.  \n",
    "결측값이 있는 데이터를 제거하는게 간단한 방법이지만 너무 많은 데이터를 삭제하게 되면 문제가 생깁니다.   \n",
    "그런때에는 결측값 자리에 새로운 데이터 값을 대체하여 사용할 수 있습니다.  \n",
    "\n",
    "> **🔨 함수(FUNCTIONS):**\n",
    ">\n",
    "> **`Series.fillna(value = 데이터)`**  \n",
    "> 결측값들을 모두 데이터로 변환합니다.\n",
    ">> **매개변수(parameter)**\n",
    ">>\n",
    ">> **`value`** : 문자열 또는 숫자 등이 전달됩니다.   \n",
    ">> 시리즈에 있는 모든 결측값들을 매개변수로 전달받은 값으로 변환합니다.\n",
    "> ---\n",
    "> **`DataFrame.fillna(value = 데이터)`**  \n",
    "> 결측값들을 모두 데이터로 변환합니다.\n",
    ">> **매개변수(parameter)**\n",
    ">>\n",
    ">> **`value`** : 문자열 또는 숫자 등이 전달됩니다.   \n",
    ">> 시리즈에 있는 모든 결측값들을 매개변수로 전달받은 값으로 변환합니다.\n",
    "> ---\n",
    "> **`DataFrame.fillna(value = 딕셔너리)`**  \n",
    "> 각 열의 결측값들을 모두 정해진 값으로 변환합니다.\n",
    ">> **매개변수(parameter)**\n",
    ">>\n",
    ">> **`value`** : 딕셔너리로 값이 전달됩니다.    \n",
    ">> 딕셔너리의 키 값에 해당하는 열의 결측값들을 딕셔너리의 밸류 값으로 변환합니다.\n",
    "> ---\n"
   ]
  },
  {
   "cell_type": "markdown",
   "id": "f0f85b94-a6db-4ab1-a770-b3c5d49f9142",
   "metadata": {
    "tags": []
   },
   "source": [
    "### 결측값 확인하기\n",
    "\n",
    "`fillna()` 함수를 이용하면 결측값들을 변환할 수 있습니다.\n",
    "\n",
    "`Series.fillna(value = 값)`, `DataFrame.fillna(value = 값)` 로 결측값들을 모두 주어진 값으로 변환할 수 있습니다.  \n",
    "\n",
    "<table>\n",
    "<tr>\n",
    "    <th><img src=\"https://tmn-bucket-materials-all.s3.ap-northeast-2.amazonaws.com/image/pandas/material_08_09.gif\" width=\"450\"></th>\n",
    "    <th><img src=\"https://tmn-bucket-materials-all.s3.ap-northeast-2.amazonaws.com/image/pandas/material_08_10.gif\" width=\"450\"></th>\n",
    "</tr>\n",
    "<tr>\n",
    "    <th>시리즈의 결측값 변환하기</th>\n",
    "    <th>데이터프레임의 결측값 변환하기</th>\n",
    "</tr>\n",
    "</table>\n",
    "\n",
    "`DataFrame.fillna(value = {딕셔너리})` 로 정해진 규칙에 따라 결측값들을 변환할 수 있습니다.  \n",
    "\n",
    "<table>\n",
    "<tr>\n",
    "    <th><img src=\"https://tmn-bucket-materials-all.s3.ap-northeast-2.amazonaws.com/image/pandas/material_08_11.gif\" width=\"750\"></th>\n",
    "</tr>\n",
    "<tr>\n",
    "    <th>결측값 규칙에 따라 변환하기</th>\n",
    "</tr>\n",
    "</table>"
   ]
  },
  {
   "cell_type": "code",
   "execution_count": null,
   "id": "1481f226-16e1-42fd-83ac-a056e00d8f80",
   "metadata": {
    "tags": []
   },
   "outputs": [],
   "source": [
    "# 예제_1_fillna_함수를_이용한_시리즈의_결측값_변경\n",
    "\n",
    "import pandas as pd\n",
    "\n",
    "A = pd.Series([1,2,None,4,5,None])\n",
    "\n",
    "print('#'*30, f\"{'A':^15s}\" , '#' * 30, '\\n') # 출력되는 결과들을 분리해서 보여주기 위한 코드입니다.\n",
    "print(A)\n",
    "print('\\n','#'*30, f\"{'A.fillna(-1)':^15s}\" , '#' * 30, '\\n') # 출력되는 결과들을 분리해서 보여주기 위한 코드입니다.\n",
    "print(A.fillna(-1))"
   ]
  },
  {
   "cell_type": "code",
   "execution_count": null,
   "id": "340e3013-8ded-473e-a37d-f154c2ef444b",
   "metadata": {
    "tags": []
   },
   "outputs": [],
   "source": [
    "# 예제_2_fillna_함수를_이용한_데이터프레임의_결측값_변경\n",
    "\n",
    "import pandas as pd\n",
    "\n",
    "A = pd.DataFrame([[1,2,None,4,5,None],[None,2,3,None,5,6],[1,None,None,None,5,None]])\n",
    "\n",
    "print('#'*30, f\"{'A':^15s}\" , '#' * 30, '\\n') # 출력되는 결과들을 분리해서 보여주기 위한 코드입니다.\n",
    "print(A)\n",
    "print('\\n','#'*30, f\"{'A.fillna(-1)':^15s}\" , '#' * 30, '\\n') # 출력되는 결과들을 분리해서 보여주기 위한 코드입니다.\n",
    "print(A.fillna(-1))"
   ]
  },
  {
   "cell_type": "code",
   "execution_count": null,
   "id": "80f99401-f524-4798-9882-cc404fcf7574",
   "metadata": {
    "tags": []
   },
   "outputs": [],
   "source": [
    "# 예제_2_fillna_함수를_이용한_데이터프레임의_규칙을_포함한_결측값_변경\n",
    "\n",
    "import pandas as pd\n",
    "\n",
    "A = pd.DataFrame([[1,2,None,4,5,None],[None,2,3,None,5,6],[1,None,None,None,5,None]])\n",
    "\n",
    "print('#'*30, f\"{'A':^15s}\" , '#' * 30, '\\n') # 출력되는 결과들을 분리해서 보여주기 위한 코드입니다.\n",
    "print(A)\n",
    "print('\\n','#'*30, f\"{'A.fillna({0:1,1:2,2:3,3:4})':^15s}\" , '#' * 30, '\\n') # 출력되는 결과들을 분리해서 보여주기 위한 코드입니다.\n",
    "print(A.fillna({0:1,1:2,2:3,3:4}))"
   ]
  },
  {
   "cell_type": "markdown",
   "id": "e8fd629f-9e01-4f9a-9332-2b8a33ede482",
   "metadata": {},
   "source": [
    "### **💯 연습문제를 풀어봅시다**\n",
    "\n"
   ]
  },
  {
   "cell_type": "markdown",
   "id": "64cdab3c-53fc-4a63-b599-1b8b44efa57a",
   "metadata": {
    "tags": []
   },
   "source": [
    "1. <a class=\"jcecodle-mk jcecodle-mk__problem-chip\" data-problem-id=\"7h23TDPhtbs\" href='#jce-judge/open/7h23TDPhtbs' target='_self'><span>판다스 - 결측값 처리 - 시리즈 결측값 변경</span></a>\n",
    "\n",
    "1. <a class=\"jcecodle-mk jcecodle-mk__problem-chip\" data-problem-id=\"1a5lam-7dW8\" href='#jce-judge/open/1a5lam-7dW8' target='_self'><span>판다스 - 결측값 처리 - 일괄 변경</span></a>\n",
    "\n",
    "4. <a class=\"jcecodle-mk jcecodle-mk__problem-chip\" data-problem-id=\"Rx-lpctLFg4\" href='#jce-judge/open/Rx-lpctLFg4' target='_self'><span>판다스 - 결측값 처리 - 열에 따라 변경 (3)</span></a>\n",
    "\n",
    "5. <a class=\"jcecodle-mk jcecodle-mk__problem-chip\" data-problem-id=\"L42tTfYUbxk\" href='#jce-judge/open/L42tTfYUbxk' target='_self'><span>가계부 결측값 변경</span></a>\n",
    "\n",
    "\n",
    "\n",
    "\n"
   ]
  }
 ],
 "metadata": {
  "kernelspec": {
   "display_name": "Python 3 (ipykernel)",
   "language": "python",
   "name": "python3"
  },
  "language_info": {
   "codemirror_mode": {
    "name": "ipython",
    "version": 3
   },
   "file_extension": ".py",
   "mimetype": "text/x-python",
   "name": "python",
   "nbconvert_exporter": "python",
   "pygments_lexer": "ipython3",
   "version": "3.11.3"
  }
 },
 "nbformat": 4,
 "nbformat_minor": 5
}
