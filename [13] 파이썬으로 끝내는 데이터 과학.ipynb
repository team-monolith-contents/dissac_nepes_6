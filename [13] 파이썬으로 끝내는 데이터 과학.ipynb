{
 "cells": [
  {
   "cell_type": "markdown",
   "id": "a4b90fe8-4a09-4239-92c2-b6dd61807d32",
   "metadata": {
    "tags": []
   },
   "source": [
    "<div style=\"padding: 15px; border: 5px solid transparent; border-color: transparent; margin-bottom: 20px; border-radius: 4px; color: #3c763d; background-color: #dff0d8; border-color: #d6e9c6; font-weight: bold;\">\n",
    "    <br><br>\n",
    "    <div style=\"font-weight: bold; font-size: 40px\">파이썬으로 끝내는 데이터 과학</div>\n",
    "    <div style=\"font-weight: bold; font-size: 20px\">[13] Pandas를 이용한 데이터 분석-5</div>\n",
    "    <hr style=\"width:80%;text-align:left;margin-left:0;border:0.5px solid green\">\n",
    "    <br>\n",
    "    &#x2022; 불 인덱싱(Boolean Indexing)을 이용해 데이터를 필터링 해봅시다.<br>\n",
    "    &#x2022; 인덱싱으로 데이터 값을 변경해봅시다.<br>\n",
    "    &#x2022; 값 기반으로 데이터 값을 변경해봅시다.<br>\n",
    "    \n",
    "</div>"
   ]
  },
  {
   "cell_type": "markdown",
   "id": "6442eac7-6162-4d41-851d-fa0056297c74",
   "metadata": {
    "jp-MarkdownHeadingCollapsed": true,
    "tags": []
   },
   "source": [
    "<div style=\"padding: 15px; border: 5px solid transparent; border-color: transparent; margin-bottom: 20px; border-radius: 4px; color: #3c763d; border-color: #d6e9c6; font-weight: bold;\">\n",
    "<h2 style='font-weight: bold'>1. 불 인덱싱(Boolean Indexing)을 이용해 필터링하기</h2>\n",
    "</div> "
   ]
  },
  {
   "cell_type": "markdown",
   "id": "1edad04c-e984-4b29-92a3-863cd3d4c284",
   "metadata": {
    "jp-MarkdownHeadingCollapsed": true,
    "tags": []
   },
   "source": [
    "데이터프레임에서 특정 행과 특정 열에 접근하는 인덱싱에 대해서 배웠습니다.  \n",
    "이번에는 조건을 만족하는 행과 열을 찾아 접근하는 방법인 불 인덱싱(bool indexing)에 대해서 배워보겠습니다."
   ]
  },
  {
   "cell_type": "markdown",
   "id": "e9db45bd-6750-4edf-868b-e3de6548023b",
   "metadata": {
    "tags": []
   },
   "source": [
    "### 시리즈에 불 인덱싱을 사용해 특정 조건을 만족하는 행에 접근하기\n",
    "\n",
    "시리즈에 불 인덱싱을 사용하기 위해서는 각 행의 포함여부를 True와 False로 저장하고 있는 시리즈 혹은 리스트를 가지고 있어야 합니다.  \n",
    "각 행의 포함여부정보를 가지고 있는 시리즈 혹은 리스트를 `[]`에 넣어주면 해당 포함여부정보가 True인 데이터만으로 이루어진 시리즈를 반환합니다.  \n",
    "`Series[포함여부정보_시리즈_또는_리스트]`\n",
    "\n",
    "> **⛔️ 오류(ERROR):**\n",
    ">\n",
    "> 주어진 시리즈와 각 행의 포함여부 정보를 가지고 있는 시리즈, 리스트의 크기가 다르면 오류가 발생합니다.\n",
    "\n",
    "다음과 같이 이전에 배운 비교연산, 논리연산을 불 인덱싱에 응용할 수 있습니다.\n",
    "\n",
    "1. 포함여부정보를 이용해 필터링 하기  \n",
    "\n",
    "<table>\n",
    "<tr>\n",
    "    <th><img src=\"https://tmn-bucket-materials-all.s3.ap-northeast-2.amazonaws.com/image/pandas/material_06_01.gif\" width=\"750\"></th>\n",
    "</tr>\n",
    "<tr>\n",
    "    <th>포함여부 정보를 이용한 시리즈의 불 인덱싱</th>\n",
    "</tr>\n",
    "</table>\n",
    "\n",
    "2. 비교연산을 사용해 필터링 하기  \n",
    "\n",
    "<table>\n",
    "<tr>\n",
    "    <th><img src=\"https://tmn-bucket-materials-all.s3.ap-northeast-2.amazonaws.com/image/pandas/material_06_02.gif\" width=\"750\"></th>\n",
    "</tr>\n",
    "<tr>\n",
    "    <th>비교연산을 이용한 시리즈의 불 인덱싱</th>\n",
    "</tr>\n",
    "</table>\n",
    "\n",
    "3. 논리연산을 사용해 필터링 하기  \n",
    "\n",
    "<table>\n",
    "<tr>\n",
    "    <th><img src=\"https://tmn-bucket-materials-all.s3.ap-northeast-2.amazonaws.com/image/pandas/material_06_03.gif\" width=\"750\"></th>\n",
    "</tr>\n",
    "<tr>\n",
    "    <th>논리연산을 이용한 시리즈의 불 인덱싱</th>\n",
    "</tr>\n",
    "</table>"
   ]
  },
  {
   "cell_type": "code",
   "execution_count": null,
   "id": "704f23f8-e5f6-4a83-bb33-2a53fd0719cd",
   "metadata": {
    "tags": []
   },
   "outputs": [],
   "source": [
    "# 예제_1_포함여부_정보를_이용한_시리즈의_필터링\n",
    "\n",
    "import pandas as pd\n",
    "\n",
    "df = pd.read_csv('https://tmn-bucket-materials-all.s3.ap-northeast-2.amazonaws.com/data/midterm_exam_result.csv')\n",
    "\n",
    "score = pd.Series(df['프로그래밍'])\n",
    "score.index = df['이름']\n",
    "\n",
    "print('#'*30, f\"{'score':^15s}\" , '#' * 30, '\\n') # 출력되는 결과들을 분리해서 보여주기 위한 코드입니다.\n",
    "print(score)\n",
    "print('\\n','#'*30, \"{:^15s}\".format('score.isin([10,20,30,40,50,60,70,80,90,100])') , '#' * 30, '\\n') # 출력되는 결과들을 분리해서 보여주기 위한 코드입니다.\n",
    "print(score.isin([10,20,30,40,50,60,70,80,90,100]))\n",
    "print('\\n','#'*30, \"{:^15s}\".format('score[score.isin([10,20,30,40,50,60,70,80,90,100])]') , '#' * 30, '\\n') # 출력되는 결과들을 분리해서 보여주기 위한 코드입니다.\n",
    "print(score[score.isin([10,20,30,40,50,60,70,80,90,100])])"
   ]
  },
  {
   "cell_type": "code",
   "execution_count": null,
   "id": "9a80148c-2b59-4d2b-9ce0-0ae06abe3240",
   "metadata": {
    "tags": []
   },
   "outputs": [],
   "source": [
    "# 예제_2_비교함수를_이용한_시리즈의_필터링\n",
    "\n",
    "import pandas as pd\n",
    "\n",
    "df = pd.read_csv('https://tmn-bucket-materials-all.s3.ap-northeast-2.amazonaws.com/data/midterm_exam_result.csv')\n",
    "\n",
    "score = pd.Series(df['프로그래밍'])\n",
    "score.index = df['이름']\n",
    "\n",
    "print('#'*30, f\"{'score':^15s}\" , '#' * 30, '\\n') # 출력되는 결과들을 분리해서 보여주기 위한 코드입니다.\n",
    "print(score)\n",
    "print('\\n','#'*30, \"{:^15s}\".format('score > 60') , '#' * 30, '\\n') # 출력되는 결과들을 분리해서 보여주기 위한 코드입니다.\n",
    "print(score > 60)\n",
    "print('\\n','#'*30, \"{:^15s}\".format('score[score > 60]') , '#' * 30, '\\n') # 출력되는 결과들을 분리해서 보여주기 위한 코드입니다.\n",
    "print(score[score > 60])"
   ]
  },
  {
   "cell_type": "code",
   "execution_count": null,
   "id": "19b47da0-832d-486c-8958-a47e66e33a60",
   "metadata": {
    "tags": []
   },
   "outputs": [],
   "source": [
    "# 예제_3_논리함수를_이용한_시리즈의_필터링\n",
    "\n",
    "import pandas as pd\n",
    "\n",
    "df = pd.read_csv('https://tmn-bucket-materials-all.s3.ap-northeast-2.amazonaws.com/data/midterm_exam_result.csv')\n",
    "\n",
    "score = pd.Series(df['프로그래밍'])\n",
    "score.index = df['이름']\n",
    "\n",
    "print('#'*30, f\"{'score':^15s}\" , '#' * 30, '\\n') # 출력되는 결과들을 분리해서 보여주기 위한 코드입니다.\n",
    "print(score)\n",
    "print('\\n','#'*30, \"{:^15s}\".format('(score > 60) & (score < 90)') , '#' * 30, '\\n') # 출력되는 결과들을 분리해서 보여주기 위한 코드입니다.\n",
    "print((score > 60) & (score < 90))\n",
    "print('\\n','#'*30, \"{:^15s}\".format('score[(score > 60) & (score < 90)]') , '#' * 30, '\\n') # 출력되는 결과들을 분리해서 보여주기 위한 코드입니다.\n",
    "print(score[(score > 60) & (score < 90)])"
   ]
  },
  {
   "cell_type": "markdown",
   "id": "f0e8d53c-5ebc-47ea-9ed6-99864924ba63",
   "metadata": {
    "tags": []
   },
   "source": [
    "### 데이터프레임에 불 인덱싱을 사용해 특정 조건을 만족하는 행에 접근하기\n",
    "\n",
    "데이터프레임에 불 인덱싱을 사용하기 위해서는 각 행의 포함여부를 True와 False로 저장하고 있는 시리즈 혹은 리스트를 가지고 있어야 합니다.  \n",
    "각 행의 포함여부정보를 가지고 있는 시리즈 혹은 리스트를 `.loc[]`에 넣어주면 해당 포함여부정보가 True인 행들로만 이루어진 데이터프레임를 반환합니다.\n",
    "\n",
    "`DataFrame.loc[포함여부정보_시리즈_또는_리스트]`\n",
    "\n",
    "> **⛔️ 오류(ERROR):**\n",
    ">\n",
    "> 주어진 데이터프레임과 포함여부정보를 가지고 있는 데이터프레임의 크기가 다르면 오류가 발생합니다.  \n",
    "\n",
    "다음과 같이 이전에 배운 비교연산, 논리연산을 불 인덱싱에 응용할 수 있습니다.\n",
    "\n",
    "1. 포함여부정보를 이용해 필터링 하기  \n",
    "\n",
    "<table>\n",
    "<tr>\n",
    "    <th><img src=\"https://tmn-bucket-materials-all.s3.ap-northeast-2.amazonaws.com/image/pandas/material_06_04.gif\" width=\"750\"></th>\n",
    "</tr>\n",
    "<tr>\n",
    "    <th>포함여부 정보를 이용한 데이터프레임의 불 인덱싱</th>\n",
    "</tr>\n",
    "</table>\n",
    "\n",
    "2. 비교연산을 사용해 필터링 하기  \n",
    "\n",
    "<table>\n",
    "<tr>\n",
    "    <th><img src=\"https://tmn-bucket-materials-all.s3.ap-northeast-2.amazonaws.com/image/pandas/material_06_05.gif\" width=\"750\"></th>\n",
    "</tr>\n",
    "<tr>\n",
    "    <th>비교연산을 이용한 데이터프레임의 불 인덱싱</th>\n",
    "</tr>\n",
    "</table>\n",
    "\n",
    "3. 논리연산을 사용해 필터링 하기  \n",
    "\n",
    "<table>\n",
    "<tr>\n",
    "    <th><img src=\"https://tmn-bucket-materials-all.s3.ap-northeast-2.amazonaws.com/image/pandas/material_06_06.gif\" width=\"750\"></th>\n",
    "</tr>\n",
    "<tr>\n",
    "    <th>논리연산을 이용한 데이터프레임의 불 인덱싱</th>\n",
    "</tr>\n",
    "</table>"
   ]
  },
  {
   "cell_type": "code",
   "execution_count": null,
   "id": "2473bdaa-d2e2-4630-bccc-0b785bf62dba",
   "metadata": {
    "tags": []
   },
   "outputs": [],
   "source": [
    "# 예제_4_포함여부_정보를_이용한_데이터프레임의_필터링\n",
    "\n",
    "import pandas as pd\n",
    "\n",
    "score = pd.read_csv('https://tmn-bucket-materials-all.s3.ap-northeast-2.amazonaws.com/data/midterm_exam_result.csv')\n",
    "score.index = score['이름']\n",
    "score = score.iloc[:,1:]\n",
    "\n",
    "print('#'*30, f\"{'score':^15s}\" , '#' * 30, '\\n') # 출력되는 결과들을 분리해서 보여주기 위한 코드입니다.\n",
    "print(score)\n",
    "print('\\n','#'*30, \"{:^15s}\".format('score[\"국어\"].isin([50,51,52,53,54,55,56,57,58,59])') , '#' * 30, '\\n') # 출력되는 결과들을 분리해서 보여주기 위한 코드입니다.\n",
    "print(score[\"국어\"].isin([50,51,52,53,54,55,56,57,58,59]))\n",
    "print('\\n','#'*30, \"{:^15s}\".format('score[score[\"국어\"].isin([50,51,52,53,54,55,56,57,58,59])]') , '#' * 30, '\\n') # 출력되는 결과들을 분리해서 보여주기 위한 코드입니다.\n",
    "print(score[score[\"국어\"].isin([50,51,52,53,54,55,56,57,58,59])])"
   ]
  },
  {
   "cell_type": "code",
   "execution_count": null,
   "id": "07342723-3513-42af-8df4-9c107e45bd1e",
   "metadata": {
    "tags": []
   },
   "outputs": [],
   "source": [
    "# 예제_5_비교연산을_이용한_데이터프레임의_필터링\n",
    "\n",
    "import pandas as pd\n",
    "\n",
    "score = pd.read_csv('https://tmn-bucket-materials-all.s3.ap-northeast-2.amazonaws.com/data/midterm_exam_result.csv')\n",
    "score.index = score['이름']\n",
    "score = score.iloc[:,1:]\n",
    "\n",
    "print('#'*30, f\"{'score':^15s}\" , '#' * 30, '\\n') # 출력되는 결과들을 분리해서 보여주기 위한 코드입니다.\n",
    "print(score)\n",
    "print('\\n','#'*30, \"{:^15s}\".format('score[\"국어\"] > 50') , '#' * 30, '\\n') # 출력되는 결과들을 분리해서 보여주기 위한 코드입니다.\n",
    "print(score[\"국어\"] > 50)\n",
    "print('\\n','#'*30, \"{:^15s}\".format('score[score[\"국어\"] > 50]') , '#' * 30, '\\n') # 출력되는 결과들을 분리해서 보여주기 위한 코드입니다.\n",
    "print(score[score[\"국어\"] > 50])"
   ]
  },
  {
   "cell_type": "code",
   "execution_count": null,
   "id": "97738486-2af9-41f3-878b-134a8485dcc3",
   "metadata": {
    "tags": []
   },
   "outputs": [],
   "source": [
    "# 예제_6_논리연산을_이용한_데이터프레임의_필터링\n",
    "\n",
    "import pandas as pd\n",
    "\n",
    "score = pd.read_csv('https://tmn-bucket-materials-all.s3.ap-northeast-2.amazonaws.com/data/midterm_exam_result.csv')\n",
    "score.index = score['이름']\n",
    "score = score.iloc[:,1:]\n",
    "\n",
    "print('#'*30, f\"{'score':^15s}\" , '#' * 30, '\\n') # 출력되는 결과들을 분리해서 보여주기 위한 코드입니다.\n",
    "print(score)\n",
    "print('\\n','#'*30, \"{:^15s}\".format('score[\"국어\"] > 50') , '#' * 30, '\\n') # 출력되는 결과들을 분리해서 보여주기 위한 코드입니다.\n",
    "print((score[\"국어\"] > 50) & (score[\"프로그래밍\"] > 70))\n",
    "print('\\n','#'*30, \"{:^15s}\".format('score[(score[\"국어\"] > 50) & (score[\"프로그래밍\"] > 70)]') , '#' * 30, '\\n') # 출력되는 결과들을 분리해서 보여주기 위한 코드입니다.\n",
    "print(score[(score[\"국어\"] > 50) & (score[\"프로그래밍\"] > 70)])"
   ]
  },
  {
   "cell_type": "markdown",
   "id": "c8423198-bbf4-4e78-b43a-bb01a098f887",
   "metadata": {},
   "source": [
    "### **💯 연습문제를 풀어봅시다**\n",
    "\n"
   ]
  },
  {
   "cell_type": "markdown",
   "id": "69779ce5-32d8-4ace-8399-f226e87838fc",
   "metadata": {
    "tags": []
   },
   "source": [
    "1. <a class=\"jcecodle-mk jcecodle-mk__problem-chip\" data-problem-id=\"nuRAz-IVE_s\" href='#jce-judge/open/nuRAz-IVE_s' target='_self'><span>판다스 - 데이터 나누기 - 행 기준 (비교 연산 1)</span></a>\n",
    "\n",
    "2. <a class=\"jcecodle-mk jcecodle-mk__problem-chip\" data-problem-id=\"BlvfsJPAf0c\" href='#jce-judge/open/BlvfsJPAf0c' target='_self'><span>판다스 - 데이터 나누기 - boolean indexing</span></a>\n",
    "\n",
    "3. <a class=\"jcecodle-mk jcecodle-mk__problem-chip\" data-problem-id=\"bwvFokLhC_Y\" href='#jce-judge/open/bwvFokLhC_Y' target='_self'><span>판다스 - 데이터 나누기 - boolean indexing(2)</span></a>\n",
    "\n",
    "4. <a class=\"jcecodle-mk jcecodle-mk__problem-chip\" data-problem-id=\"ChuKgwqgGus\" href='#jce-judge/open/ChuKgwqgGus' target='_self'><span>판다스 - 데이터 나누기 - 행 기준 (비교 연산 2)</span></a>\n",
    "\n",
    "5. <a class=\"jcecodle-mk jcecodle-mk__problem-chip\" data-problem-id=\"tYDpenjOzyA\" href='#jce-judge/open/tYDpenjOzyA' target='_self'><span>득표수 100이상</span></a>\n",
    "\n",
    "6. <a class=\"jcecodle-mk jcecodle-mk__problem-chip\" data-problem-id=\"KltxWJ2iYbs\" href='#jce-judge/open/KltxWJ2iYbs' target='_self'><span>키 170초과</span></a>\n",
    "\n",
    "7. <a class=\"jcecodle-mk jcecodle-mk__problem-chip\" data-problem-id=\"Dk1xdaA_OTE\" href='#jce-judge/open/Dk1xdaA_OTE' target='_self'><span>판다스 - 데이터 나누기 - 행 기준(비교 연산 3)</span></a>\n",
    "\n",
    "8. <a class=\"jcecodle-mk jcecodle-mk__problem-chip\" data-problem-id=\"j6F4bQcy91w\" href='#jce-judge/open/j6F4bQcy91w' target='_self'><span>판다스 - 데이터 나누기 - 행 기준 (포함 관계)</span></a>\n",
    "\n",
    "9. <a class=\"jcecodle-mk jcecodle-mk__problem-chip\" data-problem-id=\"0jksIko2Wvg\" href='#jce-judge/open/0jksIko2Wvg' target='_self'><span>판다스 - 데이터나누기 - 행 기준(포함관계 2)</span></a>\n",
    "\n",
    "10. <a class=\"jcecodle-mk jcecodle-mk__problem-chip\" data-problem-id=\"f_rtq-NVNxs\" href='#jce-judge/open/f_rtq-NVNxs' target='_self'><span>4반 빼고</span></a>\n",
    "\n",
    "11. <a class=\"jcecodle-mk jcecodle-mk__problem-chip\" data-problem-id=\"Zj3rqV004aU\" href='#jce-judge/open/Zj3rqV004aU' target='_self'><span>판다스 - 데이터 나누기 - 행 기준 (조건 조합)</span></a>\n",
    "\n",
    "12. <a class=\"jcecodle-mk jcecodle-mk__problem-chip\" data-problem-id=\"7SBVgSyGvaE\" href='#jce-judge/open/7SBVgSyGvaE' target='_self'><span>4반이 아니고 170이상</span></a>\n",
    "\n",
    "13. <a class=\"jcecodle-mk jcecodle-mk__problem-chip\" data-problem-id=\"36T7V0SjZtM\" href='#jce-judge/open/36T7V0SjZtM' target='_self'><span>판다스 - 데이터 나누기 - 행 기준(조건 조합 2)</span></a>\n"
   ]
  },
  {
   "cell_type": "markdown",
   "id": "21d6ab79-182b-4778-83cd-76bf3c2c54ef",
   "metadata": {
    "jp-MarkdownHeadingCollapsed": true,
    "tags": []
   },
   "source": [
    "<div style=\"padding: 15px; border: 5px solid transparent; border-color: transparent; margin-bottom: 20px; border-radius: 4px; color: #3c763d; border-color: #d6e9c6; font-weight: bold;\">\n",
    "<h2 style='font-weight: bold'>2. 인덱싱으로 데이터 값 변경하기</h2>\n",
    "</div> "
   ]
  },
  {
   "cell_type": "markdown",
   "id": "0476a622-d7c2-4fcf-8cdd-65b02d6e7add",
   "metadata": {},
   "source": [
    "데이터는 오류가 있을 수도 있고, 시간이 흘러 변할 수도 있습니다.  \n",
    "이런 때에는 값을 변경하면 됩니다.  \n",
    "변경할 데이터의 위치를 정확히 알고 있다면 인덱싱을 통해 위치를 지정한 후 새로운 값을 저장할 수 있습니다.  "
   ]
  },
  {
   "cell_type": "markdown",
   "id": "d0e6dfd9-193d-49b4-9448-1cb8bff8ba94",
   "metadata": {
    "tags": []
   },
   "source": [
    "### 데이터프레임을 같은 크기의 데이터로 수정하기\n",
    "\n",
    "데이터프레임의 데이터를 수정하기 위해서는 수정하고 싶은 데이터에 접근하면 됩니다.(인덱싱)  \n",
    "해당 데이터프레임에 인덱싱하고 인덱싱한 데이터프레임에 원하는 값을 할당해주면 됩니다.  \n",
    "이 때 같은 크기의 데이터를 할당하면 기존 데이터가 새로운 데이터로 대체됩니다.\n",
    "\n",
    "> **⛔️ 오류(ERROR):**\n",
    ">\n",
    "> 인덱싱한 데이터프레임과 할당하는 데이터의 크기가 다르고 브로드캐스팅을 적용할 수 없으면 오류가 발생합니다.\n",
    "\n",
    "> **⚠️ 주의(WARNING):**\n",
    ">\n",
    "> 인덱싱으로 데이터프레임을 수정하면 원본 데이터가 수정됩니다.\n",
    "\n",
    "1. 특정위치의 데이터 수정하기  \n",
    "\n",
    "<table>\n",
    "<tr>\n",
    "    <th><img src=\"https://tmn-bucket-materials-all.s3.ap-northeast-2.amazonaws.com/image/pandas/material_07_01.gif\" width=\"750\"></th>\n",
    "</tr>\n",
    "<tr>\n",
    "    <th>데이터프레임 특정위치의 데이터 수정하기</th>\n",
    "</tr>\n",
    "</table>\n",
    "\n",
    "2. 특정 행 하나 수정하기  \n",
    "\n",
    "<table>\n",
    "<tr>\n",
    "    <th><img src=\"https://tmn-bucket-materials-all.s3.ap-northeast-2.amazonaws.com/image/pandas/material_07_02.gif\" width=\"750\"></th>\n",
    "</tr>\n",
    "<tr>\n",
    "    <th>데이터프레임 특정 행 데이터 수정하기</th>\n",
    "</tr>\n",
    "</table>\n",
    "\n",
    "3. 특정 열 하나 수정하기  \n",
    "\n",
    "<table>\n",
    "<tr>\n",
    "    <th><img src=\"https://tmn-bucket-materials-all.s3.ap-northeast-2.amazonaws.com/image/pandas/material_07_03.gif\" width=\"750\"></th>\n",
    "</tr>\n",
    "<tr>\n",
    "    <th>데이터프레임 특정 열 데이터 수정하기</th>\n",
    "</tr>\n",
    "</table>\n",
    "\n",
    "4. 여러개의 행과 열 한번에 수정하기  \n",
    "\n",
    "<table>\n",
    "<tr>\n",
    "    <th><img src=\"https://tmn-bucket-materials-all.s3.ap-northeast-2.amazonaws.com/image/pandas/material_07_04.gif\" width=\"750\"></th>\n",
    "</tr>\n",
    "<tr>\n",
    "    <th>데이터프레임 특정 행,열 데이터 수정하기</th>\n",
    "</tr>\n",
    "</table>"
   ]
  },
  {
   "cell_type": "code",
   "execution_count": null,
   "id": "c5628dff-a45d-44ec-9830-9e5dfa245c94",
   "metadata": {
    "tags": []
   },
   "outputs": [],
   "source": [
    "# 예제_1_인덱싱을_이용해_특정위치의_데이터_수정하기\n",
    "\n",
    "import pandas as pd\n",
    "\n",
    "score = pd.read_csv('https://tmn-bucket-materials-all.s3.ap-northeast-2.amazonaws.com/data/midterm_exam_result.csv')\n",
    "score.index = score['이름']\n",
    "score = score.iloc[:,1:]\n",
    "\n",
    "print('#'*30, f\"{'score':^15s}\" , '#' * 30, '\\n') # 출력되는 결과들을 분리해서 보여주기 위한 코드입니다.\n",
    "print(score)\n",
    "print('\\n','#'*30, \"{:^15s}\".format('score.loc[\"이민준\",\"국어\"] = 50') , '#' * 30, '\\n') # 출력되는 결과들을 분리해서 보여주기 위한 코드입니다.\n",
    "score.loc[\"이민준\",\"국어\"] = 50\n",
    "print(score)"
   ]
  },
  {
   "cell_type": "code",
   "execution_count": null,
   "id": "d251dfa9-d180-42b7-9b81-c80fbd60b75f",
   "metadata": {
    "tags": []
   },
   "outputs": [],
   "source": [
    "# 예제_2_인덱싱을_이용해_특정_행하나_수정하기\n",
    "\n",
    "import pandas as pd\n",
    "\n",
    "score = pd.read_csv('https://tmn-bucket-materials-all.s3.ap-northeast-2.amazonaws.com/data/midterm_exam_result.csv')\n",
    "score.index = score['이름']\n",
    "score = score.iloc[:,1:]\n",
    "\n",
    "print('#'*30, f\"{'score':^15s}\" , '#' * 30, '\\n') # 출력되는 결과들을 분리해서 보여주기 위한 코드입니다.\n",
    "print(score)\n",
    "print('\\n','#'*30, \"{:^15s}\".format('score.loc[\"이민준\",\"국어\"] = 50') , '#' * 30, '\\n') # 출력되는 결과들을 분리해서 보여주기 위한 코드입니다.\n",
    "score.loc[\"이민준\"] = [100,100,100,100,100]\n",
    "print(score)"
   ]
  },
  {
   "cell_type": "code",
   "execution_count": null,
   "id": "05fdbae2-5a72-41a7-8a1e-3a9492d2db4d",
   "metadata": {
    "tags": []
   },
   "outputs": [],
   "source": [
    "# 예제_3_인덱싱을_이용해_특정_열하나_수정하기\n",
    "\n",
    "import pandas as pd\n",
    "import random\n",
    "\n",
    "score = pd.read_csv('https://tmn-bucket-materials-all.s3.ap-northeast-2.amazonaws.com/data/midterm_exam_result.csv')\n",
    "score.index = score['이름']\n",
    "score = score.iloc[:,1:]\n",
    "new_score = [random.randint(0,100) for i in range(30)]\n",
    "\n",
    "print('#'*30, f\"{'score':^15s}\" , '#' * 30, '\\n') # 출력되는 결과들을 분리해서 보여주기 위한 코드입니다.\n",
    "print(score)\n",
    "print('#'*30, f\"{'new_score':^15s}\" , '#' * 30, '\\n') # 출력되는 결과들을 분리해서 보여주기 위한 코드입니다.\n",
    "print(new_score)\n",
    "print('\\n','#'*30, \"{:^15s}\".format('score[\"한국사\"] = new_score') , '#' * 30, '\\n') # 출력되는 결과들을 분리해서 보여주기 위한 코드입니다.\n",
    "score[\"한국사\"] = new_score\n",
    "print(score)"
   ]
  },
  {
   "cell_type": "code",
   "execution_count": null,
   "id": "505ef06f-12c6-497d-b7f8-f690808053e8",
   "metadata": {
    "tags": []
   },
   "outputs": [],
   "source": [
    "# 예제_4_인덱싱을_이용해_행과_열_수정하기\n",
    "\n",
    "import pandas as pd\n",
    "import numpy as np\n",
    "\n",
    "score = pd.read_csv('https://tmn-bucket-materials-all.s3.ap-northeast-2.amazonaws.com/data/midterm_exam_result.csv')\n",
    "score.index = score['이름']\n",
    "score = score.iloc[:,1:]\n",
    "new_score = np.round(np.random.rand(4,2)*100).tolist()\n",
    "\n",
    "print('#'*30, f\"{'score':^15s}\" , '#' * 30, '\\n') # 출력되는 결과들을 분리해서 보여주기 위한 코드입니다.\n",
    "print(score)\n",
    "print('#'*30, f\"{'new_score':^15s}\" , '#' * 30, '\\n') # 출력되는 결과들을 분리해서 보여주기 위한 코드입니다.\n",
    "print(new_score)\n",
    "print('\\n','#'*30, \"{:^15s}\".format('score.iloc[:4,:2] = new_score') , '#' * 30, '\\n') # 출력되는 결과들을 분리해서 보여주기 위한 코드입니다.\n",
    "score.iloc[:4,:2] = new_score\n",
    "print(score)"
   ]
  },
  {
   "cell_type": "markdown",
   "id": "a9c50fd0-da21-4d53-9315-b12c7854dde9",
   "metadata": {
    "tags": []
   },
   "source": [
    "### 데이터프레임을 브로드캐스팅을 이용하여 수정하기\n",
    "\n",
    "데이터를 할당할 때에 이전 시간에 배운 브로드캐스팅을 적용할 수도 있습니다.\n",
    "\n",
    "1. 데이터를 하나의 값으로 수정하기  \n",
    "\n",
    "<table>\n",
    "<tr>\n",
    "    <th><img src=\"https://tmn-bucket-materials-all.s3.ap-northeast-2.amazonaws.com/image/pandas/material_07_05.gif\" width=\"750\"></th>\n",
    "</tr>\n",
    "<tr>\n",
    "    <th>데이터프레임에 특정 부분을 브로드캐스팅을 이용해 하나의 값으로 수정하기</th>\n",
    "</tr>\n",
    "</table>\n",
    "\n",
    "2. 데이터를 시리즈로 수정하기  \n",
    "\n",
    "<table>\n",
    "<tr>\n",
    "    <th><img src=\"https://tmn-bucket-materials-all.s3.ap-northeast-2.amazonaws.com/image/pandas/material_07_06.gif\" width=\"750\"></th>\n",
    "</tr>\n",
    "<tr>\n",
    "    <th>데이터프레임에 특정 부분을 시리즈 브로드캐스팅을 이용해 수정하기</th>\n",
    "</tr>\n",
    "</table>"
   ]
  },
  {
   "cell_type": "code",
   "execution_count": null,
   "id": "46dfafe0-fbeb-4c0c-93f6-ef14cddc612b",
   "metadata": {
    "tags": []
   },
   "outputs": [],
   "source": [
    "# 예제_5_브로드캐스팅을_이용해_행과_열_하나의_값으로_수정하기\n",
    "\n",
    "import pandas as pd\n",
    "import numpy as np\n",
    "\n",
    "score = pd.read_csv('https://tmn-bucket-materials-all.s3.ap-northeast-2.amazonaws.com/data/midterm_exam_result.csv')\n",
    "score.index = score['이름']\n",
    "score = score.iloc[:,1:]\n",
    "\n",
    "print('#'*30, f\"{'score':^15s}\" , '#' * 30, '\\n') # 출력되는 결과들을 분리해서 보여주기 위한 코드입니다.\n",
    "print(score)\n",
    "print('\\n','#'*30, \"{:^15s}\".format('score.iloc[:4,:2] = 100') , '#' * 30, '\\n') # 출력되는 결과들을 분리해서 보여주기 위한 코드입니다.\n",
    "score.iloc[:4,:2] = 100\n",
    "print(score)"
   ]
  },
  {
   "cell_type": "code",
   "execution_count": null,
   "id": "d089579c-600a-4962-a1f7-f6caa970ef72",
   "metadata": {
    "tags": []
   },
   "outputs": [],
   "source": [
    "# 예제_6_브로드캐스팅을_이용해_행과_열_시리즈로_수정하기\n",
    "\n",
    "import pandas as pd\n",
    "import numpy as np\n",
    "\n",
    "score = pd.read_csv('https://tmn-bucket-materials-all.s3.ap-northeast-2.amazonaws.com/data/midterm_exam_result.csv')\n",
    "score.index = score['이름']\n",
    "score = score.iloc[:,1:]\n",
    "new_score = pd.Series([100,100])\n",
    "\n",
    "print('#'*30, f\"{'score':^15s}\" , '#' * 30, '\\n') # 출력되는 결과들을 분리해서 보여주기 위한 코드입니다.\n",
    "print(score)\n",
    "print('#'*30, f\"{'new_score':^15s}\" , '#' * 30, '\\n') # 출력되는 결과들을 분리해서 보여주기 위한 코드입니다.\n",
    "print(new_score)\n",
    "print('\\n','#'*30, \"{:^15s}\".format('score.iloc[:4,:2] = new_score') , '#' * 30, '\\n') # 출력되는 결과들을 분리해서 보여주기 위한 코드입니다.\n",
    "score.iloc[:4,:2] = new_score\n",
    "print(score)"
   ]
  },
  {
   "cell_type": "markdown",
   "id": "4813f271-6155-4558-a1c8-c69ca037b377",
   "metadata": {},
   "source": [
    "### **💯 연습문제를 풀어봅시다**\n",
    "\n"
   ]
  },
  {
   "cell_type": "markdown",
   "id": "6fca3a49-a843-49b0-84d8-eadf83e6f0a9",
   "metadata": {
    "tags": []
   },
   "source": [
    "1. <a class=\"jcecodle-mk jcecodle-mk__problem-chip\" data-problem-id=\"pdcOTVxad0k\" href='#jce-judge/open/pdcOTVxad0k' target='_self'><span>판다스 - 데이터 값 변경 - 1개 위치</span></a>\n",
    "\n",
    "1. <a class=\"jcecodle-mk jcecodle-mk__problem-chip\" data-problem-id=\"pF0w3GD4yws\" href='#jce-judge/open/pF0w3GD4yws' target='_self'><span>친구 이름 변경 (1)</span></a>\n",
    "\n",
    "2. <a class=\"jcecodle-mk jcecodle-mk__problem-chip\" data-problem-id=\"UtynmIiHz3Q\" href='#jce-judge/open/UtynmIiHz3Q' target='_self'><span>반평균 성적 변경 (1)</span></a>\n",
    "\n",
    "3. <a class=\"jcecodle-mk jcecodle-mk__problem-chip\" data-problem-id=\"G7uK_Y6fStY\" href='#jce-judge/open/G7uK_Y6fStY' target='_self'><span>아이돌 멤버 변경</span></a>\n",
    "\n",
    "2. <a class=\"jcecodle-mk jcecodle-mk__problem-chip\" data-problem-id=\"vI2-Cplg3VY\" href='#jce-judge/open/vI2-Cplg3VY' target='_self'><span>판다스 - 데이터 값 변경 - 여러 위치(1)</span></a>\n",
    "\n",
    "1. <a class=\"jcecodle-mk jcecodle-mk__problem-chip\" data-problem-id=\"Z4taEsAFFr8\" href='#jce-judge/open/Z4taEsAFFr8' target='_self'><span>친구들 나이 변경</span></a>\n",
    "\n",
    "2. <a class=\"jcecodle-mk jcecodle-mk__problem-chip\" data-problem-id=\"ul7HW3Vv8zI\" href='#jce-judge/open/ul7HW3Vv8zI' target='_self'><span>학교 정보 수정</span></a>\n",
    "\n",
    "3. <a class=\"jcecodle-mk jcecodle-mk__problem-chip\" data-problem-id=\"1cSq2qkpN9k\" href='#jce-judge/open/1cSq2qkpN9k' target='_self'><span>가계부 수정</span></a>\n",
    "\n",
    "3. <a class=\"jcecodle-mk jcecodle-mk__problem-chip\" data-problem-id=\"Lf_f_K08VMY\" href='#jce-judge/open/Lf_f_K08VMY' target='_self'><span>판다스 - 데이터 값 변경 - 여러 위치(2)</span></a>\n",
    "\n",
    "2. <a class=\"jcecodle-mk jcecodle-mk__problem-chip\" data-problem-id=\"e-P2j-3PEJM\" href='#jce-judge/open/e-P2j-3PEJM' target='_self'><span>친구들 정보 변경</span></a>\n",
    "\n",
    "3. <a class=\"jcecodle-mk jcecodle-mk__problem-chip\" data-problem-id=\"6ZrVIlCVAq0\" href='#jce-judge/open/6ZrVIlCVAq0' target='_self'><span>특정 구역 값 변경</span></a>\n"
   ]
  },
  {
   "cell_type": "markdown",
   "id": "16859cf1-f1dc-4c5e-8fe8-877ac21089e5",
   "metadata": {
    "jp-MarkdownHeadingCollapsed": true,
    "tags": []
   },
   "source": [
    "<div style=\"padding: 15px; border: 5px solid transparent; border-color: transparent; margin-bottom: 20px; border-radius: 4px; color: #3c763d; border-color: #d6e9c6; font-weight: bold;\">\n",
    "<h2 style='font-weight: bold'>3. 값 기반으로 데이터 값 변경하기</h2>\n",
    "</div> "
   ]
  },
  {
   "cell_type": "markdown",
   "id": "f4979e52-0b2c-46c4-bcd1-4e5b1e6a1779",
   "metadata": {},
   "source": [
    "데이터를 변경할 때에 인덱싱이 아닌 특정 값들을 가진 데이터를 한번에 수정할 때에는 `replace()` 함수를 사용할 수 있습니다.\n",
    "\n",
    "> **🔨 함수(FUNCTIONS):**\n",
    ">\n",
    "> **`DataFrame.replace(to_replace = 데이터1, value = 데이터2)`**  \n",
    "> 데이터프레임의 데이터1들을 데이터2로 수정한 데이터프레임을 반환합니다.\n",
    ">> **매개변수(parameter)**\n",
    ">>\n",
    ">> **`to_replace`** : 수정할 데이터를 지정합니다.   \n",
    ">> **`value`** : 새롭게 수정될 데이터를 지정합니다.\n",
    "> ---\n",
    "> **`DataFrame.replace(to_replace = 리스트, value = 데이터2)`**  \n",
    "> 데이터프레임의 데이터 중 리스트에 포함된 데이터들을 데이터2로 수정한 데이터프레임을 반환합니다.\n",
    ">> **매개변수(parameter)**\n",
    ">>\n",
    ">> **`to_replace`** : 수정해야 할 데이터의 리스트 입니다.   \n",
    ">> **`value`** : 새롭게 수정될 데이터를 지정합니다.\n",
    "> ---\n",
    "> **`DataFrame.replace(to_replace = 딕셔너리)`**  \n",
    "> 데이터프레임의 데이터 중 매개변수로 받은 딕셔너리의 키에 해당하는 들을 딕셔너리의 벨류에 해당하는 값들로 바꿔줍니다.\n",
    ">> **매개변수(parameter)**\n",
    ">>\n",
    ">> **`to_replace`** : 수정할 값과 수정될 값의 대응을 지정한 딕셔너리입니다.   \n",
    "> ---\n",
    "\n",
    "\n"
   ]
  },
  {
   "cell_type": "markdown",
   "id": "4aadb6ac-bc77-45db-9734-1102e9e019b5",
   "metadata": {
    "tags": []
   },
   "source": [
    "### 데이터프레임의 특정 값들을 수정하기\n",
    "\n",
    "`replace()` 함수를 이용하면 데이터프레임의 특정 값들을 원하는 값으로 변경할 수 있습니다.\n",
    "\n",
    "> **⚠️ 주의(WARNING):**\n",
    ">\n",
    "> 인덱싱으로 데이터의 값을 변경할 때와는 다르게 replace로 데이터를 변경할 때에는 데이터프레임 원본이 바뀌지 않습니다.  \n",
    "> 따라서 새로운 변수에 수정된 데이터프레임을 할당해주어야 합니다.\n",
    "\n",
    "`replace(데이터1, 데이터2)` 로 `데이터1`들을 `데이터2`로 한번에 변경할 수 있습니다. \n",
    "\n",
    "<table>\n",
    "<tr>\n",
    "    <th><img src=\"https://tmn-bucket-materials-all.s3.ap-northeast-2.amazonaws.com/image/pandas/material_07_07.png\" width=\"750\"></th>\n",
    "</tr>\n",
    "<tr>\n",
    "    <th>replace() 함수로 특정 데이터 수정하기</th>\n",
    "</tr>\n",
    "</table>\n",
    "\n",
    "`replace(데이터_리스트, 데이터2)` 로 `데이터_리스트`에 포함된 데이터들을 `데이터2`로 한번에 변경할 수 있습니다.  \n",
    "\n",
    "<table>\n",
    "<tr>\n",
    "    <th><img src=\"https://tmn-bucket-materials-all.s3.ap-northeast-2.amazonaws.com/image/pandas/material_07_08.png\" width=\"750\"></th>\n",
    "</tr>\n",
    "<tr>\n",
    "    <th>replace() 함수로 여러 데이터 수정하기</th>\n",
    "</tr>\n",
    "</table>\n",
    "\n",
    "`replace(딕셔너리)` 로 `딕셔너리`의 규칙에 따라 데이터프레임을 변경할 수 있습니다.  \n",
    "\n",
    "<table>\n",
    "<tr>\n",
    "    <th><img src=\"https://tmn-bucket-materials-all.s3.ap-northeast-2.amazonaws.com/image/pandas/material_07_09.png\" width=\"750\"></th>\n",
    "</tr>\n",
    "<tr>\n",
    "    <th>replace() 함수로 여러 데이터 규칙에 따라 수정하기</th>\n",
    "</tr>\n",
    "</table>"
   ]
  },
  {
   "cell_type": "code",
   "execution_count": null,
   "id": "f2c78fca-4282-4a5d-91d9-14ac835bf084",
   "metadata": {
    "tags": []
   },
   "outputs": [],
   "source": [
    "# 예제_1_데이터프레임의_특정_값들을_수정하기\n",
    "\n",
    "import pandas as pd\n",
    "\n",
    "score = pd.read_csv('https://tmn-bucket-materials-all.s3.ap-northeast-2.amazonaws.com/data/midterm_exam_result.csv')\n",
    "score.index = score['이름']\n",
    "score = score.iloc[:,1:]\n",
    "\n",
    "print('#'*30, f\"{'score':^15s}\" , '#' * 30, '\\n') # 출력되는 결과들을 분리해서 보여주기 위한 코드입니다.\n",
    "print(score)\n",
    "print('\\n','#'*30, \"{:^15s}\".format('score.replace(18,100)') , '#' * 30, '\\n') # 출력되는 결과들을 분리해서 보여주기 위한 코드입니다.\n",
    "print(score.replace(18,100))"
   ]
  },
  {
   "cell_type": "code",
   "execution_count": null,
   "id": "4c4ed5b3-a5dc-48dd-acac-2431655f3c0a",
   "metadata": {
    "tags": []
   },
   "outputs": [],
   "source": [
    "# 예제_2_데이터프레임의_여러_값들을_하나의_값으로_수정하기\n",
    "\n",
    "import pandas as pd\n",
    "\n",
    "score = pd.read_csv('https://tmn-bucket-materials-all.s3.ap-northeast-2.amazonaws.com/data/midterm_exam_result.csv')\n",
    "score.index = score['이름']\n",
    "score = score.iloc[:,1:]\n",
    "\n",
    "print('#'*30, f\"{'score':^15s}\" , '#' * 30, '\\n') # 출력되는 결과들을 분리해서 보여주기 위한 코드입니다.\n",
    "print(score)\n",
    "print('\\n','#'*30, \"{:^15s}\".format('score.replace([18,95,88,38,7],100)') , '#' * 30, '\\n') # 출력되는 결과들을 분리해서 보여주기 위한 코드입니다.\n",
    "print(score.replace([18,95,88,38,7],100))"
   ]
  },
  {
   "cell_type": "code",
   "execution_count": null,
   "id": "b5e7b191-d6d2-4ea2-81c1-c0948158f479",
   "metadata": {
    "tags": []
   },
   "outputs": [],
   "source": [
    "# 예제_3_데이터프레임의_여러_값들을_정해진_규칙대로_수정하기\n",
    "\n",
    "import pandas as pd\n",
    "\n",
    "score = pd.read_csv('https://tmn-bucket-materials-all.s3.ap-northeast-2.amazonaws.com/data/midterm_exam_result.csv')\n",
    "score.index = score['이름']\n",
    "score = score.iloc[:,1:]\n",
    "\n",
    "print('#'*30, f\"{'score':^15s}\" , '#' * 30, '\\n') # 출력되는 결과들을 분리해서 보여주기 위한 코드입니다.\n",
    "print(score)\n",
    "print('\\n','#'*30, \"{:^15s}\".format('score.replace({18:100, 95:99, 88:98, 38:97, 7:96})') , '#' * 30, '\\n') # 출력되는 결과들을 분리해서 보여주기 위한 코드입니다.\n",
    "print(score.replace({18:100, 95:99, 88:98, 38:97, 7:96}))"
   ]
  },
  {
   "cell_type": "markdown",
   "id": "3efe68c3-b92c-45ae-b7b3-cd3407cff7ec",
   "metadata": {},
   "source": [
    "### **💯 연습문제를 풀어봅시다**\n",
    "\n"
   ]
  },
  {
   "cell_type": "markdown",
   "id": "a67001ca-5088-4f9d-bda0-f618856f56b4",
   "metadata": {
    "tags": []
   },
   "source": [
    "1. <a class=\"jcecodle-mk jcecodle-mk__problem-chip\" data-problem-id=\"SzB0uPNXl9Y\" href='#jce-judge/open/SzB0uPNXl9Y' target='_self'><span>판다스 - 데이터 값 변경 - 1가지 값</span></a>\n",
    "\n",
    "1. <a class=\"jcecodle-mk jcecodle-mk__problem-chip\" data-problem-id=\"f4VGEDRxHO4\" href='#jce-judge/open/f4VGEDRxHO4' target='_self'><span>친구 이름 변경 (2)</span></a>\n",
    "\n",
    "2. <a class=\"jcecodle-mk jcecodle-mk__problem-chip\" data-problem-id=\"4egTpZbVMZ4\" href='#jce-judge/open/4egTpZbVMZ4' target='_self'><span>반평균 성적 변경(2)</span></a>\n",
    "\n",
    "\n",
    "2. <a class=\"jcecodle-mk jcecodle-mk__problem-chip\" data-problem-id=\"2xZ3Fs7FMtg\" href='#jce-judge/open/2xZ3Fs7FMtg' target='_self'><span>판다스 - 데이터 값 변경 - 여러가지 값 (1)</span></a>\n",
    "\n",
    "1. <a class=\"jcecodle-mk jcecodle-mk__problem-chip\" data-problem-id=\"uMudTUOpafQ\" href='#jce-judge/open/uMudTUOpafQ' target='_self'><span>아이돌 멤버수 수정</span></a>\n",
    "\n",
    "\n",
    "\n",
    "2. <a class=\"jcecodle-mk jcecodle-mk__problem-chip\" data-problem-id=\"3Be5uuDlrEI\" href='#jce-judge/open/3Be5uuDlrEI' target='_self'><span>가족 직업 변경 (2)</span></a>\n",
    "\n",
    "\n",
    "3. <a class=\"jcecodle-mk jcecodle-mk__problem-chip\" data-problem-id=\"E3Vp2wXS6Hw\" href='#jce-judge/open/E3Vp2wXS6Hw' target='_self'><span>판다스 - 데이터 값 변경 - 여러가지 값 (2)</span></a>\n",
    "\n",
    "\n",
    "2. <a class=\"jcecodle-mk jcecodle-mk__problem-chip\" data-problem-id=\"mL-2BXbypoE\" href='#jce-judge/open/mL-2BXbypoE' target='_self'><span>판다스 - 데이터 값 변경 - 여러가지 값(3)</span></a>\n",
    "\n",
    "1. <a class=\"jcecodle-mk jcecodle-mk__problem-chip\" data-problem-id=\"LBop0grjxDs\" href='#jce-judge/open/LBop0grjxDs' target='_self'><span>타이틀로 업데이트</span></a>\n",
    "\n"
   ]
  }
 ],
 "metadata": {
  "kernelspec": {
   "display_name": "Python 3 (ipykernel)",
   "language": "python",
   "name": "python3"
  },
  "language_info": {
   "codemirror_mode": {
    "name": "ipython",
    "version": 3
   },
   "file_extension": ".py",
   "mimetype": "text/x-python",
   "name": "python",
   "nbconvert_exporter": "python",
   "pygments_lexer": "ipython3",
   "version": "3.11.3"
  }
 },
 "nbformat": 4,
 "nbformat_minor": 5
}
