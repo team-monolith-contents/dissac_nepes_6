{
 "cells": [
  {
   "cell_type": "markdown",
   "id": "6d58e486-2b93-4e9e-91f4-d35fa69861ae",
   "metadata": {
    "tags": []
   },
   "source": [
    "<div style=\"padding: 15px; border: 5px solid transparent; border-color: transparent; margin-bottom: 20px; border-radius: 4px; color: #3c763d; background-color: #dff0d8; border-color: #d6e9c6; font-weight: bold;\">\n",
    "    <br><br>\n",
    "    <div style=\"font-weight: bold; font-size: 40px\">파이썬으로 끝내는 데이터 과학</div>\n",
    "    <div style=\"font-weight: bold; font-size: 20px\">[15] Pandas를 이용한 데이터 분석-7</div>\n",
    "    <hr style=\"width:80%;text-align:left;margin-left:0;border:0.5px solid green\">\n",
    "    <br>\n",
    "    &#x2022; 데이터의 다양한 대푯값을 계산해봅시다.<br>\n",
    "    &#x2022; 데이터의 최댓값, 최솟값을 구해봅시다.<br>\n",
    "    &#x2022; 데이터의 개수, 합을 구해봅시다.<br>\n",
    "    &#x2022; 데이터를 그룹화 해봅시다.<br>\n",
    "    &#x2022; 그룹별로 통계함수를 적용해봅시다.<br>\n",
    "    \n",
    "</div>"
   ]
  },
  {
   "cell_type": "markdown",
   "id": "ceae3d5f-8b10-4e95-9ad9-c0b05ed8c0d9",
   "metadata": {
    "jp-MarkdownHeadingCollapsed": true,
    "tags": []
   },
   "source": [
    "<div style=\"padding: 15px; border: 5px solid transparent; border-color: transparent; margin-bottom: 20px; border-radius: 4px; color: #3c763d; border-color: #d6e9c6; font-weight: bold;\">\n",
    "<h2 style='font-weight: bold'>1. 데이터의 대푯값 구하기</h2>\n",
    "</div> "
   ]
  },
  {
   "cell_type": "markdown",
   "id": "2e8e39ab-d04d-4988-9e30-6bc3859c53a5",
   "metadata": {},
   "source": [
    "여러 함수를 이용해 데이터의 대푯값을 계산할 수 있습니다.\n",
    "\n",
    "> **✏️ 알아봅시다(NOTE): 대푯값이 무엇인가요?**\n",
    ">\n",
    "> 대푯값은 어떤 데이터를 대표하는 값입니다.  \n",
    "> 평균, 중앙값, 최빈값, 표준편차 등이 있습니다. \n",
    "\n",
    "> **🔨 함수(FUNCTIONS):**\n",
    ">\n",
    "> **`Series.mean()`**  \n",
    "> 시리즈의 평균값을 구합니다.\n",
    "> ---\n",
    "> **`DataFrame.mean(axis = 0_또는_1)`**  \n",
    "> 데이터프레임의 평균값을 구합니다.\n",
    ">> **매개변수(parameter)**\n",
    ">>\n",
    ">> **`axis`** : 0 또는 1이 전달됩니다.   \n",
    ">> axis가 0 일경우 열에서의 평균값을 구하고 axis가 1일 경우 행에서의 평균값을 구합니다.     \n",
    ">> 기본값은 0으로 열 방향으로의 평균값을 구합니다.\n",
    "> ---\n",
    "> **`Series.median()`**  \n",
    "> 데이터프레임의 중앙값을 구합니다.\n",
    "> ---\n",
    "> **`DataFrame.median(axis = 0_또는_1)`**  \n",
    "> 데이터프레임의 중앙값을 구합니다.\n",
    ">> **매개변수(parameter)**\n",
    ">>\n",
    ">> **`axis`** : 0 또는 1이 전달됩니다.   \n",
    ">> axis가 0 일경우 열에서의 중앙값을 구하고 axis가 1일 경우 행에서의 중앙값을 구합니다.     \n",
    ">> 기본값은 0으로 열 방향으로의 중앙값을 구합니다.\n",
    "> ---\n",
    "> **`Series.mode()`**  \n",
    "> 데이터프레임의 최빈값을 구합니다.\n",
    "> ---\n",
    "> **`DataFrame.mode(axis = 0_또는_1)`**  \n",
    "> 데이터프레임의 최빈값을 구합니다.\n",
    ">> **매개변수(parameter)**\n",
    ">>\n",
    ">> **`axis`** : 0 또는 1이 전달됩니다.   \n",
    ">> axis가 0 일경우 열에서의 최빈값을 구하고 axis가 1일 경우 행에서의 최빈값을 구합니다.     \n",
    ">> 기본값은 0으로 열 방향으로의 최빈값을 구합니다.\n",
    "> ---\n",
    "> **`Series.std()`**  \n",
    "> 데이터프레임의 표준편차를 구합니다.\n",
    "> ---\n",
    "> **`DataFrame.std(axis = 0_또는_1)`**  \n",
    "> 데이터프레임의 표준편차를 구합니다.\n",
    ">> **매개변수(parameter)**\n",
    ">>\n",
    ">> **`axis`** : 0 또는 1이 전달됩니다.   \n",
    ">> axis가 0 일경우 열에서의 표준편차 구하고 axis가 1일 경우 행에서의 표준편차를 구합니다.     \n",
    ">> 기본값은 0으로 열 방향으로의 표준편차를 구합니다.\n",
    "> ---\n",
    "\n"
   ]
  },
  {
   "cell_type": "markdown",
   "id": "48f45d52-8fa5-4d93-ac0f-5c9bae752cbb",
   "metadata": {
    "tags": []
   },
   "source": [
    "### 대푯값 구하기\n",
    "\n",
    "시리즈와 데이터프레임에 여러 함수들을 적용해 대푯값을 구할 수 있습니다.\n",
    "\n",
    "<table>\n",
    "<tr>\n",
    "    <th><img src=\"https://tmn-bucket-materials-all.s3.ap-northeast-2.amazonaws.com/image/pandas/material_09_01.gif\" width=\"750\"></th>\n",
    "</tr>\n",
    "<tr>\n",
    "    <th>시리즈에 대푯값 함수 적용하기</th>\n",
    "</tr>\n",
    "</table>\n",
    "\n",
    "<table>\n",
    "<tr>\n",
    "    <th><img src=\"https://tmn-bucket-materials-all.s3.ap-northeast-2.amazonaws.com/image/pandas/material_09_02.gif\" width=\"750\"></th>\n",
    "</tr>\n",
    "<tr>\n",
    "    <th>데이터프레임에 대푯값 함수 적용하기</th>\n",
    "</tr>\n",
    "</table>\n",
    "\n",
    "<table>\n",
    "<tr>\n",
    "    <th><img src=\"https://tmn-bucket-materials-all.s3.ap-northeast-2.amazonaws.com/image/pandas/material_09_03.gif\" width=\"750\"></th>\n",
    "</tr>\n",
    "<tr>\n",
    "    <th>데이터프레임에 열방향으로 대푯값 함수 적용하기</th>\n",
    "</tr>\n",
    "</table>"
   ]
  },
  {
   "cell_type": "code",
   "execution_count": null,
   "id": "f34ee13a-04f9-4d2a-b0f2-6a6b58e0097a",
   "metadata": {
    "tags": []
   },
   "outputs": [],
   "source": [
    "# 예제_1_시리즈의_대푯값_구하기\n",
    "\n",
    "import pandas as pd\n",
    "import random\n",
    "\n",
    "score = pd.read_csv('https://tmn-bucket-materials-all.s3.ap-northeast-2.amazonaws.com/data/midterm_exam_result.csv')\n",
    "score.index = score['이름']\n",
    "score = score.iloc[:,1]\n",
    "\n",
    "print('#'*30, f\"{'score':^15s}\" , '#' * 30, '\\n') # 출력되는 결과들을 분리해서 보여주기 위한 코드입니다.\n",
    "print(score)\n",
    "print('\\n','#'*30, \"{:^15s}\".format('score.mean()') , '#' * 30, '\\n') # 출력되는 결과들을 분리해서 보여주기 위한 코드입니다.\n",
    "print(score.mean())\n",
    "print('\\n','#'*30, \"{:^15s}\".format('score.median()') , '#' * 30, '\\n') # 출력되는 결과들을 분리해서 보여주기 위한 코드입니다.\n",
    "print(score.median())\n",
    "print('\\n','#'*30, \"{:^15s}\".format('score.mode()') , '#' * 30, '\\n') # 출력되는 결과들을 분리해서 보여주기 위한 코드입니다.\n",
    "print(score.mode())\n",
    "print('\\n','#'*30, \"{:^15s}\".format('score.std()') , '#' * 30, '\\n') # 출력되는 결과들을 분리해서 보여주기 위한 코드입니다.\n",
    "print(score.std())"
   ]
  },
  {
   "cell_type": "code",
   "execution_count": null,
   "id": "55a05175-945d-400f-9e17-b67af772e941",
   "metadata": {
    "tags": []
   },
   "outputs": [],
   "source": [
    "# 예제_2_데이터프레임의_대푯값_구하기\n",
    "\n",
    "import pandas as pd\n",
    "import random\n",
    "\n",
    "score = pd.read_csv('https://tmn-bucket-materials-all.s3.ap-northeast-2.amazonaws.com/data/midterm_exam_result.csv')\n",
    "score.index = score['이름']\n",
    "score = score.iloc[:,1:]\n",
    "\n",
    "print('#'*30, f\"{'score':^15s}\" , '#' * 30, '\\n') # 출력되는 결과들을 분리해서 보여주기 위한 코드입니다.\n",
    "print(score)\n",
    "print('\\n','#'*30, \"{:^15s}\".format('score.mean()') , '#' * 30, '\\n') # 출력되는 결과들을 분리해서 보여주기 위한 코드입니다.\n",
    "print(score.mean())\n",
    "print('\\n','#'*30, \"{:^15s}\".format('score.median()') , '#' * 30, '\\n') # 출력되는 결과들을 분리해서 보여주기 위한 코드입니다.\n",
    "print(score.median())\n",
    "print('\\n','#'*30, \"{:^15s}\".format('score.mode()') , '#' * 30, '\\n') # 출력되는 결과들을 분리해서 보여주기 위한 코드입니다.\n",
    "print(score.mode())\n",
    "print('\\n','#'*30, \"{:^15s}\".format('score.std()') , '#' * 30, '\\n') # 출력되는 결과들을 분리해서 보여주기 위한 코드입니다.\n",
    "print(score.std())"
   ]
  },
  {
   "cell_type": "code",
   "execution_count": null,
   "id": "c6a2ca50-3bc9-458d-bdb7-a837a1ce401f",
   "metadata": {
    "tags": []
   },
   "outputs": [],
   "source": [
    "# 예제_2_데이터프레임의_열방향_대푯값_구하기\n",
    "\n",
    "import pandas as pd\n",
    "import random\n",
    "\n",
    "score = pd.read_csv('https://tmn-bucket-materials-all.s3.ap-northeast-2.amazonaws.com/data/midterm_exam_result.csv')\n",
    "score.index = score['이름']\n",
    "score = score.iloc[:,1:]\n",
    "\n",
    "print('#'*30, f\"{'score':^15s}\" , '#' * 30, '\\n') # 출력되는 결과들을 분리해서 보여주기 위한 코드입니다.\n",
    "print(score)\n",
    "print('\\n','#'*30, \"{:^15s}\".format('score.mean(axis = 1)') , '#' * 30, '\\n') # 출력되는 결과들을 분리해서 보여주기 위한 코드입니다.\n",
    "print(score.mean(axis = 1))\n",
    "print('\\n','#'*30, \"{:^15s}\".format('score.median(axis = 1)') , '#' * 30, '\\n') # 출력되는 결과들을 분리해서 보여주기 위한 코드입니다.\n",
    "print(score.median(axis = 1))\n",
    "print('\\n','#'*30, \"{:^15s}\".format('score.mode(axis = 1)') , '#' * 30, '\\n') # 출력되는 결과들을 분리해서 보여주기 위한 코드입니다.\n",
    "print(score.mode(axis = 1))\n",
    "print('\\n','#'*30, \"{:^15s}\".format('score.std(axis = 1)') , '#' * 30, '\\n') # 출력되는 결과들을 분리해서 보여주기 위한 코드입니다.\n",
    "print(score.std(axis = 1))"
   ]
  },
  {
   "cell_type": "markdown",
   "id": "4faf772d-313e-4bb7-995e-a3e5a99cdc1e",
   "metadata": {},
   "source": [
    "### **💯 연습문제를 풀어봅시다**\n",
    "\n"
   ]
  },
  {
   "cell_type": "markdown",
   "id": "bfc63131-846c-4c7e-a4e0-c918c3962b19",
   "metadata": {
    "tags": []
   },
   "source": [
    "1. <a class=\"jcecodle-mk jcecodle-mk__problem-chip\" data-problem-id=\"F6pUd4gvMwM\" href='#jce-judge/open/F6pUd4gvMwM' target='_self'><span>판다스 - 데이터 통계 - median</span></a>\n",
    "\n",
    "1. <a class=\"jcecodle-mk jcecodle-mk__problem-chip\" data-problem-id=\"yAEg4HHoJF8\" href='#jce-judge/open/yAEg4HHoJF8' target='_self'><span>도착시간 중앙값 (1)</span></a>\n",
    "\n",
    "2. <a class=\"jcecodle-mk jcecodle-mk__problem-chip\" data-problem-id=\"uR1NqzwSJvk\" href='#jce-judge/open/uR1NqzwSJvk' target='_self'><span>도착시간 중앙값 (2)</span></a>\n",
    "\n",
    "3. <a class=\"jcecodle-mk jcecodle-mk__problem-chip\" data-problem-id=\"OsKrBBq2TTE\" href='#jce-judge/open/OsKrBBq2TTE' target='_self'><span>성적 중앙값</span></a>\n",
    "\n",
    "2. <a class=\"jcecodle-mk jcecodle-mk__problem-chip\" data-problem-id=\"lHKazuduw5A\" href='#jce-judge/open/lHKazuduw5A' target='_self'><span>판다스 - 데이터 통계 -  mean</span></a>\n",
    "\n",
    "1. <a class=\"jcecodle-mk jcecodle-mk__problem-chip\" data-problem-id=\"XxoGA530lVI\" href='#jce-judge/open/XxoGA530lVI' target='_self'><span>성적 평균값 (1)</span></a>\n",
    "\n",
    "2. <a class=\"jcecodle-mk jcecodle-mk__problem-chip\" data-problem-id=\"2un8j30nlU0\" href='#jce-judge/open/2un8j30nlU0' target='_self'><span>성적 평균값 (3)</span></a>\n",
    "\n",
    "3. <a class=\"jcecodle-mk jcecodle-mk__problem-chip\" data-problem-id=\"19-h_lB1w-I\" href='#jce-judge/open/19-h_lB1w-I' target='_self'><span>판다스 - 결측값 처리 - 열에 따라 변경(1)</span></a>\n",
    "\n",
    "3. <a class=\"jcecodle-mk jcecodle-mk__problem-chip\" data-problem-id=\"SZoWwB5VS24\" href='#jce-judge/open/SZoWwB5VS24' target='_self'><span>판다스 - 데이터 통계 - std</span></a>\n",
    "\n",
    "1. <a class=\"jcecodle-mk jcecodle-mk__problem-chip\" data-problem-id=\"0UyZTrM2eUo\" href='#jce-judge/open/0UyZTrM2eUo' target='_self'><span>매출액 표준편차</span></a>\n",
    "\n",
    "2. <a class=\"jcecodle-mk jcecodle-mk__problem-chip\" data-problem-id=\"IAmEXv9cWrE\" href='#jce-judge/open/IAmEXv9cWrE' target='_self'><span>부동산 표준편차</span></a>\n",
    "\n",
    "3. <a class=\"jcecodle-mk jcecodle-mk__problem-chip\" data-problem-id=\"0Se3NuwFlBE\" href='#jce-judge/open/0Se3NuwFlBE' target='_self'><span>광고 매체 선호도 표준편차</span></a>\n",
    "\n",
    "4. <a class=\"jcecodle-mk jcecodle-mk__problem-chip\" data-problem-id=\"omdpmhnQghk\" href='#jce-judge/open/omdpmhnQghk' target='_self'><span>판다스 - 데이터 통계 - mode</span></a>\n",
    "\n",
    "1. <a class=\"jcecodle-mk jcecodle-mk__problem-chip\" data-problem-id=\"QBymtuzthO0\" href='#jce-judge/open/QBymtuzthO0' target='_self'><span>펭귄의 종과 서식지</span></a>\n",
    "\n",
    "2. <a class=\"jcecodle-mk jcecodle-mk__problem-chip\" data-problem-id=\"-54q2pbV7pQ\" href='#jce-judge/open/-54q2pbV7pQ' target='_self'><span>카페 정보 최빈값</span></a>\n",
    "\n",
    "3. <a class=\"jcecodle-mk jcecodle-mk__problem-chip\" data-problem-id=\"BXTt2Rjlq5w\" href='#jce-judge/open/BXTt2Rjlq5w' target='_self'><span>판다스 - 결측값 처리 - 열에 따라 변경(2)</span></a>"
   ]
  },
  {
   "cell_type": "markdown",
   "id": "87c5b058-ec13-4dc8-8104-ec6d9372090a",
   "metadata": {
    "jp-MarkdownHeadingCollapsed": true,
    "tags": []
   },
   "source": [
    "<div style=\"padding: 15px; border: 5px solid transparent; border-color: transparent; margin-bottom: 20px; border-radius: 4px; color: #3c763d; border-color: #d6e9c6; font-weight: bold;\">\n",
    "<h2 style='font-weight: bold'>2. 데이터의 최댓값, 최솟값 구하기</h2>\n",
    "</div> "
   ]
  },
  {
   "cell_type": "markdown",
   "id": "b030a507-e9cc-41a4-b541-e7b1627f9775",
   "metadata": {},
   "source": [
    "여러 함수를 이용해 데이터의 최댓값, 최솟값을 계산할 수 있습니다.\n",
    "\n",
    "> **🔨 함수(FUNCTIONS):**\n",
    ">\n",
    "> **`Series.max()`**  \n",
    "> 시리즈의 최댓값을 구합니다.  \n",
    "> ---\n",
    "> **`DataFrame.max(axis = 0_또는_1)`**  \n",
    "> 데이터프레임의 최댓값을 구합니다.\n",
    ">> **매개변수(parameter)**\n",
    ">>\n",
    ">> **`axis`** : 0 또는 1이 전달됩니다.   \n",
    ">> axis가 0 일경우 열에서의 최댓값을 구하고 axis가 1일 경우 행에서의 최댓값을 구합니다.     \n",
    ">> 기본값은 0으로 열 방향으로의 최댓값을 구합니다.\n",
    "> ---\n",
    "> **`Series.min()`**  \n",
    "> 시리즈의 최솟값을 구합니다.  \n",
    "> ---\n",
    "> **`DataFrame.min(axis = 0_또는_1)`**  \n",
    "> 데이터프레임의 최솟값을 구합니다.\n",
    ">> **매개변수(parameter)**\n",
    ">>\n",
    ">> **`axis`** : 0 또는 1이 전달됩니다.   \n",
    ">> axis가 0 일경우 열에서의 최솟값을 구하고 axis가 1일 경우 행에서의 최솟값을 구합니다.     \n",
    ">> 기본값은 0으로 열 방향으로의 최솟값을 구합니다.\n",
    "> ---\n",
    "> **`Series.idxmax()`**  \n",
    "> 시리즈의 최대값의 인덱스를 구합니다.  \n",
    "> ---\n",
    "> **`DataFrame.idxmax(axis = 0_또는_1)`**  \n",
    "> 데이터프레임의 최대값의 인덱스를 구합니다.\n",
    ">> **매개변수(parameter)**\n",
    ">>\n",
    ">> **`axis`** : 0 또는 1이 전달됩니다.   \n",
    ">> axis가 0 일경우 열에서의 최댓값의 인덱스를 구하고 axis가 1일 경우 행에서의 최댓값의 열을 구합니다.     \n",
    ">> 기본값은 0으로 열 방향으로의 최댓값의 인덱스를 구합니다.\n",
    "> ---\n",
    "> **`Series.idxmin()`**  \n",
    "> 시리즈의 최솟값의 인덱스를 구합니다.  \n",
    "> ---\n",
    "> **`DataFrame.idxmin(axis = 0_또는_1)`**  \n",
    "> 데이터프레임의 최솟값의 인덱스를 구합니다.\n",
    ">> **매개변수(parameter)**\n",
    ">>\n",
    ">> **`axis`** : 0 또는 1이 전달됩니다.   \n",
    ">> axis가 0 일경우 열에서의 최솟값의 인덱스를 구하고 axis가 1일 경우 행에서의 최솟값의 열을 구합니다.     \n",
    ">> 기본값은 0으로 열 방향으로의 최솟값의 인덱스를 구합니다.\n",
    "> ---\n",
    "\n",
    "\n",
    "\n",
    "\n",
    "\n",
    "\n",
    "\n"
   ]
  },
  {
   "cell_type": "markdown",
   "id": "2a3d228b-dc06-42c8-a36a-74a2ee26daab",
   "metadata": {
    "tags": []
   },
   "source": [
    "### 최댓값, 최솟값 구하기\n",
    "\n",
    "시리즈와 데이터프레임에 여러 함수들을 적용해 최솟값과 최댓값을 구할 수 있습니다.\n",
    "\n",
    "<table>\n",
    "<tr>\n",
    "    <th><img src=\"https://tmn-bucket-materials-all.s3.ap-northeast-2.amazonaws.com/image/pandas/material_09_04.gif\" width=\"750\"></th>\n",
    "</tr>\n",
    "<tr>\n",
    "    <th>시리즈에 최솟값, 최댓값 함수 적용하기</th>\n",
    "</tr>\n",
    "</table>\n",
    "\n",
    "<table>\n",
    "<tr>\n",
    "    <th><img src=\"https://tmn-bucket-materials-all.s3.ap-northeast-2.amazonaws.com/image/pandas/material_09_05.gif\" width=\"750\"></th>\n",
    "</tr>\n",
    "<tr>\n",
    "    <th>데이터프레임에 최솟값, 최댓값 함수 적용하기</th>\n",
    "</tr>\n",
    "</table>\n",
    "\n",
    "<table>\n",
    "<tr>\n",
    "    <th><img src=\"https://tmn-bucket-materials-all.s3.ap-northeast-2.amazonaws.com/image/pandas/material_09_06.gif\" width=\"750\"></th>\n",
    "</tr>\n",
    "<tr>\n",
    "    <th>데이터프레임에 열방향으로 최솟값, 최댓값 함수 적용하기</th>\n",
    "</tr>\n",
    "</table>"
   ]
  },
  {
   "cell_type": "code",
   "execution_count": null,
   "id": "afd54ec0-c864-4289-8f6d-5d841c05728d",
   "metadata": {
    "tags": []
   },
   "outputs": [],
   "source": [
    "# 예제_1_시리즈의_최솟값_최댓값_구하기\n",
    "\n",
    "import pandas as pd\n",
    "import random\n",
    "\n",
    "score = pd.read_csv('https://tmn-bucket-materials-all.s3.ap-northeast-2.amazonaws.com/data/midterm_exam_result.csv')\n",
    "score.index = score['이름']\n",
    "score = score.iloc[:,1]\n",
    "\n",
    "print('#'*30, f\"{'score':^15s}\" , '#' * 30, '\\n') # 출력되는 결과들을 분리해서 보여주기 위한 코드입니다.\n",
    "print(score)\n",
    "print('\\n','#'*30, \"{:^15s}\".format('score.min()') , '#' * 30, '\\n') # 출력되는 결과들을 분리해서 보여주기 위한 코드입니다.\n",
    "print(score.min())\n",
    "print('\\n','#'*30, \"{:^15s}\".format('score.max()') , '#' * 30, '\\n') # 출력되는 결과들을 분리해서 보여주기 위한 코드입니다.\n",
    "print(score.max())\n",
    "print('\\n','#'*30, \"{:^15s}\".format('score.idxmin()') , '#' * 30, '\\n') # 출력되는 결과들을 분리해서 보여주기 위한 코드입니다.\n",
    "print(score.idxmin())\n",
    "print('\\n','#'*30, \"{:^15s}\".format('score.idxmax()') , '#' * 30, '\\n') # 출력되는 결과들을 분리해서 보여주기 위한 코드입니다.\n",
    "print(score.idxmax())"
   ]
  },
  {
   "cell_type": "code",
   "execution_count": null,
   "id": "28cfcfee-8745-4bb5-965e-aa646ac38b1b",
   "metadata": {
    "tags": []
   },
   "outputs": [],
   "source": [
    "# 예제_2_데이터프레임의_최솟값_최댓값_구하기\n",
    "\n",
    "import pandas as pd\n",
    "import random\n",
    "\n",
    "score = pd.read_csv('https://tmn-bucket-materials-all.s3.ap-northeast-2.amazonaws.com/data/midterm_exam_result.csv')\n",
    "score.index = score['이름']\n",
    "score = score.iloc[:,1:]\n",
    "\n",
    "print('#'*30, f\"{'score':^15s}\" , '#' * 30, '\\n') # 출력되는 결과들을 분리해서 보여주기 위한 코드입니다.\n",
    "print(score)\n",
    "print('\\n','#'*30, \"{:^15s}\".format('score.min()') , '#' * 30, '\\n') # 출력되는 결과들을 분리해서 보여주기 위한 코드입니다.\n",
    "print(score.min())\n",
    "print('\\n','#'*30, \"{:^15s}\".format('score.max()') , '#' * 30, '\\n') # 출력되는 결과들을 분리해서 보여주기 위한 코드입니다.\n",
    "print(score.max())\n",
    "print('\\n','#'*30, \"{:^15s}\".format('score.idxmin()') , '#' * 30, '\\n') # 출력되는 결과들을 분리해서 보여주기 위한 코드입니다.\n",
    "print(score.idxmin())\n",
    "print('\\n','#'*30, \"{:^15s}\".format('score.idxmax()') , '#' * 30, '\\n') # 출력되는 결과들을 분리해서 보여주기 위한 코드입니다.\n",
    "print(score.idxmax())"
   ]
  },
  {
   "cell_type": "code",
   "execution_count": null,
   "id": "7d8ea92e-e897-4a8e-b1e4-b8d156cf32fa",
   "metadata": {
    "tags": []
   },
   "outputs": [],
   "source": [
    "# 예제_3_데이터프레임의_열방향_최솟값_최댓값_구하기\n",
    "\n",
    "import pandas as pd\n",
    "import random\n",
    "\n",
    "score = pd.read_csv('https://tmn-bucket-materials-all.s3.ap-northeast-2.amazonaws.com/data/midterm_exam_result.csv')\n",
    "score.index = score['이름']\n",
    "score = score.iloc[:,1:]\n",
    "\n",
    "print('#'*30, f\"{'score':^15s}\" , '#' * 30, '\\n') # 출력되는 결과들을 분리해서 보여주기 위한 코드입니다.\n",
    "print(score)\n",
    "print('\\n','#'*30, \"{:^15s}\".format('score.min(axis = 1)') , '#' * 30, '\\n') # 출력되는 결과들을 분리해서 보여주기 위한 코드입니다.\n",
    "print(score.min(axis = 1))\n",
    "print('\\n','#'*30, \"{:^15s}\".format('score.max(axis = 1)') , '#' * 30, '\\n') # 출력되는 결과들을 분리해서 보여주기 위한 코드입니다.\n",
    "print(score.max(axis = 1))\n",
    "print('\\n','#'*30, \"{:^15s}\".format('score.idxmin(axis = 1)') , '#' * 30, '\\n') # 출력되는 결과들을 분리해서 보여주기 위한 코드입니다.\n",
    "print(score.idxmin(axis = 1))\n",
    "print('\\n','#'*30, \"{:^15s}\".format('score.idxmax(axis = 1)') , '#' * 30, '\\n') # 출력되는 결과들을 분리해서 보여주기 위한 코드입니다.\n",
    "print(score.idxmax(axis = 1))"
   ]
  },
  {
   "cell_type": "markdown",
   "id": "f6557c9e-205d-4059-bbf2-49eda015294b",
   "metadata": {},
   "source": [
    "### **💯 연습문제를 풀어봅시다**\n",
    "\n"
   ]
  },
  {
   "cell_type": "markdown",
   "id": "1f1a94ce-c242-4f18-bebc-9f5089fa9a8f",
   "metadata": {
    "tags": []
   },
   "source": [
    "1. <a class=\"jcecodle-mk jcecodle-mk__problem-chip\" data-problem-id=\"wof3MOPluTM\" href='#jce-judge/open/wof3MOPluTM' target='_self'><span>판다스 - 데이터 통계 - max</span></a>\n",
    "1. <a class=\"jcecodle-mk jcecodle-mk__problem-chip\" data-problem-id=\"K51KUnww6ME\" href='#jce-judge/open/K51KUnww6ME' target='_self'><span>매출액 최대</span></a>\n",
    "2. <a class=\"jcecodle-mk jcecodle-mk__problem-chip\" data-problem-id=\"Vm59O1HkYv0\" href='#jce-judge/open/Vm59O1HkYv0' target='_self'><span>인적사항 최댓값</span></a>\n",
    "1. <a class=\"jcecodle-mk jcecodle-mk__problem-chip\" data-problem-id=\"WocVHm-2gLs\" href='#jce-judge/open/WocVHm-2gLs' target='_self'><span>판다스 - 데이터 통계 - min</span></a>\n",
    "1. <a class=\"jcecodle-mk jcecodle-mk__problem-chip\" data-problem-id=\"W0G6nPsoNgo\" href='#jce-judge/open/W0G6nPsoNgo' target='_self'><span>매출액 최소</span></a>\n",
    "2. <a class=\"jcecodle-mk jcecodle-mk__problem-chip\" data-problem-id=\"dGLmkowYD18\" href='#jce-judge/open/dGLmkowYD18' target='_self'><span>인적사항 최솟값</span></a>\n",
    "3. <a class=\"jcecodle-mk jcecodle-mk__problem-chip\" data-problem-id=\"_8jUyWKYLHU\" href='#jce-judge/open/_8jUyWKYLHU' target='_self'><span>판다스 - 데이터 연산하기 - idxmax</span></a>\n",
    "1. <a class=\"jcecodle-mk jcecodle-mk__problem-chip\" data-problem-id=\"e3bAUADVQ8k\" href='#jce-judge/open/e3bAUADVQ8k' target='_self'><span>국어 1등</span></a>\n",
    "2. <a class=\"jcecodle-mk jcecodle-mk__problem-chip\" data-problem-id=\"ZqBeUeUkv3Q\" href='#jce-judge/open/ZqBeUeUkv3Q' target='_self'><span>연장자</span></a>\n",
    "4. <a class=\"jcecodle-mk jcecodle-mk__problem-chip\" data-problem-id=\"UyGtM9-My2Q\" href='#jce-judge/open/UyGtM9-My2Q' target='_self'><span>판다스 - 데이터 연산하기 - idxmin</span></a>\n",
    "\n",
    "2. <a class=\"jcecodle-mk jcecodle-mk__problem-chip\" data-problem-id=\"cEF35d3TDqA\" href='#jce-judge/open/cEF35d3TDqA' target='_self'><span>성적 평균이 최소인 과목</span></a>\n"
   ]
  },
  {
   "cell_type": "markdown",
   "id": "cbc80a17-2cf9-4a2e-a2be-4bca847d3594",
   "metadata": {
    "jp-MarkdownHeadingCollapsed": true,
    "tags": []
   },
   "source": [
    "<div style=\"padding: 15px; border: 5px solid transparent; border-color: transparent; margin-bottom: 20px; border-radius: 4px; color: #3c763d; border-color: #d6e9c6; font-weight: bold;\">\n",
    "<h2 style='font-weight: bold'>3. 데이터의 개수,합 구하기</h2>\n",
    "</div> "
   ]
  },
  {
   "cell_type": "markdown",
   "id": "0727234c-b71f-45d4-8237-9c9b3756dd8a",
   "metadata": {},
   "source": [
    "여러 함수를 이용해 데이터의 개수와 합을 계산할 수 있습니다.\n",
    "\n",
    "> **🔨 함수(FUNCTIONS):**\n",
    ">\n",
    "> **`Series.count()`**  \n",
    "> 시리즈의 데이터의 개수를 구합니다.\n",
    "> ---\n",
    "> **`DataFrame.count(axis = 0_또는_1)`**  \n",
    "> 데이터프레임의 데이터의 개수를 구합니다.\n",
    ">> **매개변수(parameter)**\n",
    ">>\n",
    ">> **`axis`** : 0 또는 1이 전달됩니다.   \n",
    ">> axis가 0 일경우 열에서의 데이터의 개수를 구하고 axis가 1일 경우 행에서의 데이터의 개수를 구합니다.     \n",
    ">> 기본값은 0으로 열 방향으로의 데이터의 개수를 구합니다.\n",
    "> ---\n",
    "> **`Series.sum()`**  \n",
    "> 시리즈의 데이터의 합을 구합니다.\n",
    "> ---\n",
    "> **`DataFrame.sum(axis = 0_또는_1)`**  \n",
    "> 데이터프레임의 데이터의 합을 구합니다.\n",
    ">> **매개변수(parameter)**\n",
    ">>\n",
    ">> **`axis`** : 0 또는 1이 전달됩니다.   \n",
    ">> axis가 0 일경우 열에서의 데이터의 합을 구하고 axis가 1일 경우 행에서의 데이터의 합을 구합니다.     \n",
    ">> 기본값은 0으로 열 방향으로의 데이터의 합을 구합니다.\n",
    "> ---\n",
    "\n",
    "\n",
    "\n"
   ]
  },
  {
   "cell_type": "markdown",
   "id": "9fe66d82-6fdf-48a9-b378-4842f1e4feb9",
   "metadata": {
    "tags": []
   },
   "source": [
    "### 데이터의 개수와 합 구하기\n",
    "\n",
    "시리즈와 데이터프레임에 여러 함수들을 적용해 데이터의 개수와 합을 구할 수 있습니다.\n",
    "\n",
    "<table>\n",
    "<tr>\n",
    "    <th><img src=\"https://tmn-bucket-materials-all.s3.ap-northeast-2.amazonaws.com/image/pandas/material_09_07.gif\" width=\"750\"></th>\n",
    "</tr>\n",
    "<tr>\n",
    "    <th>시리즈에 데이터의 합, 개수 함수 적용하기</th>\n",
    "</tr>\n",
    "</table>\n",
    "\n",
    "<table>\n",
    "<tr>\n",
    "    <th><img src=\"https://tmn-bucket-materials-all.s3.ap-northeast-2.amazonaws.com/image/pandas/material_09_08.gif\" width=\"750\"></th>\n",
    "</tr>\n",
    "<tr>\n",
    "    <th>데이터프레임에 데이터의 합, 개수 함수 적용하기</th>\n",
    "</tr>\n",
    "</table>\n",
    "\n",
    "<table>\n",
    "<tr>\n",
    "    <th><img src=\"https://tmn-bucket-materials-all.s3.ap-northeast-2.amazonaws.com/image/pandas/material_09_09.gif\" width=\"750\"></th>\n",
    "</tr>\n",
    "<tr>\n",
    "    <th>데이터프레임에 열방향으로 데이터의 합, 개수 함수 적용하기</th>\n",
    "</tr>\n",
    "</table>"
   ]
  },
  {
   "cell_type": "code",
   "execution_count": null,
   "id": "8741675c-cc26-44a8-902d-1094a5932cff",
   "metadata": {
    "tags": []
   },
   "outputs": [],
   "source": [
    "# 예제_1_시리즈의_합_개수_구하기\n",
    "\n",
    "import pandas as pd\n",
    "import random\n",
    "\n",
    "score = pd.read_csv('https://tmn-bucket-materials-all.s3.ap-northeast-2.amazonaws.com/data/midterm_exam_result.csv')\n",
    "score.index = score['이름']\n",
    "score = score.iloc[:,1]\n",
    "\n",
    "print('#'*30, f\"{'score':^15s}\" , '#' * 30, '\\n') # 출력되는 결과들을 분리해서 보여주기 위한 코드입니다.\n",
    "print(score)\n",
    "print('\\n','#'*30, \"{:^15s}\".format('score.count()') , '#' * 30, '\\n') # 출력되는 결과들을 분리해서 보여주기 위한 코드입니다.\n",
    "print(score.count())\n",
    "print('\\n','#'*30, \"{:^15s}\".format('score.sum()') , '#' * 30, '\\n') # 출력되는 결과들을 분리해서 보여주기 위한 코드입니다.\n",
    "print(score.sum())"
   ]
  },
  {
   "cell_type": "code",
   "execution_count": null,
   "id": "dae5868e-98b5-4723-b677-af00bef32c20",
   "metadata": {
    "tags": []
   },
   "outputs": [],
   "source": [
    "# 예제_1_데이터프레임의_합_개수_구하기\n",
    "\n",
    "import pandas as pd\n",
    "import random\n",
    "\n",
    "score = pd.read_csv('https://tmn-bucket-materials-all.s3.ap-northeast-2.amazonaws.com/data/midterm_exam_result.csv')\n",
    "score.index = score['이름']\n",
    "score = score.iloc[:,1:]\n",
    "\n",
    "print('#'*30, f\"{'score':^15s}\" , '#' * 30, '\\n') # 출력되는 결과들을 분리해서 보여주기 위한 코드입니다.\n",
    "print(score)\n",
    "print('\\n','#'*30, \"{:^15s}\".format('score.count()') , '#' * 30, '\\n') # 출력되는 결과들을 분리해서 보여주기 위한 코드입니다.\n",
    "print(score.count())\n",
    "print('\\n','#'*30, \"{:^15s}\".format('score.sum()') , '#' * 30, '\\n') # 출력되는 결과들을 분리해서 보여주기 위한 코드입니다.\n",
    "print(score.sum())"
   ]
  },
  {
   "cell_type": "code",
   "execution_count": null,
   "id": "4edfdb19-dc15-45d2-891d-c7b9052d28e2",
   "metadata": {
    "tags": []
   },
   "outputs": [],
   "source": [
    "# 예제_1_데이터프레임의_열방향_합_개수_구하기\n",
    "\n",
    "import pandas as pd\n",
    "import random\n",
    "\n",
    "score = pd.read_csv('https://tmn-bucket-materials-all.s3.ap-northeast-2.amazonaws.com/data/midterm_exam_result.csv')\n",
    "score.index = score['이름']\n",
    "score = score.iloc[:,1:]\n",
    "\n",
    "print('#'*30, f\"{'score':^15s}\" , '#' * 30, '\\n') # 출력되는 결과들을 분리해서 보여주기 위한 코드입니다.\n",
    "print(score)\n",
    "print('\\n','#'*30, \"{:^15s}\".format('score.count(axis = 1)') , '#' * 30, '\\n') # 출력되는 결과들을 분리해서 보여주기 위한 코드입니다.\n",
    "print(score.count(axis = 1))\n",
    "print('\\n','#'*30, \"{:^15s}\".format('score.sum(axis = 1)') , '#' * 30, '\\n') # 출력되는 결과들을 분리해서 보여주기 위한 코드입니다.\n",
    "print(score.sum(axis = 1))"
   ]
  },
  {
   "cell_type": "markdown",
   "id": "94f31214-1e46-4526-9f52-d691bf3d43bf",
   "metadata": {},
   "source": [
    "### **💯 연습문제를 풀어봅시다**\n",
    "\n"
   ]
  },
  {
   "cell_type": "markdown",
   "id": "8795c92e-365a-401d-b916-d328ab921b63",
   "metadata": {
    "tags": []
   },
   "source": [
    "1. <a class=\"jcecodle-mk jcecodle-mk__problem-chip\" data-problem-id=\"382GQJkEmuY\" href='#jce-judge/open/382GQJkEmuY' target='_self'><span>판다스 - 데이터 연산하기 - count</span></a>\n",
    "\n",
    "1. <a class=\"jcecodle-mk jcecodle-mk__problem-chip\" data-problem-id=\"9S_mUPGOUuM\" href='#jce-judge/open/9S_mUPGOUuM' target='_self'><span>열별 데이터 개수</span></a>\n",
    "2. <a class=\"jcecodle-mk jcecodle-mk__problem-chip\" data-problem-id=\"Ko8ZZWsvwZ4\" href='#jce-judge/open/Ko8ZZWsvwZ4' target='_self'><span>가계부 데이터 개수 (1)</span></a>\n",
    "2. <a class=\"jcecodle-mk jcecodle-mk__problem-chip\" data-problem-id=\"0JU_Sr_2GP0\" href='#jce-judge/open/0JU_Sr_2GP0' target='_self'><span>판다스 - 데이터 연산하기 - sum (1)</span></a>\n",
    "3. <a class=\"jcecodle-mk jcecodle-mk__problem-chip\" data-problem-id=\"nOauwzr8TZU\" href='#jce-judge/open/nOauwzr8TZU' target='_self'><span>판다스 - 데이터 연산하기 - sum (2)</span></a>\n",
    "1. <a class=\"jcecodle-mk jcecodle-mk__problem-chip\" data-problem-id=\"Clzp33-7Wd4\" href='#jce-judge/open/Clzp33-7Wd4' target='_self'><span>광고 매체 저촉 인원 합계</span></a>\n",
    "2. <a class=\"jcecodle-mk jcecodle-mk__problem-chip\" data-problem-id=\"FC1e2M2CMtw\" href='#jce-judge/open/FC1e2M2CMtw' target='_self'><span>전교회장 후보 득표수 합계</span></a>\n",
    "3. <a class=\"jcecodle-mk jcecodle-mk__problem-chip\" data-problem-id=\"l_FykgOTPIM\" href='#jce-judge/open/l_FykgOTPIM' target='_self'><span>전과목 성적 합계</span></a>\n",
    "6. <a class=\"jcecodle-mk jcecodle-mk__problem-chip\" data-problem-id=\"C9BqQGWVB0Y\" href='#jce-judge/open/C9BqQGWVB0Y' target='_self'><span>득표수 정보 찾아 변경하기</span></a>\n",
    "1. <a class=\"jcecodle-mk jcecodle-mk__problem-chip\" data-problem-id=\"XTOwDbSGsZ8\" href='#jce-judge/open/XTOwDbSGsZ8' target='_self'><span>지출 최소인 주</span></a>\n"
   ]
  },
  {
   "cell_type": "markdown",
   "id": "4f12ef3e-f48b-443e-993d-03a2d2ff6e6a",
   "metadata": {
    "jp-MarkdownHeadingCollapsed": true,
    "tags": []
   },
   "source": [
    "<div style=\"padding: 15px; border: 5px solid transparent; border-color: transparent; margin-bottom: 20px; border-radius: 4px; color: #3c763d; border-color: #d6e9c6; font-weight: bold;\">\n",
    "<h2 style='font-weight: bold'>4. 데이터 그룹화하기</h2>\n",
    "</div> "
   ]
  },
  {
   "cell_type": "markdown",
   "id": "f267f97d-7cca-4d75-a1ed-6158c31e4638",
   "metadata": {},
   "source": [
    "데이터를 파악할 때 그룹별로 나누어 각각에 대한 정보를 확인할 필요가 있습니다.  \n",
    "가령, 학교의 모든 학생 전체에 대한 데이터를 각 학년 별, 반 별, 성별에 따라 나눌 수 있습니다.    \n",
    "Pandas의 `groupby()` 함수는 데이터를 그룹별로 나누어줍니다.  \n",
    "\n",
    "> **🔨 함수(FUNCTIONS):**\n",
    ">\n",
    "> **`Series.unique()`**  \n",
    "> 시리즈에 포함된 고윳값들을 반환합니다.\n",
    "> ---\n",
    "> **`DataFrame.groupby(by = 열이름_또는_열_리스트)`**  \n",
    "> 데이터프레임을 매개변수로 받은 열들의 값을 기준으로 그룹화하여 그룹을 반환합니다.\n",
    ">> **매개변수(parameter)**\n",
    ">>\n",
    ">> **`by`** : 열이름 또는 열_리스트가 전달됩니다.   \n",
    ">> 매개변수로 받은 열들의 값을 기준으로 그룹화합니다.\n",
    "> ---\n",
    "> **`DataFrame.groupby(by = 열이름_또는_열_리스트).get_group(name = 그룹이름)`**  \n",
    "> 그룹화 된 그룹에서 특정 그룹을 반환합니다.\n",
    ">> **매개변수(parameter)**\n",
    ">>\n",
    ">> **`name`** : 그룹이름이 전달됩니다.   \n",
    ">> 매개변수로 받은 그룹에 포함된 행들을 반환합니다.\n",
    "> ---\n",
    "\n",
    "\n",
    "\n",
    "\n"
   ]
  },
  {
   "cell_type": "markdown",
   "id": "0f64989c-5acb-4af2-a67f-090287f96a08",
   "metadata": {
    "tags": []
   },
   "source": [
    "### 데이터 그룹 확인하기\n",
    "\n",
    "`unique()` 함수로 특정 열에 포함된 고윳값들을 확인할 수 있습니다.  \n",
    "\n",
    "<table>\n",
    "<tr>\n",
    "    <th><img src=\"https://tmn-bucket-materials-all.s3.ap-northeast-2.amazonaws.com/image/pandas/material_10_01.gif\" width=\"750\"></th>\n",
    "</tr>\n",
    "<tr>\n",
    "    <th>시리즈의 고윳값 확인하기</th>\n",
    "</tr>\n",
    "</table>\n",
    "\n",
    "\n",
    "`groupby()` 함수와 `get_group()` 함수를 같이 사용하여 데이터를 그룹화하고 특정 그룹을 확인할 수 있습니다.  \n",
    "\n",
    "<table>\n",
    "<tr>\n",
    "    <th><img src=\"https://tmn-bucket-materials-all.s3.ap-northeast-2.amazonaws.com/image/pandas/material_10_02.gif\" width=\"750\"></th>\n",
    "</tr>\n",
    "<tr>\n",
    "    <th>데이터프레임 그룹화하고 그룹 확인하기</th>\n",
    "</tr>\n",
    "</table>"
   ]
  },
  {
   "cell_type": "code",
   "execution_count": null,
   "id": "6b619014-e977-4cf1-a699-5746f51122ff",
   "metadata": {
    "tags": []
   },
   "outputs": [],
   "source": [
    "# 예제_1_시리즈의_고윳값_확인하기\n",
    "\n",
    "import pandas as pd\n",
    "\n",
    "region = pd.read_csv('https://tmn-bucket-materials-all.s3.ap-northeast-2.amazonaws.com/data/%EA%B3%A0%EB%93%B1%ED%95%99%EA%B5%90.csv')['시도교육청']\n",
    "\n",
    "print('#'*30, f\"{'region':^15s}\" , '#' * 30, '\\n') # 출력되는 결과들을 분리해서 보여주기 위한 코드입니다.\n",
    "print(region)\n",
    "print('\\n','#'*30, \"{:^15s}\".format('region.unique()') , '#' * 30, '\\n') # 출력되는 결과들을 분리해서 보여주기 위한 코드입니다.\n",
    "print(region.unique())"
   ]
  },
  {
   "cell_type": "code",
   "execution_count": null,
   "id": "0224d8c9-2118-4307-a943-6411a2139162",
   "metadata": {
    "tags": []
   },
   "outputs": [],
   "source": [
    "# 예제_2_데이터프레임 그룹화하고 그룹 확인하기\n",
    "\n",
    "import pandas as pd\n",
    "\n",
    "region = pd.read_csv('https://tmn-bucket-materials-all.s3.ap-northeast-2.amazonaws.com/data/%EA%B3%A0%EB%93%B1%ED%95%99%EA%B5%90.csv')\n",
    "\n",
    "print('#'*30, f\"{'region':^15s}\" , '#' * 30, '\\n') # 출력되는 결과들을 분리해서 보여주기 위한 코드입니다.\n",
    "print(region)\n",
    "print('\\n','#'*30, \"{:^15s}\".format(\"region.groupby(by='시도교육청').get_group('서울특별시교육청')\") , '#' * 30, '\\n') # 출력되는 결과들을 분리해서 보여주기 위한 코드입니다.\n",
    "print(region.groupby(by='시도교육청').get_group('서울특별시교육청'))"
   ]
  },
  {
   "cell_type": "markdown",
   "id": "b752972c-5566-4ee4-817a-c9a28af0f814",
   "metadata": {},
   "source": [
    "### **💯 연습문제를 풀어봅시다**\n",
    "\n"
   ]
  },
  {
   "cell_type": "markdown",
   "id": "d2c2232f-6532-4ce8-b183-2391775858cc",
   "metadata": {
    "tags": []
   },
   "source": [
    "1. <a class=\"jcecodle-mk jcecodle-mk__problem-chip\" data-problem-id=\"A_cZFNLXp2g\" href='#jce-judge/open/A_cZFNLXp2g' target='_self'><span>판다스 연습 1 - 고유값 확인하기</span></a>\n",
    "\n",
    "1. <a class=\"jcecodle-mk jcecodle-mk__problem-chip\" data-problem-id=\"eCJG9W11jwo\" href='#jce-judge/open/eCJG9W11jwo' target='_self'><span>판다스 연습 - 고유값 확인하기 (2)</span></a>\n",
    "\n",
    "2. <a class=\"jcecodle-mk jcecodle-mk__problem-chip\" data-problem-id=\"6JfDhokaDD8\" href='#jce-judge/open/6JfDhokaDD8' target='_self'><span>판다스 연습 - 고유값 확인하기 (3)</span></a>\n",
    "\n",
    "\n",
    "\n",
    "2. <a class=\"jcecodle-mk jcecodle-mk__problem-chip\" data-problem-id=\"W1lO3m8jNCA\" href='#jce-judge/open/W1lO3m8jNCA' target='_self'><span>판다스 - 데이터 그룹 - 출력하기</span></a>\n",
    "\n",
    "1. <a class=\"jcecodle-mk jcecodle-mk__problem-chip\" data-problem-id=\"XY8NiTglyiU\" href='#jce-judge/open/XY8NiTglyiU' target='_self'><span>판다스 - 데이터 그룹 - 출력하기 (2)</span></a>\n",
    "\n",
    "2. <a class=\"jcecodle-mk jcecodle-mk__problem-chip\" data-problem-id=\"hj-qreiT6CQ\" href='#jce-judge/open/hj-qreiT6CQ' target='_self'><span>가족 인적사항 그룹핑</span></a>\n",
    "\n"
   ]
  },
  {
   "cell_type": "markdown",
   "id": "bf622ec5-7e1c-4184-94d5-1f056dd7e1f1",
   "metadata": {
    "jp-MarkdownHeadingCollapsed": true,
    "tags": []
   },
   "source": [
    "<div style=\"padding: 15px; border: 5px solid transparent; border-color: transparent; margin-bottom: 20px; border-radius: 4px; color: #3c763d; border-color: #d6e9c6; font-weight: bold;\">\n",
    "<h2 style='font-weight: bold'>5. 그룹별로 통계함수 적용하기</h2>\n",
    "</div> "
   ]
  },
  {
   "cell_type": "markdown",
   "id": "9467c4c2-b219-4908-8d20-d793776e96db",
   "metadata": {},
   "source": [
    "데이터를 파악할 때 그룹별로 나누어 각각에 대한 정보를 확인할 필요가 있습니다.  \n",
    "앞에서 배운 통계함수들을 각 그룹별로 적용할 수 있습니다.\n",
    "\n",
    "> **🔨 함수(FUNCTIONS):**\n",
    ">\n",
    "> **`DataFrame.groupby(by = 열이름_또는_열_리스트).mean(numeric_only = True)`**  \n",
    "> 그룹화 된 그룹에서 각 그룹의 각 열별로 평균값을 구합니다.\n",
    ">> **매개변수(parameter)**\n",
    ">>\n",
    ">> **`numeric_only`** : True 또는 False가 전달됩니다.   \n",
    ">> True이면 정수, 실수 데이터에 대해서만 통계값을 계산합니다.\n",
    "> ---\n",
    "> **`DataFrame.groupby(by = 열이름_또는_열_리스트).median(numeric_only = True)`**  \n",
    "> 그룹화 된 그룹에서 각 그룹의 각 열별로 중앙값을 구합니다.\n",
    ">> **매개변수(parameter)**\n",
    ">>\n",
    ">> **`numeric_only`** : True 또는 False가 전달됩니다.   \n",
    ">> True이면 정수, 실수 데이터에 대해서만 통계값을 계산합니다.\n",
    "> ---\n",
    "> **`DataFrame.groupby(by = 열이름_또는_열_리스트).std(numeric_only = True)`**  \n",
    "> 그룹화 된 그룹에서 각 그룹의 각 열별로 표준편차를 구합니다.\n",
    ">> **매개변수(parameter)**\n",
    ">>\n",
    ">> **`numeric_only`** : True 또는 False가 전달됩니다.   \n",
    ">> True이면 정수, 실수 데이터에 대해서만 통계값을 계산합니다.\n",
    "> ---\n",
    "> **`DataFrame.groupby(by = 열이름_또는_열_리스트).max(numeric_only = True)`**  \n",
    "> 그룹화 된 그룹에서 각 그룹의 각 열별로 최댓값을 구합니다.\n",
    ">> **매개변수(parameter)**\n",
    ">>\n",
    ">> **`numeric_only`** : True 또는 False가 전달됩니다.   \n",
    ">> True이면 정수, 실수 데이터에 대해서만 통계값을 계산합니다.\n",
    "> ---\n",
    "> **`DataFrame.groupby(by = 열이름_또는_열_리스트).min(numeric_only = True)`**  \n",
    "> 그룹화 된 그룹에서 각 그룹의 각 열별로 최솟값을 구합니다.\n",
    ">> **매개변수(parameter)**\n",
    ">>\n",
    ">> **`numeric_only`** : True 또는 False가 전달됩니다.   \n",
    ">> True이면 정수, 실수 데이터에 대해서만 통계값을 계산합니다.\n",
    "> ---\n",
    "> **`DataFrame.groupby(by = 열이름_또는_열_리스트).argmax(numeric_only = True)`**  \n",
    "> 그룹화 된 그룹에서 각 그룹의 각 열별로 최댓값의 인덱스를 구합니다.\n",
    ">> **매개변수(parameter)**\n",
    ">>\n",
    ">> **`numeric_only`** : True 또는 False가 전달됩니다.   \n",
    ">> True이면 정수, 실수 데이터에 대해서만 통계값을 계산합니다.\n",
    "> ---\n",
    "> **`DataFrame.groupby(by = 열이름_또는_열_리스트).argmin(numeric_only = True)`**  \n",
    "> 그룹화 된 그룹에서 각 그룹의 각 열별로 최솟값의 인덱스를 구합니다.\n",
    ">> **매개변수(parameter)**\n",
    ">>\n",
    ">> **`numeric_only`** : True 또는 False가 전달됩니다.   \n",
    ">> True이면 정수, 실수 데이터에 대해서만 통계값을 계산합니다.\n",
    "> ---\n",
    "> **`DataFrame.groupby(by = 열이름_또는_열_리스트).sum(numeric_only = True)`**  \n",
    "> 그룹화 된 그룹에서 각 그룹의 각 열별로 데이터의 합을 구합니다.\n",
    ">> **매개변수(parameter)**\n",
    ">>\n",
    ">> **`numeric_only`** : True 또는 False가 전달됩니다.   \n",
    ">> True이면 정수, 실수 데이터에 대해서만 통계값을 계산합니다.\n",
    "> ---\n",
    "> **`DataFrame.groupby(by = 열이름_또는_열_리스트).count()`**  \n",
    "> 그룹화 된 그룹에서 각 그룹의 각 열별로 데이터의 개수를 구합니다.\n",
    "> ---\n",
    "\n",
    "> **⚠️ 주의(WARNING):**\n",
    ">\n",
    "> 그룹 통계 함수에서 최빈값함수(mode)는 사용할 수 없습니다.\n",
    "\n",
    "\n"
   ]
  },
  {
   "cell_type": "markdown",
   "id": "5186a2a9-0a60-4b66-b8af-93682c2a5022",
   "metadata": {
    "tags": []
   },
   "source": [
    "### 데이터 그룹 확인하기\n",
    "\n",
    "\n",
    "`groupby()` 함수와 통계 함수를 같이 사용하여 데이터의 그룹별 통계를 낼 수 있습니다.  \n",
    "\n",
    "<table>\n",
    "<tr>\n",
    "    <th><img src=\"https://tmn-bucket-materials-all.s3.ap-northeast-2.amazonaws.com/image/pandas/material_10_03.gif\" width=\"750\"></th>\n",
    "</tr>\n",
    "<tr>\n",
    "    <th>데이터프레임 그룹화하고 그룹별 통계 확인하기</th>\n",
    "</tr>\n",
    "</table>"
   ]
  },
  {
   "cell_type": "code",
   "execution_count": null,
   "id": "add7bbcf-5a10-4a75-9b58-5c063a1ee3db",
   "metadata": {
    "tags": []
   },
   "outputs": [],
   "source": [
    "# 예제_1_데이터프레임의_그룹별_통계_확인하기\n",
    "\n",
    "import pandas as pd\n",
    "\n",
    "region = pd.read_csv('https://tmn-bucket-materials-all.s3.ap-northeast-2.amazonaws.com/data/%EA%B3%A0%EB%93%B1%ED%95%99%EA%B5%90.csv')\n",
    "\n",
    "print('#'*30, f\"{'region':^15s}\" , '#' * 30, '\\n') # 출력되는 결과들을 분리해서 보여주기 위한 코드입니다.\n",
    "print(region)\n",
    "print('\\n','#'*30, \"{:^15s}\".format('region.groupby(by=\\'시도교육청\\').mean(numeric_only = True)') , '#' * 30, '\\n') # 출력되는 결과들을 분리해서 보여주기 위한 코드입니다.\n",
    "print(region.groupby(by='시도교육청').mean(numeric_only = True))\n",
    "print('\\n','#'*30, \"{:^15s}\".format('region.groupby(by=\\'시도교육청\\').median(numeric_only = True)') , '#' * 30, '\\n') # 출력되는 결과들을 분리해서 보여주기 위한 코드입니다.\n",
    "print(region.groupby(by='시도교육청').median(numeric_only = True))\n",
    "print('\\n','#'*30, \"{:^15s}\".format('region.groupby(by=\\'시도교육청\\').std(numeric_only = True)') , '#' * 30, '\\n') # 출력되는 결과들을 분리해서 보여주기 위한 코드입니다.\n",
    "print(region.groupby(by='시도교육청').std(numeric_only = True))\n",
    "print('\\n','#'*30, \"{:^15s}\".format('region.groupby(by=\\'시도교육청\\').max(numeric_only = True)') , '#' * 30, '\\n') # 출력되는 결과들을 분리해서 보여주기 위한 코드입니다.\n",
    "print(region.groupby(by='시도교육청').max(numeric_only = True))\n",
    "print('\\n','#'*30, \"{:^15s}\".format('region.groupby(by=\\'시도교육청\\').idxmax(numeric_only = True)') , '#' * 30, '\\n') # 출력되는 결과들을 분리해서 보여주기 위한 코드입니다.\n",
    "print(region.groupby(by='시도교육청').idxmax(numeric_only = True))\n",
    "print('\\n','#'*30, \"{:^15s}\".format('region.groupby(by=\\'시도교육청\\').min(numeric_only = True)') , '#' * 30, '\\n') # 출력되는 결과들을 분리해서 보여주기 위한 코드입니다.\n",
    "print(region.groupby(by='시도교육청').min(numeric_only = True))\n",
    "print('\\n','#'*30, \"{:^15s}\".format('region.groupby(by=\\'시도교육청\\').idxmin(numeric_only = True)') , '#' * 30, '\\n') # 출력되는 결과들을 분리해서 보여주기 위한 코드입니다.\n",
    "print(region.groupby(by='시도교육청').idxmin(numeric_only = True))\n",
    "print('\\n','#'*30, \"{:^15s}\".format('region.groupby(by=\\'시도교육청\\').sum(numeric_only = True)') , '#' * 30, '\\n') # 출력되는 결과들을 분리해서 보여주기 위한 코드입니다.\n",
    "print(region.groupby(by='시도교육청').sum(numeric_only = True))\n",
    "print('\\n','#'*30, \"{:^15s}\".format('region.groupby(by=\\'시도교육청\\').count()') , '#' * 30, '\\n') # 출력되는 결과들을 분리해서 보여주기 위한 코드입니다.\n",
    "print(region.groupby(by='시도교육청').count())"
   ]
  },
  {
   "cell_type": "markdown",
   "id": "9e2dc5a6-db43-41f4-9690-0c650ada1292",
   "metadata": {},
   "source": [
    "### **💯 연습문제를 풀어봅시다**\n",
    "\n"
   ]
  },
  {
   "cell_type": "markdown",
   "id": "91dd5325-d003-4425-85c0-7303fb0f5d7d",
   "metadata": {
    "tags": []
   },
   "source": [
    "1. <a class=\"jcecodle-mk jcecodle-mk__problem-chip\" data-problem-id=\"avwM_OdiVH4\" href='#jce-judge/open/avwM_OdiVH4' target='_self'><span>판다스 - 데이터 그룹 - min/median/max</span></a>\n",
    "\n",
    "1. <a class=\"jcecodle-mk jcecodle-mk__problem-chip\" data-problem-id=\"YicYmkkhgg8\" href='#jce-judge/open/YicYmkkhgg8' target='_self'><span>판다스 - 데이터 그룹 - min/max</span></a>\n",
    "\n",
    "2. <a class=\"jcecodle-mk jcecodle-mk__problem-chip\" data-problem-id=\"gJqxmBB03eE\" href='#jce-judge/open/gJqxmBB03eE' target='_self'><span>카페 정보 중앙값</span></a>\n",
    "\n",
    "3. <a class=\"jcecodle-mk jcecodle-mk__problem-chip\" data-problem-id=\"FE8ax_kDL3E\" href='#jce-judge/open/FE8ax_kDL3E' target='_self'><span>날씨 데이터 min/max/median</span></a>\n",
    "\n",
    "\n",
    "\n",
    "2. <a class=\"jcecodle-mk jcecodle-mk__problem-chip\" data-problem-id=\"C85oubW1UHs\" href='#jce-judge/open/C85oubW1UHs' target='_self'><span>판다스 - 데이터 그룹 - mean/std</span></a>\n",
    "\n",
    "1. <a class=\"jcecodle-mk jcecodle-mk__problem-chip\" data-problem-id=\"S5pt2E2mv-A\" href='#jce-judge/open/S5pt2E2mv-A' target='_self'><span>기온, 습도 평균</span></a>\n",
    "\n",
    "2. <a class=\"jcecodle-mk jcecodle-mk__problem-chip\" data-problem-id=\"SA6R7R1iYh0\" href='#jce-judge/open/SA6R7R1iYh0' target='_self'><span>다이어트 데이터 표준편차</span></a>\n",
    "\n"
   ]
  },
  {
   "cell_type": "markdown",
   "id": "cc3d29f1-8a1c-4959-a717-5d18e3217639",
   "metadata": {
    "jp-MarkdownHeadingCollapsed": true,
    "tags": []
   },
   "source": [
    "<div style=\"padding: 15px; border: 5px solid transparent; border-color: transparent; margin-bottom: 20px; border-radius: 4px; color: #3c763d; border-color: #d6e9c6; font-weight: bold;\">\n",
    "<h2 style='font-weight: bold'>6. 그룹별 통계량을 한번에 확인하기</h2>\n",
    "</div> "
   ]
  },
  {
   "cell_type": "markdown",
   "id": "af52c310-320b-4e83-882f-3a83d08231a4",
   "metadata": {},
   "source": [
    "이전에 데이터의 기초 통계량을 한번에 확인할 수 있는 `describe`를 배운적이 있습니다.  \n",
    "이것을 `groupby`와 함께 사용하면 그룹별 기초 통계량을 한눈에 확인할 수 있습니다.  \n",
    "\n",
    "> **🔨 함수(FUNCTIONS):**\n",
    ">\n",
    "> **`DataFrame.groupby(by = 열이름_또는_열_리스트).describe()`**  \n",
    "> 그룹화하고 각 그룹의 통계값을 한번에 구합니다.\n",
    "> ---"
   ]
  },
  {
   "cell_type": "markdown",
   "id": "b706bedb-df6d-49e1-9022-94aab20d3754",
   "metadata": {
    "tags": []
   },
   "source": [
    "### 데이터 그룹 확인하기\n",
    "\n",
    "`groupby()` 함수와 `describe()` 함수를 같이 사용하여 데이터의 그룹별 통계를 낼 수 있습니다.  \n",
    "\n",
    "<table>\n",
    "<tr>\n",
    "    <th><img src=\"https://tmn-bucket-materials-all.s3.ap-northeast-2.amazonaws.com/image/pandas/material_10_04.gif\" width=\"750\"></th>\n",
    "</tr>\n",
    "<tr>\n",
    "    <th>데이터프레임 그룹화하고 describe() 함수로 그룹별 통계 한번에 확인하기</th>\n",
    "</tr>\n",
    "</table>"
   ]
  },
  {
   "cell_type": "code",
   "execution_count": null,
   "id": "131f4c8b-41a4-48a9-877a-d60fdd1e0ae5",
   "metadata": {
    "tags": []
   },
   "outputs": [],
   "source": [
    "# 예제_1_데이터프레임_그룹별_통계_한번에_확인하기\n",
    "\n",
    "import pandas as pd\n",
    "\n",
    "region = pd.read_csv('https://tmn-bucket-materials-all.s3.ap-northeast-2.amazonaws.com/data/%EA%B3%A0%EB%93%B1%ED%95%99%EA%B5%90.csv')\n",
    "\n",
    "print('#'*30, f\"{'region':^15s}\" , '#' * 30, '\\n') # 출력되는 결과들을 분리해서 보여주기 위한 코드입니다.\n",
    "print(region)\n",
    "print('\\n','#'*30, \"{:^15s}\".format('region.groupby(by=\\'시도교육청\\').describe()') , '#' * 30, '\\n') # 출력되는 결과들을 분리해서 보여주기 위한 코드입니다.\n",
    "print(region.groupby(by='시도교육청').describe())"
   ]
  },
  {
   "cell_type": "markdown",
   "id": "1b1852d5-2300-4ea9-93a5-eb467f87b3ed",
   "metadata": {},
   "source": [
    "### **💯 연습문제를 풀어봅시다**\n",
    "\n"
   ]
  },
  {
   "cell_type": "markdown",
   "id": "eae4956a-46e1-4b3f-86de-8973a275bc35",
   "metadata": {
    "tags": []
   },
   "source": [
    "1. <a class=\"jcecodle-mk jcecodle-mk__problem-chip\" data-problem-id=\"qw22bqe0uf4\" href='#jce-judge/open/qw22bqe0uf4' target='_self'><span>판다스 - 데이터 그룹 - describe</span></a>\n",
    "\n",
    "2. <a class=\"jcecodle-mk jcecodle-mk__problem-chip\" data-problem-id=\"So_m24VWMOs\" href='#jce-judge/open/So_m24VWMOs' target='_self'><span>판다스 - 데이터 그룹 - describe (2)</span></a>\n"
   ]
  }
 ],
 "metadata": {
  "kernelspec": {
   "display_name": "Python 3 (ipykernel)",
   "language": "python",
   "name": "python3"
  },
  "language_info": {
   "codemirror_mode": {
    "name": "ipython",
    "version": 3
   },
   "file_extension": ".py",
   "mimetype": "text/x-python",
   "name": "python",
   "nbconvert_exporter": "python",
   "pygments_lexer": "ipython3",
   "version": "3.11.3"
  }
 },
 "nbformat": 4,
 "nbformat_minor": 5
}
