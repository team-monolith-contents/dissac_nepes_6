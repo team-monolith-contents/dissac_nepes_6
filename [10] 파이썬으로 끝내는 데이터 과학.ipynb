{
 "cells": [
  {
   "cell_type": "markdown",
   "id": "4b412558-5e30-4cdd-9eed-617c497b7f6e",
   "metadata": {
    "tags": []
   },
   "source": [
    "<div style=\"padding: 15px; border: 5px solid transparent; border-color: transparent; margin-bottom: 20px; border-radius: 4px; color: #3c763d; background-color: #dff0d8; border-color: #d6e9c6; font-weight: bold;\">\n",
    "    <br><br>\n",
    "    <div style=\"font-weight: bold; font-size: 40px\">파이썬으로 끝내는 데이터 과학</div>\n",
    "    <div style=\"font-weight: bold; font-size: 20px\">[10] Pandas를 이용한 데이터 분석-2</div>\n",
    "    <hr style=\"width:80%;text-align:left;margin-left:0;border:0.5px solid green\">\n",
    "    <br>\n",
    "    &#x2022; csv 파일로부터 데이터를 읽어오고 데이터를 csv 파일로 저장해봅시다.<br>\n",
    "    &#x2022; 데이터의 일부를 원하는만큼 출력 해봅시다.<br>\n",
    "    &#x2022; 데이터의 요약된 구조 정보를 출력해봅시다.<br>\n",
    "    &#x2022; 데이터의 요약된 통계 정보를 출력해봅시다.<br>\n",
    "    &#x2022; 인덱싱을 사용하여 시리즈(Series)에 부분적으로 접근해봅시다.<br>\n",
    "</div>"
   ]
  },
  {
   "cell_type": "markdown",
   "id": "a3068642-d0d9-4f37-9d5b-1962608695db",
   "metadata": {
    "jp-MarkdownHeadingCollapsed": true,
    "tags": []
   },
   "source": [
    "<div style=\"padding: 15px; border: 5px solid transparent; border-color: transparent; margin-bottom: 20px; border-radius: 4px; color: #3c763d; border-color: #d6e9c6; font-weight: bold;\">\n",
    "<h2 style='font-weight: bold'>1. CSV 파일 읽어오기</h2>\n",
    "</div> "
   ]
  },
  {
   "cell_type": "markdown",
   "id": "e3bd3d48-97dc-44e7-90ce-85c0e1df11d4",
   "metadata": {
    "jp-MarkdownHeadingCollapsed": true,
    "tags": []
   },
   "source": [
    "Pandas에서는 CSV 파일로부터 데이터프레임(DataFrame)을 읽어올 수 있습니다.\n",
    "\n",
    "> **✏️ 알아봅시다(NOTE):** CSV(Comma-Seperated Values)가 무엇인가요?  \n",
    ">\n",
    "> 표 형태의 데이터를 저장하는 파일 형식입니다.  \n",
    "> 한 줄이 한 개의 행에 해당하며, 열 사이에는 쉼표(,)를 넣어 구분합니다.\n",
    ">\n",
    "> <table>\n",
    "> <tr>\n",
    ">     <th><img src=\"https://tmn-bucket-materials-all.s3.ap-northeast-2.amazonaws.com/image/pandas/material_02_12.PNG\" width=\"500\"></th>\n",
    "> </tr>\n",
    "> <tr>\n",
    ">     <th>중첩 딕셔너리로 인덱스, 열 설정하여 데이터프레임 만들기</th>\n",
    "> </tr>\n",
    "> </table>\n",
    "\n",
    "\n",
    "> **🔨 함수(FUNCTIONS):**\n",
    ">\n",
    "> **`pd.read_csv(파일이름(문자열), encoding = 인코딩방법(문자열))`**  \n",
    "> 해당 CSV 파일을 읽어 데이터프레임으로 불러옵니다.\n",
    ">> **매개변수(parameter)**\n",
    ">>\n",
    ">> **`encoding`** : 파일의 인코등 방식을 문자열 형태로 전달합니다.  \n",
    "> (utf-8로 인코딩 된 파일은 encoding 매개변수를 넣어주지 않아도 됩니다.\n",
    "> ---\n",
    "> **`DataFrame.to_csv(파일이름(문자열), index = 인덱스포함여부(불))`**  \n",
    "> 데이터프레임을 CSV 파일로 저장합니다.  \n",
    ">> **매개변수(parameter)**\n",
    ">>\n",
    ">> **`index`** : 인덱스의 포함 여부를 나타냅니다.  \n",
    "> True면 index 라는 이름을 가진 열을 생성합니다.  \n",
    "> 따로 매개변수를 설정하지 않으면 True 값을 가집니다.\n",
    "> ---\n",
    "\n",
    "> **✏️ 알아봅시다(NOTE):** 인코딩(encoding)이 무엇인가요?\n",
    ">\n",
    "> 인코딩(encoding)은 사용자가 입력한 문자나 기호들을 컴퓨터가 이용할 수 있는 신호로 만드는 것입니다.  \n",
    "> 다양한 방법이 존재하는데 한국어 데이터는 보통 `utf-8`, `cp949` `euc-kr`의 방법으로 인코딩됩니다.\n",
    "\n",
    "\n"
   ]
  },
  {
   "cell_type": "markdown",
   "id": "42248f77-417a-4709-90b7-105fbb1542e0",
   "metadata": {},
   "source": [
    "### csv 파일로 데이터프레임 만들기\n",
    "\n",
    "`read_csv()` 함수를 사용하면 csv 파일을 읽어 데이터프레임을 생성합니다.\n",
    "이때 인덱스는 0부터 자동으로 생성합니다.\n",
    "\n",
    "<table>\n",
    "<tr>\n",
    "    <th><img src=\"https://tmn-bucket-materials-all.s3.ap-northeast-2.amazonaws.com/image/pandas/material_02_13.gif\" width=\"750\"></th>\n",
    "</tr>\n",
    "<tr>\n",
    "    <th>csv 파일로 데이터프레임 만들기</th>\n",
    "</tr>\n",
    "</table>\n",
    "\n",
    "> **⛔️ 오류(ERROR):**\n",
    ">\n",
    "> 파일이 인코딩 방법을 정확하게 넣어주지 않으면 오류가 발생합니다.  "
   ]
  },
  {
   "cell_type": "code",
   "execution_count": null,
   "id": "60eaafd0-9f83-4125-841c-dbb2e7cf1038",
   "metadata": {
    "tags": []
   },
   "outputs": [],
   "source": [
    "# 예제_1_csv_파일_읽어오기\n",
    "\n",
    "import pandas as pd\n",
    "\n",
    "print('\\n','#'*30, \"{:^15s}\".format(\"pd.read_csv('price_list.csv')\") , '#' * 30, '\\n') # 출력되는 결과들을 분리해서 보여주기 위한 코드입니다.\n",
    "print(pd.read_csv('price_list.csv'))"
   ]
  },
  {
   "cell_type": "code",
   "execution_count": null,
   "id": "1141b756-602e-4b6c-b0f2-3de0a76d6544",
   "metadata": {
    "tags": []
   },
   "outputs": [],
   "source": [
    "# 예제_2_파일이_없어서_실패\n",
    "\n",
    "import pandas as pd\n",
    "\n",
    "print('\\n','#'*30, \"{:^15s}\".format(\"pd.read_csv('price_list2.csv')\") , '#' * 30, '\\n') # 출력되는 결과들을 분리해서 보여주기 위한 코드입니다.\n",
    "print(pd.read_csv('price_list2.csv'))"
   ]
  },
  {
   "cell_type": "markdown",
   "id": "a9031470-025f-455c-ab13-1176350dd92a",
   "metadata": {},
   "source": [
    "### 데이터프레임을 csv 파일로 저장하기\n",
    "\n",
    "데이터프레임에 `to_csv()` 함수를 사용하면 데이터프레임을 csv로 저장해줍니다.  \n",
    "이때 index열을 생성해 인덱스 정보를 저장합니다.  \n",
    "\n",
    "<table>\n",
    "<tr>\n",
    "    <th><img src=\"https://tmn-bucket-materials-all.s3.ap-northeast-2.amazonaws.com/image/pandas/material_02_14.gif\" width=\"750\"></th>\n",
    "</tr>\n",
    "<tr>\n",
    "    <th>데이터프레임을 csv 파일로 저장하기</th>\n",
    "</tr>\n",
    "</table>\n",
    "\n",
    "`index = False` 매개변수를 추가하면 index 열을 생성하지 않습니다.  \n",
    "\n",
    "<table>\n",
    "<tr>\n",
    "    <th><img src=\"https://tmn-bucket-materials-all.s3.ap-northeast-2.amazonaws.com/image/pandas/material_02_15.gif\" width=\"750\"></th>\n",
    "</tr>\n",
    "<tr>\n",
    "    <th>데이터프레임을 인덱스 없이 csv 파일로 저장하기</th>\n",
    "</tr>\n",
    "</table>\n"
   ]
  },
  {
   "cell_type": "code",
   "execution_count": null,
   "id": "77739bbe-1855-45fb-afe6-fb7b1d1c05b1",
   "metadata": {
    "tags": []
   },
   "outputs": [],
   "source": [
    "# 예제_3_데이터프레임_csv_파일로_저장하기\n",
    "\n",
    "import pandas as pd\n",
    "\n",
    "print('\\n','#'*30, \"{:^15s}\".format(\"df\") , '#' * 30, '\\n') # 출력되는 결과들을 분리해서 보여주기 위한 코드입니다.\n",
    "df = pd.read_csv('price_list.csv')\n",
    "print(df)\n",
    "print('\\n','#'*30, \"{:^15s}\".format(\"df.to_csv('price_list_new.csv')\") , '#' * 30, '\\n') # 출력되는 결과들을 분리해서 보여주기 위한 코드입니다.\n",
    "df.to_csv('price_list_new.csv')"
   ]
  },
  {
   "cell_type": "code",
   "execution_count": null,
   "id": "4fca5a06-8f59-4166-9e50-ab7dcf62afd4",
   "metadata": {
    "tags": []
   },
   "outputs": [],
   "source": [
    "# CSV index 없이 저장하는 예시\n",
    "\n",
    "# 예제_3_데이터프레임_인덱스_없이_csv_파일로_저장하기\n",
    "\n",
    "import pandas as pd\n",
    "\n",
    "print('\\n','#'*30, \"{:^15s}\".format(\"df\") , '#' * 30, '\\n') # 출력되는 결과들을 분리해서 보여주기 위한 코드입니다.\n",
    "df = pd.read_csv('price_list.csv')\n",
    "print(df)\n",
    "print('\\n','#'*30, \"{:^15s}\".format(\"df.to_csv('price_list_new.csv', index = False)\") , '#' * 30, '\\n') # 출력되는 결과들을 분리해서 보여주기 위한 코드입니다.\n",
    "df.to_csv('price_list_new.csv', index = False)"
   ]
  },
  {
   "cell_type": "markdown",
   "id": "3075d91a-a2b3-4d89-86be-e16f059a1e27",
   "metadata": {},
   "source": [
    "> **❓ 생각해보기(QUESTION):**\n",
    ">\n",
    "> 데이터를 데이터프레임의 형태로 불러오고, 데이터프레임을 데이터로 저장하는 과정이 중요한 이유는 무엇인가요?"
   ]
  },
  {
   "cell_type": "raw",
   "id": "e280e55b-0a29-48a6-946f-51b8aa887737",
   "metadata": {},
   "source": [
    "질문에 대한 대답을 여기에 적어봅시다."
   ]
  },
  {
   "cell_type": "markdown",
   "id": "603eec65-944d-4dfa-9eaa-f93137173dbe",
   "metadata": {},
   "source": [
    "### **💯 연습문제를 풀어봅시다**\n",
    "\n"
   ]
  },
  {
   "cell_type": "markdown",
   "id": "237e5d61-40cb-4b55-aaff-6737cb568f77",
   "metadata": {
    "tags": []
   },
   "source": [
    "1. CSV 읽어오는 문제\n",
    "2. CSV cp949로 읽어오는 문제"
   ]
  },
  {
   "cell_type": "markdown",
   "id": "52d606fc-43dc-4d1b-b1b9-d09ce73db7ee",
   "metadata": {
    "jp-MarkdownHeadingCollapsed": true,
    "tags": []
   },
   "source": [
    "<div style=\"padding: 15px; border: 5px solid transparent; border-color: transparent; margin-bottom: 20px; border-radius: 4px; color: #3c763d; border-color: #d6e9c6; font-weight: bold;\">\n",
    "<h2 style='font-weight: bold'>2. 데이터 미리보기</h2>\n",
    "</div> "
   ]
  },
  {
   "cell_type": "markdown",
   "id": "20f536a0-596a-434c-a812-ff99316a7190",
   "metadata": {
    "jp-MarkdownHeadingCollapsed": true,
    "tags": []
   },
   "source": [
    "다른 사람이 만든 데이터를 사용하기 위해서는 데이터가 어떻게 구성되어 있는지 확인해야 합니다.  \n",
    "`print()` 함수를 이용해 데이터를 출력할 수도 있지만 데이터가 큰 경우에는 중간을 생략합니다.  \n",
    "`head()`, `tail()` 함수를 사용하면 데이터를 원하는 길이만큼 출력할 수 있습니다.\n",
    "\n",
    "> **🔨 함수(FUNCTIONS):**\n",
    ">\n",
    "> **`Series.head(n = 정수)`**  \n",
    "> 시리즈의 처음 n 개의 데이터를 불러옵니다.\n",
    ">> **매개변수(parameter)**\n",
    ">>\n",
    ">> **`n`** : 불러올 데이터의 개수를 정수로 지정합니다.  \n",
    "> 지정하지 않으면 5개의 데이터가 출력됩니다.\n",
    "> ---\n",
    "> **`Series.tail(n = 정수)`**  \n",
    "> 시리즈의 마지막 n 개의 데이터를 불러옵니다.\n",
    ">> **매개변수(parameter)**\n",
    ">>\n",
    ">> **`n`** : 불러올 데이터의 개수를 정수로 지정합니다.  \n",
    "> 지정하지 않으면 5개의 데이터가 출력됩니다.\n",
    "> ---\n",
    "> **`DataFrame.head(n = 정수)`**  \n",
    "> 데이터프레임의 처음 n 개의 데이터를 불러옵니다.\n",
    ">> **매개변수(parameter)**\n",
    ">>\n",
    ">> **`n`** : 불러올 데이터의 개수를 정수로 지정합니다.  \n",
    "> 지정하지 않으면 5개의 데이터가 출력됩니다.\n",
    ">---\n",
    "> **`DataFrame.tail(n = 정수)`**  \n",
    "> 데이터프레임의 마지막 n 개의 데이터를 불러옵니다.\n",
    ">> **매개변수(parameter)**\n",
    ">>\n",
    ">> **`n`** : 불러올 데이터의 개수를 정수로 지정합니다.  \n",
    "> 지정하지 않으면 5개의 데이터가 출력됩니다.\n",
    "> ---\n"
   ]
  },
  {
   "cell_type": "markdown",
   "id": "ef377812-e797-4ccb-905d-7156574a1cfd",
   "metadata": {},
   "source": [
    "### head(), tail() 함수로 원하는 만큼 시리즈 읽어오기\n",
    "\n",
    "`head()`, `tail()` 함수를 사용하면 원하는 만큼 시리즈 데이터를 읽어올 수 있습니다.\n",
    "\n",
    "<table>\n",
    "<tr>\n",
    "    <th><img src=\"https://tmn-bucket-materials-all.s3.ap-northeast-2.amazonaws.com/image/pandas/material_03_01.gif\" width=\"750\"></th>\n",
    "</tr>\n",
    "<tr>\n",
    "    <th>head, tail 함수로 시리즈 데이터 읽어오기</th>\n",
    "</tr>\n",
    "</table>"
   ]
  },
  {
   "cell_type": "code",
   "execution_count": null,
   "id": "2c4d70f5-b71d-4f32-8029-c2109a3e6460",
   "metadata": {
    "tags": []
   },
   "outputs": [],
   "source": [
    "# 예제_1_시리즈_출력하기\n",
    "\n",
    "import pandas as pd\n",
    "\n",
    "school = pd.read_csv('https://tmn-bucket-materials-all.s3.ap-northeast-2.amazonaws.com/data/%EA%B3%A0%EB%93%B1%ED%95%99%EA%B5%90.csv')['학교명']\n",
    "\n",
    "print('#'*30, f\"{'print(school)':^15s}\" , '#' * 30, '\\n') # 출력되는 결과들을 분리해서 보여주기 위한 코드입니다.\n",
    "print(school)\n",
    "print('\\n','#'*30, f\"{'school.head(10)':^15s}\" , '#' * 30, '\\n') # 출력되는 결과들을 분리해서 보여주기 위한 코드입니다.\n",
    "print(school.head(10))\n",
    "print('\\n','#'*30, f\"{'school.tail(10)':^15s}\" , '#' * 30, '\\n') # 출력되는 결과들을 분리해서 보여주기 위한 코드입니다.\n",
    "print(school.tail(5))"
   ]
  },
  {
   "cell_type": "markdown",
   "id": "edcac627-a93f-4965-8697-8025214a6350",
   "metadata": {},
   "source": [
    "### head(), tail() 함수로 원하는 만큼 데이터프레임 읽어오기\n",
    "\n",
    "`head()`, `tail()` 함수를 사용하면 원하는 만큼 데이터프레임에 데이터를 읽어올 수 있습니다.\n",
    "\n",
    "<table>\n",
    "<tr>\n",
    "    <th><img src=\"https://tmn-bucket-materials-all.s3.ap-northeast-2.amazonaws.com/image/pandas/material_03_02.gif\" width=\"750\"></th>\n",
    "</tr>\n",
    "<tr>\n",
    "    <th>head, tail 함수로 데이터프레임 데이터 읽어오기</th>\n",
    "</tr>\n",
    "</table>"
   ]
  },
  {
   "cell_type": "code",
   "execution_count": null,
   "id": "a7deff43-242d-489f-a80e-1a6a7748cb67",
   "metadata": {
    "tags": []
   },
   "outputs": [],
   "source": [
    "# 예제_2_데이터프레임_출력하기\n",
    "\n",
    "import pandas as pd\n",
    "\n",
    "school = pd.read_csv('https://tmn-bucket-materials-all.s3.ap-northeast-2.amazonaws.com/data/%EA%B3%A0%EB%93%B1%ED%95%99%EA%B5%90.csv')\n",
    "\n",
    "print('#'*30, f\"{'print(school)':^15s}\" , '#' * 30, '\\n') # 출력되는 결과들을 분리해서 보여주기 위한 코드입니다.\n",
    "print(school)\n",
    "print('\\n','#'*30, f\"{'school.head(10)':^15s}\" , '#' * 30, '\\n') # 출력되는 결과들을 분리해서 보여주기 위한 코드입니다.\n",
    "print(school.head(10))\n",
    "print('\\n','#'*30, f\"{'school.tail(10)':^15s}\" , '#' * 30, '\\n') # 출력되는 결과들을 분리해서 보여주기 위한 코드입니다.\n",
    "print(school.tail(5))"
   ]
  },
  {
   "cell_type": "markdown",
   "id": "84bc0907-3b40-4ef2-bb06-b7b26cd58f0b",
   "metadata": {},
   "source": [
    "> **❓ 생각해보기(QUESTION):**\n",
    ">\n",
    "> 다른 사람이 만든 데이터를 활용하기 전에 데이터를 확인해야 하는 이유는 무엇일까요?"
   ]
  },
  {
   "cell_type": "raw",
   "id": "1d56571b-2948-42de-9830-0dafb84490a4",
   "metadata": {},
   "source": [
    "질문에 대한 대답을 여기에 적어봅시다."
   ]
  },
  {
   "cell_type": "markdown",
   "id": "59b643e2-32b8-4600-8f61-8610a68dabb4",
   "metadata": {},
   "source": [
    "### **💯 연습문제를 풀어봅시다**\n",
    "\n"
   ]
  },
  {
   "cell_type": "markdown",
   "id": "cf59cc87-6175-4e83-85ba-f158a3654cb1",
   "metadata": {
    "tags": []
   },
   "source": [
    "1. <a class=\"jcecodle-mk jcecodle-mk__problem-chip\" data-problem-id=\"eIqw64lQUsQ\" href='#jce-judge/open/eIqw64lQUsQ' target='_self'><span>시리즈 처음</span></a>\n",
    "\n",
    "\n",
    "2. <a class=\"jcecodle-mk jcecodle-mk__problem-chip\" data-problem-id=\"PIik3l43D-Q\" href='#jce-judge/open/PIik3l43D-Q' target='_self'><span>시리즈 끝</span></a>\n",
    "\n",
    "\n",
    "3. <a class=\"jcecodle-mk jcecodle-mk__problem-chip\" data-problem-id=\"WfLej_479RA\" href='#jce-judge/open/WfLej_479RA' target='_self'><span>데이터의 처음</span></a>\n",
    "\n",
    "4. <a class=\"jcecodle-mk jcecodle-mk__problem-chip\" data-problem-id=\"letS_qsEPmM\" href='#jce-judge/open/letS_qsEPmM' target='_self'><span>데이터의 끝</span></a>\n",
    "\n",
    "\n",
    "\n",
    "5. <a class=\"jcecodle-mk jcecodle-mk__problem-chip\" data-problem-id=\"kkpMpZOlWug\" href='#jce-judge/open/kkpMpZOlWug' target='_self'><span>첫째와 둘째, 막내</span></a>\n",
    "\n",
    "\n",
    "6. <a class=\"jcecodle-mk jcecodle-mk__problem-chip\" data-problem-id=\"3urbitKPCt8\" href='#jce-judge/open/3urbitKPCt8' target='_self'><span>판다스 기초 - 데이터 출력하기</span></a>\n"
   ]
  },
  {
   "cell_type": "markdown",
   "id": "b61c5d7a-688f-46df-b7b7-c1a0b565ac7a",
   "metadata": {
    "jp-MarkdownHeadingCollapsed": true,
    "tags": []
   },
   "source": [
    "<div style=\"padding: 15px; border: 5px solid transparent; border-color: transparent; margin-bottom: 20px; border-radius: 4px; color: #3c763d; border-color: #d6e9c6; font-weight: bold;\">\n",
    "<h2 style='font-weight: bold'>3. 데이터의 구조 정보 확인하기</h2>\n",
    "</div> "
   ]
  },
  {
   "cell_type": "markdown",
   "id": "10cfd7e0-c846-4b81-b2c8-cc388469abb2",
   "metadata": {
    "jp-MarkdownHeadingCollapsed": true,
    "tags": []
   },
   "source": [
    "데이터의 일부분을 출력하는 것으로는 전체적인 데이터를 파악하기에 무리가 있습니다.  \n",
    "데이터가 크다면 전체를 출력하여도 마찬가지입니다.  \n",
    "\n",
    "Pandas에는 데이터에 대한 전반적인 정보를 정리해주는 기능들이 있습니다.  \n",
    "\n",
    "\n",
    "\n",
    "\n",
    "> **🔨 함수(FUNCTIONS):**\n",
    ">\n",
    "> **`Series.info()`**  \n",
    "> 시리즈의 **총 행의 길이**, **시리즈의 이름**, **비어 있지 않은 데이터의 개수**, **데이터의 타입**, **데이터의 용량**을 알려줍니다.\n",
    "> ---\n",
    "> **`DataFrame.info()`**  \n",
    "> 데이터프레임의 **총 행의 길이**, **각 열의 이름**, **각 열에 비어 있지 않은 데이터의 개수**, **각 열의 데이터 타입**, **데이터의 용량**을 알려줍니다.\n",
    "> ---"
   ]
  },
  {
   "cell_type": "markdown",
   "id": "83ccc322-c0de-4f57-bf36-defed27762fc",
   "metadata": {
    "tags": []
   },
   "source": [
    "### info() 함수로 데이터의 정보 확인하기\n",
    "\n",
    "`info()` 함수를 사용하면 데이터의 전반적인 정보를 확인할 수 있습니다.\n",
    "\n",
    "<table>\n",
    "<tr>\n",
    "    <th><img src=\"https://tmn-bucket-materials-all.s3.ap-northeast-2.amazonaws.com/image/pandas/material_03_03.png\" width=\"750\"></th>\n",
    "</tr>\n",
    "<tr>\n",
    "    <th>info() 함수로 데이터의 정보 확인하기</th>\n",
    "</tr>\n",
    "</table>"
   ]
  },
  {
   "cell_type": "code",
   "execution_count": null,
   "id": "3f7f36ad-bd19-4fbe-8895-4d889301d798",
   "metadata": {
    "tags": []
   },
   "outputs": [],
   "source": [
    "# 예제_1_시리즈의_데이터_정보_확인하기\n",
    "\n",
    "import pandas as pd\n",
    "\n",
    "school = pd.read_csv('https://tmn-bucket-materials-all.s3.ap-northeast-2.amazonaws.com/data/%EA%B3%A0%EB%93%B1%ED%95%99%EA%B5%90.csv')['학교명']\n",
    "\n",
    "print('#'*30, f\"{'school':^15s}\" , '#' * 30, '\\n') # 출력되는 결과들을 분리해서 보여주기 위한 코드입니다.\n",
    "print(school)\n",
    "print('\\n','#'*30, f\"{'school.info()':^15s}\" , '#' * 30, '\\n') # 출력되는 결과들을 분리해서 보여주기 위한 코드입니다.\n",
    "print(school.info())"
   ]
  },
  {
   "cell_type": "code",
   "execution_count": null,
   "id": "128738a3-538f-41be-9e52-2e173a3639ae",
   "metadata": {
    "tags": []
   },
   "outputs": [],
   "source": [
    "# 예제_2_데이터프레임의_데이터_정보_확인하기\n",
    "\n",
    "import pandas as pd\n",
    "\n",
    "school = pd.read_csv('https://tmn-bucket-materials-all.s3.ap-northeast-2.amazonaws.com/data/%EA%B3%A0%EB%93%B1%ED%95%99%EA%B5%90.csv')\n",
    "\n",
    "print('#'*30, f\"{'school':^15s}\" , '#' * 30, '\\n') # 출력되는 결과들을 분리해서 보여주기 위한 코드입니다.\n",
    "print(school)\n",
    "print('\\n','#'*30, f\"{'school.info()':^15s}\" , '#' * 30, '\\n') # 출력되는 결과들을 분리해서 보여주기 위한 코드입니다.\n",
    "print(school.info())"
   ]
  },
  {
   "cell_type": "markdown",
   "id": "1f3d1c69-111d-49a8-ba6b-8b63297a9683",
   "metadata": {},
   "source": [
    "> **❓ 생각해보기(QUESTION):**\n",
    ">\n",
    "> `info()` 함수를 사용하면 데이터를 직접 확인했을 때보다 어떤 점이 좋은가요? "
   ]
  },
  {
   "cell_type": "raw",
   "id": "2b2c79b2-8337-4532-9dd4-fa9a75a57b6f",
   "metadata": {},
   "source": [
    "질문에 대한 대답을 여기에 적어봅시다."
   ]
  },
  {
   "cell_type": "markdown",
   "id": "90f2aee2-2c6f-4cb4-a281-5d57ad56b23c",
   "metadata": {},
   "source": [
    "### **💯 연습문제를 풀어봅시다**\n",
    "\n"
   ]
  },
  {
   "cell_type": "markdown",
   "id": "6a2be5cb-5342-44eb-990e-77acbbe45e04",
   "metadata": {
    "tags": []
   },
   "source": [
    "1. <a class=\"jcecodle-mk jcecodle-mk__problem-chip\" data-problem-id=\"HA4xV3SU1_A\" href='#jce-judge/open/HA4xV3SU1_A' target='_self'><span>판다스 기초 - 데이터 정보 확인하기 (1)</span></a>\n",
    "2. <a class=\"jcecodle-mk jcecodle-mk__problem-chip\" data-problem-id=\"SeZBiTED_n4\" href='#jce-judge/open/SeZBiTED_n4' target='_self'><span>판다스 기초 - 데이터 정보 확인하기 (2)</span></a>\n",
    "3. <a class=\"jcecodle-mk jcecodle-mk__problem-chip\" data-problem-id=\"EQ93k91oXgU\" href='#jce-judge/open/EQ93k91oXgU' target='_self'><span>판다스 기초 - 데이터 정보 확인하기 (3)</span></a>\n"
   ]
  },
  {
   "cell_type": "markdown",
   "id": "f42da530-4af9-40b7-a7a7-86e86ebca192",
   "metadata": {
    "jp-MarkdownHeadingCollapsed": true,
    "tags": []
   },
   "source": [
    "<div style=\"padding: 15px; border: 5px solid transparent; border-color: transparent; margin-bottom: 20px; border-radius: 4px; color: #3c763d; border-color: #d6e9c6; font-weight: bold;\">\n",
    "<h2 style='font-weight: bold'>4. 데이터의 통계 정보 확인하기</h2>\n",
    "</div> "
   ]
  },
  {
   "cell_type": "markdown",
   "id": "d13833bf-ef0a-4d12-90d7-3b38813eed49",
   "metadata": {
    "jp-MarkdownHeadingCollapsed": true,
    "tags": []
   },
   "source": [
    "Pandas에서는 데이터의 통계 정보도 손쉽게 확인할 수 있습니다.\n",
    "\n",
    "> **🔨 함수(FUNCTIONS):**\n",
    ">\n",
    "> **`Series.describe(include = 문자열)`, `DataFrame.describe(include = 문자열)`**  \n",
    "> 시리즈/데이터프레임의 통계 정보를 알려줍니다.\n",
    ">- count: 데이터 갯수 (비어 있는 값 제외)\n",
    ">- mean: 평균값\n",
    ">- std: 표준편차\n",
    ">- min: 최솟값\n",
    ">- 25%: 크기 순으로 정렬했을때 4분의 1번째에 해당하는 값\n",
    ">- 50%: 크기 순으로 정렬했을때 중앙에 해당하는 값 (중앙값)\n",
    ">- 75%: 크기 순으로 정렬했을때 4분의 3번째에 해당하는 값\n",
    ">- max: 최댓값\n",
    ">> **매개변수(parameter)**\n",
    ">>\n",
    ">> **`include`** : 통계에 포함된 데이터 타입을 지정합니다.\n",
    ">> 'O'를 설정하면 오브젝트(object) 타입 데이터에 대한 추가적인 통계량을 알려줍니다.\n",
    ">>- count: 데이터 갯수 (비어 있는 값 제외)\n",
    ">>- unique: 데이터의 고유값 종류 갯수\n",
    ">>- top: 가장 수가 많은 고유값\n",
    ">>- freq: top에 해당하는 고유값의 갯수\n",
    "> ---"
   ]
  },
  {
   "cell_type": "markdown",
   "id": "8cb72a4b-04d7-4f2c-a6b6-4f972717feb3",
   "metadata": {},
   "source": [
    "### describe() 함수로 데이터의 통계 정보 확인하기\n",
    "\n",
    "`describe()` 함수를 사용하면 데이터의 통계 정보를 확인할 수 있습니다.\n",
    "`include` 매개변수로 `'O'`를 주면 문자 데이터의 통계 정보도 확인할 수 있습니다.\n",
    "\n",
    "<table>\n",
    "<tr>\n",
    "    <th><img src=\"https://tmn-bucket-materials-all.s3.ap-northeast-2.amazonaws.com/image/pandas/material_03_04.png\" width=\"750\"></th>\n",
    "</tr>\n",
    "<tr>\n",
    "    <th>describe() 함수로 통계 데이터 읽어오기</th>\n",
    "</tr>\n",
    "</table>"
   ]
  },
  {
   "cell_type": "code",
   "execution_count": null,
   "id": "490fe8f0-1d00-4c84-b9ca-8ad908674eb5",
   "metadata": {
    "tags": []
   },
   "outputs": [],
   "source": [
    "# 예제_1_시리즈의_통계_정보_확인하기\n",
    "\n",
    "import pandas as pd\n",
    "\n",
    "school = pd.read_csv('https://tmn-bucket-materials-all.s3.ap-northeast-2.amazonaws.com/data/%EA%B3%A0%EB%93%B1%ED%95%99%EA%B5%90.csv')['학교명']\n",
    "\n",
    "print('#'*30, f\"{'school':^15s}\" , '#' * 30, '\\n') # 출력되는 결과들을 분리해서 보여주기 위한 코드입니다.\n",
    "print(school)\n",
    "print('\\n','#'*30, f\"{'school.describe()':^15s}\" , '#' * 30, '\\n') # 출력되는 결과들을 분리해서 보여주기 위한 코드입니다.\n",
    "print(school.describe())"
   ]
  },
  {
   "cell_type": "code",
   "execution_count": null,
   "id": "642e7c10-a520-432f-8da2-e17603993849",
   "metadata": {
    "tags": []
   },
   "outputs": [],
   "source": [
    "# 예제_2_데이터프레임의_통계_정보_확인하기\n",
    "\n",
    "import pandas as pd\n",
    "\n",
    "school = pd.read_csv('https://tmn-bucket-materials-all.s3.ap-northeast-2.amazonaws.com/data/%EA%B3%A0%EB%93%B1%ED%95%99%EA%B5%90.csv')\n",
    "\n",
    "print('#'*30, f\"{'school':^15s}\" , '#' * 30, '\\n') # 출력되는 결과들을 분리해서 보여주기 위한 코드입니다.\n",
    "print(school)\n",
    "print('\\n','#'*30, f\"{'school.describe()':^15s}\" , '#' * 30, '\\n') # 출력되는 결과들을 분리해서 보여주기 위한 코드입니다.\n",
    "print(school.describe())"
   ]
  },
  {
   "cell_type": "code",
   "execution_count": null,
   "id": "3d645556-2199-445e-a0d5-b2b3e6014d8f",
   "metadata": {
    "tags": []
   },
   "outputs": [],
   "source": [
    "# 예제_3_데이터프레임의_문자데이터_통계_정보_확인하기\n",
    "\n",
    "import pandas as pd\n",
    "\n",
    "school = pd.read_csv('https://tmn-bucket-materials-all.s3.ap-northeast-2.amazonaws.com/data/%EA%B3%A0%EB%93%B1%ED%95%99%EA%B5%90.csv')\n",
    "\n",
    "print('#'*30, f\"{'school':^15s}\" , '#' * 30, '\\n') # 출력되는 결과들을 분리해서 보여주기 위한 코드입니다.\n",
    "print(school)\n",
    "print('\\n','#'*30, \"{:^15s}\".format('school.describe(include=\\'O\\')') , '#' * 30, '\\n') # 출력되는 결과들을 분리해서 보여주기 위한 코드입니다.\n",
    "print(school.describe(include='O'))"
   ]
  },
  {
   "cell_type": "markdown",
   "id": "a0d66c18-4eb7-46f4-b344-3707c6a97102",
   "metadata": {},
   "source": [
    "> **❓ 생각해보기(QUESTION):**\n",
    ">\n",
    "> 통계 정보를 확인하면 어떤 정보를 추가적으로 알 수 있을까요?"
   ]
  },
  {
   "cell_type": "raw",
   "id": "da1af030-de33-42f5-9848-27422eca0440",
   "metadata": {},
   "source": [
    "질문에 대한 대답을 여기에 적어봅시다."
   ]
  },
  {
   "cell_type": "markdown",
   "id": "3383291d-871e-4fc1-9723-2e36c094f4b3",
   "metadata": {},
   "source": [
    "### **💯 연습문제를 풀어봅시다**\n",
    "\n"
   ]
  },
  {
   "cell_type": "markdown",
   "id": "a158bfce-b24f-4587-8d4d-37e8023ede1e",
   "metadata": {
    "tags": []
   },
   "source": [
    "1. <a class=\"jcecodle-mk jcecodle-mk__problem-chip\" data-problem-id=\"T0QwboxCL-A\" href='#jce-judge/open/T0QwboxCL-A' target='_self'><span>판다스 기초 - 숫자 데이터 통계 확인하기</span></a>\n",
    "2. <a class=\"jcecodle-mk jcecodle-mk__problem-chip\" data-problem-id=\"0hhVXsFglyk\" href='#jce-judge/open/0hhVXsFglyk' target='_self'><span>판다스 기초 - 숫자 데이터 통게 확인하기 (2)</span></a>\n",
    "3. <a class=\"jcecodle-mk jcecodle-mk__problem-chip\" data-problem-id=\"c1xby3pplU0\" href='#jce-judge/open/c1xby3pplU0' target='_self'><span>판다스 기초 - 문자 데이터 통계 확인하기</span></a>\n",
    "4. <a class=\"jcecodle-mk jcecodle-mk__problem-chip\" data-problem-id=\"va6a0Xko5_E\" href='#jce-judge/open/va6a0Xko5_E' target='_self'><span>판다스 기초 - 문자 데이터 통계 확인하기 (2)</span></a>\n",
    "5. <a class=\"jcecodle-mk jcecodle-mk__problem-chip\" data-problem-id=\"TehwC_5I29I\" href='#jce-judge/open/TehwC_5I29I' target='_self'><span>판다스 기초 - 모든 데이터 통계 확인하기</span></a>\n",
    "\n"
   ]
  },
  {
   "cell_type": "markdown",
   "id": "dee234f8-b62b-4a2c-89e9-a9a122b68949",
   "metadata": {
    "jp-MarkdownHeadingCollapsed": true,
    "tags": []
   },
   "source": [
    "<div style=\"padding: 15px; border: 5px solid transparent; border-color: transparent; margin-bottom: 20px; border-radius: 4px; color: #3c763d; border-color: #d6e9c6; font-weight: bold;\">\n",
    "<h2 style='font-weight: bold'>5. 시리즈(Series) 인덱싱</h2>\n",
    "</div> "
   ]
  },
  {
   "cell_type": "markdown",
   "id": "e2ef6fdd-9619-42a0-b5e7-b6b38ef80d5f",
   "metadata": {
    "jp-MarkdownHeadingCollapsed": true,
    "tags": []
   },
   "source": [
    "데이터를 사용할 때에는 데이터의 전체를 사용할 때도 있지만 데이터의 특정 부분만을 가져와 사용하는 경우가 있습니다.  \n",
    "데이터를 인덱싱(indexing)하여 원하는 부분만 가져와 사용할 수 있습니다.\n",
    "\n",
    "> **✏️ 알아봅시다(NOTE):** 인덱싱(indexing)이 무엇인가요?  \n",
    ">\n",
    "> 인덱싱은 데이터의 특정 부분에 접근하는 방법입니다.  \n",
    "> 데이터에서 원하는 부분만을 가져와 사용할 수 있습니다.\n",
    "> "
   ]
  },
  {
   "cell_type": "markdown",
   "id": "4bdd90bd-0cb4-414e-afbd-d9c14f8de22d",
   "metadata": {
    "tags": []
   },
   "source": [
    "### 위치 정보를 이용해 데이터 인덱싱하기\n",
    "\n",
    "시리즈는 리스트(list) 처럼 원하는 데이터의 위치 정보를 이용해 데이터를 인덱싱할 수 있습니다.\n",
    "\n",
    "> **⚠️ 주의(WARNING):**\n",
    ">\n",
    "> 시리즈의 위치는 리스트와 마찬가지로 0부터 시작됩니다.\n",
    "\n",
    "1. 하나의 데이터 인덱싱하기  \n",
    "`Series[n]`: 시리즈의 'n+1'번째 데이터를 가져옵니다.  \n",
    "\n",
    "<table>\n",
    "<tr>\n",
    "    <th><img src=\"https://tmn-bucket-materials-all.s3.ap-northeast-2.amazonaws.com/image/pandas/material_03_05.gif\" width=\"750\"></th>\n",
    "</tr>\n",
    "<tr>\n",
    "    <th>시리즈에서 하나의 데이터 인덱싱</th>\n",
    "</tr>\n",
    "</table>\n",
    "\n",
    "2. 연속된 여러개의 데이터 인덱싱하기  \n",
    "`Series[a:b]`: 시리즈의 'a+1'번째부터 'b'번째 데이터를 시리즈의 형태로 가져옵니다.  \n",
    "\n",
    "<table>\n",
    "<tr>\n",
    "    <th><img src=\"https://tmn-bucket-materials-all.s3.ap-northeast-2.amazonaws.com/image/pandas/material_03_06.gif\" width=\"750\"></th>\n",
    "</tr>\n",
    "<tr>\n",
    "    <th>시리즈에서 연속된 여러개의 데이터 인덱싱</th>\n",
    "</tr>\n",
    "</table>\n",
    "\n",
    "3. 연속되지 않은 여러개의 데이터 인덱싱하기  \n",
    "`Series[[0, 1]]`: 시리즈의 첫 번째, 두 번째 데이터를 시리즈의 형태로 가져옵니다.  \n",
    "`Series[[1, 0]]`: 시리즈의 두 번째, 첫 번째 데이터를 시리즈의 형태로 가져옵니다.  \n",
    "\n",
    "<table>\n",
    "<tr>\n",
    "    <th><img src=\"https://tmn-bucket-materials-all.s3.ap-northeast-2.amazonaws.com/image/pandas/material_03_07.gif\" width=\"750\"></th>\n",
    "</tr>\n",
    "<tr>\n",
    "    <th>시리즈에서 연속되지 않은 여러개의 데이터 인덱싱</th>\n",
    "</tr>\n",
    "</table>"
   ]
  },
  {
   "cell_type": "code",
   "execution_count": null,
   "id": "5ec779e6-090e-44d7-abef-484b17a45749",
   "metadata": {
    "tags": []
   },
   "outputs": [],
   "source": [
    "# 예제_1_시리즈에서_하나의_데이터_인덱싱\n",
    "\n",
    "import pandas as pd\n",
    "\n",
    "df = pd.read_csv('https://tmn-bucket-materials-all.s3.ap-northeast-2.amazonaws.com/data/midterm_exam_result.csv')\n",
    "\n",
    "score = pd.Series(df['프로그래밍'])\n",
    "score.index = df['이름']\n",
    "\n",
    "print('#'*30, f\"{'score':^15s}\" , '#' * 30, '\\n') # 출력되는 결과들을 분리해서 보여주기 위한 코드입니다.\n",
    "print(score)\n",
    "print('\\n','#'*30, f\"{'score[5]':^15s}\" , '#' * 30, '\\n') # 출력되는 결과들을 분리해서 보여주기 위한 코드입니다.\n",
    "print(score[5])\n",
    "print('\\n','#'*30, f\"{'score[5]':^15s}\" , '#' * 30, '\\n') # 출력되는 결과들을 분리해서 보여주기 위한 코드입니다.\n",
    "print(score[13])"
   ]
  },
  {
   "cell_type": "code",
   "execution_count": null,
   "id": "34ba5034-7561-4e14-8ae9-8ac0a92365ca",
   "metadata": {
    "tags": []
   },
   "outputs": [],
   "source": [
    "# 예제_2_시리즈에서_연속된_여러개의_데이터_인덱싱\n",
    "\n",
    "import pandas as pd\n",
    "\n",
    "df = pd.read_csv('https://tmn-bucket-materials-all.s3.ap-northeast-2.amazonaws.com/data/midterm_exam_result.csv')\n",
    "\n",
    "score = pd.Series(df['프로그래밍'])\n",
    "score.index = df['이름']\n",
    "\n",
    "print('#'*30, f\"{'score':^15s}\" , '#' * 30, '\\n') # 출력되는 결과들을 분리해서 보여주기 위한 코드입니다.\n",
    "print(score)\n",
    "print('\\n','#'*30, f\"{'score[5:10]':^15s}\" , '#' * 30, '\\n') # 출력되는 결과들을 분리해서 보여주기 위한 코드입니다.\n",
    "print(score[5:10])\n",
    "print('\\n','#'*30, f\"{'score[13:15]':^15s}\" , '#' * 30, '\\n') # 출력되는 결과들을 분리해서 보여주기 위한 코드입니다.\n",
    "print(score[13:15])"
   ]
  },
  {
   "cell_type": "code",
   "execution_count": null,
   "id": "25f8ce5e-1591-4b5f-ad44-e9da539d3804",
   "metadata": {
    "tags": []
   },
   "outputs": [],
   "source": [
    "# 예제_3_시리즈에서_연속되지_않은_여러개의_데이터_인덱싱\n",
    "\n",
    "import pandas as pd\n",
    "\n",
    "df = pd.read_csv('https://tmn-bucket-materials-all.s3.ap-northeast-2.amazonaws.com/data/midterm_exam_result.csv')\n",
    "\n",
    "score = pd.Series(df['프로그래밍'])\n",
    "score.index = df['이름']\n",
    "\n",
    "print('#'*30, f\"{'score':^15s}\" , '#' * 30, '\\n') # 출력되는 결과들을 분리해서 보여주기 위한 코드입니다.\n",
    "print(score)\n",
    "print('\\n','#'*30, f\"{'score[[5,6,10,12]]':^15s}\" , '#' * 30, '\\n') # 출력되는 결과들을 분리해서 보여주기 위한 코드입니다.\n",
    "print(score[[5,6,10,12]])\n",
    "print('\\n','#'*30, f\"{'score[[1,3,5]]':^15s}\" , '#' * 30, '\\n') # 출력되는 결과들을 분리해서 보여주기 위한 코드입니다.\n",
    "print(score[[1,3,5]])"
   ]
  },
  {
   "cell_type": "markdown",
   "id": "81382fce-b60b-4fa8-9a9f-152116e90202",
   "metadata": {
    "tags": []
   },
   "source": [
    "### 인덱스 정보를 이용해 데이터 인덱싱하기\n",
    "\n",
    "시리즈는 딕셔너리(dictionary) 처럼 원하는 데이터의 인덱스를 이용해 데이터를 인덱싱할 수 있습니다.\n",
    "\n",
    "> **⛔️ 오류(ERROR):**\n",
    ">\n",
    "> 시리즈에 존재하지 않는 인덱스를 사용하면 오류가 발생합니다.\n",
    "\n",
    "1. 하나의 데이터 인덱싱하기  \n",
    "`Series['인덱스']`: 시리즈의 '인덱스'에 해당하는 데이터를 가져옵니다.  \n",
    "\n",
    "<table>\n",
    "<tr>\n",
    "    <th><img src=\"https://tmn-bucket-materials-all.s3.ap-northeast-2.amazonaws.com/image/pandas/material_04_01_04.gif\" width=\"750\"></th>\n",
    "</tr>\n",
    "<tr>\n",
    "    <th>시리즈에서 인덱스를 정보를 이용해 하나의 데이터 인덱싱</th>\n",
    "</tr>\n",
    "</table>\n",
    "\n",
    "2. 연속된 여러개의 데이터 인덱싱하기  \n",
    "`Series['인덱스1':'인덱스2']`: 시리즈의 '인덱스1'부터 '인덱스2'까지의 데이터를 시리즈의 형태로 가져옵니다.  \n",
    "\n",
    "<table>\n",
    "<tr>\n",
    "    <th><img src=\"https://tmn-bucket-materials-all.s3.ap-northeast-2.amazonaws.com/image/pandas/material_04_01_05.gif\" width=\"750\"></th>\n",
    "</tr>\n",
    "<tr>\n",
    "    <th>시리즈에서 인덱스를 정보를 이용해 연속된 여러개의 데이터 인덱싱</th>\n",
    "</tr>\n",
    "</table>\n",
    "\n",
    "3. 연속되지 않은 여러개의 데이터 인덱싱하기  \n",
    "`Series[['인덱스1', '인덱스2']]`: 시리즈의  '인덱스1', '인덱스2'에 해당하는 데이터를 시리즈의 형태로 가져옵니다.  \n",
    "`Series[['인덱스2', '인덱스1']]`: 시리즈의  '인덱스2', '인덱스1'에 해당하는 데이터를 시리즈의 형태로 가져옵니다.  \n",
    "\n",
    "<table>\n",
    "<tr>\n",
    "    <th><img src=\"https://tmn-bucket-materials-all.s3.ap-northeast-2.amazonaws.com/image/pandas/material_04_01_06.gif\" width=\"750\"></th>\n",
    "</tr>\n",
    "<tr>\n",
    "    <th>시리즈에서 인덱스를 정보를 이용해 연속되지 않은 여러개의 데이터 인덱싱</th>\n",
    "</tr>\n",
    "</table>\n",
    "\n",
    "> **⚠️ 주의(WARNING):**\n",
    ">\n",
    "> [a:b]의 방법으로 연속된 데이터를 인덱싱할 때에 위치 정보를 사용하는지, 인덱스 정보를 사용하는지에 따라 결과가 달라 주의해야 합니다.\n",
    ">  - 위치 정보 이용: [1:3] 4번째 행은 포함되지 않습니다.\n",
    ">  - 인덱스 정보 이용: ['인덱스1':'인덱스2'] '인덱스2' 행이 포함됩니다.\n"
   ]
  },
  {
   "cell_type": "code",
   "execution_count": null,
   "id": "4305d2a1-2eb9-435d-9821-234f723b559e",
   "metadata": {
    "tags": []
   },
   "outputs": [],
   "source": [
    "# 예제_4_시리즈에서_인덱스정보_이용하여_하나의_데이터_인덱싱\n",
    "\n",
    "import pandas as pd\n",
    "\n",
    "df = pd.read_csv('https://tmn-bucket-materials-all.s3.ap-northeast-2.amazonaws.com/data/midterm_exam_result.csv')\n",
    "\n",
    "score = pd.Series(df['프로그래밍'])\n",
    "score.index = df['이름']\n",
    "\n",
    "print('#'*30, f\"{'score':^15s}\" , '#' * 30, '\\n') # 출력되는 결과들을 분리해서 보여주기 위한 코드입니다.\n",
    "print(score)\n",
    "print('\\n','#'*30, \"{:^15s}\".format('score[\"이민서\"]') , '#' * 30, '\\n') # 출력되는 결과들을 분리해서 보여주기 위한 코드입니다.\n",
    "print(score[\"이민서\"])\n",
    "print('\\n','#'*30, \"{:^15s}\".format('score[\"박채원\"]') , '#' * 30, '\\n') # 출력되는 결과들을 분리해서 보여주기 위한 코드입니다.\n",
    "print(score[\"박채원\"])"
   ]
  },
  {
   "cell_type": "code",
   "execution_count": null,
   "id": "55f2314d-064c-4e4c-9786-89bc4e7fa8ac",
   "metadata": {
    "tags": []
   },
   "outputs": [],
   "source": [
    "# 예제_5_시리즈에서_인덱스정보_이용하여_연속된_여러개의_데이터_인덱싱\n",
    "\n",
    "import pandas as pd\n",
    "\n",
    "df = pd.read_csv('https://tmn-bucket-materials-all.s3.ap-northeast-2.amazonaws.com/data/midterm_exam_result.csv')\n",
    "\n",
    "score = pd.Series(df['프로그래밍'])\n",
    "score.index = df['이름']\n",
    "\n",
    "print('#'*30, f\"{'score':^15s}\" , '#' * 30, '\\n') # 출력되는 결과들을 분리해서 보여주기 위한 코드입니다.\n",
    "print(score)\n",
    "print('\\n','#'*30, \"{:^15s}\".format('score[\"이민서\":\"박채원\"]') , '#' * 30, '\\n') # 출력되는 결과들을 분리해서 보여주기 위한 코드입니다.\n",
    "print(score[\"이민서\":\"박채원\"])\n",
    "print('\\n','#'*30, \"{:^15s}\".format('score[\"박채원\":\"정예준\"]') , '#' * 30, '\\n') # 출력되는 결과들을 분리해서 보여주기 위한 코드입니다.\n",
    "print(score[\"박채원\":\"정예준\"])"
   ]
  },
  {
   "cell_type": "code",
   "execution_count": null,
   "id": "b1988c40-9b3d-4406-bcdf-e63117ae6991",
   "metadata": {
    "tags": []
   },
   "outputs": [],
   "source": [
    "# 예제_6_시리즈에서_인덱스정보_이용하여_연속되지_않은_여러개의_데이터_인덱싱\n",
    "\n",
    "import pandas as pd\n",
    "\n",
    "df = pd.read_csv('https://tmn-bucket-materials-all.s3.ap-northeast-2.amazonaws.com/data/midterm_exam_result.csv')\n",
    "\n",
    "score = pd.Series(df['프로그래밍'])\n",
    "score.index = df['이름']\n",
    "\n",
    "print('#'*30, f\"{'score':^15s}\" , '#' * 30, '\\n') # 출력되는 결과들을 분리해서 보여주기 위한 코드입니다.\n",
    "print(score)\n",
    "print('\\n','#'*30, \"{:^15s}\".format('score[[\"이민서\",\"채수아\",\"김서준\",\"박채원\"]]') , '#' * 30, '\\n') # 출력되는 결과들을 분리해서 보여주기 위한 코드입니다.\n",
    "print(score[[\"이민서\",\"채수아\",\"김서준\",\"박채원\"]])\n",
    "print('\\n','#'*30, \"{:^15s}\".format('(score[[\"박채원\",\"박도윤\",\"정예준\"]]') , '#' * 30, '\\n') # 출력되는 결과들을 분리해서 보여주기 위한 코드입니다.\n",
    "print(score[[\"박채원\",\"박도윤\",\"정예준\"]])"
   ]
  },
  {
   "cell_type": "markdown",
   "id": "56b07bd0-49d7-4026-976d-47ef9a4bf7bf",
   "metadata": {},
   "source": [
    "> **❓ 생각해보기(QUESTION):**\n",
    ">\n",
    "> 어떠한 경우에 인덱싱을 통해 특정 데이터에 접근해야 할까요?"
   ]
  },
  {
   "cell_type": "raw",
   "id": "c8cbae9d-a2f2-46f3-a9c1-bf91038fb6ef",
   "metadata": {},
   "source": [
    "질문에 대한 대답을 여기에 적어봅시다."
   ]
  },
  {
   "cell_type": "markdown",
   "id": "6af0824f-4554-46e4-9e4e-19b29ae78049",
   "metadata": {
    "tags": []
   },
   "source": [
    "### **💯 연습문제를 풀어봅시다**\n",
    "\n"
   ]
  },
  {
   "cell_type": "markdown",
   "id": "2a4fdfda-45db-4dd6-98e1-f22087f5bd0e",
   "metadata": {
    "tags": []
   },
   "source": [
    "1. <a class=\"jcecodle-mk jcecodle-mk__problem-chip\" data-problem-id=\"85Z2jvqifdo\" href='#jce-judge/open/85Z2jvqifdo' target='_self'><span>판다스 기초 - 시리즈 인덱싱 순번 이용 (1)</span></a>\n",
    "\n",
    "2. <a class=\"jcecodle-mk jcecodle-mk__problem-chip\" data-problem-id=\"mEJX6nUojpk\" href='#jce-judge/open/mEJX6nUojpk' target='_self'><span>상품 시리즈 인덱싱</span></a>\n",
    "\n",
    "3. <a class=\"jcecodle-mk jcecodle-mk__problem-chip\" data-problem-id=\"cyt-JLuGCYI\" href='#jce-judge/open/cyt-JLuGCYI' target='_self'><span>성적 시리즈 인덱싱 (1)</span></a>\n",
    "\n",
    "4. <a class=\"jcecodle-mk jcecodle-mk__problem-chip\" data-problem-id=\"2pC2Zvg9LkY\" href='#jce-judge/open/2pC2Zvg9LkY' target='_self'><span>판다스 기초 - 시리즈 인덱싱 순번 이용 (2)</span></a>\n",
    "\n",
    "5. <a class=\"jcecodle-mk jcecodle-mk__problem-chip\" data-problem-id=\"E4yxB-12C0c\" href='#jce-judge/open/E4yxB-12C0c' target='_self'><span>연속 3줄 인덱싱</span></a>\n",
    "\n",
    "6. <a class=\"jcecodle-mk jcecodle-mk__problem-chip\" data-problem-id=\"IONclzSz0Wo\" href='#jce-judge/open/IONclzSz0Wo' target='_self'><span>장학급 수혜 대상자</span></a>\n",
    "\n",
    "7. <a class=\"jcecodle-mk jcecodle-mk__problem-chip\" data-problem-id=\"YKhP6f05A60\" href='#jce-judge/open/YKhP6f05A60' target='_self'><span>판다스 기초 - 시리즈 인덱싱 불연속한 다수행</span></a>\n",
    "\n",
    "8. <a class=\"jcecodle-mk jcecodle-mk__problem-chip\" data-problem-id=\"4e1mBJFGmCk\" href='#jce-judge/open/4e1mBJFGmCk' target='_self'><span>과일만 모으기(1)</span></a>\n",
    "\n",
    "9. <a class=\"jcecodle-mk jcecodle-mk__problem-chip\" data-problem-id=\"uOUUxOYUevk\" href='#jce-judge/open/uOUUxOYUevk' target='_self'><span>홀수행 인덱싱</span></a>\n",
    "\n",
    "10. <a class=\"jcecodle-mk jcecodle-mk__problem-chip\" data-problem-id=\"-fJrKazhUCc\" href='#jce-judge/open/-fJrKazhUCc' target='_self'><span>판다스 기초 - 시리즈 인덱싱 이름 이용(1)</span></a>\n",
    "\n",
    "11. <a class=\"jcecodle-mk jcecodle-mk__problem-chip\" data-problem-id=\"BW1n3ugNlfc\" href='#jce-judge/open/BW1n3ugNlfc' target='_self'><span>가족 시리즈 인덱싱</span></a>\n",
    "\n",
    "12. <a class=\"jcecodle-mk jcecodle-mk__problem-chip\" data-problem-id=\"O96L51_d4vg\" href='#jce-judge/open/O96L51_d4vg' target='_self'><span>결제 비용 (1)</span></a>\n",
    "\n",
    "13. <a class=\"jcecodle-mk jcecodle-mk__problem-chip\" data-problem-id=\"py3oeSeoqxk\" href='#jce-judge/open/py3oeSeoqxk' target='_self'><span>판다스 기초 - 시리즈 인덱싱 이름 이용 (2)</span></a>\n",
    "\n",
    "14. <a class=\"jcecodle-mk jcecodle-mk__problem-chip\" data-problem-id=\"-kmyKPqL8Qw\" href='#jce-judge/open/-kmyKPqL8Qw' target='_self'><span>성적 시리즈 인덱싱 (2)</span></a>\n",
    "\n",
    "15. <a class=\"jcecodle-mk jcecodle-mk__problem-chip\" data-problem-id=\"pN_CQGS4B8c\" href='#jce-judge/open/pN_CQGS4B8c' target='_self'><span>판다스 기초 - 시리즈 인덱싱 불연속한 다수행 (2)</span></a>\n",
    "\n",
    "16. <a class=\"jcecodle-mk jcecodle-mk__problem-chip\" data-problem-id=\"OWcA8MHupII\" href='#jce-judge/open/OWcA8MHupII' target='_self'><span>결제 비용 (2)</span></a>\n"
   ]
  }
 ],
 "metadata": {
  "kernelspec": {
   "display_name": "Python 3 (ipykernel)",
   "language": "python",
   "name": "python3"
  },
  "language_info": {
   "codemirror_mode": {
    "name": "ipython",
    "version": 3
   },
   "file_extension": ".py",
   "mimetype": "text/x-python",
   "name": "python",
   "nbconvert_exporter": "python",
   "pygments_lexer": "ipython3",
   "version": "3.11.3"
  }
 },
 "nbformat": 4,
 "nbformat_minor": 5
}
