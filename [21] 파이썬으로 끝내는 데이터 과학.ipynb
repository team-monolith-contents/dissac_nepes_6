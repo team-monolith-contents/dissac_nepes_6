{
 "cells": [
  {
   "cell_type": "markdown",
   "id": "7a89a294-df29-431f-8b5a-22e72c1e81e2",
   "metadata": {
    "tags": []
   },
   "source": [
    "<div style=\"padding: 15px; border: 5px solid transparent; border-color: transparent; margin-bottom: 20px; border-radius: 4px; color: #3c763d; background-color: #dff0d8; border-color: #d6e9c6; font-weight: bold;\">\n",
    "    <br><br>\n",
    "    <div style=\"font-weight: bold; font-size: 40px\">파이썬으로 끝내는 데이터 과학</div>\n",
    "    <div style=\"font-weight: bold; font-size: 20px\">[21] 프로젝트</div>\n",
    "    <hr style=\"width:80%;text-align:left;margin-left:0;border:0.5px solid green\">\n",
    "    <br>\n",
    "    &#x2022; 데이터를 탐색하고 필요한 데이터를 찾을 수 있다.  <br>\n",
    "    &#x2022; 데이터를 분석할 수 있다. <br>\n",
    "    &#x2022; 데이터를 시각화할 수 있다.<br>\n",
    "</div>"
   ]
  },
  {
   "cell_type": "markdown",
   "id": "a791007c-70a7-40b2-86d2-e28b69c89114",
   "metadata": {
    "deletable": false,
    "editable": false
   },
   "source": [
    "<div style=\"padding: 15px; border: 5px solid transparent; border-color: transparent; margin-bottom: 20px; border-radius: 4px; color: #3c763d; border-color: #d6e9c6; font-weight: bold;\">\n",
    "<h2 style='font-weight: bold'>0. 프로젝트 개요</h2>\n",
    "</div> "
   ]
  },
  {
   "cell_type": "markdown",
   "id": "b2123eca-3969-4b4b-bf9c-5a777efe7be9",
   "metadata": {
    "deletable": false,
    "editable": false
   },
   "source": [
    "### **데이터를 통해 장사의 신이 되어보자**\n",
    "\n",
    "코들이가 재미삼아 산 로또가 1등에 당첨되었습니다!!!!  \n",
    "당첨금은 약 23억원 이었습니다.  \n",
    "코들이는 이 당첨금으로는 평생 먹고 살기 어렵다는 것을 깨달았습니다.  \n",
    "그래서 코들이는 당첨금으로 가게를 열어 더 많은 돈을 벌려고 합니다.  \n",
    "하지만 코들이는 장사에 대해 생각해 본 적도 없고 아는 것도 없습니다.  \n",
    "그러다 문득 학교 수업시간에 데이터 분석을 배운 것이 생각났습니다.  \n",
    "코들이는 데이터 분석 수업을 같이 들은 여러분과 함께 어떤 가게를 하면 장사가 잘 될지 함께 고민하려 합니다.\n",
    "\n",
    "코들이를 도와 어떤 가게를 어디에 차리면 좋을지 데이터를 분석해봅시다."
   ]
  },
  {
   "cell_type": "markdown",
   "id": "c7cb8624-ff04-465f-bd8a-ea2eb258eb14",
   "metadata": {
    "deletable": false,
    "editable": false
   },
   "source": [
    "<div style=\"padding: 15px; border: 5px solid transparent; border-color: transparent; margin-bottom: 20px; border-radius: 4px; color: #3c763d; border-color: #d6e9c6; font-weight: bold;\">\n",
    "<h2 style='font-weight: bold'>1. 데이터 탐색하기</h2>\n",
    "</div> "
   ]
  },
  {
   "cell_type": "markdown",
   "id": "3f9a3927-43e9-485f-ab99-e1ff9987ae33",
   "metadata": {
    "deletable": false,
    "editable": false
   },
   "source": [
    "데이터를 분석하는 데에 가장 중요한 것 중 하나는 적절한 데이터를 선정하는 것입니다.  \n",
    "최근에는 여러 기업이나 정부기관에서 데이터를 공개하고 있기 때문에 데이터를 선정할 수 있는 폭이 넓습니다.  \n",
    "특히 [공공데이터포털](https://www.data.go.kr/index.do)에서는 정부기관에서 제공하는 다양한 데이터를 사용할 수 있습니다.   \n",
    "또는 [kaggle(캐글)](https://www.kaggle.com/datasets)이라는 온라인 커뮤니티에서 다양한 데이터를 활용할 수도 있습니다. \n",
    "\n",
    "> `read_csv()` 함수를 사용해 데이터를 읽어오고 `head()`, `trail()`, `info()` 함수등을 이용해 데이터를 관찰할 수 있습니다.\n",
    ">\n",
    "> 여러분이 쓸만한 데이터가 있나요??"
   ]
  },
  {
   "cell_type": "markdown",
   "id": "d7279e57-024e-4655-a46d-91f9458408a5",
   "metadata": {
    "deletable": false,
    "editable": false
   },
   "source": [
    "<div style=\"padding: 15px; border: 5px solid transparent; border-color: transparent; margin-bottom: 20px; border-radius: 4px; color: #8a6d3b;  border-color: #faebcc; font-weight: bold;\">\n",
    "    <div style=\"font-weight: bold; font-size: 20px\">✏️ 생각해보기</div>\n",
    "    <br>\n",
    "어떤 데이터를 분석하면 좋을까요?  <br>\n",
    "여러분의 생각을 아래의 셀에 적어주세요.\n",
    "</div>"
   ]
  },
  {
   "cell_type": "raw",
   "id": "3b420ef0-42e1-48ad-8c95-042d0a8dffe1",
   "metadata": {},
   "source": [
    " 👉 \n",
    " 👉 "
   ]
  },
  {
   "cell_type": "markdown",
   "id": "38164427-e2fb-4b5f-ac16-898b46550add",
   "metadata": {
    "deletable": false,
    "editable": false
   },
   "source": [
    "이번 프로젝트에서는 한옥체험업 자료와 한식 레스토랑 자료를 분석해보고자 합니다.  \n",
    "\n",
    "한옥 체험업을 하는 곳은 외국인 관광객이 많을 것이고, 외국인 관광객의 특성상 한식을 먹는 것을 선호할 것입니다.   \n",
    "따라서 한옥체험업을 가장 많이하면서도 주변에 한식 식당이 적은 곳에 한식 레스토랑을 차린다면 장사에 성공할 수 있을 것입니다.  "
   ]
  },
  {
   "cell_type": "code",
   "execution_count": null,
   "id": "e6d64542-eb93-479f-a2d1-8346f254c644",
   "metadata": {
    "tags": []
   },
   "outputs": [],
   "source": [
    "import pandas as pd\n",
    "\n",
    "hanok = pd.read_csv('https://tmn-bucket-materials-all.s3.ap-northeast-2.amazonaws.com/data/%ED%95%9C%EC%98%A5%EC%B2%B4%ED%97%98%EC%97%85.csv')\n",
    "print(hanok.info())\n",
    "hanok.head(10)"
   ]
  },
  {
   "cell_type": "code",
   "execution_count": null,
   "id": "97f6a5d4-c616-4b24-b266-0fb6ea203c95",
   "metadata": {
    "error_code": "restaurant = pd.read_csv('https://tmn-bucket-materials-all.s3.ap-northeast-2.amazonaws.com/data/%EC%9D%BC%EB%B0%98%EC%9D%8C%EC%8B%9D%EC%A0%90_3.csv')\n#print(restaurant.info())\nrestaurant.head(10)",
    "tags": []
   },
   "outputs": [],
   "source": [
    "restaurant = pd.read_csv('https://tmn-bucket-materials-all.s3.ap-northeast-2.amazonaws.com/data/%EC%9D%BC%EB%B0%98%EC%9D%8C%EC%8B%9D%EC%A0%90_3.csv')\n",
    "print(restaurant.info())\n",
    "restaurant.head(10)"
   ]
  },
  {
   "cell_type": "markdown",
   "id": "98fb2a58-797e-4bbd-80ab-d6821930ffe7",
   "metadata": {
    "deletable": false,
    "editable": false
   },
   "source": [
    "<div style=\"padding: 15px; border: 5px solid transparent; border-color: transparent; margin-bottom: 20px; border-radius: 4px; color: #3c763d; border-color: #d6e9c6; font-weight: bold;\">\n",
    "<h2 style='font-weight: bold'>2. 데이터 분석하기</h2>\n",
    "</div> "
   ]
  },
  {
   "cell_type": "markdown",
   "id": "0359c35c-8d04-40e3-86e1-f2950f7c609c",
   "metadata": {
    "deletable": false,
    "editable": false
   },
   "source": [
    "데이터를 선정한 뒤에는 아이디어에 맞게 데이터를 분석해야 합니다.   \n",
    "데이터를 분석하기 위해서는 앞선 시간에서 배웠던 pandas의 여러가지 함수를 사용할 수 있습니다."
   ]
  },
  {
   "cell_type": "markdown",
   "id": "2712a312-664e-4f93-8a38-e5d5ff227f2f",
   "metadata": {
    "deletable": false,
    "editable": false
   },
   "source": [
    "**한옥체험업 데이터**"
   ]
  },
  {
   "cell_type": "code",
   "execution_count": null,
   "id": "fc531795-b43c-4686-922b-59ae142981f1",
   "metadata": {
    "error_code": "hanok = hanok[['영업상태명','도로명전체주소']]",
    "tags": []
   },
   "outputs": [],
   "source": [
    "hanok = hanok[['영업상태명','도로명전체주소']]"
   ]
  },
  {
   "cell_type": "code",
   "execution_count": null,
   "id": "2f204310-2699-4495-afc0-f21071756c54",
   "metadata": {
    "tags": []
   },
   "outputs": [],
   "source": [
    "print(len(hanok))\n",
    "hanok = hanok[hanok['영업상태명'] == '영업/정상']\n",
    "print(len(hanok))"
   ]
  },
  {
   "cell_type": "code",
   "execution_count": null,
   "id": "3ddd8912-a1d1-4cd8-87e4-42f1ec1a1fff",
   "metadata": {
    "tags": []
   },
   "outputs": [],
   "source": [
    "print(len(hanok))\n",
    "hanok = hanok.dropna()\n",
    "print(len(hanok))"
   ]
  },
  {
   "cell_type": "code",
   "execution_count": null,
   "id": "ed4483ac-fb8f-4924-8dea-f1d614a28d95",
   "metadata": {
    "tags": []
   },
   "outputs": [],
   "source": [
    "hanok['행정구역'] = hanok['도로명전체주소'].apply(lambda x :' '.join(x.split()[:2]))\n",
    "hanok"
   ]
  },
  {
   "cell_type": "code",
   "execution_count": null,
   "id": "17cf8304-e144-4930-beb8-a663d4147e1c",
   "metadata": {
    "tags": []
   },
   "outputs": [],
   "source": [
    "hanok = hanok.groupby('행정구역').count()['도로명전체주소']\n",
    "hanok"
   ]
  },
  {
   "cell_type": "code",
   "execution_count": null,
   "id": "cc1b15f6-9b4c-4561-a888-4046da858c65",
   "metadata": {
    "tags": []
   },
   "outputs": [],
   "source": [
    "print(hanok.idxmax(), hanok.max())"
   ]
  },
  {
   "cell_type": "markdown",
   "id": "ebd8088c-5f6f-431d-bf15-5edfa883f47f",
   "metadata": {
    "deletable": false,
    "editable": false
   },
   "source": [
    "**식당 데이터**"
   ]
  },
  {
   "cell_type": "code",
   "execution_count": null,
   "id": "adde63c5-aaaf-4dda-bbdc-dc4f257fcd4c",
   "metadata": {
    "tags": []
   },
   "outputs": [],
   "source": [
    "restaurant = restaurant[['영업상태명','도로명전체주소','업태구분명']]\n",
    "restaurant"
   ]
  },
  {
   "cell_type": "code",
   "execution_count": null,
   "id": "c9a19647-baff-420e-9f92-439c8df103b3",
   "metadata": {
    "tags": []
   },
   "outputs": [],
   "source": [
    "restaurant = restaurant[restaurant['업태구분명'] == '한식']\n",
    "restaurant"
   ]
  },
  {
   "cell_type": "code",
   "execution_count": null,
   "id": "a8257765-b47d-43ec-af8e-2fbe6fc0913a",
   "metadata": {
    "tags": []
   },
   "outputs": [],
   "source": [
    "restaurant['영업상태명'].unique()"
   ]
  },
  {
   "cell_type": "code",
   "execution_count": null,
   "id": "85ef805e-3c1f-4930-96f7-98b0d43fcbe7",
   "metadata": {
    "tags": []
   },
   "outputs": [],
   "source": [
    "restaurant = restaurant[restaurant['영업상태명'] == '영업/정상']\n",
    "restaurant"
   ]
  },
  {
   "cell_type": "code",
   "execution_count": null,
   "id": "4d8b6832-337b-4605-bd2a-15e922b9cf2d",
   "metadata": {
    "tags": []
   },
   "outputs": [],
   "source": [
    "restaurant = restaurant.dropna()\n",
    "restaurant"
   ]
  },
  {
   "cell_type": "code",
   "execution_count": null,
   "id": "dfdc9330-6aa4-49f2-a214-be450fe5a5b2",
   "metadata": {
    "error_code": "restaurant['행정구역'] = restaurant['도로명전체주소'].apply(lambda x :' '.join(x.split()[:2]))\nrestaurant",
    "tags": []
   },
   "outputs": [],
   "source": [
    "restaurant['행정구역'] = restaurant['도로명전체주소'].apply(lambda x :' '.join(x.split()[:2]))\n",
    "restaurant"
   ]
  },
  {
   "cell_type": "code",
   "execution_count": null,
   "id": "593b726d-fae9-416f-8110-d9c21d6daa61",
   "metadata": {
    "error_code": "restaurant['행정구역'] = restaurant['도로명전체주소'].apply(lambda x :' '.join(x.split()[:2]))\nrestaurant",
    "tags": []
   },
   "outputs": [],
   "source": [
    "restaurant = restaurant.groupby('행정구역').count()['도로명전체주소']\n",
    "restaurant"
   ]
  },
  {
   "cell_type": "code",
   "execution_count": null,
   "id": "7cb7f8c4-138b-4d5f-9bc3-9ce82b6aac5f",
   "metadata": {
    "error_code": "print(restaurant.idxmax(), restaurant.max())",
    "tags": []
   },
   "outputs": [],
   "source": [
    "print(restaurant.idxmax(), restaurant.max())"
   ]
  },
  {
   "cell_type": "markdown",
   "id": "cbc8a280-730b-484e-aa8d-946c3cd88ddd",
   "metadata": {
    "deletable": false,
    "editable": false
   },
   "source": [
    "<div style=\"padding: 15px; border: 5px solid transparent; border-color: transparent; margin-bottom: 20px; border-radius: 4px; color: #8a6d3b;  border-color: #faebcc; font-weight: bold;\">\n",
    "    <div style=\"font-weight: bold; font-size: 20px\">✏️ 생각해보기</div>\n",
    "    <br>\n",
    "데이터에 어떠한 규칙이 보이나요?<br>\n",
    "데이터를 보고 어떤 사실을 알 수 있나요?\n",
    "</div>"
   ]
  },
  {
   "cell_type": "raw",
   "id": "40c1cebe-b577-4ecb-9361-55990c730099",
   "metadata": {},
   "source": [
    " 👉 \n",
    " 👉 "
   ]
  },
  {
   "cell_type": "markdown",
   "id": "de90bcc6-ca09-4349-8098-b280169870cf",
   "metadata": {
    "deletable": false,
    "editable": false
   },
   "source": [
    "코들이는 다음의 정보들을 찾았습니다.  \n",
    "- 한옥체험업을 하는 업체가 가장 많은 곳은 전라북도 전주시이다.\n",
    "- 한식 식당이 가장 많은 곳은 충청북도 청주시이다."
   ]
  },
  {
   "cell_type": "markdown",
   "id": "c5630da4-420b-41d2-8da4-a065b74a55f4",
   "metadata": {
    "deletable": false,
    "editable": false
   },
   "source": [
    "<div style=\"padding: 15px; border: 5px solid transparent; border-color: transparent; margin-bottom: 20px; border-radius: 4px; color: #3c763d; border-color: #d6e9c6; font-weight: bold;\">\n",
    "<h2 style='font-weight: bold'>3. 데이터 시각화</h2>\n",
    "</div> "
   ]
  },
  {
   "cell_type": "markdown",
   "id": "6b88dc97-99d1-43d2-b5b0-85c4b8118e98",
   "metadata": {
    "deletable": false,
    "editable": false
   },
   "source": [
    "데이터를 시각화하는 것도 데이터를 분석하는데 많이 사용하는 방법입니다.  \n",
    "데이터를 시각화함으로써 기존에 보이지 않던 규칙이나 패턴이 보이기도 합니다.  \n",
    "또한 데이터를 시각화하면 내가 보여주고 싶은 정보를 다른 사람들에게 더욱 효과적으로 보여줄 수 있습니다."
   ]
  },
  {
   "cell_type": "markdown",
   "id": "ff5b188e-8105-4d56-83a6-0c0cac7a6483",
   "metadata": {
    "deletable": false,
    "editable": false
   },
   "source": [
    "> 데이터를 적절한 그래프로 시각화해봅시다.  \n",
    "> 데이터를 시각화하기 위해서는 앞선 시간에 배웠던 matplotlib의 여러가지 함수들을 사용할 수 있습니다."
   ]
  },
  {
   "cell_type": "code",
   "execution_count": null,
   "id": "ac01113a-e650-43ad-a39f-fb0ab8401598",
   "metadata": {
    "error_code": "new_df = pd.DataFrame()\nnew_df['한옥'] = hanok\nnew_df['식당'] = restaurant\nnew_df\n"
   },
   "outputs": [],
   "source": [
    "new_df = pd.DataFrame()\n",
    "new_df['한옥'] = hanok\n",
    "new_df['식당'] = restaurant\n",
    "new_df\n"
   ]
  },
  {
   "cell_type": "code",
   "execution_count": null,
   "id": "69c5e5eb-73d1-46f1-995b-47673a3d5205",
   "metadata": {},
   "outputs": [],
   "source": [
    "new_df = new_df.fillna(0)\n",
    "new_df"
   ]
  },
  {
   "cell_type": "code",
   "execution_count": null,
   "id": "6c8a4d3e-d6ff-4933-b777-a935d99d6b38",
   "metadata": {
    "error_code": "import matplotlib.pyplot as plt\n​\nplt.scatter(new_df['한옥'],new_df['식당'])\nplt.title('한옥 vs 식당')\nplt.xlabel('한옥')\nplt.ylabel('식당')\nplt.grid()\nplt.show()"
   },
   "outputs": [],
   "source": [
    "import matplotlib.pyplot as plt\n",
    "\n",
    "plt.scatter(new_df['한옥'],new_df['식당'])\n",
    "plt.title('한옥 vs 식당')\n",
    "plt.xlabel('한옥')\n",
    "plt.ylabel('식당')\n",
    "plt.grid()\n",
    "plt.show()"
   ]
  },
  {
   "cell_type": "code",
   "execution_count": null,
   "id": "914f2c9a-d6e9-4136-87e5-50a9e2bda73c",
   "metadata": {},
   "outputs": [],
   "source": [
    "plt.scatter(new_df['한옥'],new_df['식당'])\n",
    "plt.title('한옥 vs 식당')\n",
    "plt.xlabel('한옥')\n",
    "plt.ylabel('식당')\n",
    "plt.grid()\n",
    "\n",
    "for row in range(len(new_df)):\n",
    "    row = new_df.iloc[row]\n",
    "    plt.text(row['한옥'], row['식당'], row.name, size=5)\n",
    "\n",
    "plt.show()"
   ]
  },
  {
   "cell_type": "markdown",
   "id": "bfd96acd-e775-4b06-b7d8-8f135ea9c519",
   "metadata": {
    "deletable": false,
    "editable": false
   },
   "source": [
    "<div style=\"padding: 15px; border: 5px solid transparent; border-color: transparent; margin-bottom: 20px; border-radius: 4px; color: #8a6d3b;  border-color: #faebcc; font-weight: bold;\">\n",
    "    <div style=\"font-weight: bold; font-size: 20px\">✏️ 생각해보기</div>\n",
    "    <br>\n",
    "시각화를 통해 새로운 패턴을 발견했나요?<br>\n",
    "어떠한 정보를 다른 사람들에게 보여주고 싶나요?\n",
    "</div>"
   ]
  },
  {
   "cell_type": "raw",
   "id": "0fdf7f19-9ff6-4a56-b7a4-96a90a4dcb5b",
   "metadata": {},
   "source": [
    " 👉 \n",
    " 👉 "
   ]
  },
  {
   "cell_type": "markdown",
   "id": "82e96d49-39c4-4310-b732-d0fde6423775",
   "metadata": {
    "deletable": false,
    "editable": false
   },
   "source": [
    "코들이는 이 프로젝트를 통해 전주시, 안동시에 식당을 차리기로 마음을 먹게 되었습니다. "
   ]
  },
  {
   "cell_type": "markdown",
   "id": "a06efbee-ed0d-40c4-930b-1260331f842c",
   "metadata": {
    "deletable": false,
    "editable": false
   },
   "source": [
    "<div style=\"padding: 15px; border: 5px solid transparent; border-color: transparent; margin-bottom: 20px; border-radius: 4px; color: #3c763d; border-color: #d6e9c6; font-weight: bold;\">\n",
    "<h2 style='font-weight: bold'>4. 마무리</h2>\n",
    "</div> "
   ]
  },
  {
   "cell_type": "markdown",
   "id": "deb42319-a26a-4fd6-989c-20455a1c42c1",
   "metadata": {
    "deletable": false,
    "editable": false
   },
   "source": [
    "<div style=\"padding: 15px; border: 5px solid transparent; border-color: transparent; margin-bottom: 20px; border-radius: 4px; color: #8a6d3b;  border-color: #faebcc; font-weight: bold;\">\n",
    "    <div style=\"font-weight: bold; font-size: 20px\">✏️ 생각해보기</div>\n",
    "    <br>\n",
    "이번 프로젝트를 통해 무엇을 알게되었나요??  <br>\n",
    "이번 프로젝트를 진행하면서 아쉬웠던 점은 무엇인가요??  <br>\n",
    "이번 프로젝트 이후에 더 탐구해보고 싶은 것이 있나요??  <br>\n",
    "</div>"
   ]
  },
  {
   "cell_type": "raw",
   "id": "1a2baa4d-8d96-4b40-a250-840701a1ee3d",
   "metadata": {},
   "source": [
    " 👉 \n",
    " 👉 "
   ]
  }
 ],
 "metadata": {
  "kernelspec": {
   "display_name": "Python 3 (ipykernel)",
   "language": "python",
   "name": "python3"
  },
  "language_info": {
   "codemirror_mode": {
    "name": "ipython",
    "version": 3
   },
   "file_extension": ".py",
   "mimetype": "text/x-python",
   "name": "python",
   "nbconvert_exporter": "python",
   "pygments_lexer": "ipython3",
   "version": "3.11.3"
  },
  "read_only": true
 },
 "nbformat": 4,
 "nbformat_minor": 5
}
